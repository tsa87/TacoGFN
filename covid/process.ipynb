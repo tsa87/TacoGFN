{
 "cells": [
  {
   "cell_type": "code",
   "execution_count": 2,
   "metadata": {},
   "outputs": [
    {
     "name": "stdout",
     "output_type": "stream",
     "text": [
      "Structure exists: '/home/tsa87/refactor-tacogfn/covid/l1/pdb7l13.ent' \n",
      "Ligand Center: [-21.198025   -4.8727837 -28.82114  ]\n"
     ]
    },
    {
     "name": "stderr",
     "output_type": "stream",
     "text": [
      "/home/tsa87/anaconda3/envs/tacogfn/lib/python3.9/site-packages/Bio/PDB/StructureBuilder.py:89: PDBConstructionWarning: WARNING: Chain A is discontinuous at line 5170.\n",
      "  warnings.warn(\n",
      "/home/tsa87/anaconda3/envs/tacogfn/lib/python3.9/site-packages/Bio/PDB/StructureBuilder.py:89: PDBConstructionWarning: WARNING: Chain B is discontinuous at line 5403.\n",
      "  warnings.warn(\n"
     ]
    }
   ],
   "source": [
    "from Bio.PDB import PDBList, PDBParser\n",
    "import numpy as np\n",
    "\n",
    "# PDB ID\n",
    "pdb_id = \"7L13\"\n",
    "\n",
    "# Download PDB file\n",
    "pdbl = PDBList()\n",
    "file_path = pdbl.retrieve_pdb_file(pdb_id, file_format=\"pdb\")\n",
    "\n",
    "# Initialize parser\n",
    "parser = PDBParser()\n",
    "\n",
    "# Parse the structure\n",
    "structure = parser.get_structure(pdb_id, file_path)\n",
    "\n",
    "# Specify the ligand's residue name\n",
    "# Replace 'LIG' with your ligand's residue name\n",
    "ligand_residue_name = 'XF7'\n",
    "\n",
    "# Function to calculate center of a residue\n",
    "def calculate_center(residue):\n",
    "    atoms = [atom.get_coord() for atom in residue.get_atoms()]\n",
    "    center = np.mean(atoms, axis=0)\n",
    "    return center\n",
    "\n",
    "# Find the ligand and calculate its center\n",
    "ligand_center = None\n",
    "for residue in structure.get_residues():\n",
    "    if residue.get_resname() == ligand_residue_name:\n",
    "        ligand_center = calculate_center(residue)\n",
    "        break\n",
    "\n",
    "print(\"Ligand Center:\", ligand_center)"
   ]
  }
 ],
 "metadata": {
  "kernelspec": {
   "display_name": "tacogfn",
   "language": "python",
   "name": "python3"
  },
  "language_info": {
   "codemirror_mode": {
    "name": "ipython",
    "version": 3
   },
   "file_extension": ".py",
   "mimetype": "text/x-python",
   "name": "python",
   "nbconvert_exporter": "python",
   "pygments_lexer": "ipython3",
   "version": "3.9.18"
  }
 },
 "nbformat": 4,
 "nbformat_minor": 2
}
