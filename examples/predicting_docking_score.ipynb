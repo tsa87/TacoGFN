{
 "cells": [
  {
   "cell_type": "code",
   "execution_count": 38,
   "metadata": {},
   "outputs": [],
   "source": [
    "import sys\n",
    "sys.path.append('../src')\n",
    "\n",
    "from tacogfn.eval import docking\n",
    "from tacogfn.utils import molecules"
   ]
  },
  {
   "cell_type": "code",
   "execution_count": 39,
   "metadata": {},
   "outputs": [],
   "source": [
    "original_pdb = \"/home/tsa87/crossDock/full/1A1C_MALDO_2_433_0/1m7y_ppg_lig.pdb\"\n",
    "original_sdf = \"/home/tsa87/refactor-tacogfn/docking_temp/1m7y_ppg_lig.sdf\"\n",
    "molecules.convert_pdb_to_sdf(original_pdb, original_sdf)"
   ]
  },
  {
   "cell_type": "code",
   "execution_count": 40,
   "metadata": {},
   "outputs": [],
   "source": [
    "pharmacophore_sdf =  \"/home/tsa87/PharmacoNet/examples/1m7y_lig_transformed.sdf\""
   ]
  },
  {
   "cell_type": "code",
   "execution_count": 45,
   "metadata": {},
   "outputs": [
    {
     "name": "stdout",
     "output_type": "stream",
     "text": [
      "WARNING! 1m7y_A_rec has 9  atoms with alternate locations named ['A']!\n",
      "\n",
      "WARNING! using alternate location A\n",
      "adding gasteiger charges to peptide\n"
     ]
    },
    {
     "data": {
      "text/plain": [
       "-3.53425"
      ]
     },
     "execution_count": 45,
     "metadata": {},
     "output_type": "execute_result"
    }
   ],
   "source": [
    "docking.compute_docking_score_from_sdf(\n",
    "    pdb_path=\"/home/tsa87/crossDock/full/1A1C_MALDO_2_433_0/1m7y_A_rec.pdb\",\n",
    "    sdf_path=pharmacophore_sdf,\n",
    "    temp_folder=\"/home/tsa87/refactor-tacogfn/docking_temp/example1m7y\",\n",
    "    keep_temp_folder=True,\n",
    "    local_search=True,\n",
    ")"
   ]
  },
  {
   "cell_type": "code",
   "execution_count": null,
   "metadata": {},
   "outputs": [],
   "source": []
  }
 ],
 "metadata": {
  "kernelspec": {
   "display_name": "tacogfn",
   "language": "python",
   "name": "python3"
  },
  "language_info": {
   "codemirror_mode": {
    "name": "ipython",
    "version": 3
   },
   "file_extension": ".py",
   "mimetype": "text/x-python",
   "name": "python",
   "nbconvert_exporter": "python",
   "pygments_lexer": "ipython3",
   "version": "3.9.18"
  }
 },
 "nbformat": 4,
 "nbformat_minor": 2
}
