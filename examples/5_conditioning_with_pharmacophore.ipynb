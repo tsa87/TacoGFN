{
 "cells": [
  {
   "cell_type": "code",
   "execution_count": 1,
   "metadata": {},
   "outputs": [
    {
     "name": "stderr",
     "output_type": "stream",
     "text": [
      "/home/tsa87/anaconda3/envs/tacogfn/lib/python3.9/site-packages/tqdm/auto.py:21: TqdmWarning: IProgress not found. Please update jupyter and ipywidgets. See https://ipywidgets.readthedocs.io/en/stable/user_install.html\n",
      "  from .autonotebook import tqdm as notebook_tqdm\n"
     ]
    }
   ],
   "source": [
    "import sys\n",
    "import torch\n",
    "\n",
    "sys.path.append('../')"
   ]
  },
  {
   "cell_type": "code",
   "execution_count": 2,
   "metadata": {},
   "outputs": [],
   "source": [
    "from src.tacogfn.envs import frag_mol_env\n",
    "from src.tacogfn.models import pharmaco_cond_graph_transformer\n",
    "from src.tacogfn.data.utils import hetero_batch_to_batch\n",
    "from src.tacogfn.data.utils import merge_pocket_and_molecule_data_list\n",
    "import utils"
   ]
  },
  {
   "cell_type": "markdown",
   "metadata": {},
   "source": [
    "Pharmacophore graphs"
   ]
  },
  {
   "cell_type": "code",
   "execution_count": 3,
   "metadata": {},
   "outputs": [],
   "source": [
    "ctx = frag_mol_env.FragMolBuildingEnvContext()\n",
    "molecule_data_list = utils.get_example_molecule_datalist(ctx)[:10]"
   ]
  },
  {
   "cell_type": "code",
   "execution_count": 4,
   "metadata": {},
   "outputs": [],
   "source": [
    "pharmacophore_dataset = utils.get_example_pharmacophore_datalist()\n",
    "pharmaco_batch = merge_pocket_and_molecule_data_list(pharmacophore_dataset, molecule_data_list)"
   ]
  },
  {
   "cell_type": "code",
   "execution_count": 5,
   "metadata": {},
   "outputs": [],
   "source": [
    "model = pharmaco_cond_graph_transformer.PharmacophoreConditionalGraphTransformer(\n",
    "    pharmacophore_dim=64,\n",
    "    x_dim=ctx.num_node_dim,\n",
    "    e_dim=ctx.num_edge_dim,\n",
    "    g_dim=ctx.num_cond_dim,\n",
    "    num_emb=64,\n",
    "    num_layers=3,\n",
    "    num_heads=2,\n",
    "    ln_type=\"pre\",\n",
    ")"
   ]
  },
  {
   "cell_type": "code",
   "execution_count": 6,
   "metadata": {},
   "outputs": [],
   "source": [
    "mol_g = hetero_batch_to_batch(pharmaco_batch, \"compound\")\n",
    "pharmaco_g = hetero_batch_to_batch(pharmaco_batch, \"pocket\")"
   ]
  },
  {
   "cell_type": "code",
   "execution_count": 7,
   "metadata": {},
   "outputs": [],
   "source": [
    "_, _ = model(mol_g, pharmaco_g)"
   ]
  },
  {
   "cell_type": "code",
   "execution_count": 12,
   "metadata": {},
   "outputs": [
    {
     "data": {
      "text/plain": [
       "1"
      ]
     },
     "execution_count": 12,
     "metadata": {},
     "output_type": "execute_result"
    }
   ],
   "source": [
    "import torch_geometric.data as gd\n",
    "len(gd.Batch.from_data_list([pharmaco_batch[0]]))"
   ]
  },
  {
   "cell_type": "markdown",
   "metadata": {},
   "source": [
    "Pocket graphs"
   ]
  },
  {
   "cell_type": "code",
   "execution_count": 8,
   "metadata": {},
   "outputs": [],
   "source": [
    "import torch\n",
    "from torch_geometric.data import HeteroData, Batch\n",
    "from src.tacogfn.models.gvp_model import GVP_embedding\n",
    "from torch_scatter import scatter_mean"
   ]
  },
  {
   "cell_type": "code",
   "execution_count": 9,
   "metadata": {},
   "outputs": [],
   "source": [
    "model = pharmaco_cond_graph_transformer.PocketConditionalGraphTransformer(\n",
    "    pocket_dim=128,\n",
    "    x_dim=ctx.num_node_dim,\n",
    "    e_dim=ctx.num_edge_dim,\n",
    "    g_dim=ctx.num_cond_dim,\n",
    "    num_emb=64,\n",
    "    num_layers=3,\n",
    "    num_heads=2,\n",
    "    ln_type=\"pre\",\n",
    ")"
   ]
  },
  {
   "cell_type": "code",
   "execution_count": 10,
   "metadata": {},
   "outputs": [],
   "source": [
    "pocket_dataset = utils.get_example_pockets()"
   ]
  },
  {
   "cell_type": "code",
   "execution_count": 11,
   "metadata": {},
   "outputs": [],
   "source": [
    "pocket_batch = Batch.from_data_list(pocket_dataset)"
   ]
  },
  {
   "cell_type": "code",
   "execution_count": 12,
   "metadata": {},
   "outputs": [],
   "source": [
    "molecule_batch = Batch.from_data_list(molecule_data_list)"
   ]
  },
  {
   "cell_type": "code",
   "execution_count": 13,
   "metadata": {},
   "outputs": [
    {
     "data": {
      "text/plain": [
       "(tensor([[-0.2520, -0.5245, -0.1991,  ...,  0.5002,  0.1795,  0.3489],\n",
       "         [-0.2467, -0.3511, -0.2444,  ...,  0.5096,  0.2447,  0.3637],\n",
       "         [-0.2256, -0.3796, -0.2176,  ...,  0.5257,  0.2423,  0.3858],\n",
       "         ...,\n",
       "         [-0.2646, -0.4371, -0.2848,  ...,  0.5225,  0.2175,  0.3837],\n",
       "         [-0.2370, -0.4397, -0.2373,  ...,  0.5047,  0.2057,  0.3635],\n",
       "         [-0.2460, -0.4401, -0.3196,  ...,  0.5172,  0.2013,  0.3289]],\n",
       "        grad_fn=<SliceBackward0>),\n",
       " tensor([[-0.2368, -0.4315, -0.2440,  ...,  0.6721,  0.3047, -0.1275],\n",
       "         [-0.2462, -0.4472, -0.2402,  ...,  0.6600,  0.3073, -0.0979],\n",
       "         [-0.2382, -0.4497, -0.2311,  ...,  0.6670,  0.3193, -0.2114],\n",
       "         ...,\n",
       "         [-0.2277, -0.4486, -0.2393,  ...,  0.6343,  0.2984, -0.1577],\n",
       "         [-0.2138, -0.4746, -0.2503,  ...,  0.6725,  0.2782, -0.1328],\n",
       "         [-0.2443, -0.4762, -0.2457,  ...,  0.6690,  0.2969, -0.1298]],\n",
       "        grad_fn=<CatBackward0>))"
      ]
     },
     "execution_count": 13,
     "metadata": {},
     "output_type": "execute_result"
    }
   ],
   "source": [
    "model(\n",
    "    molecule_batch,\n",
    "    pocket_batch\n",
    ")"
   ]
  },
  {
   "cell_type": "code",
   "execution_count": null,
   "metadata": {},
   "outputs": [],
   "source": []
  },
  {
   "cell_type": "code",
   "execution_count": null,
   "metadata": {},
   "outputs": [],
   "source": []
  }
 ],
 "metadata": {
  "kernelspec": {
   "display_name": "tacogfn",
   "language": "python",
   "name": "python3"
  },
  "language_info": {
   "codemirror_mode": {
    "name": "ipython",
    "version": 3
   },
   "file_extension": ".py",
   "mimetype": "text/x-python",
   "name": "python",
   "nbconvert_exporter": "python",
   "pygments_lexer": "ipython3",
   "version": "3.9.18"
  }
 },
 "nbformat": 4,
 "nbformat_minor": 2
}
