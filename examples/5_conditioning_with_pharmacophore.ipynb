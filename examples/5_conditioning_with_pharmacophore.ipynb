{
 "cells": [
  {
   "cell_type": "code",
   "execution_count": 1,
   "metadata": {},
   "outputs": [
    {
     "name": "stderr",
     "output_type": "stream",
     "text": [
      "/home/tsa87/anaconda3/envs/tacogfn/lib/python3.9/site-packages/tqdm/auto.py:21: TqdmWarning: IProgress not found. Please update jupyter and ipywidgets. See https://ipywidgets.readthedocs.io/en/stable/user_install.html\n",
      "  from .autonotebook import tqdm as notebook_tqdm\n"
     ]
    }
   ],
   "source": [
    "import sys\n",
    "import torch\n",
    "\n",
    "sys.path.append('../')"
   ]
  },
  {
   "cell_type": "code",
   "execution_count": 2,
   "metadata": {},
   "outputs": [],
   "source": [
    "\n",
    "from src.tacogfn.envs import frag_mol_env\n",
    "from src.tacogfn.models import pharmaco_cond_graph_transformer\n",
    "from src.tacogfn.data.utils import merge_pharmacophore_and_molecule_data_list\n",
    "import utils"
   ]
  },
  {
   "cell_type": "code",
   "execution_count": 3,
   "metadata": {},
   "outputs": [],
   "source": [
    "ctx = frag_mol_env.FragMolBuildingEnvContext()\n",
    "\n",
    "pharmacophore_data_list = utils.get_example_pharmacophore_datalist()\n",
    "molecule_data_list = utils.get_example_molecule_datalist(ctx)\n",
    "batch = merge_pharmacophore_and_molecule_data_list(pharmacophore_data_list, molecule_data_list)"
   ]
  },
  {
   "cell_type": "code",
   "execution_count": null,
   "metadata": {},
   "outputs": [
    {
     "data": {
      "text/plain": [
       "14"
      ]
     },
     "execution_count": 7,
     "metadata": {},
     "output_type": "execute_result"
    }
   ],
   "source": [
    "ctx.num_edge_dim"
   ]
  },
  {
   "cell_type": "code",
   "execution_count": null,
   "metadata": {},
   "outputs": [],
   "source": [
    "model = pharmaco_cond_graph_transformer.PharmacophoreConditionalGraphTransformer(\n",
    "    pharmacophore_dim=64,\n",
    "    x_dim=ctx.num_node_dim,\n",
    "    e_dim=ctx.num_edge_dim,\n",
    "    g_dim=ctx.num_cond_dim,\n",
    "    num_emb=64,\n",
    "    num_layers=3,\n",
    "    num_heads=2,\n",
    "    ln_type=\"pre\",\n",
    ")"
   ]
  },
  {
   "cell_type": "code",
   "execution_count": null,
   "metadata": {},
   "outputs": [
    {
     "data": {
      "text/plain": [
       "torch.Size([10, 128])"
      ]
     },
     "execution_count": 5,
     "metadata": {},
     "output_type": "execute_result"
    }
   ],
   "source": [
    "model(batch, torch.randn(len(batch), ctx.num_cond_dim))[1].shape"
   ]
  }
 ],
 "metadata": {
  "kernelspec": {
   "display_name": "tacogfn",
   "language": "python",
   "name": "python3"
  },
  "language_info": {
   "codemirror_mode": {
    "name": "ipython",
    "version": 3
   },
   "file_extension": ".py",
   "mimetype": "text/x-python",
   "name": "python",
   "nbconvert_exporter": "python",
   "pygments_lexer": "ipython3",
   "version": "3.9.18"
  }
 },
 "nbformat": 4,
 "nbformat_minor": 2
}
