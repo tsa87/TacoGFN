{
 "cells": [
  {
   "cell_type": "code",
   "execution_count": 11,
   "metadata": {},
   "outputs": [],
   "source": [
    "import sys\n",
    "import torch\n",
    "from rdkit  import Chem\n",
    "from torch_geometric.data import HeteroData\n",
    "\n",
    "sys.path.append('../')"
   ]
  },
  {
   "cell_type": "code",
   "execution_count": 12,
   "metadata": {},
   "outputs": [],
   "source": [
    "from src.tacogfn.envs import frag_mol_env\n",
    "from src.tacogfn.data import pharmacophore\n",
    "from src.tacogfn.data.pharmacophore import PharmacoDB\n",
    "from src.tacogfn.tasks.seh_frag import SOME_MOLS\n",
    "from src.tacogfn.models import pharmaco_cond_graph_transformer"
   ]
  },
  {
   "cell_type": "code",
   "execution_count": 13,
   "metadata": {},
   "outputs": [],
   "source": [
    "db = PharmacoDB('../misc/pharmacophores.lmdb')\n",
    "ids = [\n",
    "    '1a0q',\n",
    "    '1a0t',\n",
    "    '1a1b',\n",
    "    '1a1c',\n",
    "    '1a1e',\n",
    "    '1a2c',\n",
    "    '1a3e',\n",
    "    '1a4g',\n",
    "    '1a4h',\n",
    "    '1a4k',\n",
    "]\n",
    "pharmacophores = [\n",
    "    db.get_pharmacophore(id) for id in ids\n",
    "]\n",
    "pharmacophore_data_list = pharmacophore.PharmacophoreGraphDataset(\n",
    "    pharmacophores\n",
    ")\n",
    "\n",
    "ctx = frag_mol_env.FragMolBuildingEnvContext()"
   ]
  },
  {
   "cell_type": "code",
   "execution_count": 14,
   "metadata": {},
   "outputs": [],
   "source": [
    "mols = [Chem.MolFromSmiles(s) for s in SOME_MOLS]\n",
    "graphs = [ctx.mol_to_graph(mols[i]) for i in range(len(mols))]\n",
    "molecule_data_list = [ctx.graph_to_Data(graphs[i]) for i in range(len(graphs))]"
   ]
  },
  {
   "cell_type": "code",
   "execution_count": 15,
   "metadata": {},
   "outputs": [],
   "source": [
    "merged_data_list = []\n",
    "\n",
    "for pharmacophore_data, molecule_data in zip(pharmacophore_data_list, molecule_data_list):\n",
    "    data = HeteroData()\n",
    "    \n",
    "    for key, value in molecule_data.items():\n",
    "        data['compound'][key] = value\n",
    "        \n",
    "    for key, value in pharmacophore_data.items():\n",
    "        data['pharmacophore'][key] = value\n",
    "        \n",
    "    merged_data_list.append(data)"
   ]
  },
  {
   "cell_type": "code",
   "execution_count": 16,
   "metadata": {},
   "outputs": [],
   "source": [
    "import torch_geometric.data as gd\n",
    "\n",
    "batch = gd.Batch.from_data_list(merged_data_list)"
   ]
  },
  {
   "cell_type": "code",
   "execution_count": 17,
   "metadata": {},
   "outputs": [],
   "source": [
    "model = pharmaco_cond_graph_transformer.PharmacophoreConditionalGraphTransformer(\n",
    "    pharmacophore_dim=64,\n",
    "    x_dim=ctx.num_node_dim,\n",
    "    e_dim=ctx.num_edge_dim,\n",
    "    g_dim=ctx.num_cond_dim,\n",
    "    num_emb=64,\n",
    "    num_layers=3,\n",
    "    num_heads=2,\n",
    "    ln_type=\"pre\",\n",
    ")"
   ]
  },
  {
   "cell_type": "code",
   "execution_count": 18,
   "metadata": {},
   "outputs": [
    {
     "data": {
      "text/plain": [
       "torch.Size([10, 128])"
      ]
     },
     "execution_count": 18,
     "metadata": {},
     "output_type": "execute_result"
    }
   ],
   "source": [
    "model(batch, torch.randn(len(batch), ctx.num_cond_dim))[1].shape"
   ]
  }
 ],
 "metadata": {
  "kernelspec": {
   "display_name": "tacogfn",
   "language": "python",
   "name": "python3"
  },
  "language_info": {
   "codemirror_mode": {
    "name": "ipython",
    "version": 3
   },
   "file_extension": ".py",
   "mimetype": "text/x-python",
   "name": "python",
   "nbconvert_exporter": "python",
   "pygments_lexer": "ipython3",
   "version": "3.9.18"
  }
 },
 "nbformat": 4,
 "nbformat_minor": 2
}
