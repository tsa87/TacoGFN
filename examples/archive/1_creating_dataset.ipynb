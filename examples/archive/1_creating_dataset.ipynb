{
 "cells": [
  {
   "cell_type": "markdown",
   "metadata": {},
   "source": [
    "This notebook generates dataset according to CrossDock 100k subset\n",
    "- The goal is to use full protein from original CrossDock dataset instead of the version with 12A cutoff.\n",
    "- pockets not from PDBBind set are removed \n",
    "\n",
    "You need to have CrossDock subset and full set downloaded to run this script."
   ]
  },
  {
   "cell_type": "code",
   "execution_count": 12,
   "metadata": {},
   "outputs": [],
   "source": [
    "import os\n",
    "from glob import glob\n",
    "import torch\n",
    "from tqdm import tqdm\n",
    "from collections import defaultdict \n",
    "import sys\n",
    "\n",
    "sys.path.append('../')\n",
    "\n",
    "from src.tacogfn.eval import docking\n",
    "from src.tacogfn.utils import molecules"
   ]
  },
  {
   "cell_type": "markdown",
   "metadata": {},
   "source": [
    "There are 24478 receptors"
   ]
  },
  {
   "cell_type": "code",
   "execution_count": 13,
   "metadata": {},
   "outputs": [
    {
     "data": {
      "text/plain": [
       "44646"
      ]
     },
     "execution_count": 13,
     "metadata": {},
     "output_type": "execute_result"
    }
   ],
   "source": [
    "pocket_paths = glob('../dataset/crossdock/*_rec.pdb')\n",
    "len(pocket_paths)"
   ]
  },
  {
   "cell_type": "markdown",
   "metadata": {},
   "source": [
    "There are 21231 ligands"
   ]
  },
  {
   "cell_type": "code",
   "execution_count": 14,
   "metadata": {},
   "outputs": [
    {
     "data": {
      "text/plain": [
       "22288"
      ]
     },
     "execution_count": 14,
     "metadata": {},
     "output_type": "execute_result"
    }
   ],
   "source": [
    "ligand_paths = glob('../dataset/crossdock/*_lig.pdb')\n",
    "len(ligand_paths)"
   ]
  },
  {
   "cell_type": "code",
   "execution_count": 27,
   "metadata": {},
   "outputs": [],
   "source": [
    "pocket_ids = [i.split('/')[-1].split('_rec')[0] for i in pocket_paths]\n",
    "lig_ids = [i.split('/')[-1].split('_')[0] for i in ligand_paths]"
   ]
  },
  {
   "cell_type": "markdown",
   "metadata": {},
   "source": [
    "Convert all pdb ligands into sdf"
   ]
  },
  {
   "cell_type": "code",
   "execution_count": 31,
   "metadata": {},
   "outputs": [],
   "source": [
    "# for lig_path in tqdm(ligand_paths):\n",
    "#     try:\n",
    "#         molecules.convert_pdb_to_sdf(lig_path, lig_path.replace('.pdb', '.sdf'))\n",
    "#     except:\n",
    "#         print(lig_path)"
   ]
  },
  {
   "cell_type": "markdown",
   "metadata": {},
   "source": [
    "Prepare for docking"
   ]
  },
  {
   "cell_type": "code",
   "execution_count": 18,
   "metadata": {},
   "outputs": [],
   "source": [
    "# for ligand_sdf_path in tqdm(ligand_sdf_paths):\n",
    "#     if not os.path.exists(ligand_sdf_path.replace('.sdf', '_h.sdf')):\n",
    "#         molecules.add_implicit_hydrogens_to_sdf(\n",
    "#             ligand_sdf_path,\n",
    "#             ligand_sdf_path.replace('.sdf', '_h.sdf')\n",
    "#         )\n",
    "        \n",
    "#     if not os.path.exists(ligand_sdf_path.replace('.sdf', '.pdbqt')):\n",
    "#         docking._prepare_ligand(\n",
    "#             ligand_sdf_path.replace('.sdf', '_h.sdf'),\n",
    "#             ligand_sdf_path.replace('.sdf', '.pdbqt')\n",
    "#         )"
   ]
  },
  {
   "cell_type": "code",
   "execution_count": 19,
   "metadata": {},
   "outputs": [],
   "source": [
    "# for pocket_path in tqdm(pocket_paths):\n",
    "#     target_path = pocket_path.replace('.pdb', '.pdbqt').replace('crossdock', 'crossdock_pdbqt')\n",
    "#     if not os.path.exists(target_path):\n",
    "#         docking._prepare_receptor(\n",
    "#             pocket_path,\n",
    "#             target_path\n",
    "#         )"
   ]
  },
  {
   "cell_type": "markdown",
   "metadata": {},
   "source": [
    "We now match ligands to pockets based on filenames and resolve based on docking scores"
   ]
  },
  {
   "cell_type": "code",
   "execution_count": 24,
   "metadata": {},
   "outputs": [],
   "source": [
    "# Pocket2Mol pdb ids\n",
    "split_by_name = torch.load('../dataset/split_by_name.pt')\n",
    "train_pdb_ids = [val[0].split('/')[-1].split('_rec')[0] for val in split_by_name['train']]\n",
    "val_pdb_ids = [val[0].split('/')[-1].split('_rec')[0] for val in split_by_name['test']]\n",
    "pocket2mol_split = split_by_name['train'] + split_by_name['test']\n",
    "pocket2mol_pdb_ids = set(train_pdb_ids + val_pdb_ids)"
   ]
  },
  {
   "cell_type": "code",
   "execution_count": 35,
   "metadata": {},
   "outputs": [],
   "source": [
    "cross_dock_pocket_ids = set(pocket_ids)"
   ]
  },
  {
   "cell_type": "code",
   "execution_count": 48,
   "metadata": {},
   "outputs": [],
   "source": [
    "pocket_to_ligands = defaultdict(list)\n",
    "\n",
    "for pair in pocket2mol_split:\n",
    "    pdb_id = pair[0].split('/')[-1].split('_rec')[0]\n",
    "    ligand_path = pair[1]\n",
    "\n",
    "    pocket_to_ligands[pdb_id].append(ligand_path)"
   ]
  },
  {
   "cell_type": "code",
   "execution_count": 50,
   "metadata": {},
   "outputs": [],
   "source": [
    "pocket_to_ligand = {}\n",
    "for key, value in pocket_to_ligands.items():\n",
    "    pocket_to_ligand[key] = value[0]"
   ]
  },
  {
   "cell_type": "code",
   "execution_count": 42,
   "metadata": {},
   "outputs": [
    {
     "name": "stdout",
     "output_type": "stream",
     "text": [
      "1uf4_A\n",
      "['../dataset/crossdock/1uf4_A_rec.pdb'] []\n"
     ]
    }
   ],
   "source": [
    "for pdb_id in pocket2mol_pdb_ids:\n",
    "    print(pdb_id)\n",
    "    \n",
    "    matched_pocket_paths = [p for p in pocket_paths if pdb_id in p]\n",
    "    matched_ligand_paths = [l for l in ligand_paths if pdb_id in l]\n",
    "    \n",
    "    if pdb_id not in cross_dock_pocket_ids:\n",
    "        print(pdb_id)\n",
    "        \n",
    "    print(matched_pocket_paths, matched_ligand_paths)\n",
    "    break"
   ]
  },
  {
   "cell_type": "code",
   "execution_count": 21,
   "metadata": {},
   "outputs": [
    {
     "ename": "SyntaxError",
     "evalue": "invalid syntax (2142193334.py, line 11)",
     "output_type": "error",
     "traceback": [
      "\u001b[0;36m  Cell \u001b[0;32mIn[21], line 11\u001b[0;36m\u001b[0m\n\u001b[0;31m    ,\u001b[0m\n\u001b[0m    ^\u001b[0m\n\u001b[0;31mSyntaxError\u001b[0m\u001b[0;31m:\u001b[0m invalid syntax\n"
     ]
    }
   ],
   "source": [
    "def find_best_matches(pocket_paths, ligand_paths):\n",
    "    \"\"\"Given a list of pocket and ligand paths, find the best matching ligand for pocket\"\"\"\n",
    "    result = {}\n",
    "    for pocket_path in pocket_paths:\n",
    "        min_score = - 0.5 # score must be less than -1.0 (default)\n",
    "        for ligand_path in ligand_paths:\n",
    "            sdf_path = ligand_path.replace('pdb', 'sdf')\n",
    "            if os.path.exists(sdf_path):\n",
    "                score = docking.compute_docking_score_from_sdf(\n",
    "                    pocket_path,\n",
    "                    sdf_path,\n",
    "                    keep_temp_folder=False,\n",
    "                    score_only=True\n",
    "                )\n",
    "                if score is not None and score < min_score:\n",
    "                    min_score = score\n",
    "                    result[pocket_path] = ligand_path\n",
    "    return result\n",
    "            "
   ]
  },
  {
   "cell_type": "code",
   "execution_count": 22,
   "metadata": {},
   "outputs": [
    {
     "name": "stderr",
     "output_type": "stream",
     "text": [
      "  0%|          | 0/44646 [00:00<?, ?it/s]"
     ]
    },
    {
     "name": "stdout",
     "output_type": "stream",
     "text": [
      "adding gasteiger charges to peptide\n",
      "adding gasteiger charges to peptide\n"
     ]
    },
    {
     "name": "stderr",
     "output_type": "stream",
     "text": [
      "  0%|          | 2/44646 [00:01<11:03:03,  1.12it/s]"
     ]
    },
    {
     "name": "stdout",
     "output_type": "stream",
     "text": [
      "adding gasteiger charges to peptide\n",
      "adding gasteiger charges to peptide\n"
     ]
    },
    {
     "name": "stderr",
     "output_type": "stream",
     "text": [
      "  0%|          | 3/44646 [00:03<14:30:56,  1.17s/it]"
     ]
    },
    {
     "name": "stdout",
     "output_type": "stream",
     "text": [
      "adding gasteiger charges to peptide\n",
      "Unable to assign MAP type to atom N\n",
      "Sorry, there are no Gasteiger parameters available for atom 2xsi_A_rec:A:LYS439:NZ\n",
      "adding gasteiger charges to peptide\n",
      "Unable to assign MAP type to atom N\n",
      "Sorry, there are no Gasteiger parameters available for atom 2xsi_A_rec:A:LYS439:NZ\n",
      "adding gasteiger charges to peptide\n",
      "Unable to assign MAP type to atom N\n",
      "Sorry, there are no Gasteiger parameters available for atom 2xsi_rec:A:LYS439:NZ\n",
      "adding gasteiger charges to peptide\n",
      "Unable to assign MAP type to atom N\n",
      "Sorry, there are no Gasteiger parameters available for atom 2xsi_rec:A:LYS439:NZ\n"
     ]
    },
    {
     "name": "stderr",
     "output_type": "stream",
     "text": [
      "  0%|          | 4/44646 [00:08<34:24:30,  2.77s/it]"
     ]
    },
    {
     "name": "stdout",
     "output_type": "stream",
     "text": [
      "adding gasteiger charges to peptide\n"
     ]
    },
    {
     "name": "stderr",
     "output_type": "stream",
     "text": [
      "  0%|          | 5/44646 [00:11<32:28:28,  2.62s/it][10:43:25] Explicit valence for atom # 0 N, 4, is greater than permitted\n",
      "[10:43:25] ERROR: Could not sanitize molecule ending on line 40\n",
      "[10:43:25] ERROR: Explicit valence for atom # 0 N, 4, is greater than permitted\n",
      "Traceback (most recent call last):\n",
      "  File \"/home/tsa87/anaconda3/envs/tacogfn/bin/mk_prepare_ligand.py\", line 286, in <module>\n",
      "    mol_supplier = parsers[ext](input_molecule_filename, removeHs=False) # input must have explicit H\n",
      "OSError: File error: Invalid input file /tmp/tmpoiusw7rb/ligand.sdf\n"
     ]
    },
    {
     "name": "stdout",
     "output_type": "stream",
     "text": [
      "WARNING! 5fw0_rec has 9  atoms with alternate locations named ['A']!\n",
      "\n",
      "WARNING! using alternate location A\n",
      "Sorry, there are no Gasteiger parameters available for atom 5fw0_rec:A:ZN 900:ZN\n"
     ]
    },
    {
     "name": "stderr",
     "output_type": "stream",
     "text": [
      "  0%|          | 6/44646 [00:13<26:53:24,  2.17s/it]"
     ]
    },
    {
     "name": "stdout",
     "output_type": "stream",
     "text": [
      "WARNING! 5fw0_rec has 9  atoms with alternate locations named ['A']!\n",
      "\n",
      "WARNING! using alternate location A\n",
      "Sorry, there are no Gasteiger parameters available for atom 5fw0_rec:A:ZN 900:ZN\n"
     ]
    },
    {
     "name": "stderr",
     "output_type": "stream",
     "text": [
      "\n"
     ]
    },
    {
     "ename": "KeyboardInterrupt",
     "evalue": "",
     "output_type": "error",
     "traceback": [
      "\u001b[0;31m---------------------------------------------------------------------------\u001b[0m",
      "\u001b[0;31mKeyboardInterrupt\u001b[0m                         Traceback (most recent call last)",
      "Cell \u001b[0;32mIn[22], line 13\u001b[0m\n\u001b[1;32m     10\u001b[0m     pocket_to_ligands[matched_pocket_paths[\u001b[38;5;241m0\u001b[39m]] \u001b[38;5;241m=\u001b[39m matched_ligand_paths[\u001b[38;5;241m0\u001b[39m]  \n\u001b[1;32m     11\u001b[0m \u001b[38;5;66;03m# if more than one match, find best match         \u001b[39;00m\n\u001b[1;32m     12\u001b[0m \u001b[38;5;28;01melse\u001b[39;00m:\n\u001b[0;32m---> 13\u001b[0m     results \u001b[38;5;241m=\u001b[39m \u001b[43mfind_best_matches\u001b[49m\u001b[43m(\u001b[49m\u001b[43mmatched_pocket_paths\u001b[49m\u001b[43m,\u001b[49m\u001b[43m \u001b[49m\u001b[43mmatched_ligand_paths\u001b[49m\u001b[43m)\u001b[49m\n\u001b[1;32m     14\u001b[0m     \u001b[38;5;28;01mfor\u001b[39;00m pocket_path, ligand_path \u001b[38;5;129;01min\u001b[39;00m results\u001b[38;5;241m.\u001b[39mitems():\n\u001b[1;32m     15\u001b[0m         pocket_to_ligands[pocket_path] \u001b[38;5;241m=\u001b[39m ligand_path\n",
      "Cell \u001b[0;32mIn[20], line 7\u001b[0m, in \u001b[0;36mfind_best_matches\u001b[0;34m(pocket_paths, ligand_paths)\u001b[0m\n\u001b[1;32m      5\u001b[0m min_score \u001b[38;5;241m=\u001b[39m \u001b[38;5;241m-\u001b[39m \u001b[38;5;241m0.5\u001b[39m \u001b[38;5;66;03m# score must be less than -1.0 (default)\u001b[39;00m\n\u001b[1;32m      6\u001b[0m \u001b[38;5;28;01mfor\u001b[39;00m ligand_path \u001b[38;5;129;01min\u001b[39;00m ligand_paths:\n\u001b[0;32m----> 7\u001b[0m     score \u001b[38;5;241m=\u001b[39m \u001b[43mdocking\u001b[49m\u001b[38;5;241;43m.\u001b[39;49m\u001b[43mcompute_docking_score_from_sdf\u001b[49m\u001b[43m(\u001b[49m\n\u001b[1;32m      8\u001b[0m \u001b[43m        \u001b[49m\u001b[43mpocket_path\u001b[49m\u001b[43m,\u001b[49m\n\u001b[1;32m      9\u001b[0m \u001b[43m        \u001b[49m\u001b[43mligand_path\u001b[49m\u001b[38;5;241;43m.\u001b[39;49m\u001b[43mreplace\u001b[49m\u001b[43m(\u001b[49m\u001b[38;5;124;43m'\u001b[39;49m\u001b[38;5;124;43mpdb\u001b[39;49m\u001b[38;5;124;43m'\u001b[39;49m\u001b[43m,\u001b[49m\u001b[43m \u001b[49m\u001b[38;5;124;43m'\u001b[39;49m\u001b[38;5;124;43msdf\u001b[39;49m\u001b[38;5;124;43m'\u001b[39;49m\u001b[43m)\u001b[49m\u001b[43m,\u001b[49m\n\u001b[1;32m     10\u001b[0m \u001b[43m        \u001b[49m\u001b[43mkeep_temp_folder\u001b[49m\u001b[38;5;241;43m=\u001b[39;49m\u001b[38;5;28;43;01mFalse\u001b[39;49;00m\u001b[43m,\u001b[49m\n\u001b[1;32m     11\u001b[0m \u001b[43m        \u001b[49m\u001b[43mscore_only\u001b[49m\u001b[38;5;241;43m=\u001b[39;49m\u001b[38;5;28;43;01mTrue\u001b[39;49;00m\n\u001b[1;32m     12\u001b[0m \u001b[43m    \u001b[49m\u001b[43m)\u001b[49m\n\u001b[1;32m     13\u001b[0m     \u001b[38;5;28;01mif\u001b[39;00m score \u001b[38;5;129;01mis\u001b[39;00m \u001b[38;5;129;01mnot\u001b[39;00m \u001b[38;5;28;01mNone\u001b[39;00m \u001b[38;5;129;01mand\u001b[39;00m score \u001b[38;5;241m<\u001b[39m min_score:\n\u001b[1;32m     14\u001b[0m         min_score \u001b[38;5;241m=\u001b[39m score\n",
      "File \u001b[0;32m~/refactor-tacogfn/examples/../src/tacogfn/eval/docking.py:162\u001b[0m, in \u001b[0;36mcompute_docking_score_from_sdf\u001b[0;34m(pdb_path, sdf_path, temp_folder, keep_temp_folder, box_size, seed, exhaustiveness, score_only, local_search, center)\u001b[0m\n\u001b[1;32m    156\u001b[0m molecules\u001b[38;5;241m.\u001b[39madd_implicit_hydrogens_to_sdf(sdf_path, temp_lig_sdf_path)\n\u001b[1;32m    158\u001b[0m _prepare_ligand(\n\u001b[1;32m    159\u001b[0m     input_ligand_sdf_path\u001b[38;5;241m=\u001b[39mtemp_lig_sdf_path,\n\u001b[1;32m    160\u001b[0m     output_ligand_pdbqt_path\u001b[38;5;241m=\u001b[39mtemp_lig_pdbqt_path,\n\u001b[1;32m    161\u001b[0m )\n\u001b[0;32m--> 162\u001b[0m \u001b[43m_prepare_receptor\u001b[49m\u001b[43m(\u001b[49m\n\u001b[1;32m    163\u001b[0m \u001b[43m    \u001b[49m\u001b[43minput_receptor_pdb_path\u001b[49m\u001b[38;5;241;43m=\u001b[39;49m\u001b[43mpdb_path\u001b[49m\u001b[43m,\u001b[49m\n\u001b[1;32m    164\u001b[0m \u001b[43m    \u001b[49m\u001b[43moutput_receptor_pdbqt_path\u001b[49m\u001b[38;5;241;43m=\u001b[39;49m\u001b[43mtemp_pocket_pdbqt_path\u001b[49m\u001b[43m,\u001b[49m\n\u001b[1;32m    165\u001b[0m \u001b[43m\u001b[49m\u001b[43m)\u001b[49m\n\u001b[1;32m    167\u001b[0m \u001b[38;5;28;01mif\u001b[39;00m center \u001b[38;5;129;01mis\u001b[39;00m \u001b[38;5;28;01mNone\u001b[39;00m:\n\u001b[1;32m    168\u001b[0m     \u001b[38;5;28;01massert\u001b[39;00m score_only \u001b[38;5;129;01mor\u001b[39;00m local_search\n",
      "File \u001b[0;32m~/refactor-tacogfn/examples/../src/tacogfn/eval/docking.py:37\u001b[0m, in \u001b[0;36m_prepare_receptor\u001b[0;34m(input_receptor_pdb_path, output_receptor_pdbqt_path)\u001b[0m\n\u001b[1;32m     28\u001b[0m \u001b[38;5;28;01mdef\u001b[39;00m \u001b[38;5;21m_prepare_receptor\u001b[39m(\n\u001b[1;32m     29\u001b[0m     input_receptor_pdb_path: \u001b[38;5;28mstr\u001b[39m,\n\u001b[1;32m     30\u001b[0m     output_receptor_pdbqt_path: \u001b[38;5;28mstr\u001b[39m,\n\u001b[1;32m     31\u001b[0m ) \u001b[38;5;241m-\u001b[39m\u001b[38;5;241m>\u001b[39m \u001b[38;5;28;01mNone\u001b[39;00m:\n\u001b[1;32m     32\u001b[0m     command \u001b[38;5;241m=\u001b[39m (\n\u001b[1;32m     33\u001b[0m         [PREPARE_RECEPTOR_STUB]\n\u001b[1;32m     34\u001b[0m         \u001b[38;5;241m+\u001b[39m [\u001b[38;5;124m\"\u001b[39m\u001b[38;5;124m-r\u001b[39m\u001b[38;5;124m\"\u001b[39m, input_receptor_pdb_path]\n\u001b[1;32m     35\u001b[0m         \u001b[38;5;241m+\u001b[39m [\u001b[38;5;124m\"\u001b[39m\u001b[38;5;124m-o\u001b[39m\u001b[38;5;124m\"\u001b[39m, output_receptor_pdbqt_path]\n\u001b[1;32m     36\u001b[0m     )\n\u001b[0;32m---> 37\u001b[0m     \u001b[43msubprocess\u001b[49m\u001b[38;5;241;43m.\u001b[39;49m\u001b[43mrun\u001b[49m\u001b[43m(\u001b[49m\u001b[43mcommand\u001b[49m\u001b[43m)\u001b[49m\n",
      "File \u001b[0;32m~/anaconda3/envs/tacogfn/lib/python3.9/subprocess.py:507\u001b[0m, in \u001b[0;36mrun\u001b[0;34m(input, capture_output, timeout, check, *popenargs, **kwargs)\u001b[0m\n\u001b[1;32m    505\u001b[0m \u001b[38;5;28;01mwith\u001b[39;00m Popen(\u001b[38;5;241m*\u001b[39mpopenargs, \u001b[38;5;241m*\u001b[39m\u001b[38;5;241m*\u001b[39mkwargs) \u001b[38;5;28;01mas\u001b[39;00m process:\n\u001b[1;32m    506\u001b[0m     \u001b[38;5;28;01mtry\u001b[39;00m:\n\u001b[0;32m--> 507\u001b[0m         stdout, stderr \u001b[38;5;241m=\u001b[39m \u001b[43mprocess\u001b[49m\u001b[38;5;241;43m.\u001b[39;49m\u001b[43mcommunicate\u001b[49m\u001b[43m(\u001b[49m\u001b[38;5;28;43minput\u001b[39;49m\u001b[43m,\u001b[49m\u001b[43m \u001b[49m\u001b[43mtimeout\u001b[49m\u001b[38;5;241;43m=\u001b[39;49m\u001b[43mtimeout\u001b[49m\u001b[43m)\u001b[49m\n\u001b[1;32m    508\u001b[0m     \u001b[38;5;28;01mexcept\u001b[39;00m TimeoutExpired \u001b[38;5;28;01mas\u001b[39;00m exc:\n\u001b[1;32m    509\u001b[0m         process\u001b[38;5;241m.\u001b[39mkill()\n",
      "File \u001b[0;32m~/anaconda3/envs/tacogfn/lib/python3.9/subprocess.py:1126\u001b[0m, in \u001b[0;36mPopen.communicate\u001b[0;34m(self, input, timeout)\u001b[0m\n\u001b[1;32m   1124\u001b[0m         stderr \u001b[38;5;241m=\u001b[39m \u001b[38;5;28mself\u001b[39m\u001b[38;5;241m.\u001b[39mstderr\u001b[38;5;241m.\u001b[39mread()\n\u001b[1;32m   1125\u001b[0m         \u001b[38;5;28mself\u001b[39m\u001b[38;5;241m.\u001b[39mstderr\u001b[38;5;241m.\u001b[39mclose()\n\u001b[0;32m-> 1126\u001b[0m     \u001b[38;5;28;43mself\u001b[39;49m\u001b[38;5;241;43m.\u001b[39;49m\u001b[43mwait\u001b[49m\u001b[43m(\u001b[49m\u001b[43m)\u001b[49m\n\u001b[1;32m   1127\u001b[0m \u001b[38;5;28;01melse\u001b[39;00m:\n\u001b[1;32m   1128\u001b[0m     \u001b[38;5;28;01mif\u001b[39;00m timeout \u001b[38;5;129;01mis\u001b[39;00m \u001b[38;5;129;01mnot\u001b[39;00m \u001b[38;5;28;01mNone\u001b[39;00m:\n",
      "File \u001b[0;32m~/anaconda3/envs/tacogfn/lib/python3.9/subprocess.py:1189\u001b[0m, in \u001b[0;36mPopen.wait\u001b[0;34m(self, timeout)\u001b[0m\n\u001b[1;32m   1187\u001b[0m     endtime \u001b[38;5;241m=\u001b[39m _time() \u001b[38;5;241m+\u001b[39m timeout\n\u001b[1;32m   1188\u001b[0m \u001b[38;5;28;01mtry\u001b[39;00m:\n\u001b[0;32m-> 1189\u001b[0m     \u001b[38;5;28;01mreturn\u001b[39;00m \u001b[38;5;28;43mself\u001b[39;49m\u001b[38;5;241;43m.\u001b[39;49m\u001b[43m_wait\u001b[49m\u001b[43m(\u001b[49m\u001b[43mtimeout\u001b[49m\u001b[38;5;241;43m=\u001b[39;49m\u001b[43mtimeout\u001b[49m\u001b[43m)\u001b[49m\n\u001b[1;32m   1190\u001b[0m \u001b[38;5;28;01mexcept\u001b[39;00m \u001b[38;5;167;01mKeyboardInterrupt\u001b[39;00m:\n\u001b[1;32m   1191\u001b[0m     \u001b[38;5;66;03m# https://bugs.python.org/issue25942\u001b[39;00m\n\u001b[1;32m   1192\u001b[0m     \u001b[38;5;66;03m# The first keyboard interrupt waits briefly for the child to\u001b[39;00m\n\u001b[1;32m   1193\u001b[0m     \u001b[38;5;66;03m# exit under the common assumption that it also received the ^C\u001b[39;00m\n\u001b[1;32m   1194\u001b[0m     \u001b[38;5;66;03m# generated SIGINT and will exit rapidly.\u001b[39;00m\n\u001b[1;32m   1195\u001b[0m     \u001b[38;5;28;01mif\u001b[39;00m timeout \u001b[38;5;129;01mis\u001b[39;00m \u001b[38;5;129;01mnot\u001b[39;00m \u001b[38;5;28;01mNone\u001b[39;00m:\n",
      "File \u001b[0;32m~/anaconda3/envs/tacogfn/lib/python3.9/subprocess.py:1933\u001b[0m, in \u001b[0;36mPopen._wait\u001b[0;34m(self, timeout)\u001b[0m\n\u001b[1;32m   1931\u001b[0m \u001b[38;5;28;01mif\u001b[39;00m \u001b[38;5;28mself\u001b[39m\u001b[38;5;241m.\u001b[39mreturncode \u001b[38;5;129;01mis\u001b[39;00m \u001b[38;5;129;01mnot\u001b[39;00m \u001b[38;5;28;01mNone\u001b[39;00m:\n\u001b[1;32m   1932\u001b[0m     \u001b[38;5;28;01mbreak\u001b[39;00m  \u001b[38;5;66;03m# Another thread waited.\u001b[39;00m\n\u001b[0;32m-> 1933\u001b[0m (pid, sts) \u001b[38;5;241m=\u001b[39m \u001b[38;5;28;43mself\u001b[39;49m\u001b[38;5;241;43m.\u001b[39;49m\u001b[43m_try_wait\u001b[49m\u001b[43m(\u001b[49m\u001b[38;5;241;43m0\u001b[39;49m\u001b[43m)\u001b[49m\n\u001b[1;32m   1934\u001b[0m \u001b[38;5;66;03m# Check the pid and loop as waitpid has been known to\u001b[39;00m\n\u001b[1;32m   1935\u001b[0m \u001b[38;5;66;03m# return 0 even without WNOHANG in odd situations.\u001b[39;00m\n\u001b[1;32m   1936\u001b[0m \u001b[38;5;66;03m# http://bugs.python.org/issue14396.\u001b[39;00m\n\u001b[1;32m   1937\u001b[0m \u001b[38;5;28;01mif\u001b[39;00m pid \u001b[38;5;241m==\u001b[39m \u001b[38;5;28mself\u001b[39m\u001b[38;5;241m.\u001b[39mpid:\n",
      "File \u001b[0;32m~/anaconda3/envs/tacogfn/lib/python3.9/subprocess.py:1891\u001b[0m, in \u001b[0;36mPopen._try_wait\u001b[0;34m(self, wait_flags)\u001b[0m\n\u001b[1;32m   1889\u001b[0m \u001b[38;5;250m\u001b[39m\u001b[38;5;124;03m\"\"\"All callers to this function MUST hold self._waitpid_lock.\"\"\"\u001b[39;00m\n\u001b[1;32m   1890\u001b[0m \u001b[38;5;28;01mtry\u001b[39;00m:\n\u001b[0;32m-> 1891\u001b[0m     (pid, sts) \u001b[38;5;241m=\u001b[39m \u001b[43mos\u001b[49m\u001b[38;5;241;43m.\u001b[39;49m\u001b[43mwaitpid\u001b[49m\u001b[43m(\u001b[49m\u001b[38;5;28;43mself\u001b[39;49m\u001b[38;5;241;43m.\u001b[39;49m\u001b[43mpid\u001b[49m\u001b[43m,\u001b[49m\u001b[43m \u001b[49m\u001b[43mwait_flags\u001b[49m\u001b[43m)\u001b[49m\n\u001b[1;32m   1892\u001b[0m \u001b[38;5;28;01mexcept\u001b[39;00m \u001b[38;5;167;01mChildProcessError\u001b[39;00m:\n\u001b[1;32m   1893\u001b[0m     \u001b[38;5;66;03m# This happens if SIGCLD is set to be ignored or waiting\u001b[39;00m\n\u001b[1;32m   1894\u001b[0m     \u001b[38;5;66;03m# for child processes has otherwise been disabled for our\u001b[39;00m\n\u001b[1;32m   1895\u001b[0m     \u001b[38;5;66;03m# process.  This child is dead, we can't get the status.\u001b[39;00m\n\u001b[1;32m   1896\u001b[0m     pid \u001b[38;5;241m=\u001b[39m \u001b[38;5;28mself\u001b[39m\u001b[38;5;241m.\u001b[39mpid\n",
      "\u001b[0;31mKeyboardInterrupt\u001b[0m: "
     ]
    }
   ],
   "source": [
    "pocket_to_ligands = {}\n",
    "\n",
    "for pocket_id in tqdm(pocket_ids):\n",
    "    # find matched pocket and ligand paths\n",
    "    matched_pocket_paths = [p for p in pocket_paths if pocket_id in p]\n",
    "    matched_ligand_paths = [l for l in ligand_paths if pocket_id in l]\n",
    "    \n",
    "    # if only one match, add to dict\n",
    "    if len(matched_pocket_paths) == 1 and len(matched_ligand_paths) == 1:\n",
    "        pocket_to_ligands[matched_pocket_paths[0]] = matched_ligand_paths[0]  \n",
    "    # if more than one match, find best match         \n",
    "    else:\n",
    "        results = find_best_matches(matched_pocket_paths, matched_ligand_paths)\n",
    "        for pocket_path, ligand_path in results.items():\n",
    "            pocket_to_ligands[pocket_path] = ligand_path\n",
    "            \n",
    "torch.save(pocket_to_ligands, 'crossdock_pocket_to_native_ligand.pt')"
   ]
  },
  {
   "cell_type": "code",
   "execution_count": 10,
   "metadata": {},
   "outputs": [],
   "source": [
    "pocket_to_ligands = torch.load('../dataset/crossdock_pocket_to_native_ligand.pt')"
   ]
  },
  {
   "cell_type": "markdown",
   "metadata": {},
   "source": [
    "Try to merge with Pocket2Mol dataset - bring more dataset"
   ]
  },
  {
   "cell_type": "code",
   "execution_count": 39,
   "metadata": {},
   "outputs": [],
   "source": []
  },
  {
   "cell_type": "code",
   "execution_count": 40,
   "metadata": {},
   "outputs": [],
   "source": [
    "# # These are the pdb ids that are in Pocket2Mol but not in CrossDock\n",
    "# # We will download these pdb ids from PDB\n",
    "# pdb_ids_to_download = []\n",
    "# for pdb_id in pocket2mol_pdb_ids:\n",
    "#     if not os.path.exists(os.path.join('../dataset/crossdock', pdb_id + '_rec.pdb')):\n",
    "#         pdb_ids_to_download.append(pdb_id.split('_')[0])\n",
    "# with open('../misc/pdb_ids_in_pocket2mol_to_download.txt', 'w') as file:\n",
    "#     file.write(','.join(pdb_ids_to_download))"
   ]
  },
  {
   "cell_type": "code",
   "execution_count": 41,
   "metadata": {},
   "outputs": [],
   "source": [
    "# CrossDock pdb ids\n",
    "pocket_to_ligands = torch.load('../dataset/crossdock_pocket_to_native_ligand.pt')\n",
    "existing_pdb_ids = set([v.split('/')[-1].split('_rec')[0] for v in list(pocket_to_ligands.keys())])"
   ]
  },
  {
   "cell_type": "code",
   "execution_count": 44,
   "metadata": {},
   "outputs": [],
   "source": [
    "not_found_pdb_ids = set([i for i in pocket2mol_pdb_ids if i not in existing_pdb_ids])"
   ]
  },
  {
   "cell_type": "code",
   "execution_count": 45,
   "metadata": {},
   "outputs": [
    {
     "data": {
      "text/plain": [
       "{'14gs_A',\n",
       " '1a2g_A',\n",
       " '1ai4_A',\n",
       " '1h0i_A',\n",
       " '1k9t_A',\n",
       " '1l3l_A',\n",
       " '1umd_B',\n",
       " '2cy0_A',\n",
       " '2e24_A',\n",
       " '2gns_A',\n",
       " '2pc8_A',\n",
       " '2pqw_A',\n",
       " '2rma_A',\n",
       " '2zen_A',\n",
       " '3ej8_A',\n",
       " '3jyh_A',\n",
       " '3li4_A',\n",
       " '3pdh_A',\n",
       " '3pnm_A',\n",
       " '4g3d_B',\n",
       " '4gvd_A',\n",
       " '4keu_A',\n",
       " '4qlk_A',\n",
       " '5b08_A',\n",
       " '5q0k_A',\n",
       " '5tjn_A',\n",
       " '5w2g_A'}"
      ]
     },
     "execution_count": 45,
     "metadata": {},
     "output_type": "execute_result"
    }
   ],
   "source": [
    "not_found_pdb_ids "
   ]
  },
  {
   "cell_type": "markdown",
   "metadata": {},
   "source": [
    "This section just renames PDB files"
   ]
  },
  {
   "cell_type": "code",
   "execution_count": 15,
   "metadata": {},
   "outputs": [],
   "source": [
    "# for pdb_id in pdb_ids_to_download:\n",
    "#     assert os.path.exists(f'../dataset/non_pdbbind/{pdb_id}.pdb')"
   ]
  },
  {
   "cell_type": "code",
   "execution_count": 16,
   "metadata": {},
   "outputs": [],
   "source": [
    "# Rename the PDB files \n",
    "# for pdb_chain_id in tqdm(not_found_val):\n",
    "#     pdb_id = pdb_chain_id.split('_')[0]\n",
    "#     os.system(f'cp ../dataset/non_pdbbind/{pdb_id}.pdb ../dataset/non_pdbbind/{pdb_chain_id}.pdb')"
   ]
  },
  {
   "cell_type": "code",
   "execution_count": 17,
   "metadata": {},
   "outputs": [],
   "source": [
    "# for pdb_id in pdb_ids_to_download:\n",
    "#     os.system(f'rm ../dataset/non_pdbbind/{pdb_id}.pdb')"
   ]
  },
  {
   "cell_type": "code",
   "execution_count": 18,
   "metadata": {},
   "outputs": [],
   "source": [
    "not_found_val = list(not_found_val)"
   ]
  },
  {
   "cell_type": "code",
   "execution_count": 19,
   "metadata": {},
   "outputs": [
    {
     "data": {
      "text/plain": [
       "27"
      ]
     },
     "execution_count": 19,
     "metadata": {},
     "output_type": "execute_result"
    }
   ],
   "source": [
    "not_found_in_both = []\n",
    "for pdb_id in not_found_val:\n",
    "    try:\n",
    "        assert os.path.exists(f'../dataset/non_pdbbind/{pdb_id}.pdb') or os.path.exists(f'../dataset/crossdock/{pdb_id}_rec.pdb')\n",
    "    except:\n",
    "        not_found_in_both.append(pdb_id)\n",
    "len(not_found_in_both)"
   ]
  },
  {
   "cell_type": "markdown",
   "metadata": {},
   "source": [
    "Let's match these difficult to match pockets"
   ]
  },
  {
   "cell_type": "code",
   "execution_count": 20,
   "metadata": {},
   "outputs": [],
   "source": [
    "pairs_of_interests = [\n",
    "    pair for pair in pocket2mol_split if pair[0].split('/')[-1].split('_')[0] in set(pdb_ids_to_download)\n",
    "]"
   ]
  },
  {
   "cell_type": "code",
   "execution_count": 28,
   "metadata": {},
   "outputs": [
    {
     "name": "stdout",
     "output_type": "stream",
     "text": [
      "The autoreload extension is already loaded. To reload it, use:\n",
      "  %reload_ext autoreload\n"
     ]
    }
   ],
   "source": [
    "%load_ext autoreload\n",
    "%autoreload 2"
   ]
  },
  {
   "cell_type": "code",
   "execution_count": 29,
   "metadata": {},
   "outputs": [],
   "source": [
    "from src.tacogfn.utils import molecules"
   ]
  },
  {
   "cell_type": "code",
   "execution_count": 37,
   "metadata": {},
   "outputs": [],
   "source": [
    "# from src.tacogfn.utils import molecules\n",
    "\n",
    "\n",
    "# for pocket_id in tqdm(not_found_val):\n",
    "#     if pocket_id in not_found_in_both:\n",
    "#         continue\n",
    "    \n",
    "#     pocket_path1 = os.path.join('../dataset/crossdock/', pocket_id + '_rec.pdb')\n",
    "#     pocket_path2 = os.path.join('../dataset/non_pdbbind/', pocket_id + '.pdb')\n",
    "#     if os.path.exists(pocket_path1):\n",
    "#         pocket_path = pocket_path1\n",
    "#     else:\n",
    "#         pocket_path = pocket_path2\n",
    "        \n",
    "#     # find matched pocket and ligand paths\n",
    "#     matched_pocket_paths = [v[0] for v in pocket2mol_split if pocket_id in v[0]]\n",
    "#     matched_ligand_paths = [v[1] for v in pocket2mol_split if pocket_id in v[1]]\n",
    "\n",
    "#     aligned_crossdock_pocket_paths = None\n",
    "#     for crossdock_pocket_path in matched_pocket_paths:\n",
    "#         try:\n",
    "#             crossdock_pocket_path = os.path.join('../dataset/pocket2mol_dataset/', crossdock_pocket_path.split('/')[-1])\n",
    "#             rot_mat, original_center, new_center = molecules.get_rototranslation_alignment(\n",
    "#                 pocket_path, \n",
    "#                 crossdock_pocket_path,\n",
    "#                 max_rmse=2.0\n",
    "#             )\n",
    "#             aligned_crossdock_pocket_paths = crossdock_pocket_path\n",
    "#         except KeyboardInterrupt:\n",
    "#             raise KeyboardInterrupt\n",
    "#         except Exception:\n",
    "#             print(crossdock_pocket_path)\n",
    "#             print(pocket_path)\n",
    "#             print(crossdock_pocket_path.replace('.pdb', '_aligned.pdb'))\n",
    "        \n",
    "#             molecules.transform_pdb(\n",
    "#                 crossdock_pocket_path, \n",
    "#                 crossdock_pocket_path.replace('.pdb', '_aligned.pdb'),\n",
    "#                 rot_mat,\n",
    "#                 original_center,\n",
    "#                 new_center\n",
    "#             )\n",
    "\n",
    "\n",
    "        \n",
    "#         #     print(crossdock_pocket_path)\n",
    "#         #     print(pocket_path)\n",
    "#         #     continue\n",
    "    \n",
    "            \n",
    "\n",
    "#     # print(aligned_crossdock_pocket_paths)\n",
    "#     # print(matched_ligand_paths)\n"
   ]
  },
  {
   "cell_type": "code",
   "execution_count": null,
   "metadata": {},
   "outputs": [
    {
     "name": "stderr",
     "output_type": "stream",
     "text": [
      "  0%|          | 0/10361 [00:00<?, ?it/s]"
     ]
    },
    {
     "name": "stdout",
     "output_type": "stream",
     "text": [
      "WARNING! 2jau has 20  atoms with alternate locations named ['A', 'B']!\n",
      "\n",
      "WARNING! using alternate location A\n",
      "adding gasteiger charges to peptide\n"
     ]
    },
    {
     "name": "stderr",
     "output_type": "stream",
     "text": [
      "  0%|          | 1/10361 [00:00<2:15:05,  1.28it/s]"
     ]
    },
    {
     "name": "stdout",
     "output_type": "stream",
     "text": [
      "2jau -5.77317\n",
      "WARNING! 5pnx has 208  atoms with alternate locations named ['A', 'B', 'C', 'D']!\n",
      "\n",
      "WARNING! using alternate location A\n",
      "adding gasteiger charges to peptide\n"
     ]
    },
    {
     "name": "stderr",
     "output_type": "stream",
     "text": [
      "  0%|          | 2/10361 [00:01<2:23:41,  1.20it/s]"
     ]
    },
    {
     "name": "stdout",
     "output_type": "stream",
     "text": [
      "5pnx -6.86635\n",
      "WARNING! 4i29 has 84  atoms with alternate locations named ['A', 'B']!\n",
      "\n",
      "WARNING! using alternate location A\n",
      "'C ' apparently composed of not std residues. Deleting \n",
      "adding gasteiger charges to peptide\n"
     ]
    },
    {
     "name": "stderr",
     "output_type": "stream",
     "text": [
      "  0%|          | 6/10361 [00:02<1:06:38,  2.59it/s]"
     ]
    },
    {
     "name": "stdout",
     "output_type": "stream",
     "text": [
      "4i29 -5.74024\n",
      "WARNING! 3ojs has 62  atoms with alternate locations named ['A', 'B']!\n",
      "\n",
      "WARNING! using alternate location A\n",
      "'B ' apparently composed of not std residues. Deleting \n",
      "'C ' apparently composed of not std residues. Deleting \n",
      "adding gasteiger charges to peptide\n"
     ]
    },
    {
     "name": "stderr",
     "output_type": "stream",
     "text": [
      "  0%|          | 9/10361 [00:05<1:33:38,  1.84it/s]"
     ]
    },
    {
     "name": "stdout",
     "output_type": "stream",
     "text": [
      "3ojs -7.53265\n",
      "WARNING! 3myl has 104  atoms with alternate locations named ['A', 'B']!\n",
      "\n",
      "WARNING! using alternate location A\n",
      "adding gasteiger charges to peptide\n"
     ]
    },
    {
     "name": "stderr",
     "output_type": "stream",
     "text": [
      "  0%|          | 11/10361 [00:06<1:50:21,  1.56it/s]"
     ]
    },
    {
     "name": "stdout",
     "output_type": "stream",
     "text": [
      "3myl -7.51366\n"
     ]
    },
    {
     "name": "stderr",
     "output_type": "stream",
     "text": [
      "  0%|          | 15/10361 [00:07<53:42,  3.21it/s]  "
     ]
    },
    {
     "name": "stdout",
     "output_type": "stream",
     "text": [
      "adding gasteiger charges to peptide\n"
     ]
    },
    {
     "name": "stderr",
     "output_type": "stream",
     "text": [
      "  0%|          | 17/10361 [00:08<1:03:33,  2.71it/s]"
     ]
    },
    {
     "name": "stdout",
     "output_type": "stream",
     "text": [
      "3app -6.33145\n",
      "adding gasteiger charges to peptide\n"
     ]
    },
    {
     "name": "stderr",
     "output_type": "stream",
     "text": [
      "  0%|          | 18/10361 [00:10<2:15:20,  1.27it/s]"
     ]
    },
    {
     "name": "stdout",
     "output_type": "stream",
     "text": [
      "3ct7 -5.49195\n",
      "'D ' apparently composed of not std residues. Deleting \n",
      "'P ' apparently composed of not std residues. Deleting \n",
      "'T ' apparently composed of not std residues. Deleting \n",
      "'C ' apparently composed of not std residues. Deleting \n",
      "'E ' apparently composed of not std residues. Deleting \n",
      "'F ' apparently composed of not std residues. Deleting \n",
      "adding gasteiger charges to peptide\n"
     ]
    },
    {
     "name": "stderr",
     "output_type": "stream",
     "text": [
      "  0%|          | 20/10361 [00:12<2:14:57,  1.28it/s]"
     ]
    },
    {
     "name": "stdout",
     "output_type": "stream",
     "text": [
      "5dkw -2.15525\n",
      "WARNING! 5ev8 has 30  atoms with alternate locations named ['A', 'B']!\n",
      "\n",
      "WARNING! using alternate location A\n",
      "adding gasteiger charges to peptide\n"
     ]
    },
    {
     "name": "stderr",
     "output_type": "stream",
     "text": [
      "  0%|          | 23/10361 [00:14<1:56:23,  1.48it/s]"
     ]
    },
    {
     "name": "stdout",
     "output_type": "stream",
     "text": [
      "5ev8 2.39498\n",
      "adding gasteiger charges to peptide\n"
     ]
    },
    {
     "name": "stderr",
     "output_type": "stream",
     "text": [
      "  0%|          | 24/10361 [00:17<3:01:32,  1.05s/it]"
     ]
    },
    {
     "name": "stdout",
     "output_type": "stream",
     "text": [
      "1jx1 -6.42068\n",
      "adding gasteiger charges to peptide\n"
     ]
    },
    {
     "name": "stderr",
     "output_type": "stream",
     "text": [
      "  0%|          | 27/10361 [00:18<1:58:57,  1.45it/s]"
     ]
    },
    {
     "name": "stdout",
     "output_type": "stream",
     "text": [
      "1nfw -10.65625\n",
      "WARNING! 3c5g has 138  atoms with alternate locations named ['A', 'B']!\n",
      "\n",
      "WARNING! using alternate location A\n",
      "'T ' apparently composed of not std residues. Deleting \n",
      "'P ' apparently composed of not std residues. Deleting \n",
      "'D ' apparently composed of not std residues. Deleting \n",
      "'U ' apparently composed of not std residues. Deleting \n",
      "'Q ' apparently composed of not std residues. Deleting \n",
      "'E ' apparently composed of not std residues. Deleting \n",
      "adding gasteiger charges to peptide\n"
     ]
    },
    {
     "name": "stderr",
     "output_type": "stream",
     "text": [
      "  0%|          | 29/10361 [00:19<2:07:33,  1.35it/s]"
     ]
    },
    {
     "name": "stdout",
     "output_type": "stream",
     "text": [
      "3c5g -2.4722\n",
      "adding gasteiger charges to peptide\n",
      "Sorry, there are no Gasteiger parameters available for atom 2g83:A:VAL109:O\n",
      "Unable to assign MAP type to atom N\n",
      "Sorry, there are no Gasteiger parameters available for atom 2g83:A:LEU110:N\n"
     ]
    },
    {
     "name": "stderr",
     "output_type": "stream",
     "text": [
      "  0%|          | 31/10361 [00:21<2:10:32,  1.32it/s]"
     ]
    },
    {
     "name": "stdout",
     "output_type": "stream",
     "text": [
      "2g83 -6.33212\n",
      "WARNING! 4yi3 has 20  atoms with alternate locations named ['A', 'B']!\n",
      "\n",
      "WARNING! using alternate location A\n",
      "adding gasteiger charges to peptide\n"
     ]
    },
    {
     "name": "stderr",
     "output_type": "stream",
     "text": [
      "  0%|          | 32/10361 [00:23<2:48:28,  1.02it/s]"
     ]
    },
    {
     "name": "stdout",
     "output_type": "stream",
     "text": [
      "4yi3 -3.02111\n"
     ]
    },
    {
     "name": "stderr",
     "output_type": "stream",
     "text": [
      "  0%|          | 38/10361 [00:24<1:00:50,  2.83it/s]"
     ]
    },
    {
     "name": "stdout",
     "output_type": "stream",
     "text": [
      "adding gasteiger charges to peptide\n"
     ]
    },
    {
     "name": "stderr",
     "output_type": "stream",
     "text": [
      "  0%|          | 39/10361 [00:25<1:52:49,  1.52it/s]"
     ]
    },
    {
     "name": "stdout",
     "output_type": "stream",
     "text": [
      "1d0z 1.98561\n",
      "adding gasteiger charges to peptide\n"
     ]
    },
    {
     "name": "stderr",
     "output_type": "stream",
     "text": [
      "  0%|          | 41/10361 [00:27<2:10:16,  1.32it/s]"
     ]
    },
    {
     "name": "stdout",
     "output_type": "stream",
     "text": [
      "WARNING! 4zbc has 32  atoms with alternate locations named ['A', 'B']!\n",
      "\n",
      "WARNING! using alternate location A\n",
      "adding gasteiger charges to peptide\n"
     ]
    },
    {
     "name": "stderr",
     "output_type": "stream",
     "text": [
      "  0%|          | 43/10361 [00:29<2:18:51,  1.24it/s]"
     ]
    },
    {
     "name": "stdout",
     "output_type": "stream",
     "text": [
      "4zbc -4.6449\n",
      "WARNING! 3dxl has 80  atoms with alternate locations named ['A', 'B']!\n",
      "\n",
      "WARNING! using alternate location A\n",
      "adding gasteiger charges to peptide\n"
     ]
    },
    {
     "name": "stderr",
     "output_type": "stream",
     "text": [
      "  0%|          | 47/10361 [00:30<1:26:37,  1.98it/s]"
     ]
    },
    {
     "name": "stdout",
     "output_type": "stream",
     "text": [
      "3dxl -6.27773\n"
     ]
    },
    {
     "name": "stderr",
     "output_type": "stream",
     "text": [
      "  0%|          | 49/10361 [00:30<1:02:27,  2.75it/s]"
     ]
    },
    {
     "name": "stdout",
     "output_type": "stream",
     "text": [
      "adding gasteiger charges to peptide\n"
     ]
    },
    {
     "name": "stderr",
     "output_type": "stream",
     "text": [
      "  0%|          | 50/10361 [00:31<1:21:11,  2.12it/s]"
     ]
    },
    {
     "name": "stdout",
     "output_type": "stream",
     "text": [
      "1v3x -9.57747\n",
      "WARNING! 5nak has 96  atoms with alternate locations named ['A', 'B']!\n",
      "\n",
      "WARNING! using alternate location A\n",
      "adding gasteiger charges to peptide\n"
     ]
    },
    {
     "name": "stderr",
     "output_type": "stream",
     "text": [
      "  1%|          | 53/10361 [00:33<1:28:15,  1.95it/s]"
     ]
    },
    {
     "name": "stdout",
     "output_type": "stream",
     "text": [
      "5nak -6.98287\n",
      "WARNING! 4fr8 has 392  atoms with alternate locations named ['A', 'B']!\n",
      "\n",
      "WARNING! using alternate location A\n",
      "adding gasteiger charges to peptide\n"
     ]
    }
   ],
   "source": [
    "\n",
    "# for pair in tqdm(pairs_of_interests):\n",
    "#     pdb_id = pair[0].split('/')[-1].split('_')[0]\n",
    "    \n",
    "#     # Downloaded from PDBBind\n",
    "#     pocket_path = os.path.join('../dataset/non_pdbbind/', pdb_id + '.pdb')\n",
    "    \n",
    "#     # Original Pocket2Mol dataset\n",
    "#     original_pocket_path = os.path.join('../dataset/pocket2mol_dataset/', pair[0].split('/')[-1])\n",
    "#     ligand_path = os.path.join('../dataset/pocket2mol_dataset/', pair[1].split('/')[-1])\n",
    "    \n",
    "#     # Processed ligand path\n",
    "#     ligand_sdf_id = ligand_path.split('/')[-1].split('lig')[0] + 'lig' \n",
    "#     processed_ligand_path = os.path.join('../dataset/non_pdbbind/', f'{ligand_sdf_id}.sdf')\n",
    "    \n",
    "#     try:\n",
    "#         rot_mat, original_center, new_center = molecules.get_rototranslation_alignment(\n",
    "#             pocket_path, \n",
    "#             original_pocket_path,\n",
    "#             max_rmse=2.0\n",
    "#         )\n",
    "\n",
    "#         molecules.transform_sdf(\n",
    "#             input_file=ligand_path, \n",
    "#             output_file=processed_ligand_path, \n",
    "#             rotation_matrix=rot_mat, \n",
    "#             original_center=original_center, \n",
    "#             new_center=new_center\n",
    "#         )\n",
    "\n",
    "#         score = docking.compute_docking_score_from_sdf(\n",
    "#             pocket_path,\n",
    "#             processed_ligand_path,\n",
    "#             keep_temp_folder=False,\n",
    "#             score_only=True\n",
    "#         )\n",
    "#     except:\n",
    "#         continue\n",
    "    \n",
    "#     if score is not None and score < -2.0:\n",
    "#         pocket_to_ligands[pocket_path] = processed_ligand_path\n",
    "            \n",
    "#     print(f'{pdb_id} {score}')"
   ]
  },
  {
   "cell_type": "code",
   "execution_count": null,
   "metadata": {},
   "outputs": [
    {
     "data": {
      "text/plain": [
       "2244"
      ]
     },
     "execution_count": 22,
     "metadata": {},
     "output_type": "execute_result"
    }
   ],
   "source": [
    "len(set(not_found_val))"
   ]
  },
  {
   "cell_type": "code",
   "execution_count": null,
   "metadata": {},
   "outputs": [
    {
     "data": {
      "text/plain": [
       "2149"
      ]
     },
     "execution_count": 21,
     "metadata": {},
     "output_type": "execute_result"
    }
   ],
   "source": [
    "len(set(pdb_ids_to_download))"
   ]
  },
  {
   "cell_type": "markdown",
   "metadata": {},
   "source": [
    "Archive Code"
   ]
  },
  {
   "cell_type": "code",
   "execution_count": null,
   "metadata": {},
   "outputs": [],
   "source": [
    "# # Convert path to pocket id and ligand id\n",
    "# get_pocket_id_and_ligand_id = lambda path: (path.split('/')[1].split('_rec')[0], path.split('/')[1].split('rec_')[1].split('_lig')[0])"
   ]
  },
  {
   "cell_type": "code",
   "execution_count": null,
   "metadata": {},
   "outputs": [],
   "source": [
    "# # Convert path into pocket ligand pairs\n",
    "# pairs = [get_pocket_id_and_ligand_id(path) for path, _ in merged_split_file]"
   ]
  },
  {
   "cell_type": "code",
   "execution_count": null,
   "metadata": {},
   "outputs": [],
   "source": [
    "# map pocket to list of ligands\n",
    "# pocket_to_ligands = defaultdict(list)\n",
    "\n",
    "# for pocket, ligand in pairs:\n",
    "#     pocket_to_ligands[pocket].append(ligand)"
   ]
  },
  {
   "cell_type": "code",
   "execution_count": null,
   "metadata": {},
   "outputs": [],
   "source": [
    "# map pocket to the native ligand, if native ligand is not in the list of ligands, then use the first ligand\n",
    "# pocket_to_best_ligand = {}\n",
    "# for pocket, ligand_list in pocket_to_ligands.items():\n",
    "#     pocket_id = pocket.split('_')[0]\n",
    "    \n",
    "#     # default to first ligand\n",
    "#     pocket_to_best_ligand[pocket] = ligand_list[0]\n",
    "    \n",
    "#     for ligand in ligand_list:\n",
    "#         if ligand.split('_')[0] == pocket_id:\n",
    "#             pocket_to_best_ligand[pocket] = ligand"
   ]
  },
  {
   "cell_type": "code",
   "execution_count": null,
   "metadata": {},
   "outputs": [],
   "source": [
    "# # Convert the pocket id to pdb path in CrossDock\n",
    "# # Create a map of pocket id to pdb path\n",
    "# pocket_id_to_pdb_path = {}\n",
    "\n",
    "# for pocket_rec_id, _ in pocket_to_best_ligand.items():\n",
    "#     path = f'../dataset/crossdock/{pocket_rec_id}_rec.pdb'\n",
    "    \n",
    "#     if os.path.exists(path):\n",
    "#         pocket_id_to_pdb_path[pocket_rec_id] = path\n",
    "#     else:\n",
    "#         pocket_id_to_pdb_path[pocket_rec_id] = None  "
   ]
  },
  {
   "cell_type": "code",
   "execution_count": null,
   "metadata": {},
   "outputs": [
    {
     "name": "stdout",
     "output_type": "stream",
     "text": [
      "Number of pockets not in pdbbind: 831\n"
     ]
    }
   ],
   "source": [
    "# num_pockets_not_in_pdbbind = len({k: v for k, v in pocket_id_to_pdb_path.items() if v is None})\n",
    "# print(f'Number of pockets not in pdbbind: {num_pockets_not_in_pdbbind}')"
   ]
  },
  {
   "cell_type": "code",
   "execution_count": null,
   "metadata": {},
   "outputs": [],
   "source": [
    "# # Convert the pocket_to_best_ligand in paths\n",
    "# protein_path_to_ligand_path = {}\n",
    "\n",
    "# for pocket_path, ligand_path in merged_split_file:\n",
    "#     pocket_id, ligand_id = get_pocket_id_and_ligand_id(pocket_path)\n",
    "    \n",
    "#     best_ligand_id = pocket_to_best_ligand[pocket_id]\n",
    "#     protein_path = pocket_id_to_pdb_path[pocket_id]\n",
    "#     if best_ligand_id == ligand_id and protein_path is not None:\n",
    "#         protein_path_to_ligand_path[protein_path] = os.path.join('../dataset/crossdocked_pocket10/', ligand_path)    "
   ]
  },
  {
   "cell_type": "code",
   "execution_count": null,
   "metadata": {},
   "outputs": [
    {
     "name": "stderr",
     "output_type": "stream",
     "text": [
      "  0%|          | 2/14476 [00:00<11:39, 20.69it/s]"
     ]
    },
    {
     "name": "stdout",
     "output_type": "stream",
     "text": [
      "../dataset/processed/proteins/5acc_A_rec.pdb\n",
      "../dataset/processed/ligands/5acc_A_rec_5acc_ke9_lig.sdf\n"
     ]
    },
    {
     "name": "stderr",
     "output_type": "stream",
     "text": [
      "\n"
     ]
    }
   ],
   "source": [
    "# # move the files into a processed folder \n",
    "# # make sure we align the pocket and the whole protein - and then we can adjust the ligand accordingly\n",
    "\n",
    "# processed_protein_id_to_ligand_id = {}\n",
    "# failed_dict = {}\n",
    "\n",
    "# for protein_path, ligand_path in tqdm(protein_path_to_ligand_path.items()):\n",
    "    \n",
    "#     pocket_path = ligand_path.replace('.sdf', '_pocket10.pdb')\n",
    "#     assert os.path.exists(pocket_path)\n",
    "    \n",
    "#     protein_rec_id = os.path.splitext(os.path.basename(protein_path))[0]\n",
    "#     protein_rec_filename = f'{protein_rec_id}.pdb'\n",
    "    \n",
    "#     ligand_sdf_id = ligand_path.split('/')[-1].split('lig')[0] + 'lig' \n",
    "    \n",
    "#     processed_protein_path = os.path.join('../dataset/processed/proteins/', protein_rec_filename)\n",
    "#     processed_ligand_path = os.path.join('../dataset/processed/ligands/', f'{ligand_sdf_id}.sdf')\n",
    "    \n",
    "    \n",
    "#     os.system(f'cp {protein_path} {processed_protein_path}')\n",
    "#     # try:\n",
    "#     try:\n",
    "#         rot_mat, original_center, new_center = molecules.get_rototranslation_alignment(\n",
    "#             protein_path, \n",
    "#             pocket_path,\n",
    "#         )\n",
    "\n",
    "#         molecules.transform_sdf(\n",
    "#             input_file=ligand_path, \n",
    "#             output_file=processed_ligand_path, \n",
    "#             rotation_matrix=rot_mat, \n",
    "#             original_center=original_center, \n",
    "#             new_center=new_center\n",
    "#         )\n",
    "#     except:\n",
    "#         os.system(f'cp {ligand_path} {processed_ligand_path}')\n",
    "#         print(processed_protein_path)\n",
    "#         print(processed_ligand_path)\n",
    "#         break\n",
    "    \n",
    "#     processed_protein_id_to_ligand_id[protein_rec_id] = ligand_sdf_id\n",
    "#     # except:\n",
    "#     #     failed_dict[protein_rec_id] = ligand_sdf_id"
   ]
  },
  {
   "cell_type": "code",
   "execution_count": null,
   "metadata": {},
   "outputs": [],
   "source": [
    "# # Get the train and test split for CrossDock pockets\n",
    "# train_pockets = set([get_pocket_id_and_ligand_id(path)[0] for path, _ in split_file['train']])\n",
    "# test_pockets = set([get_pocket_id_and_ligand_id(path)[0] for path, _ in split_file['test']])"
   ]
  },
  {
   "cell_type": "code",
   "execution_count": null,
   "metadata": {},
   "outputs": [],
   "source": [
    "# # Create a new split file for CrossDock \n",
    "\n",
    "# new_split_file = {'train': {}, 'test': {}}\n",
    "\n",
    "# for pocket_id, ligand_id in processed_protein_id_to_ligand_id.items():\n",
    "#     pocket_id = pocket_id.split('_rec')[0]\n",
    "#     if pocket_id in train_pockets:\n",
    "#         new_split_file['train'][pocket_id] = ligand_id\n",
    "#     elif pocket_id in test_pockets:\n",
    "#         new_split_file['test'][pocket_id] = ligand_id\n",
    "#     else:\n",
    "#         raise Exception('Pocket not in train or test split')\n"
   ]
  },
  {
   "cell_type": "code",
   "execution_count": null,
   "metadata": {},
   "outputs": [],
   "source": [
    "# torch.save(new_split_file, '../dataset/processed/processed_split_file.pt')"
   ]
  }
 ],
 "metadata": {
  "kernelspec": {
   "display_name": "tacogfn",
   "language": "python",
   "name": "python3"
  },
  "language_info": {
   "codemirror_mode": {
    "name": "ipython",
    "version": 3
   },
   "file_extension": ".py",
   "mimetype": "text/x-python",
   "name": "python",
   "nbconvert_exporter": "python",
   "pygments_lexer": "ipython3",
   "version": "3.9.18"
  }
 },
 "nbformat": 4,
 "nbformat_minor": 2
}
