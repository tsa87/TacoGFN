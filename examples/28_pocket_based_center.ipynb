{
 "cells": [
  {
   "cell_type": "code",
   "execution_count": 1,
   "metadata": {},
   "outputs": [],
   "source": [
    "from glob import glob"
   ]
  },
  {
   "cell_type": "code",
   "execution_count": 4,
   "metadata": {},
   "outputs": [],
   "source": [
    "pdb_paths = glob('../dataset/crossdocktest_pdbqt/*_rec.pdbqt')"
   ]
  },
  {
   "cell_type": "code",
   "execution_count": 8,
   "metadata": {},
   "outputs": [],
   "source": [
    "import numpy as np\n",
    "\n",
    "def parse_pdb(pdb_file):\n",
    "    \"\"\"Parse a PDB file to extract the coordinates of all atoms.\"\"\"\n",
    "    coordinates = []\n",
    "    with open(pdb_file, 'r') as file:\n",
    "        for line in file:\n",
    "            if line.startswith(\"ATOM\") or line.startswith(\"HETATM\"):\n",
    "                x = float(line[30:38].strip())\n",
    "                y = float(line[38:46].strip())\n",
    "                z = float(line[46:54].strip())\n",
    "                coordinates.append([x, y, z])\n",
    "    return np.array(coordinates)\n",
    "\n",
    "def compute_centroid_max_min(coordinates):\n",
    "    \"\"\"Compute the centroid using the midpoint of max and min coordinates.\"\"\"\n",
    "    min_coords = np.min(coordinates, axis=0)\n",
    "    max_coords = np.max(coordinates, axis=0)\n",
    "    centroid = (min_coords + max_coords) / 2\n",
    "    return centroid\n",
    "\n",
    "def compute_centroid_mean(coordinates):\n",
    "    \"\"\"Compute the centroid using the mean of all coordinates.\"\"\"\n",
    "    centroid = np.mean(coordinates, axis=0)\n",
    "    return centroid"
   ]
  },
  {
   "cell_type": "code",
   "execution_count": 12,
   "metadata": {},
   "outputs": [],
   "source": [
    "pocket_to_centroid_v2 = {}\n",
    "for pdb_path in pdb_paths:\n",
    "    pdb_id = pdb_path.split('/')[-1].split('_rec')[0]\n",
    "    coordinates = parse_pdb(pdb_path)\n",
    "    centroid = compute_centroid_max_min(coordinates)\n",
    "    pocket_to_centroid_v2[pdb_id] = centroid\n",
    "    \n",
    "torch.save(pocket_to_centroid_v2, '../dataset/pocket_to_centroid_v2.pt')"
   ]
  },
  {
   "cell_type": "code",
   "execution_count": null,
   "metadata": {},
   "outputs": [],
   "source": []
  }
 ],
 "metadata": {
  "kernelspec": {
   "display_name": "tacogfn",
   "language": "python",
   "name": "python3"
  },
  "language_info": {
   "codemirror_mode": {
    "name": "ipython",
    "version": 3
   },
   "file_extension": ".py",
   "mimetype": "text/x-python",
   "name": "python",
   "nbconvert_exporter": "python",
   "pygments_lexer": "ipython3",
   "version": "3.9.18"
  }
 },
 "nbformat": 4,
 "nbformat_minor": 2
}
