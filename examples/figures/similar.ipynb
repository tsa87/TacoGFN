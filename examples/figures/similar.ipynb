{
 "cells": [
  {
   "cell_type": "code",
   "execution_count": 1,
   "metadata": {},
   "outputs": [],
   "source": [
    "import os\n",
    "import json\n",
    "\n",
    "os.chdir('../../')"
   ]
  },
  {
   "cell_type": "code",
   "execution_count": 2,
   "metadata": {},
   "outputs": [
    {
     "name": "stderr",
     "output_type": "stream",
     "text": [
      "/home/tsa87/anaconda3/envs/tacogfn/lib/python3.9/site-packages/tqdm/auto.py:21: TqdmWarning: IProgress not found. Please update jupyter and ipywidgets. See https://ipywidgets.readthedocs.io/en/stable/user_install.html\n",
      "  from .autonotebook import tqdm as notebook_tqdm\n"
     ]
    }
   ],
   "source": [
    "import torch\n",
    "from rdkit import Chem\n",
    "import numpy as np\n",
    "from itertools import chain\n",
    "from rdkit.Chem import DataStructs\n",
    "from rdkit.Chem import Draw"
   ]
  },
  {
   "cell_type": "code",
   "execution_count": 72,
   "metadata": {},
   "outputs": [],
   "source": [
    "pharmaco_res_path = 'misc/evaluations/archive/20240117_alpha_default_evaluated.json'\n",
    "with open(pharmaco_res_path) as f:\n",
    "    pharmaco_res = json.load(f)"
   ]
  },
  {
   "cell_type": "code",
   "execution_count": 73,
   "metadata": {},
   "outputs": [],
   "source": [
    "decomp_res_path = 'misc/evaluations/decompdiff_agg_data_evaluated.json'\n",
    "with open(decomp_res_path) as f:\n",
    "    decomp_res = json.load(f)"
   ]
  },
  {
   "cell_type": "code",
   "execution_count": 74,
   "metadata": {},
   "outputs": [],
   "source": [
    "crossdock = torch.load(\n",
    "    \"dataset/archived/crossdock_docking_scores/all_crossdock_100k.pt\"\n",
    ")\n",
    "crossdock_smiles = list(set([v[1] for v in crossdock]))\n",
    "crossdock_mols = [Chem.MolFromSmiles(s) for s in crossdock_smiles]\n",
    "crossdock_fps = [Chem.RDKFingerprint(m) for m in crossdock_mols]\n",
    "\n",
    "def get_most_similar_compound(smiles):\n",
    "    mol = Chem.MolFromSmiles(smiles)\n",
    "    fp = Chem.RDKFingerprint(mol)\n",
    "    s = DataStructs.BulkTanimotoSimilarity(fp, crossdock_fps)\n",
    "    \n",
    "    most_sim_i = s.index(max(s))\n",
    "    return crossdock_smiles[most_sim_i]"
   ]
  },
  {
   "cell_type": "code",
   "execution_count": 75,
   "metadata": {},
   "outputs": [],
   "source": [
    "all_decomp_nov = list(chain.from_iterable([v['novelty'] for v in decomp_res.values()]))"
   ]
  },
  {
   "cell_type": "code",
   "execution_count": 76,
   "metadata": {},
   "outputs": [
    {
     "data": {
      "text/plain": [
       "dict_keys(['4rn0_B', '3daf_A', '2v3r_A', '4pxz_A', '1fmc_B', '3ej8_A', '5tjn_A', '1d7j_A', '4qlk_A', '3pnm_A', '3jyh_A', '4rv4_A', '3g51_A', '2z3h_A', '5ngz_A', '1h0i_A', '4p6p_A', '2hcj_B', '5q0k_A', '5bur_A', '4q8b_B', '2e6d_A', '1phk_A', '14gs_A', '5aeh_A', '4xli_B', '4gvd_A', '3u9f_C', '4aaw_A', '4iiy_A', '1gg5_A', '2zen_A', '1jn2_P', '1r1h_A', '5mgl_A', '4rlu_A', '2rma_A', '1l3l_A', '1k9t_A', '4aua_A', '4zfa_A', '2jjg_A', '2f2c_B', '3v4t_A', '2gns_A', '4tos_A', '1afs_A', '3tym_A', '5mma_A', '2pc8_A', '4g3d_B', '4yhj_A', '3gs6_A', '3li4_A', '5i0b_A', '3kc1_A', '4iwq_A', '4kcq_A', '3l3n_A', '5w2g_A', '3u5y_B', '5d7n_D', '5liu_X', '4bel_A', '4d7o_A', '4u5s_A', '1h36_A', '1ai4_A', '4azf_A', '5l1v_A', '2azy_A', '1umd_B', '1djy_A', '4tqr_A', '1e8h_A', '2cy0_A', '3w83_B', '4f1m_A', '3chc_B', '4z2g_A', '3dzh_A', '4keu_A', '1dxo_C', '5b08_A', '3pdh_A', '2pqw_A', '1a2g_A', '4ja8_B', '3hy9_B', '4lfu_A', '2e24_A', '1rs9_A', '4m7t_A', '3o96_A', '3nfb_A', '3af2_A', '3b6h_A', '4h3c_A', '2rhy_A', '1coy_A'])"
      ]
     },
     "execution_count": 76,
     "metadata": {},
     "output_type": "execute_result"
    }
   ],
   "source": [
    "decomp_res.keys()"
   ]
  },
  {
   "cell_type": "code",
   "execution_count": 77,
   "metadata": {},
   "outputs": [],
   "source": [
    "# Good ones '3daf_A' \n",
    "# pocket =  '3daf_A'"
   ]
  },
  {
   "cell_type": "code",
   "execution_count": 78,
   "metadata": {},
   "outputs": [],
   "source": [
    "# pocket =  '4rv4_A'\n",
    "# idx_sort = [i for i in np.argsort(decomp_res[pocket]['novelty']) if decomp_res[pocket]['docking_scores'][i] > -7 and decomp_res[pocket]['novelty'][i] > 0.05]"
   ]
  },
  {
   "cell_type": "code",
   "execution_count": 104,
   "metadata": {},
   "outputs": [],
   "source": [
    "def try_pocket(pocket, save=False):\n",
    "    #   and \n",
    "    print(pocket)\n",
    "    #  decomp_res[pocket]['docking_scores'][i] > -8 and\n",
    "    idx_sort = [i for i in np.argsort(decomp_res[pocket]['novelty']) if decomp_res[pocket]['novelty'][i] > 0.05]\n",
    "    if len(idx_sort) == 0:\n",
    "        return None\n",
    "    i = 0\n",
    "    \n",
    "    print(f\"novelty: {decomp_res[pocket]['novelty'][idx_sort[i]]}\")\n",
    "    print(f\"qed: {decomp_res[pocket]['qeds'][idx_sort[i]]}\")\n",
    "    print(f\"sa: {decomp_res[pocket]['sas'][idx_sort[i]]}\")\n",
    "    print(f\"ds: {decomp_res[pocket]['docking_scores'][idx_sort[i]]}\")\n",
    "\n",
    "    decomp_diffmol = Chem.MolFromSmiles(decomp_res[pocket]['smiles'][idx_sort[i]])\n",
    "\n",
    "    img = Draw.MolToImage(decomp_diffmol, size=(200, 133), thickness=0)\n",
    "    if save:\n",
    "        img.save('figures/example_mols/decomp_molecule1.png')\n",
    "    \n",
    "    smi = get_most_similar_compound(decomp_res[pocket]['smiles'][idx_sort[i]])\n",
    "    sim_mol = Chem.MolFromSmiles(smi)\n",
    "\n",
    "    img2 = Draw.MolToImage(sim_mol, size=(200, 133), thickness=0)\n",
    "    if save:\n",
    "        img2.save('figures/example_mols/decomp_similar_molecule1.png')\n",
    "    \n",
    "    return Draw.MolsToGridImage([decomp_diffmol, sim_mol], molsPerRow=2, subImgSize=(200, 133), useSVG=True), decomp_diffmol, sim_mol"
   ]
  },
  {
   "cell_type": "code",
   "execution_count": 193,
   "metadata": {},
   "outputs": [],
   "source": [
    "from rdkit import Chem\n",
    "from rdkit.Chem import Draw\n",
    "from rdkit.Chem.Draw import rdMolDraw2D\n",
    "import cairosvg\n",
    "import io\n",
    "\n",
    "\n",
    "def molecule_to_svg(mol, file_name, width=300, height=300):\n",
    "\n",
    "    # Define full path name\n",
    "    full_path = f\"figures/example_mols/{file_name}.svg\"\n",
    "\n",
    "    # Render high resolution molecule\n",
    "    drawer = rdMolDraw2D.MolDraw2DSVG(width, height)\n",
    "    drawer.drawOptions().bondLineWidth = 2 # Set the bond line width\n",
    "    drawer.DrawMolecule(mol)\n",
    "    drawer.FinishDrawing()\n",
    "\n",
    "    # Export to high-resolutions SVG file\n",
    "    # save SVG to file\n",
    "    svg = drawer.GetDrawingText()\n",
    "    with open(full_path, \"w\") as f:\n",
    "        f.write(svg)"
   ]
  },
  {
   "cell_type": "code",
   "execution_count": 194,
   "metadata": {},
   "outputs": [],
   "source": [
    "# try_pocket('4f1m_A')"
   ]
  },
  {
   "cell_type": "code",
   "execution_count": 195,
   "metadata": {},
   "outputs": [
    {
     "name": "stdout",
     "output_type": "stream",
     "text": [
      "5w2g_A\n",
      "novelty: 0.21138211382113825\n",
      "qed: 0.34349351797913347\n",
      "sa: 0.5741149558174669\n",
      "ds: -6.0\n"
     ]
    },
    {
     "data": {
      "image/svg+xml": [
       "<svg xmlns=\"http://www.w3.org/2000/svg\" xmlns:rdkit=\"http://www.rdkit.org/xml\" xmlns:xlink=\"http://www.w3.org/1999/xlink\" version=\"1.1\" baseProfile=\"full\" xml:space=\"preserve\" width=\"400px\" height=\"133px\" viewBox=\"0 0 400 133\">\n",
       "<!-- END OF HEADER -->\n",
       "<rect style=\"opacity:1.0;fill:#FFFFFF;stroke:none\" width=\"400.0\" height=\"133.0\" x=\"0.0\" y=\"0.0\"> </rect>\n",
       "<path class=\"bond-0 atom-0 atom-1\" d=\"M 11.7,70.6 L 18.2,68.0\" style=\"fill:none;fill-rule:evenodd;stroke:#000000;stroke-width:2.0px;stroke-linecap:butt;stroke-linejoin:miter;stroke-opacity:1\"/>\n",
       "<path class=\"bond-0 atom-0 atom-1\" d=\"M 18.2,68.0 L 24.7,65.4\" style=\"fill:none;fill-rule:evenodd;stroke:#FF7F00;stroke-width:2.0px;stroke-linecap:butt;stroke-linejoin:miter;stroke-opacity:1\"/>\n",
       "<path class=\"bond-1 atom-1 atom-2\" d=\"M 29.1,64.9 L 34.3,62.8\" style=\"fill:none;fill-rule:evenodd;stroke:#FF7F00;stroke-width:2.0px;stroke-linecap:butt;stroke-linejoin:miter;stroke-opacity:1\"/>\n",
       "<path class=\"bond-1 atom-1 atom-2\" d=\"M 34.3,62.8 L 39.5,60.7\" style=\"fill:none;fill-rule:evenodd;stroke:#FF0000;stroke-width:2.0px;stroke-linecap:butt;stroke-linejoin:miter;stroke-opacity:1\"/>\n",
       "<path class=\"bond-1 atom-1 atom-2\" d=\"M 28.2,62.6 L 33.4,60.6\" style=\"fill:none;fill-rule:evenodd;stroke:#FF7F00;stroke-width:2.0px;stroke-linecap:butt;stroke-linejoin:miter;stroke-opacity:1\"/>\n",
       "<path class=\"bond-1 atom-1 atom-2\" d=\"M 33.4,60.6 L 38.6,58.5\" style=\"fill:none;fill-rule:evenodd;stroke:#FF0000;stroke-width:2.0px;stroke-linecap:butt;stroke-linejoin:miter;stroke-opacity:1\"/>\n",
       "<path class=\"bond-2 atom-1 atom-3\" d=\"M 25.6,61.7 L 23.7,57.1\" style=\"fill:none;fill-rule:evenodd;stroke:#FF7F00;stroke-width:2.0px;stroke-linecap:butt;stroke-linejoin:miter;stroke-opacity:1\"/>\n",
       "<path class=\"bond-2 atom-1 atom-3\" d=\"M 23.7,57.1 L 21.8,52.5\" style=\"fill:none;fill-rule:evenodd;stroke:#FF0000;stroke-width:2.0px;stroke-linecap:butt;stroke-linejoin:miter;stroke-opacity:1\"/>\n",
       "<path class=\"bond-3 atom-1 atom-4\" d=\"M 27.8,67.4 L 29.7,72.1\" style=\"fill:none;fill-rule:evenodd;stroke:#FF7F00;stroke-width:2.0px;stroke-linecap:butt;stroke-linejoin:miter;stroke-opacity:1\"/>\n",
       "<path class=\"bond-3 atom-1 atom-4\" d=\"M 29.7,72.1 L 31.5,76.7\" style=\"fill:none;fill-rule:evenodd;stroke:#FF0000;stroke-width:2.0px;stroke-linecap:butt;stroke-linejoin:miter;stroke-opacity:1\"/>\n",
       "<path class=\"bond-4 atom-4 atom-5\" d=\"M 35.3,80.0 L 41.0,80.8\" style=\"fill:none;fill-rule:evenodd;stroke:#FF0000;stroke-width:2.0px;stroke-linecap:butt;stroke-linejoin:miter;stroke-opacity:1\"/>\n",
       "<path class=\"bond-4 atom-4 atom-5\" d=\"M 41.0,80.8 L 46.7,81.6\" style=\"fill:none;fill-rule:evenodd;stroke:#FF7F00;stroke-width:2.0px;stroke-linecap:butt;stroke-linejoin:miter;stroke-opacity:1\"/>\n",
       "<path class=\"bond-5 atom-5 atom-6\" d=\"M 50.3,79.2 L 51.0,74.1\" style=\"fill:none;fill-rule:evenodd;stroke:#FF7F00;stroke-width:2.0px;stroke-linecap:butt;stroke-linejoin:miter;stroke-opacity:1\"/>\n",
       "<path class=\"bond-5 atom-5 atom-6\" d=\"M 51.0,74.1 L 51.8,69.0\" style=\"fill:none;fill-rule:evenodd;stroke:#FF0000;stroke-width:2.0px;stroke-linecap:butt;stroke-linejoin:miter;stroke-opacity:1\"/>\n",
       "<path class=\"bond-5 atom-5 atom-6\" d=\"M 47.9,78.9 L 48.6,73.8\" style=\"fill:none;fill-rule:evenodd;stroke:#FF7F00;stroke-width:2.0px;stroke-linecap:butt;stroke-linejoin:miter;stroke-opacity:1\"/>\n",
       "<path class=\"bond-5 atom-5 atom-6\" d=\"M 48.6,73.8 L 49.4,68.6\" style=\"fill:none;fill-rule:evenodd;stroke:#FF0000;stroke-width:2.0px;stroke-linecap:butt;stroke-linejoin:miter;stroke-opacity:1\"/>\n",
       "<path class=\"bond-6 atom-5 atom-7\" d=\"M 48.3,84.7 L 47.5,89.9\" style=\"fill:none;fill-rule:evenodd;stroke:#FF7F00;stroke-width:2.0px;stroke-linecap:butt;stroke-linejoin:miter;stroke-opacity:1\"/>\n",
       "<path class=\"bond-6 atom-5 atom-7\" d=\"M 47.5,89.9 L 46.8,95.1\" style=\"fill:none;fill-rule:evenodd;stroke:#FF0000;stroke-width:2.0px;stroke-linecap:butt;stroke-linejoin:miter;stroke-opacity:1\"/>\n",
       "<path class=\"bond-7 atom-5 atom-8\" d=\"M 50.7,82.2 L 56.4,83.0\" style=\"fill:none;fill-rule:evenodd;stroke:#FF7F00;stroke-width:2.0px;stroke-linecap:butt;stroke-linejoin:miter;stroke-opacity:1\"/>\n",
       "<path class=\"bond-7 atom-5 atom-8\" d=\"M 56.4,83.0 L 62.1,83.8\" style=\"fill:none;fill-rule:evenodd;stroke:#FF0000;stroke-width:2.0px;stroke-linecap:butt;stroke-linejoin:miter;stroke-opacity:1\"/>\n",
       "<path class=\"bond-8 atom-8 atom-9\" d=\"M 67.0,81.4 L 70.8,76.4\" style=\"fill:none;fill-rule:evenodd;stroke:#FF0000;stroke-width:2.0px;stroke-linecap:butt;stroke-linejoin:miter;stroke-opacity:1\"/>\n",
       "<path class=\"bond-8 atom-8 atom-9\" d=\"M 70.8,76.4 L 74.7,71.5\" style=\"fill:none;fill-rule:evenodd;stroke:#000000;stroke-width:2.0px;stroke-linecap:butt;stroke-linejoin:miter;stroke-opacity:1\"/>\n",
       "<path class=\"bond-9 atom-9 atom-10\" d=\"M 74.7,71.5 L 90.7,73.8\" style=\"fill:none;fill-rule:evenodd;stroke:#000000;stroke-width:2.0px;stroke-linecap:butt;stroke-linejoin:miter;stroke-opacity:1\"/>\n",
       "<path class=\"bond-10 atom-10 atom-11\" d=\"M 90.7,73.8 L 93.2,79.9\" style=\"fill:none;fill-rule:evenodd;stroke:#000000;stroke-width:2.0px;stroke-linecap:butt;stroke-linejoin:miter;stroke-opacity:1\"/>\n",
       "<path class=\"bond-10 atom-10 atom-11\" d=\"M 93.2,79.9 L 95.6,86.0\" style=\"fill:none;fill-rule:evenodd;stroke:#FF0000;stroke-width:2.0px;stroke-linecap:butt;stroke-linejoin:miter;stroke-opacity:1\"/>\n",
       "<path class=\"bond-11 atom-10 atom-12\" d=\"M 90.7,73.8 L 100.7,61.1\" style=\"fill:none;fill-rule:evenodd;stroke:#000000;stroke-width:2.0px;stroke-linecap:butt;stroke-linejoin:miter;stroke-opacity:1\"/>\n",
       "<path class=\"bond-12 atom-12 atom-13\" d=\"M 100.7,61.1 L 98.8,45.0\" style=\"fill:none;fill-rule:evenodd;stroke:#000000;stroke-width:2.0px;stroke-linecap:butt;stroke-linejoin:miter;stroke-opacity:1\"/>\n",
       "<path class=\"bond-13 atom-13 atom-14\" d=\"M 98.8,45.0 L 93.8,41.1\" style=\"fill:none;fill-rule:evenodd;stroke:#000000;stroke-width:2.0px;stroke-linecap:butt;stroke-linejoin:miter;stroke-opacity:1\"/>\n",
       "<path class=\"bond-13 atom-13 atom-14\" d=\"M 93.8,41.1 L 88.7,37.1\" style=\"fill:none;fill-rule:evenodd;stroke:#FF0000;stroke-width:2.0px;stroke-linecap:butt;stroke-linejoin:miter;stroke-opacity:1\"/>\n",
       "<path class=\"bond-14 atom-13 atom-15\" d=\"M 98.8,45.0 L 105.5,44.2\" style=\"fill:none;fill-rule:evenodd;stroke:#000000;stroke-width:2.0px;stroke-linecap:butt;stroke-linejoin:miter;stroke-opacity:1\"/>\n",
       "<path class=\"bond-14 atom-13 atom-15\" d=\"M 105.5,44.2 L 112.2,43.4\" style=\"fill:none;fill-rule:evenodd;stroke:#FF0000;stroke-width:2.0px;stroke-linecap:butt;stroke-linejoin:miter;stroke-opacity:1\"/>\n",
       "<path class=\"bond-15 atom-15 atom-16\" d=\"M 115.2,46.0 L 116.0,52.6\" style=\"fill:none;fill-rule:evenodd;stroke:#FF0000;stroke-width:2.0px;stroke-linecap:butt;stroke-linejoin:miter;stroke-opacity:1\"/>\n",
       "<path class=\"bond-15 atom-15 atom-16\" d=\"M 116.0,52.6 L 116.8,59.2\" style=\"fill:none;fill-rule:evenodd;stroke:#000000;stroke-width:2.0px;stroke-linecap:butt;stroke-linejoin:miter;stroke-opacity:1\"/>\n",
       "<path class=\"bond-16 atom-16 atom-17\" d=\"M 116.8,59.2 L 122.0,63.3\" style=\"fill:none;fill-rule:evenodd;stroke:#000000;stroke-width:2.0px;stroke-linecap:butt;stroke-linejoin:miter;stroke-opacity:1\"/>\n",
       "<path class=\"bond-16 atom-16 atom-17\" d=\"M 122.0,63.3 L 127.2,67.4\" style=\"fill:none;fill-rule:evenodd;stroke:#0000FF;stroke-width:2.0px;stroke-linecap:butt;stroke-linejoin:miter;stroke-opacity:1\"/>\n",
       "<path class=\"bond-17 atom-17 atom-18\" d=\"M 129.4,72.0 L 129.1,78.7\" style=\"fill:none;fill-rule:evenodd;stroke:#0000FF;stroke-width:2.0px;stroke-linecap:butt;stroke-linejoin:miter;stroke-opacity:1\"/>\n",
       "<path class=\"bond-17 atom-17 atom-18\" d=\"M 129.1,78.7 L 128.9,85.3\" style=\"fill:none;fill-rule:evenodd;stroke:#000000;stroke-width:2.0px;stroke-linecap:butt;stroke-linejoin:miter;stroke-opacity:1\"/>\n",
       "<path class=\"bond-18 atom-18 atom-19\" d=\"M 128.9,85.3 L 135.3,87.7\" style=\"fill:none;fill-rule:evenodd;stroke:#000000;stroke-width:2.0px;stroke-linecap:butt;stroke-linejoin:miter;stroke-opacity:1\"/>\n",
       "<path class=\"bond-18 atom-18 atom-19\" d=\"M 135.3,87.7 L 141.8,90.1\" style=\"fill:none;fill-rule:evenodd;stroke:#0000FF;stroke-width:2.0px;stroke-linecap:butt;stroke-linejoin:miter;stroke-opacity:1\"/>\n",
       "<path class=\"bond-18 atom-18 atom-19\" d=\"M 131.4,83.7 L 137.0,85.8\" style=\"fill:none;fill-rule:evenodd;stroke:#000000;stroke-width:2.0px;stroke-linecap:butt;stroke-linejoin:miter;stroke-opacity:1\"/>\n",
       "<path class=\"bond-18 atom-18 atom-19\" d=\"M 137.0,85.8 L 142.6,87.8\" style=\"fill:none;fill-rule:evenodd;stroke:#0000FF;stroke-width:2.0px;stroke-linecap:butt;stroke-linejoin:miter;stroke-opacity:1\"/>\n",
       "<path class=\"bond-19 atom-19 atom-20\" d=\"M 146.3,88.1 L 150.2,83.2\" style=\"fill:none;fill-rule:evenodd;stroke:#0000FF;stroke-width:2.0px;stroke-linecap:butt;stroke-linejoin:miter;stroke-opacity:1\"/>\n",
       "<path class=\"bond-19 atom-19 atom-20\" d=\"M 150.2,83.2 L 154.1,78.2\" style=\"fill:none;fill-rule:evenodd;stroke:#000000;stroke-width:2.0px;stroke-linecap:butt;stroke-linejoin:miter;stroke-opacity:1\"/>\n",
       "<path class=\"bond-20 atom-20 atom-21\" d=\"M 154.1,78.2 L 170.2,77.2\" style=\"fill:none;fill-rule:evenodd;stroke:#000000;stroke-width:2.0px;stroke-linecap:butt;stroke-linejoin:miter;stroke-opacity:1\"/>\n",
       "<path class=\"bond-20 atom-20 atom-21\" d=\"M 155.3,75.7 L 168.7,74.8\" style=\"fill:none;fill-rule:evenodd;stroke:#000000;stroke-width:2.0px;stroke-linecap:butt;stroke-linejoin:miter;stroke-opacity:1\"/>\n",
       "<path class=\"bond-21 atom-21 atom-22\" d=\"M 170.2,77.2 L 173.8,82.5\" style=\"fill:none;fill-rule:evenodd;stroke:#000000;stroke-width:2.0px;stroke-linecap:butt;stroke-linejoin:miter;stroke-opacity:1\"/>\n",
       "<path class=\"bond-21 atom-21 atom-22\" d=\"M 173.8,82.5 L 177.3,87.8\" style=\"fill:none;fill-rule:evenodd;stroke:#0000FF;stroke-width:2.0px;stroke-linecap:butt;stroke-linejoin:miter;stroke-opacity:1\"/>\n",
       "<path class=\"bond-22 atom-21 atom-23\" d=\"M 170.2,77.2 L 173.1,71.3\" style=\"fill:none;fill-rule:evenodd;stroke:#000000;stroke-width:2.0px;stroke-linecap:butt;stroke-linejoin:miter;stroke-opacity:1\"/>\n",
       "<path class=\"bond-22 atom-21 atom-23\" d=\"M 173.1,71.3 L 176.0,65.5\" style=\"fill:none;fill-rule:evenodd;stroke:#0000FF;stroke-width:2.0px;stroke-linecap:butt;stroke-linejoin:miter;stroke-opacity:1\"/>\n",
       "<path class=\"bond-23 atom-23 atom-24\" d=\"M 175.5,59.8 L 171.9,54.5\" style=\"fill:none;fill-rule:evenodd;stroke:#0000FF;stroke-width:2.0px;stroke-linecap:butt;stroke-linejoin:miter;stroke-opacity:1\"/>\n",
       "<path class=\"bond-23 atom-23 atom-24\" d=\"M 171.9,54.5 L 168.4,49.2\" style=\"fill:none;fill-rule:evenodd;stroke:#000000;stroke-width:2.0px;stroke-linecap:butt;stroke-linejoin:miter;stroke-opacity:1\"/>\n",
       "<path class=\"bond-23 atom-23 atom-24\" d=\"M 173.5,61.2 L 170.3,56.4\" style=\"fill:none;fill-rule:evenodd;stroke:#0000FF;stroke-width:2.0px;stroke-linecap:butt;stroke-linejoin:miter;stroke-opacity:1\"/>\n",
       "<path class=\"bond-23 atom-23 atom-24\" d=\"M 170.3,56.4 L 167.1,51.7\" style=\"fill:none;fill-rule:evenodd;stroke:#000000;stroke-width:2.0px;stroke-linecap:butt;stroke-linejoin:miter;stroke-opacity:1\"/>\n",
       "<path class=\"bond-24 atom-24 atom-25\" d=\"M 168.4,49.2 L 161.4,49.7\" style=\"fill:none;fill-rule:evenodd;stroke:#000000;stroke-width:2.0px;stroke-linecap:butt;stroke-linejoin:miter;stroke-opacity:1\"/>\n",
       "<path class=\"bond-24 atom-24 atom-25\" d=\"M 161.4,49.7 L 154.5,50.1\" style=\"fill:none;fill-rule:evenodd;stroke:#0000FF;stroke-width:2.0px;stroke-linecap:butt;stroke-linejoin:miter;stroke-opacity:1\"/>\n",
       "<path class=\"bond-25 atom-25 atom-26\" d=\"M 150.8,53.1 L 148.0,58.9\" style=\"fill:none;fill-rule:evenodd;stroke:#0000FF;stroke-width:2.0px;stroke-linecap:butt;stroke-linejoin:miter;stroke-opacity:1\"/>\n",
       "<path class=\"bond-25 atom-25 atom-26\" d=\"M 148.0,58.9 L 145.1,64.8\" style=\"fill:none;fill-rule:evenodd;stroke:#000000;stroke-width:2.0px;stroke-linecap:butt;stroke-linejoin:miter;stroke-opacity:1\"/>\n",
       "<path class=\"bond-25 atom-25 atom-26\" d=\"M 153.0,54.2 L 150.4,59.4\" style=\"fill:none;fill-rule:evenodd;stroke:#0000FF;stroke-width:2.0px;stroke-linecap:butt;stroke-linejoin:miter;stroke-opacity:1\"/>\n",
       "<path class=\"bond-25 atom-25 atom-26\" d=\"M 150.4,59.4 L 147.9,64.6\" style=\"fill:none;fill-rule:evenodd;stroke:#000000;stroke-width:2.0px;stroke-linecap:butt;stroke-linejoin:miter;stroke-opacity:1\"/>\n",
       "<path class=\"bond-26 atom-16 atom-12\" d=\"M 116.8,59.2 L 100.7,61.1\" style=\"fill:none;fill-rule:evenodd;stroke:#000000;stroke-width:2.0px;stroke-linecap:butt;stroke-linejoin:miter;stroke-opacity:1\"/>\n",
       "<path class=\"bond-27 atom-26 atom-17\" d=\"M 145.1,64.8 L 138.4,66.7\" style=\"fill:none;fill-rule:evenodd;stroke:#000000;stroke-width:2.0px;stroke-linecap:butt;stroke-linejoin:miter;stroke-opacity:1\"/>\n",
       "<path class=\"bond-27 atom-26 atom-17\" d=\"M 138.4,66.7 L 131.8,68.5\" style=\"fill:none;fill-rule:evenodd;stroke:#0000FF;stroke-width:2.0px;stroke-linecap:butt;stroke-linejoin:miter;stroke-opacity:1\"/>\n",
       "<path class=\"bond-28 atom-26 atom-20\" d=\"M 145.1,64.8 L 154.1,78.2\" style=\"fill:none;fill-rule:evenodd;stroke:#000000;stroke-width:2.0px;stroke-linecap:butt;stroke-linejoin:miter;stroke-opacity:1\"/>\n",
       "<path d=\"M 74.5,71.7 L 74.7,71.5 L 75.5,71.6\" style=\"fill:none;stroke:#000000;stroke-width:2.0px;stroke-linecap:butt;stroke-linejoin:miter;stroke-opacity:1;\"/>\n",
       "<path d=\"M 128.9,85.0 L 128.9,85.3 L 129.2,85.5\" style=\"fill:none;stroke:#000000;stroke-width:2.0px;stroke-linecap:butt;stroke-linejoin:miter;stroke-opacity:1;\"/>\n",
       "<path d=\"M 168.5,49.5 L 168.4,49.2 L 168.0,49.2\" style=\"fill:none;stroke:#000000;stroke-width:2.0px;stroke-linecap:butt;stroke-linejoin:miter;stroke-opacity:1;\"/>\n",
       "<path class=\"atom-1\" d=\"M 26.6 62.3 Q 27.4 62.3, 27.7 62.6 Q 28.1 63.0, 28.1 63.6 Q 28.1 64.3, 27.7 64.6 Q 27.3 65.0, 26.6 65.0 L 25.8 65.0 L 25.8 66.9 L 25.2 66.9 L 25.2 62.3 L 26.6 62.3 M 26.6 64.5 Q 27.0 64.5, 27.3 64.2 Q 27.5 64.0, 27.5 63.6 Q 27.5 63.2, 27.3 63.0 Q 27.0 62.8, 26.6 62.8 L 25.8 62.8 L 25.8 64.5 L 26.6 64.5 \" fill=\"#FF7F00\"/>\n",
       "<path class=\"atom-2\" d=\"M 39.6 58.6 Q 39.6 57.5, 40.1 56.9 Q 40.7 56.2, 41.7 56.2 Q 42.7 56.2, 43.3 56.9 Q 43.8 57.5, 43.8 58.6 Q 43.8 59.7, 43.3 60.3 Q 42.7 60.9, 41.7 60.9 Q 40.7 60.9, 40.1 60.3 Q 39.6 59.7, 39.6 58.6 M 41.7 60.4 Q 42.4 60.4, 42.8 60.0 Q 43.2 59.5, 43.2 58.6 Q 43.2 57.7, 42.8 57.2 Q 42.4 56.8, 41.7 56.8 Q 41.0 56.8, 40.6 57.2 Q 40.2 57.7, 40.2 58.6 Q 40.2 59.5, 40.6 60.0 Q 41.0 60.4, 41.7 60.4 \" fill=\"#FF0000\"/>\n",
       "<path class=\"atom-3\" d=\"M 14.0 47.3 L 14.7 47.3 L 14.7 49.2 L 17.0 49.2 L 17.0 47.3 L 17.6 47.3 L 17.6 51.9 L 17.0 51.9 L 17.0 49.7 L 14.7 49.7 L 14.7 51.9 L 14.0 51.9 L 14.0 47.3 \" fill=\"#FF0000\"/>\n",
       "<path class=\"atom-3\" d=\"M 18.6 49.6 Q 18.6 48.5, 19.1 47.8 Q 19.7 47.2, 20.7 47.2 Q 21.7 47.2, 22.2 47.8 Q 22.8 48.5, 22.8 49.6 Q 22.8 50.7, 22.2 51.3 Q 21.7 51.9, 20.7 51.9 Q 19.7 51.9, 19.1 51.3 Q 18.6 50.7, 18.6 49.6 M 20.7 51.4 Q 21.4 51.4, 21.7 50.9 Q 22.1 50.5, 22.1 49.6 Q 22.1 48.7, 21.7 48.2 Q 21.4 47.7, 20.7 47.7 Q 20.0 47.7, 19.6 48.2 Q 19.2 48.7, 19.2 49.6 Q 19.2 50.5, 19.6 50.9 Q 20.0 51.4, 20.7 51.4 \" fill=\"#FF0000\"/>\n",
       "<path class=\"atom-4\" d=\"M 30.6 79.6 Q 30.6 78.5, 31.1 77.9 Q 31.7 77.3, 32.7 77.3 Q 33.7 77.3, 34.2 77.9 Q 34.8 78.5, 34.8 79.6 Q 34.8 80.7, 34.2 81.3 Q 33.7 82.0, 32.7 82.0 Q 31.7 82.0, 31.1 81.3 Q 30.6 80.7, 30.6 79.6 M 32.7 81.5 Q 33.4 81.5, 33.8 81.0 Q 34.1 80.5, 34.1 79.6 Q 34.1 78.7, 33.8 78.2 Q 33.4 77.8, 32.7 77.8 Q 32.0 77.8, 31.6 78.2 Q 31.2 78.7, 31.2 79.6 Q 31.2 80.5, 31.6 81.0 Q 32.0 81.5, 32.7 81.5 \" fill=\"#FF0000\"/>\n",
       "<path class=\"atom-5\" d=\"M 48.6 79.6 Q 49.4 79.6, 49.8 80.0 Q 50.2 80.3, 50.2 81.0 Q 50.2 81.6, 49.8 81.9 Q 49.4 82.3, 48.6 82.3 L 47.9 82.3 L 47.9 84.2 L 47.2 84.2 L 47.2 79.6 L 48.6 79.6 M 48.6 81.8 Q 49.0 81.8, 49.3 81.6 Q 49.5 81.4, 49.5 81.0 Q 49.5 80.5, 49.3 80.3 Q 49.0 80.1, 48.6 80.1 L 47.9 80.1 L 47.9 81.8 L 48.6 81.8 \" fill=\"#FF7F00\"/>\n",
       "<path class=\"atom-6\" d=\"M 48.9 65.9 Q 48.9 64.8, 49.4 64.2 Q 50.0 63.6, 51.0 63.6 Q 52.0 63.6, 52.6 64.2 Q 53.1 64.8, 53.1 65.9 Q 53.1 67.0, 52.6 67.6 Q 52.0 68.3, 51.0 68.3 Q 50.0 68.3, 49.4 67.6 Q 48.9 67.0, 48.9 65.9 M 51.0 67.8 Q 51.7 67.8, 52.1 67.3 Q 52.5 66.8, 52.5 65.9 Q 52.5 65.0, 52.1 64.5 Q 51.7 64.1, 51.0 64.1 Q 50.3 64.1, 49.9 64.5 Q 49.6 65.0, 49.6 65.9 Q 49.6 66.8, 49.9 67.3 Q 50.3 67.8, 51.0 67.8 \" fill=\"#FF0000\"/>\n",
       "<path class=\"atom-7\" d=\"M 44.3 97.9 Q 44.3 96.8, 44.8 96.2 Q 45.4 95.6, 46.4 95.6 Q 47.4 95.6, 47.9 96.2 Q 48.5 96.8, 48.5 97.9 Q 48.5 99.0, 47.9 99.7 Q 47.4 100.3, 46.4 100.3 Q 45.4 100.3, 44.8 99.7 Q 44.3 99.0, 44.3 97.9 M 46.4 99.8 Q 47.1 99.8, 47.5 99.3 Q 47.8 98.8, 47.8 97.9 Q 47.8 97.0, 47.5 96.6 Q 47.1 96.1, 46.4 96.1 Q 45.7 96.1, 45.3 96.6 Q 44.9 97.0, 44.9 97.9 Q 44.9 98.8, 45.3 99.3 Q 45.7 99.8, 46.4 99.8 \" fill=\"#FF0000\"/>\n",
       "<path class=\"atom-7\" d=\"M 49.2 95.6 L 49.8 95.6 L 49.8 97.6 L 52.2 97.6 L 52.2 95.6 L 52.8 95.6 L 52.8 100.2 L 52.2 100.2 L 52.2 98.1 L 49.8 98.1 L 49.8 100.2 L 49.2 100.2 L 49.2 95.6 \" fill=\"#FF0000\"/>\n",
       "<path class=\"atom-8\" d=\"M 62.6 84.2 Q 62.6 83.1, 63.2 82.5 Q 63.7 81.9, 64.7 81.9 Q 65.7 81.9, 66.3 82.5 Q 66.8 83.1, 66.8 84.2 Q 66.8 85.3, 66.3 86.0 Q 65.7 86.6, 64.7 86.6 Q 63.7 86.6, 63.2 86.0 Q 62.6 85.3, 62.6 84.2 M 64.7 86.1 Q 65.4 86.1, 65.8 85.6 Q 66.2 85.1, 66.2 84.2 Q 66.2 83.3, 65.8 82.9 Q 65.4 82.4, 64.7 82.4 Q 64.0 82.4, 63.6 82.9 Q 63.3 83.3, 63.3 84.2 Q 63.3 85.1, 63.6 85.6 Q 64.0 86.1, 64.7 86.1 \" fill=\"#FF0000\"/>\n",
       "<path class=\"atom-11\" d=\"M 94.6 88.8 Q 94.6 87.7, 95.2 87.1 Q 95.7 86.5, 96.7 86.5 Q 97.8 86.5, 98.3 87.1 Q 98.8 87.7, 98.8 88.8 Q 98.8 90.0, 98.3 90.6 Q 97.7 91.2, 96.7 91.2 Q 95.7 91.2, 95.2 90.6 Q 94.6 90.0, 94.6 88.8 M 96.7 90.7 Q 97.4 90.7, 97.8 90.2 Q 98.2 89.8, 98.2 88.8 Q 98.2 87.9, 97.8 87.5 Q 97.4 87.0, 96.7 87.0 Q 96.0 87.0, 95.7 87.5 Q 95.3 87.9, 95.3 88.8 Q 95.3 89.8, 95.7 90.2 Q 96.0 90.7, 96.7 90.7 \" fill=\"#FF0000\"/>\n",
       "<path class=\"atom-11\" d=\"M 99.6 86.6 L 100.2 86.6 L 100.2 88.5 L 102.5 88.5 L 102.5 86.6 L 103.1 86.6 L 103.1 91.1 L 102.5 91.1 L 102.5 89.0 L 100.2 89.0 L 100.2 91.1 L 99.6 91.1 L 99.6 86.6 \" fill=\"#FF0000\"/>\n",
       "<path class=\"atom-14\" d=\"M 79.5 32.8 L 80.1 32.8 L 80.1 34.7 L 82.4 34.7 L 82.4 32.8 L 83.1 32.8 L 83.1 37.3 L 82.4 37.3 L 82.4 35.2 L 80.1 35.2 L 80.1 37.3 L 79.5 37.3 L 79.5 32.8 \" fill=\"#FF0000\"/>\n",
       "<path class=\"atom-14\" d=\"M 84.0 35.0 Q 84.0 33.9, 84.6 33.3 Q 85.1 32.7, 86.1 32.7 Q 87.1 32.7, 87.7 33.3 Q 88.2 33.9, 88.2 35.0 Q 88.2 36.1, 87.7 36.8 Q 87.1 37.4, 86.1 37.4 Q 85.1 37.4, 84.6 36.8 Q 84.0 36.2, 84.0 35.0 M 86.1 36.9 Q 86.8 36.9, 87.2 36.4 Q 87.6 36.0, 87.6 35.0 Q 87.6 34.1, 87.2 33.7 Q 86.8 33.2, 86.1 33.2 Q 85.4 33.2, 85.0 33.7 Q 84.7 34.1, 84.7 35.0 Q 84.7 36.0, 85.0 36.4 Q 85.4 36.9, 86.1 36.9 \" fill=\"#FF0000\"/>\n",
       "<path class=\"atom-15\" d=\"M 112.8 43.1 Q 112.8 42.0, 113.3 41.4 Q 113.9 40.8, 114.9 40.8 Q 115.9 40.8, 116.4 41.4 Q 117.0 42.0, 117.0 43.1 Q 117.0 44.2, 116.4 44.9 Q 115.9 45.5, 114.9 45.5 Q 113.9 45.5, 113.3 44.9 Q 112.8 44.2, 112.8 43.1 M 114.9 45.0 Q 115.6 45.0, 116.0 44.5 Q 116.3 44.0, 116.3 43.1 Q 116.3 42.2, 116.0 41.8 Q 115.6 41.3, 114.9 41.3 Q 114.2 41.3, 113.8 41.8 Q 113.4 42.2, 113.4 43.1 Q 113.4 44.1, 113.8 44.5 Q 114.2 45.0, 114.9 45.0 \" fill=\"#FF0000\"/>\n",
       "<path class=\"atom-17\" d=\"M 128.5 66.9 L 130.0 69.3 Q 130.1 69.6, 130.4 70.0 Q 130.6 70.4, 130.6 70.5 L 130.6 66.9 L 131.2 66.9 L 131.2 71.5 L 130.6 71.5 L 129.0 68.8 Q 128.8 68.5, 128.6 68.2 Q 128.4 67.8, 128.4 67.7 L 128.4 71.5 L 127.8 71.5 L 127.8 66.9 L 128.5 66.9 \" fill=\"#0000FF\"/>\n",
       "<path class=\"atom-19\" d=\"M 143.1 88.6 L 144.6 91.1 Q 144.7 91.3, 144.9 91.7 Q 145.2 92.2, 145.2 92.2 L 145.2 88.6 L 145.8 88.6 L 145.8 93.2 L 145.2 93.2 L 143.6 90.6 Q 143.4 90.3, 143.2 89.9 Q 143.0 89.6, 142.9 89.4 L 142.9 93.2 L 142.3 93.2 L 142.3 88.6 L 143.1 88.6 \" fill=\"#0000FF\"/>\n",
       "<path class=\"atom-22\" d=\"M 178.2 88.3 L 179.7 90.7 Q 179.9 91.0, 180.1 91.4 Q 180.3 91.8, 180.3 91.9 L 180.3 88.3 L 181.0 88.3 L 181.0 92.9 L 180.3 92.9 L 178.7 90.2 Q 178.5 89.9, 178.3 89.6 Q 178.1 89.2, 178.1 89.1 L 178.1 92.9 L 177.5 92.9 L 177.5 88.3 L 178.2 88.3 \" fill=\"#0000FF\"/>\n",
       "<path class=\"atom-22\" d=\"M 181.8 88.3 L 182.5 88.3 L 182.5 90.3 L 184.8 90.3 L 184.8 88.3 L 185.4 88.3 L 185.4 92.9 L 184.8 92.9 L 184.8 90.8 L 182.5 90.8 L 182.5 92.9 L 181.8 92.9 L 181.8 88.3 \" fill=\"#0000FF\"/>\n",
       "<path class=\"atom-22\" d=\"M 186.3 92.7 Q 186.4 92.4, 186.7 92.3 Q 187.0 92.1, 187.3 92.1 Q 187.8 92.1, 188.0 92.4 Q 188.3 92.6, 188.3 93.1 Q 188.3 93.5, 188.0 93.9 Q 187.6 94.3, 186.9 94.8 L 188.3 94.8 L 188.3 95.2 L 186.3 95.2 L 186.3 94.9 Q 186.9 94.5, 187.2 94.2 Q 187.5 93.9, 187.7 93.6 Q 187.9 93.4, 187.9 93.1 Q 187.9 92.8, 187.7 92.6 Q 187.6 92.5, 187.3 92.5 Q 187.1 92.5, 186.9 92.6 Q 186.8 92.7, 186.6 92.9 L 186.3 92.7 \" fill=\"#0000FF\"/>\n",
       "<path class=\"atom-23\" d=\"M 176.4 60.3 L 177.9 62.8 Q 178.0 63.0, 178.2 63.4 Q 178.5 63.9, 178.5 63.9 L 178.5 60.3 L 179.1 60.3 L 179.1 64.9 L 178.5 64.9 L 176.9 62.3 Q 176.7 62.0, 176.5 61.6 Q 176.3 61.3, 176.2 61.1 L 176.2 64.9 L 175.6 64.9 L 175.6 60.3 L 176.4 60.3 \" fill=\"#0000FF\"/>\n",
       "<path class=\"atom-25\" d=\"M 151.2 48.0 L 152.7 50.4 Q 152.9 50.6, 153.1 51.1 Q 153.3 51.5, 153.4 51.5 L 153.4 48.0 L 154.0 48.0 L 154.0 52.6 L 153.3 52.6 L 151.7 49.9 Q 151.5 49.6, 151.3 49.2 Q 151.1 48.9, 151.1 48.8 L 151.1 52.6 L 150.5 52.6 L 150.5 48.0 L 151.2 48.0 \" fill=\"#0000FF\"/>\n",
       "<path class=\"bond-0 atom-0 atom-1\" d=\"M 209.1,73.6 L 215.7,75.9\" style=\"fill:none;fill-rule:evenodd;stroke:#000000;stroke-width:2.0px;stroke-linecap:butt;stroke-linejoin:miter;stroke-opacity:1\"/>\n",
       "<path class=\"bond-0 atom-0 atom-1\" d=\"M 215.7,75.9 L 222.4,78.2\" style=\"fill:none;fill-rule:evenodd;stroke:#FF7F00;stroke-width:2.0px;stroke-linecap:butt;stroke-linejoin:miter;stroke-opacity:1\"/>\n",
       "<path class=\"bond-1 atom-1 atom-2\" d=\"M 226.0,80.8 L 231.3,82.6\" style=\"fill:none;fill-rule:evenodd;stroke:#FF7F00;stroke-width:2.0px;stroke-linecap:butt;stroke-linejoin:miter;stroke-opacity:1\"/>\n",
       "<path class=\"bond-1 atom-1 atom-2\" d=\"M 231.3,82.6 L 236.6,84.5\" style=\"fill:none;fill-rule:evenodd;stroke:#FF0000;stroke-width:2.0px;stroke-linecap:butt;stroke-linejoin:miter;stroke-opacity:1\"/>\n",
       "<path class=\"bond-1 atom-1 atom-2\" d=\"M 226.8,78.5 L 232.1,80.4\" style=\"fill:none;fill-rule:evenodd;stroke:#FF7F00;stroke-width:2.0px;stroke-linecap:butt;stroke-linejoin:miter;stroke-opacity:1\"/>\n",
       "<path class=\"bond-1 atom-1 atom-2\" d=\"M 232.1,80.4 L 237.4,82.2\" style=\"fill:none;fill-rule:evenodd;stroke:#FF0000;stroke-width:2.0px;stroke-linecap:butt;stroke-linejoin:miter;stroke-opacity:1\"/>\n",
       "<path class=\"bond-2 atom-1 atom-3\" d=\"M 223.4,81.8 L 221.7,86.6\" style=\"fill:none;fill-rule:evenodd;stroke:#FF7F00;stroke-width:2.0px;stroke-linecap:butt;stroke-linejoin:miter;stroke-opacity:1\"/>\n",
       "<path class=\"bond-2 atom-1 atom-3\" d=\"M 221.7,86.6 L 220.0,91.4\" style=\"fill:none;fill-rule:evenodd;stroke:#FF0000;stroke-width:2.0px;stroke-linecap:butt;stroke-linejoin:miter;stroke-opacity:1\"/>\n",
       "<path class=\"bond-3 atom-1 atom-4\" d=\"M 225.4,76.1 L 227.0,71.4\" style=\"fill:none;fill-rule:evenodd;stroke:#FF7F00;stroke-width:2.0px;stroke-linecap:butt;stroke-linejoin:miter;stroke-opacity:1\"/>\n",
       "<path class=\"bond-3 atom-1 atom-4\" d=\"M 227.0,71.4 L 228.7,66.6\" style=\"fill:none;fill-rule:evenodd;stroke:#FF0000;stroke-width:2.0px;stroke-linecap:butt;stroke-linejoin:miter;stroke-opacity:1\"/>\n",
       "<path class=\"bond-4 atom-4 atom-5\" d=\"M 232.3,63.2 L 238.0,62.1\" style=\"fill:none;fill-rule:evenodd;stroke:#FF0000;stroke-width:2.0px;stroke-linecap:butt;stroke-linejoin:miter;stroke-opacity:1\"/>\n",
       "<path class=\"bond-4 atom-4 atom-5\" d=\"M 238.0,62.1 L 243.6,61.0\" style=\"fill:none;fill-rule:evenodd;stroke:#FF7F00;stroke-width:2.0px;stroke-linecap:butt;stroke-linejoin:miter;stroke-opacity:1\"/>\n",
       "<path class=\"bond-5 atom-5 atom-6\" d=\"M 244.9,63.7 L 245.9,68.8\" style=\"fill:none;fill-rule:evenodd;stroke:#FF7F00;stroke-width:2.0px;stroke-linecap:butt;stroke-linejoin:miter;stroke-opacity:1\"/>\n",
       "<path class=\"bond-5 atom-5 atom-6\" d=\"M 245.9,68.8 L 246.9,73.9\" style=\"fill:none;fill-rule:evenodd;stroke:#FF0000;stroke-width:2.0px;stroke-linecap:butt;stroke-linejoin:miter;stroke-opacity:1\"/>\n",
       "<path class=\"bond-5 atom-5 atom-6\" d=\"M 247.3,63.2 L 248.3,68.4\" style=\"fill:none;fill-rule:evenodd;stroke:#FF7F00;stroke-width:2.0px;stroke-linecap:butt;stroke-linejoin:miter;stroke-opacity:1\"/>\n",
       "<path class=\"bond-5 atom-5 atom-6\" d=\"M 248.3,68.4 L 249.3,73.5\" style=\"fill:none;fill-rule:evenodd;stroke:#FF0000;stroke-width:2.0px;stroke-linecap:butt;stroke-linejoin:miter;stroke-opacity:1\"/>\n",
       "<path class=\"bond-6 atom-5 atom-7\" d=\"M 245.1,57.8 L 244.1,52.8\" style=\"fill:none;fill-rule:evenodd;stroke:#FF7F00;stroke-width:2.0px;stroke-linecap:butt;stroke-linejoin:miter;stroke-opacity:1\"/>\n",
       "<path class=\"bond-6 atom-5 atom-7\" d=\"M 244.1,52.8 L 243.1,47.7\" style=\"fill:none;fill-rule:evenodd;stroke:#FF0000;stroke-width:2.0px;stroke-linecap:butt;stroke-linejoin:miter;stroke-opacity:1\"/>\n",
       "<path class=\"bond-7 atom-5 atom-8\" d=\"M 247.6,60.3 L 253.2,59.2\" style=\"fill:none;fill-rule:evenodd;stroke:#FF7F00;stroke-width:2.0px;stroke-linecap:butt;stroke-linejoin:miter;stroke-opacity:1\"/>\n",
       "<path class=\"bond-7 atom-5 atom-8\" d=\"M 253.2,59.2 L 258.8,58.1\" style=\"fill:none;fill-rule:evenodd;stroke:#FF0000;stroke-width:2.0px;stroke-linecap:butt;stroke-linejoin:miter;stroke-opacity:1\"/>\n",
       "<path class=\"bond-8 atom-8 atom-9\" d=\"M 264.0,60.5 L 268.0,65.2\" style=\"fill:none;fill-rule:evenodd;stroke:#FF0000;stroke-width:2.0px;stroke-linecap:butt;stroke-linejoin:miter;stroke-opacity:1\"/>\n",
       "<path class=\"bond-8 atom-8 atom-9\" d=\"M 268.0,65.2 L 272.0,69.9\" style=\"fill:none;fill-rule:evenodd;stroke:#000000;stroke-width:2.0px;stroke-linecap:butt;stroke-linejoin:miter;stroke-opacity:1\"/>\n",
       "<path class=\"bond-9 atom-9 atom-10\" d=\"M 272.0,69.9 L 287.9,66.9\" style=\"fill:none;fill-rule:evenodd;stroke:#000000;stroke-width:2.0px;stroke-linecap:butt;stroke-linejoin:miter;stroke-opacity:1\"/>\n",
       "<path class=\"bond-10 atom-10 atom-11\" d=\"M 287.9,66.9 L 292.5,71.2\" style=\"fill:none;fill-rule:evenodd;stroke:#000000;stroke-width:2.0px;stroke-linecap:butt;stroke-linejoin:miter;stroke-opacity:1\"/>\n",
       "<path class=\"bond-10 atom-10 atom-11\" d=\"M 292.5,71.2 L 297.1,75.5\" style=\"fill:none;fill-rule:evenodd;stroke:#FF0000;stroke-width:2.0px;stroke-linecap:butt;stroke-linejoin:miter;stroke-opacity:1\"/>\n",
       "<path class=\"bond-11 atom-11 atom-12\" d=\"M 302.4,76.5 L 308.1,73.3\" style=\"fill:none;fill-rule:evenodd;stroke:#FF0000;stroke-width:2.0px;stroke-linecap:butt;stroke-linejoin:miter;stroke-opacity:1\"/>\n",
       "<path class=\"bond-11 atom-11 atom-12\" d=\"M 308.1,73.3 L 313.9,70.2\" style=\"fill:none;fill-rule:evenodd;stroke:#000000;stroke-width:2.0px;stroke-linecap:butt;stroke-linejoin:miter;stroke-opacity:1\"/>\n",
       "<path class=\"bond-12 atom-12 atom-13\" d=\"M 313.9,70.2 L 320.1,73.1\" style=\"fill:none;fill-rule:evenodd;stroke:#000000;stroke-width:2.0px;stroke-linecap:butt;stroke-linejoin:miter;stroke-opacity:1\"/>\n",
       "<path class=\"bond-12 atom-12 atom-13\" d=\"M 320.1,73.1 L 326.3,76.0\" style=\"fill:none;fill-rule:evenodd;stroke:#0000FF;stroke-width:2.0px;stroke-linecap:butt;stroke-linejoin:miter;stroke-opacity:1\"/>\n",
       "<path class=\"bond-13 atom-13 atom-14\" d=\"M 329.1,79.9 L 330.3,86.4\" style=\"fill:none;fill-rule:evenodd;stroke:#0000FF;stroke-width:2.0px;stroke-linecap:butt;stroke-linejoin:miter;stroke-opacity:1\"/>\n",
       "<path class=\"bond-13 atom-13 atom-14\" d=\"M 330.3,86.4 L 331.6,92.9\" style=\"fill:none;fill-rule:evenodd;stroke:#000000;stroke-width:2.0px;stroke-linecap:butt;stroke-linejoin:miter;stroke-opacity:1\"/>\n",
       "<path class=\"bond-14 atom-14 atom-15\" d=\"M 331.6,92.9 L 338.5,93.8\" style=\"fill:none;fill-rule:evenodd;stroke:#000000;stroke-width:2.0px;stroke-linecap:butt;stroke-linejoin:miter;stroke-opacity:1\"/>\n",
       "<path class=\"bond-14 atom-14 atom-15\" d=\"M 338.5,93.8 L 345.3,94.7\" style=\"fill:none;fill-rule:evenodd;stroke:#0000FF;stroke-width:2.0px;stroke-linecap:butt;stroke-linejoin:miter;stroke-opacity:1\"/>\n",
       "<path class=\"bond-14 atom-14 atom-15\" d=\"M 333.6,90.8 L 339.6,91.5\" style=\"fill:none;fill-rule:evenodd;stroke:#000000;stroke-width:2.0px;stroke-linecap:butt;stroke-linejoin:miter;stroke-opacity:1\"/>\n",
       "<path class=\"bond-14 atom-14 atom-15\" d=\"M 339.6,91.5 L 345.6,92.3\" style=\"fill:none;fill-rule:evenodd;stroke:#0000FF;stroke-width:2.0px;stroke-linecap:butt;stroke-linejoin:miter;stroke-opacity:1\"/>\n",
       "<path class=\"bond-15 atom-15 atom-16\" d=\"M 348.9,92.2 L 351.7,86.3\" style=\"fill:none;fill-rule:evenodd;stroke:#0000FF;stroke-width:2.0px;stroke-linecap:butt;stroke-linejoin:miter;stroke-opacity:1\"/>\n",
       "<path class=\"bond-15 atom-15 atom-16\" d=\"M 351.7,86.3 L 354.5,80.3\" style=\"fill:none;fill-rule:evenodd;stroke:#000000;stroke-width:2.0px;stroke-linecap:butt;stroke-linejoin:miter;stroke-opacity:1\"/>\n",
       "<path class=\"bond-16 atom-16 atom-17\" d=\"M 354.5,80.3 L 370.0,75.7\" style=\"fill:none;fill-rule:evenodd;stroke:#000000;stroke-width:2.0px;stroke-linecap:butt;stroke-linejoin:miter;stroke-opacity:1\"/>\n",
       "<path class=\"bond-16 atom-16 atom-17\" d=\"M 355.2,77.6 L 368.0,73.8\" style=\"fill:none;fill-rule:evenodd;stroke:#000000;stroke-width:2.0px;stroke-linecap:butt;stroke-linejoin:miter;stroke-opacity:1\"/>\n",
       "<path class=\"bond-17 atom-17 atom-18\" d=\"M 370.0,75.7 L 374.8,80.2\" style=\"fill:none;fill-rule:evenodd;stroke:#000000;stroke-width:2.0px;stroke-linecap:butt;stroke-linejoin:miter;stroke-opacity:1\"/>\n",
       "<path class=\"bond-17 atom-17 atom-18\" d=\"M 374.8,80.2 L 379.5,84.6\" style=\"fill:none;fill-rule:evenodd;stroke:#0000FF;stroke-width:2.0px;stroke-linecap:butt;stroke-linejoin:miter;stroke-opacity:1\"/>\n",
       "<path class=\"bond-18 atom-17 atom-19\" d=\"M 370.0,75.7 L 371.5,69.2\" style=\"fill:none;fill-rule:evenodd;stroke:#000000;stroke-width:2.0px;stroke-linecap:butt;stroke-linejoin:miter;stroke-opacity:1\"/>\n",
       "<path class=\"bond-18 atom-17 atom-19\" d=\"M 371.5,69.2 L 373.0,62.8\" style=\"fill:none;fill-rule:evenodd;stroke:#0000FF;stroke-width:2.0px;stroke-linecap:butt;stroke-linejoin:miter;stroke-opacity:1\"/>\n",
       "<path class=\"bond-19 atom-19 atom-20\" d=\"M 371.4,57.8 L 366.7,53.3\" style=\"fill:none;fill-rule:evenodd;stroke:#0000FF;stroke-width:2.0px;stroke-linecap:butt;stroke-linejoin:miter;stroke-opacity:1\"/>\n",
       "<path class=\"bond-19 atom-19 atom-20\" d=\"M 366.7,53.3 L 361.9,48.9\" style=\"fill:none;fill-rule:evenodd;stroke:#000000;stroke-width:2.0px;stroke-linecap:butt;stroke-linejoin:miter;stroke-opacity:1\"/>\n",
       "<path class=\"bond-19 atom-19 atom-20\" d=\"M 369.8,59.6 L 365.5,55.6\" style=\"fill:none;fill-rule:evenodd;stroke:#0000FF;stroke-width:2.0px;stroke-linecap:butt;stroke-linejoin:miter;stroke-opacity:1\"/>\n",
       "<path class=\"bond-19 atom-19 atom-20\" d=\"M 365.5,55.6 L 361.3,51.6\" style=\"fill:none;fill-rule:evenodd;stroke:#000000;stroke-width:2.0px;stroke-linecap:butt;stroke-linejoin:miter;stroke-opacity:1\"/>\n",
       "<path class=\"bond-20 atom-20 atom-21\" d=\"M 361.9,48.9 L 355.3,50.8\" style=\"fill:none;fill-rule:evenodd;stroke:#000000;stroke-width:2.0px;stroke-linecap:butt;stroke-linejoin:miter;stroke-opacity:1\"/>\n",
       "<path class=\"bond-20 atom-20 atom-21\" d=\"M 355.3,50.8 L 348.7,52.8\" style=\"fill:none;fill-rule:evenodd;stroke:#0000FF;stroke-width:2.0px;stroke-linecap:butt;stroke-linejoin:miter;stroke-opacity:1\"/>\n",
       "<path class=\"bond-21 atom-21 atom-22\" d=\"M 345.8,56.3 L 344.2,62.8\" style=\"fill:none;fill-rule:evenodd;stroke:#0000FF;stroke-width:2.0px;stroke-linecap:butt;stroke-linejoin:miter;stroke-opacity:1\"/>\n",
       "<path class=\"bond-21 atom-21 atom-22\" d=\"M 344.2,62.8 L 342.7,69.3\" style=\"fill:none;fill-rule:evenodd;stroke:#000000;stroke-width:2.0px;stroke-linecap:butt;stroke-linejoin:miter;stroke-opacity:1\"/>\n",
       "<path class=\"bond-21 atom-21 atom-22\" d=\"M 348.1,56.9 L 346.8,62.7\" style=\"fill:none;fill-rule:evenodd;stroke:#0000FF;stroke-width:2.0px;stroke-linecap:butt;stroke-linejoin:miter;stroke-opacity:1\"/>\n",
       "<path class=\"bond-21 atom-21 atom-22\" d=\"M 346.8,62.7 L 345.4,68.5\" style=\"fill:none;fill-rule:evenodd;stroke:#000000;stroke-width:2.0px;stroke-linecap:butt;stroke-linejoin:miter;stroke-opacity:1\"/>\n",
       "<path class=\"bond-22 atom-12 atom-23\" d=\"M 313.9,70.2 L 310.9,54.3\" style=\"fill:none;fill-rule:evenodd;stroke:#000000;stroke-width:2.0px;stroke-linecap:butt;stroke-linejoin:miter;stroke-opacity:1\"/>\n",
       "<path class=\"bond-23 atom-23 atom-24\" d=\"M 310.9,54.3 L 315.1,49.8\" style=\"fill:none;fill-rule:evenodd;stroke:#000000;stroke-width:2.0px;stroke-linecap:butt;stroke-linejoin:miter;stroke-opacity:1\"/>\n",
       "<path class=\"bond-23 atom-23 atom-24\" d=\"M 315.1,49.8 L 319.3,45.3\" style=\"fill:none;fill-rule:evenodd;stroke:#FF0000;stroke-width:2.0px;stroke-linecap:butt;stroke-linejoin:miter;stroke-opacity:1\"/>\n",
       "<path class=\"bond-24 atom-23 atom-25\" d=\"M 310.9,54.3 L 294.8,52.2\" style=\"fill:none;fill-rule:evenodd;stroke:#000000;stroke-width:2.0px;stroke-linecap:butt;stroke-linejoin:miter;stroke-opacity:1\"/>\n",
       "<path class=\"bond-25 atom-25 atom-26\" d=\"M 294.8,52.2 L 291.7,46.6\" style=\"fill:none;fill-rule:evenodd;stroke:#000000;stroke-width:2.0px;stroke-linecap:butt;stroke-linejoin:miter;stroke-opacity:1\"/>\n",
       "<path class=\"bond-25 atom-25 atom-26\" d=\"M 291.7,46.6 L 288.7,41.0\" style=\"fill:none;fill-rule:evenodd;stroke:#FF0000;stroke-width:2.0px;stroke-linecap:butt;stroke-linejoin:miter;stroke-opacity:1\"/>\n",
       "<path class=\"bond-26 atom-25 atom-10\" d=\"M 294.8,52.2 L 287.9,66.9\" style=\"fill:none;fill-rule:evenodd;stroke:#000000;stroke-width:2.0px;stroke-linecap:butt;stroke-linejoin:miter;stroke-opacity:1\"/>\n",
       "<path class=\"bond-27 atom-22 atom-13\" d=\"M 342.7,69.3 L 336.8,72.5\" style=\"fill:none;fill-rule:evenodd;stroke:#000000;stroke-width:2.0px;stroke-linecap:butt;stroke-linejoin:miter;stroke-opacity:1\"/>\n",
       "<path class=\"bond-27 atom-22 atom-13\" d=\"M 336.8,72.5 L 330.8,75.8\" style=\"fill:none;fill-rule:evenodd;stroke:#0000FF;stroke-width:2.0px;stroke-linecap:butt;stroke-linejoin:miter;stroke-opacity:1\"/>\n",
       "<path class=\"bond-28 atom-22 atom-16\" d=\"M 342.7,69.3 L 354.5,80.3\" style=\"fill:none;fill-rule:evenodd;stroke:#000000;stroke-width:2.0px;stroke-linecap:butt;stroke-linejoin:miter;stroke-opacity:1\"/>\n",
       "<path d=\"M 271.8,69.6 L 272.0,69.9 L 272.8,69.7\" style=\"fill:none;stroke:#000000;stroke-width:2.0px;stroke-linecap:butt;stroke-linejoin:miter;stroke-opacity:1;\"/>\n",
       "<path d=\"M 331.5,92.6 L 331.6,92.9 L 331.9,93.0\" style=\"fill:none;stroke:#000000;stroke-width:2.0px;stroke-linecap:butt;stroke-linejoin:miter;stroke-opacity:1;\"/>\n",
       "<path d=\"M 362.2,49.1 L 361.9,48.9 L 361.6,49.0\" style=\"fill:none;stroke:#000000;stroke-width:2.0px;stroke-linecap:butt;stroke-linejoin:miter;stroke-opacity:1;\"/>\n",
       "<path class=\"atom-1\" d=\"M 224.3 76.7 Q 225.0 76.7, 225.4 77.0 Q 225.8 77.4, 225.8 78.0 Q 225.8 78.6, 225.4 79.0 Q 225.0 79.4, 224.3 79.4 L 223.5 79.4 L 223.5 81.2 L 222.9 81.2 L 222.9 76.7 L 224.3 76.7 M 224.3 78.8 Q 224.7 78.8, 224.9 78.6 Q 225.2 78.4, 225.2 78.0 Q 225.2 77.6, 224.9 77.4 Q 224.7 77.2, 224.3 77.2 L 223.5 77.2 L 223.5 78.8 L 224.3 78.8 \" fill=\"#FF7F00\"/>\n",
       "<path class=\"atom-2\" d=\"M 237.5 84.3 Q 237.5 83.2, 238.1 82.6 Q 238.6 82.0, 239.6 82.0 Q 240.7 82.0, 241.2 82.6 Q 241.7 83.2, 241.7 84.3 Q 241.7 85.4, 241.2 86.0 Q 240.6 86.7, 239.6 86.7 Q 238.6 86.7, 238.1 86.0 Q 237.5 85.4, 237.5 84.3 M 239.6 86.1 Q 240.3 86.1, 240.7 85.7 Q 241.1 85.2, 241.1 84.3 Q 241.1 83.4, 240.7 82.9 Q 240.3 82.5, 239.6 82.5 Q 238.9 82.5, 238.6 82.9 Q 238.2 83.4, 238.2 84.3 Q 238.2 85.2, 238.6 85.7 Q 238.9 86.1, 239.6 86.1 \" fill=\"#FF0000\"/>\n",
       "<path class=\"atom-3\" d=\"M 216.9 94.2 Q 216.9 93.1, 217.5 92.5 Q 218.0 91.9, 219.0 91.9 Q 220.1 91.9, 220.6 92.5 Q 221.1 93.1, 221.1 94.2 Q 221.1 95.3, 220.6 96.0 Q 220.0 96.6, 219.0 96.6 Q 218.0 96.6, 217.5 96.0 Q 216.9 95.4, 216.9 94.2 M 219.0 96.1 Q 219.7 96.1, 220.1 95.6 Q 220.5 95.2, 220.5 94.2 Q 220.5 93.3, 220.1 92.9 Q 219.7 92.4, 219.0 92.4 Q 218.3 92.4, 218.0 92.9 Q 217.6 93.3, 217.6 94.2 Q 217.6 95.2, 218.0 95.6 Q 218.3 96.1, 219.0 96.1 \" fill=\"#FF0000\"/>\n",
       "<path class=\"atom-3\" d=\"M 221.9 92.0 L 222.5 92.0 L 222.5 93.9 L 224.8 93.9 L 224.8 92.0 L 225.4 92.0 L 225.4 96.5 L 224.8 96.5 L 224.8 94.4 L 222.5 94.4 L 222.5 96.5 L 221.9 96.5 L 221.9 92.0 \" fill=\"#FF0000\"/>\n",
       "<path class=\"atom-4\" d=\"M 227.6 63.7 Q 227.6 62.6, 228.1 62.0 Q 228.7 61.4, 229.7 61.4 Q 230.7 61.4, 231.3 62.0 Q 231.8 62.6, 231.8 63.7 Q 231.8 64.8, 231.2 65.4 Q 230.7 66.1, 229.7 66.1 Q 228.7 66.1, 228.1 65.4 Q 227.6 64.8, 227.6 63.7 M 229.7 65.5 Q 230.4 65.5, 230.8 65.1 Q 231.2 64.6, 231.2 63.7 Q 231.2 62.8, 230.8 62.3 Q 230.4 61.9, 229.7 61.9 Q 229.0 61.9, 228.6 62.3 Q 228.2 62.8, 228.2 63.7 Q 228.2 64.6, 228.6 65.1 Q 229.0 65.5, 229.7 65.5 \" fill=\"#FF0000\"/>\n",
       "<path class=\"atom-5\" d=\"M 245.5 58.4 Q 246.3 58.4, 246.7 58.7 Q 247.1 59.1, 247.1 59.7 Q 247.1 60.3, 246.6 60.7 Q 246.2 61.1, 245.5 61.1 L 244.7 61.1 L 244.7 62.9 L 244.1 62.9 L 244.1 58.4 L 245.5 58.4 M 245.5 60.5 Q 245.9 60.5, 246.2 60.3 Q 246.4 60.1, 246.4 59.7 Q 246.4 59.3, 246.2 59.1 Q 245.9 58.9, 245.5 58.9 L 244.7 58.9 L 244.7 60.5 L 245.5 60.5 \" fill=\"#FF7F00\"/>\n",
       "<path class=\"atom-6\" d=\"M 246.5 76.6 Q 246.5 75.5, 247.1 74.8 Q 247.6 74.2, 248.6 74.2 Q 249.6 74.2, 250.2 74.8 Q 250.7 75.5, 250.7 76.6 Q 250.7 77.7, 250.2 78.3 Q 249.6 78.9, 248.6 78.9 Q 247.6 78.9, 247.1 78.3 Q 246.5 77.7, 246.5 76.6 M 248.6 78.4 Q 249.3 78.4, 249.7 77.9 Q 250.1 77.5, 250.1 76.6 Q 250.1 75.7, 249.7 75.2 Q 249.3 74.7, 248.6 74.7 Q 247.9 74.7, 247.5 75.2 Q 247.2 75.6, 247.2 76.6 Q 247.2 77.5, 247.5 77.9 Q 247.9 78.4, 248.6 78.4 \" fill=\"#FF0000\"/>\n",
       "<path class=\"atom-7\" d=\"M 240.5 44.8 Q 240.5 43.7, 241.0 43.1 Q 241.6 42.4, 242.6 42.4 Q 243.6 42.4, 244.1 43.1 Q 244.7 43.7, 244.7 44.8 Q 244.7 45.9, 244.1 46.5 Q 243.6 47.1, 242.6 47.1 Q 241.6 47.1, 241.0 46.5 Q 240.5 45.9, 240.5 44.8 M 242.6 46.6 Q 243.3 46.6, 243.6 46.2 Q 244.0 45.7, 244.0 44.8 Q 244.0 43.9, 243.6 43.4 Q 243.3 43.0, 242.6 43.0 Q 241.9 43.0, 241.5 43.4 Q 241.1 43.9, 241.1 44.8 Q 241.1 45.7, 241.5 46.2 Q 241.9 46.6, 242.6 46.6 \" fill=\"#FF0000\"/>\n",
       "<path class=\"atom-7\" d=\"M 245.4 42.5 L 246.0 42.5 L 246.0 44.4 L 248.3 44.4 L 248.3 42.5 L 249.0 42.5 L 249.0 47.1 L 248.3 47.1 L 248.3 45.0 L 246.0 45.0 L 246.0 47.1 L 245.4 47.1 L 245.4 42.5 \" fill=\"#FF0000\"/>\n",
       "<path class=\"atom-8\" d=\"M 259.4 57.6 Q 259.4 56.5, 259.9 55.9 Q 260.5 55.3, 261.5 55.3 Q 262.5 55.3, 263.0 55.9 Q 263.6 56.5, 263.6 57.6 Q 263.6 58.8, 263.0 59.4 Q 262.5 60.0, 261.5 60.0 Q 260.5 60.0, 259.9 59.4 Q 259.4 58.8, 259.4 57.6 M 261.5 59.5 Q 262.2 59.5, 262.6 59.0 Q 262.9 58.6, 262.9 57.6 Q 262.9 56.7, 262.6 56.3 Q 262.2 55.8, 261.5 55.8 Q 260.8 55.8, 260.4 56.3 Q 260.0 56.7, 260.0 57.6 Q 260.0 58.6, 260.4 59.0 Q 260.8 59.5, 261.5 59.5 \" fill=\"#FF0000\"/>\n",
       "<path class=\"atom-11\" d=\"M 297.6 78.0 Q 297.6 76.9, 298.2 76.2 Q 298.7 75.6, 299.7 75.6 Q 300.7 75.6, 301.3 76.2 Q 301.8 76.9, 301.8 78.0 Q 301.8 79.1, 301.3 79.7 Q 300.7 80.3, 299.7 80.3 Q 298.7 80.3, 298.2 79.7 Q 297.6 79.1, 297.6 78.0 M 299.7 79.8 Q 300.4 79.8, 300.8 79.3 Q 301.2 78.9, 301.2 78.0 Q 301.2 77.1, 300.8 76.6 Q 300.4 76.1, 299.7 76.1 Q 299.0 76.1, 298.6 76.6 Q 298.3 77.0, 298.3 78.0 Q 298.3 78.9, 298.6 79.3 Q 299.0 79.8, 299.7 79.8 \" fill=\"#FF0000\"/>\n",
       "<path class=\"atom-13\" d=\"M 327.5 74.8 L 329.0 77.2 Q 329.2 77.4, 329.4 77.9 Q 329.7 78.3, 329.7 78.3 L 329.7 74.8 L 330.3 74.8 L 330.3 79.3 L 329.7 79.3 L 328.0 76.7 Q 327.9 76.4, 327.7 76.0 Q 327.5 75.7, 327.4 75.6 L 327.4 79.3 L 326.8 79.3 L 326.8 74.8 L 327.5 74.8 \" fill=\"#0000FF\"/>\n",
       "<path class=\"atom-15\" d=\"M 346.6 92.7 L 348.1 95.1 Q 348.2 95.4, 348.5 95.8 Q 348.7 96.2, 348.7 96.3 L 348.7 92.7 L 349.3 92.7 L 349.3 97.3 L 348.7 97.3 L 347.1 94.6 Q 346.9 94.3, 346.7 94.0 Q 346.5 93.6, 346.5 93.5 L 346.5 97.3 L 345.9 97.3 L 345.9 92.7 L 346.6 92.7 \" fill=\"#0000FF\"/>\n",
       "<path class=\"atom-18\" d=\"M 380.8 84.5 L 382.3 86.9 Q 382.4 87.1, 382.7 87.6 Q 382.9 88.0, 382.9 88.0 L 382.9 84.5 L 383.5 84.5 L 383.5 89.1 L 382.9 89.1 L 381.3 86.4 Q 381.1 86.1, 380.9 85.7 Q 380.7 85.4, 380.6 85.3 L 380.6 89.1 L 380.0 89.1 L 380.0 84.5 L 380.8 84.5 \" fill=\"#0000FF\"/>\n",
       "<path class=\"atom-18\" d=\"M 384.4 84.5 L 385.0 84.5 L 385.0 86.4 L 387.4 86.4 L 387.4 84.5 L 388.0 84.5 L 388.0 89.1 L 387.4 89.1 L 387.4 86.9 L 385.0 86.9 L 385.0 89.1 L 384.4 89.1 L 384.4 84.5 \" fill=\"#0000FF\"/>\n",
       "<path class=\"atom-18\" d=\"M 388.9 88.9 Q 389.0 88.6, 389.3 88.4 Q 389.5 88.3, 389.9 88.3 Q 390.3 88.3, 390.6 88.5 Q 390.9 88.8, 390.9 89.2 Q 390.9 89.7, 390.5 90.1 Q 390.2 90.5, 389.5 91.0 L 390.9 91.0 L 390.9 91.3 L 388.9 91.3 L 388.9 91.1 Q 389.4 90.7, 389.8 90.4 Q 390.1 90.1, 390.3 89.8 Q 390.4 89.5, 390.4 89.2 Q 390.4 89.0, 390.3 88.8 Q 390.1 88.6, 389.9 88.6 Q 389.6 88.6, 389.5 88.7 Q 389.3 88.8, 389.2 89.0 L 388.9 88.9 \" fill=\"#0000FF\"/>\n",
       "<path class=\"atom-19\" d=\"M 372.7 57.6 L 374.2 60.1 Q 374.3 60.3, 374.6 60.7 Q 374.8 61.2, 374.8 61.2 L 374.8 57.6 L 375.4 57.6 L 375.4 62.2 L 374.8 62.2 L 373.2 59.6 Q 373.0 59.3, 372.8 58.9 Q 372.6 58.5, 372.6 58.4 L 372.6 62.2 L 372.0 62.2 L 372.0 57.6 L 372.7 57.6 \" fill=\"#0000FF\"/>\n",
       "<path class=\"atom-21\" d=\"M 345.4 51.2 L 346.9 53.7 Q 347.1 53.9, 347.3 54.3 Q 347.5 54.8, 347.6 54.8 L 347.6 51.2 L 348.2 51.2 L 348.2 55.8 L 347.5 55.8 L 345.9 53.2 Q 345.7 52.8, 345.5 52.5 Q 345.3 52.1, 345.3 52.0 L 345.3 55.8 L 344.7 55.8 L 344.7 51.2 L 345.4 51.2 \" fill=\"#0000FF\"/>\n",
       "<path class=\"atom-24\" d=\"M 319.9 42.5 Q 319.9 41.4, 320.4 40.8 Q 321.0 40.2, 322.0 40.2 Q 323.0 40.2, 323.5 40.8 Q 324.1 41.4, 324.1 42.5 Q 324.1 43.6, 323.5 44.2 Q 323.0 44.9, 322.0 44.9 Q 321.0 44.9, 320.4 44.2 Q 319.9 43.6, 319.9 42.5 M 322.0 44.3 Q 322.7 44.3, 323.0 43.9 Q 323.4 43.4, 323.4 42.5 Q 323.4 41.6, 323.0 41.1 Q 322.7 40.7, 322.0 40.7 Q 321.3 40.7, 320.9 41.1 Q 320.5 41.6, 320.5 42.5 Q 320.5 43.4, 320.9 43.9 Q 321.3 44.3, 322.0 44.3 \" fill=\"#FF0000\"/>\n",
       "<path class=\"atom-24\" d=\"M 324.8 40.2 L 325.4 40.2 L 325.4 42.2 L 327.7 42.2 L 327.7 40.2 L 328.4 40.2 L 328.4 44.8 L 327.7 44.8 L 327.7 42.7 L 325.4 42.7 L 325.4 44.8 L 324.8 44.8 L 324.8 40.2 \" fill=\"#FF0000\"/>\n",
       "<path class=\"atom-26\" d=\"M 280.4 35.8 L 281.0 35.8 L 281.0 37.7 L 283.4 37.7 L 283.4 35.8 L 284.0 35.8 L 284.0 40.4 L 283.4 40.4 L 283.4 38.2 L 281.0 38.2 L 281.0 40.4 L 280.4 40.4 L 280.4 35.8 \" fill=\"#FF0000\"/>\n",
       "<path class=\"atom-26\" d=\"M 284.9 38.1 Q 284.9 37.0, 285.5 36.3 Q 286.0 35.7, 287.1 35.7 Q 288.1 35.7, 288.6 36.3 Q 289.2 37.0, 289.2 38.1 Q 289.2 39.2, 288.6 39.8 Q 288.1 40.4, 287.1 40.4 Q 286.0 40.4, 285.5 39.8 Q 284.9 39.2, 284.9 38.1 M 287.1 39.9 Q 287.7 39.9, 288.1 39.4 Q 288.5 39.0, 288.5 38.1 Q 288.5 37.2, 288.1 36.7 Q 287.7 36.2, 287.1 36.2 Q 286.4 36.2, 286.0 36.7 Q 285.6 37.1, 285.6 38.1 Q 285.6 39.0, 286.0 39.4 Q 286.4 39.9, 287.1 39.9 \" fill=\"#FF0000\"/>\n",
       "</svg>"
      ],
      "text/plain": [
       "<IPython.core.display.SVG object>"
      ]
     },
     "execution_count": 195,
     "metadata": {},
     "output_type": "execute_result"
    }
   ],
   "source": [
    "img, decompdiff_mol, sim_mol = try_pocket('5w2g_A')\n",
    "img"
   ]
  },
  {
   "cell_type": "code",
   "execution_count": 196,
   "metadata": {},
   "outputs": [
    {
     "data": {
      "image/png": "[encoded data removed]",
      "text/plain": [
       "<rdkit.Chem.rdchem.Mol at 0x7f8e2c972f90>"
      ]
     },
     "execution_count": 196,
     "metadata": {},
     "output_type": "execute_result"
    }
   ],
   "source": [
    "decompdiff_mol"
   ]
  },
  {
   "cell_type": "code",
   "execution_count": 197,
   "metadata": {},
   "outputs": [],
   "source": [
    "molecule_to_pdf(decompdiff_mol, 'decomp_molecule', 300, 200)\n",
    "molecule_to_pdf(sim_mol, 'decomp_similar_molecule', 300, 200)"
   ]
  },
  {
   "cell_type": "code",
   "execution_count": 198,
   "metadata": {},
   "outputs": [],
   "source": [
    "from IPython.display import SVG, display"
   ]
  },
  {
   "cell_type": "code",
   "execution_count": 199,
   "metadata": {},
   "outputs": [],
   "source": [
    "# for p in list(decomp_res.keys()):\n",
    "#     img = try_pocket(p)\n",
    "#     if img is not None:\n",
    "#         display(img)"
   ]
  },
  {
   "cell_type": "code",
   "execution_count": 200,
   "metadata": {},
   "outputs": [],
   "source": [
    "# pdb_id = '4f1m_A'"
   ]
  },
  {
   "cell_type": "code",
   "execution_count": 201,
   "metadata": {},
   "outputs": [],
   "source": [
    "# idx_sort = [i for i in np.argsort(pharmaco_res[pdb_id]['novelty'])]\n",
    "# i = 3\n",
    "\n",
    "# pharmaco_mol = Chem.MolFromSmiles(pharmaco_res[pdb_id]['smiles'][idx_sort[i]])\n",
    "\n",
    "# img = Draw.MolToImage(pharmaco_mol, size=(200, 133), thickness=0)\n",
    "# img.save('figures/example_mols/pharmaco_molecule1.png')\n",
    "# img"
   ]
  },
  {
   "cell_type": "code",
   "execution_count": 202,
   "metadata": {},
   "outputs": [],
   "source": [
    "# smi = get_most_similar_compound(pharmaco_res[pdb_id]['smiles'][idx_sort[i]])\n",
    "# sim_mol = Chem.MolFromSmiles(smi)\n",
    "# img = Draw.MolToImage(sim_mol, size=(200, 133), thickness=0)\n",
    "# img.save('figures/example_mols/pharmaco_similar_molecule1.png')\n",
    "# img"
   ]
  },
  {
   "cell_type": "code",
   "execution_count": 203,
   "metadata": {},
   "outputs": [
    {
     "data": {
      "image/png": "[encoded data removed]",
      "text/plain": [
       "<rdkit.Chem.rdchem.Mol at 0x7f8e2c9d4eb0>"
      ]
     },
     "execution_count": 203,
     "metadata": {},
     "output_type": "execute_result"
    }
   ],
   "source": [
    "idx_sort = [i for i in np.argsort(pharmaco_res['5w2g_A']['novelty'])]\n",
    "i = 2\n",
    "\n",
    "pharmaco_mol = Chem.MolFromSmiles(pharmaco_res['5w2g_A']['smiles'][idx_sort[i]])\n",
    "\n",
    "molecule_to_pdf(pharmaco_mol, 'pharmaco_molecule', 300, 200)\n",
    "pharmaco_mol"
   ]
  },
  {
   "cell_type": "code",
   "execution_count": 204,
   "metadata": {},
   "outputs": [
    {
     "data": {
      "image/png": "[encoded data removed]",
      "text/plain": [
       "<rdkit.Chem.rdchem.Mol at 0x7f8e2c94f970>"
      ]
     },
     "execution_count": 204,
     "metadata": {},
     "output_type": "execute_result"
    }
   ],
   "source": [
    "smi = get_most_similar_compound(pharmaco_res['5w2g_A']['smiles'][idx_sort[i]])\n",
    "sim_mol = Chem.MolFromSmiles(smi)\n",
    "molecule_to_pdf(sim_mol, 'pharmaco_similar_molecule', 300, 200)\n",
    "sim_mol"
   ]
  },
  {
   "cell_type": "code",
   "execution_count": 205,
   "metadata": {},
   "outputs": [
    {
     "name": "stdout",
     "output_type": "stream",
     "text": [
      "novelty: 0.6304347826086957\n",
      "qed: 0.8855077046292027\n",
      "sa: 0.838068965237138\n",
      "ds: -7.7\n"
     ]
    }
   ],
   "source": [
    "print(f\"novelty: {pharmaco_res['5w2g_A']['novelty'][idx_sort[i]]}\")\n",
    "print(f\"qed: {pharmaco_res['5w2g_A']['qeds'][idx_sort[i]]}\")\n",
    "print(f\"sa: {pharmaco_res['5w2g_A']['sas'][idx_sort[i]]}\")\n",
    "print(f\"ds: {pharmaco_res['5w2g_A']['docking_scores'][idx_sort[i]]}\")"
   ]
  },
  {
   "cell_type": "code",
   "execution_count": null,
   "metadata": {},
   "outputs": [],
   "source": []
  },
  {
   "cell_type": "code",
   "execution_count": null,
   "metadata": {},
   "outputs": [],
   "source": []
  }
 ],
 "metadata": {
  "kernelspec": {
   "display_name": "tacogfn",
   "language": "python",
   "name": "python3"
  },
  "language_info": {
   "codemirror_mode": {
    "name": "ipython",
    "version": 3
   },
   "file_extension": ".py",
   "mimetype": "text/x-python",
   "name": "python",
   "nbconvert_exporter": "python",
   "pygments_lexer": "ipython3",
   "version": "3.9.18"
  }
 },
 "nbformat": 4,
 "nbformat_minor": 2
}
