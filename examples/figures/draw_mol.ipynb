{
 "cells": [
  {
   "cell_type": "code",
   "execution_count": null,
   "metadata": {},
   "outputs": [],
   "source": [
    "from rdkit.Chem import Draw\n",
    "\n",
    "mol = Chem.MolFromSmiles(pharmaco_smi[5])\n",
    "img = Draw.MolToImage(mol, size=(200, 133), thickness=0)\n",
    "img.save('figures/example_mols/molecule.png')\n",
    "img"
   ]
  }
 ],
 "metadata": {
  "language_info": {
   "name": "python"
  }
 },
 "nbformat": 4,
 "nbformat_minor": 2
}
