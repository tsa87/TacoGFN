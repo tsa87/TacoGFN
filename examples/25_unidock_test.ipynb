{
 "cells": [
  {
   "cell_type": "code",
   "execution_count": 1,
   "metadata": {},
   "outputs": [],
   "source": [
    "import os\n",
    "os.chdir('..')"
   ]
  },
  {
   "cell_type": "code",
   "execution_count": 2,
   "metadata": {},
   "outputs": [
    {
     "name": "stderr",
     "output_type": "stream",
     "text": [
      "/home/tsa87/anaconda3/envs/tacogfn/lib/python3.9/site-packages/tqdm/auto.py:21: TqdmWarning: IProgress not found. Please update jupyter and ipywidgets. See https://ipywidgets.readthedocs.io/en/stable/user_install.html\n",
      "  from .autonotebook import tqdm as notebook_tqdm\n"
     ]
    }
   ],
   "source": [
    "import torch\n",
    "from rdkit import Chem\n",
    "from src.tacogfn.utils.unidock import unidock_scores"
   ]
  },
  {
   "cell_type": "code",
   "execution_count": 3,
   "metadata": {},
   "outputs": [],
   "source": [
    "rec_folder = \"dataset/crossdocktest_pdbqt\"\n",
    "pocket_to_centroid_path = \"dataset/pocket_to_centroid.pt\""
   ]
  },
  {
   "cell_type": "code",
   "execution_count": 4,
   "metadata": {},
   "outputs": [],
   "source": [
    "pocket_to_centroid = torch.load(pocket_to_centroid_path)"
   ]
  },
  {
   "cell_type": "code",
   "execution_count": 5,
   "metadata": {},
   "outputs": [
    {
     "data": {
      "text/plain": [
       "(24.261727272727274, 6.685454545454546, 27.79195454545455)"
      ]
     },
     "execution_count": 5,
     "metadata": {},
     "output_type": "execute_result"
    }
   ],
   "source": [
    "pocket_to_centroid['14gs_A']"
   ]
  },
  {
   "cell_type": "code",
   "execution_count": 5,
   "metadata": {},
   "outputs": [
    {
     "name": "stderr",
     "output_type": "stream",
     "text": [
      "/home/tsa87/anaconda3/envs/tacogfn/lib/python3.9/site-packages/networkx/utils/backends.py:135: RuntimeWarning: networkx backend defined more than once: nx-loopback\n",
      "  backends.update(_get_backends(\"networkx.backends\"))\n"
     ]
    },
    {
     "name": "stdout",
     "output_type": "stream",
     "text": [
      "[INFO][2024-05-07 11:43:33,733][main.py 28] [Params] {'cmd': 'unidock_pipeline', 'receptor': 'dataset/crossdocktest_pdbqt/4rn0_B_rec.pdbqt', 'ligands': None, 'ligand_index': '/tmp/tmpwxlc65gq/smiles_list.txt', 'center_x': -21.05715151515151, 'center_y': -5.662727272727273, 'center_z': 3.1404848484848484, 'size_x': 22.5, 'size_y': 22.5, 'size_z': 22.5, 'workdir': 'unidock_pipeline_fsxps', 'savedir': '/tmp/tmpwxlc65gq/docking', 'batch_size': 18000, 'scoring_function': 'vina', 'search_mode': '', 'exhaustiveness': 128, 'max_step': 20, 'num_modes': 3, 'refine_step': 3, 'energy_range': 3.0, 'topn': 100, 'score_only': False, 'local_only': False, 'seed': 181129, 'debug': False}\n",
      "[INFO][2024-05-07 11:43:33,734][unidock_pipeline.py 223] [UniDock Pipeline] 1 ligands found.\n",
      "[INFO][2024-05-07 11:43:33,734][unidock_pipeline.py 225] [UniDock Pipeline] Start\n",
      "[INFO][2024-05-07 11:43:33,738][unidock_pipeline.py 238] [UniDock Pipeline] Start docking\n",
      "[INFO][2024-05-07 11:43:33,758][unidock.py 94] unidock cmd: unidock --receptor /home/tsa87/refactor-tacogfn/dataset/crossdocktest_pdbqt/4rn0_B_rec.pdbqt --ligand_index unidock_20240507114333/ligand_index_onfv.txt --dir /home/tsa87/refactor-tacogfn/unidock_pipeline_fsxps/docking_dir/docking_results --exhaustiveness 128 --max_step 20 --center_x -21.05715151515151 --center_y -5.662727272727273 --center_z 3.1404848484848484 --size_x 22.5 --size_y 22.5 --size_z 22.5 --scoring vina --num_modes 3 --energy_range 3.0 --refine_step 3 --seed 181129 --verbosity 2 --keep_nonpolar_H\n",
      "[INFO][2024-05-07 11:43:34,958][unidock_pipeline.py 257] UniDock Pipeline finished (1.22 s)\n"
     ]
    },
    {
     "data": {
      "text/plain": [
       "[-3.613]"
      ]
     },
     "execution_count": 5,
     "metadata": {},
     "output_type": "execute_result"
    }
   ],
   "source": [
    "unidock_scores(['c1ccccc1'], os.path.join(rec_folder, '4rn0_B_rec.pdbqt'), -21.05715151515151, -5.662727272727273, 3.1404848484848484)"
   ]
  },
  {
   "cell_type": "code",
   "execution_count": 10,
   "metadata": {},
   "outputs": [
    {
     "ename": "RuntimeError",
     "evalue": "No sub-structure match found between the probe and query mol",
     "output_type": "error",
     "traceback": [
      "\u001b[0;31m---------------------------------------------------------------------------\u001b[0m",
      "\u001b[0;31mRuntimeError\u001b[0m                              Traceback (most recent call last)",
      "Cell \u001b[0;32mIn[10], line 21\u001b[0m\n\u001b[1;32m     18\u001b[0m AllChem\u001b[38;5;241m.\u001b[39mMMFFOptimizeMolecule(mol2)\n\u001b[1;32m     20\u001b[0m \u001b[38;5;66;03m# Align molecules\u001b[39;00m\n\u001b[0;32m---> 21\u001b[0m \u001b[43mAllChem\u001b[49m\u001b[38;5;241;43m.\u001b[39;49m\u001b[43mAlignMol\u001b[49m\u001b[43m(\u001b[49m\u001b[43mmol2\u001b[49m\u001b[43m,\u001b[49m\u001b[43m \u001b[49m\u001b[43mmol1\u001b[49m\u001b[43m)\u001b[49m\n\u001b[1;32m     23\u001b[0m \u001b[38;5;66;03m# Use RDKit to visualize (simple visualization)\u001b[39;00m\n\u001b[1;32m     24\u001b[0m \u001b[38;5;28;01mfrom\u001b[39;00m \u001b[38;5;21;01mrdkit\u001b[39;00m\u001b[38;5;21;01m.\u001b[39;00m\u001b[38;5;21;01mChem\u001b[39;00m \u001b[38;5;28;01mimport\u001b[39;00m Draw\n",
      "\u001b[0;31mRuntimeError\u001b[0m: No sub-structure match found between the probe and query mol"
     ]
    }
   ],
   "source": [
    "from rdkit import Chem\n",
    "from rdkit.Chem import AllChem, Draw\n",
    "from rdkit.Chem.Draw import rdMolDraw2D\n",
    "\n",
    "# Load molecules from SMILES\n",
    "smiles1 = \"CCOCC\"\n",
    "smiles2 = \"C1CCOC1\"\n",
    "mol1 = Chem.MolFromSmiles(smiles1)\n",
    "mol2 = Chem.MolFromSmiles(smiles2)\n",
    "\n",
    "# Generate 2D coordinates for initial molecules\n",
    "# Generate 3D coordinates if not present\n",
    "mol1 = Chem.AddHs(mol1)\n",
    "AllChem.EmbedMolecule(mol1)\n",
    "AllChem.MMFFOptimizeMolecule(mol1)\n",
    "mol2 = Chem.AddHs(mol2)\n",
    "AllChem.EmbedMolecule(mol2)\n",
    "AllChem.MMFFOptimizeMolecule(mol2)\n",
    "\n",
    "# Align molecules\n",
    "AllChem.AlignMol(mol2, mol1)\n",
    "\n",
    "# Use RDKit to visualize (simple visualization)\n",
    "from rdkit.Chem import Draw\n",
    "img = Draw.MolsToGridImage([mol1, mol2], subImgSize=(300, 300), legends=['Mol1', 'Mol2'])\n",
    "img"
   ]
  },
  {
   "cell_type": "code",
   "execution_count": 6,
   "metadata": {},
   "outputs": [],
   "source": [
    "with open(\"aligned_molecules.png\", \"wb\") as f:\n",
    "    f.write(drawer.GetDrawingText())"
   ]
  },
  {
   "cell_type": "code",
   "execution_count": 8,
   "metadata": {},
   "outputs": [
    {
     "data": {
      "image/png": "[encoded data removed]",
      "text/plain": [
       "<rdkit.Chem.rdchem.Mol at 0x7f0bb8b66350>"
      ]
     },
     "execution_count": 8,
     "metadata": {},
     "output_type": "execute_result"
    }
   ],
   "source": [
    "Chem.MolFromSmiles(\"C1CCOC1\")"
   ]
  },
  {
   "cell_type": "code",
   "execution_count": null,
   "metadata": {},
   "outputs": [],
   "source": []
  }
 ],
 "metadata": {
  "kernelspec": {
   "display_name": "tacogfn",
   "language": "python",
   "name": "python3"
  },
  "language_info": {
   "codemirror_mode": {
    "name": "ipython",
    "version": 3
   },
   "file_extension": ".py",
   "mimetype": "text/x-python",
   "name": "python",
   "nbconvert_exporter": "python",
   "pygments_lexer": "ipython3",
   "version": "3.9.18"
  }
 },
 "nbformat": 4,
 "nbformat_minor": 2
}
