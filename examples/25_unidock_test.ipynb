{
 "cells": [
  {
   "cell_type": "code",
   "execution_count": 1,
   "metadata": {},
   "outputs": [],
   "source": [
    "import os\n",
    "os.chdir('..')"
   ]
  },
  {
   "cell_type": "code",
   "execution_count": 2,
   "metadata": {},
   "outputs": [
    {
     "name": "stderr",
     "output_type": "stream",
     "text": [
      "/home/tsa87/anaconda3/envs/tacogfn/lib/python3.9/site-packages/tqdm/auto.py:21: TqdmWarning: IProgress not found. Please update jupyter and ipywidgets. See https://ipywidgets.readthedocs.io/en/stable/user_install.html\n",
      "  from .autonotebook import tqdm as notebook_tqdm\n"
     ]
    }
   ],
   "source": [
    "import torch\n",
    "from rdkit import Chem\n",
    "from src.tacogfn.utils.unidock import unidock_scores"
   ]
  },
  {
   "cell_type": "code",
   "execution_count": 3,
   "metadata": {},
   "outputs": [],
   "source": [
    "rec_folder = \"dataset/crossdocktest_pdbqt\"\n",
    "pocket_to_centroid_path = \"dataset/pocket_to_centroid.pt\""
   ]
  },
  {
   "cell_type": "code",
   "execution_count": 4,
   "metadata": {},
   "outputs": [],
   "source": [
    "pocket_to_centroid = torch.load(pocket_to_centroid_path)"
   ]
  },
  {
   "cell_type": "code",
   "execution_count": 5,
   "metadata": {},
   "outputs": [
    {
     "data": {
      "text/plain": [
       "(24.261727272727274, 6.685454545454546, 27.79195454545455)"
      ]
     },
     "execution_count": 5,
     "metadata": {},
     "output_type": "execute_result"
    }
   ],
   "source": [
    "pocket_to_centroid['14gs_A']"
   ]
  },
  {
   "cell_type": "code",
   "execution_count": 6,
   "metadata": {},
   "outputs": [
    {
     "name": "stderr",
     "output_type": "stream",
     "text": [
      "Processing SMILES: 100%|██████████| 100/100 [00:00<00:00, 3828.84it/s]\n",
      "/home/tsa87/anaconda3/envs/tacogfn/lib/python3.9/site-packages/networkx/utils/backends.py:135: RuntimeWarning: networkx backend defined more than once: nx-loopback\n",
      "  backends.update(_get_backends(\"networkx.backends\"))\n"
     ]
    },
    {
     "name": "stdout",
     "output_type": "stream",
     "text": [
      "[INFO][2024-05-23 07:16:38,226][main.py 28] [Params] {'cmd': 'unidock_pipeline', 'receptor': 'dataset/crossdocktest_pdbqt/4rn0_B_rec.pdbqt', 'ligands': None, 'ligand_index': '/tmp/tmpsun1lkdd/smiles_list.txt', 'center_x': -21.05715151515151, 'center_y': -5.662727272727273, 'center_z': 3.1404848484848484, 'size_x': 22.5, 'size_y': 22.5, 'size_z': 22.5, 'workdir': 'unidock_pipeline_wlbgg', 'savedir': '/tmp/tmpsun1lkdd/docking', 'batch_size': 18000, 'scoring_function': 'vina', 'search_mode': '', 'exhaustiveness': 384, 'max_step': 40, 'num_modes': 3, 'refine_step': 3, 'energy_range': 3.0, 'topn': 100, 'score_only': False, 'local_only': False, 'seed': 181129, 'debug': False}\n",
      "[INFO][2024-05-23 07:16:38,228][unidock_pipeline.py 223] [UniDock Pipeline] 100 ligands found.\n",
      "[INFO][2024-05-23 07:16:38,228][unidock_pipeline.py 225] [UniDock Pipeline] Start\n",
      "[INFO][2024-05-23 07:16:38,252][unidock_pipeline.py 238] [UniDock Pipeline] Start docking\n",
      "[INFO][2024-05-23 07:16:38,863][unidock.py 94] unidock cmd: unidock --receptor /home/tsa87/refactor-tacogfn/dataset/crossdocktest_pdbqt/4rn0_B_rec.pdbqt --ligand_index unidock_20240523071638/ligand_index_wdyw.txt --dir /home/tsa87/refactor-tacogfn/unidock_pipeline_wlbgg/docking_dir/docking_results --exhaustiveness 384 --max_step 40 --center_x -21.05715151515151 --center_y -5.662727272727273 --center_z 3.1404848484848484 --size_x 22.5 --size_y 22.5 --size_z 22.5 --scoring vina --num_modes 3 --energy_range 3.0 --refine_step 3 --seed 181129 --verbosity 2 --keep_nonpolar_H\n",
      "[INFO][2024-05-23 07:16:42,151][unidock_pipeline.py 257] UniDock Pipeline finished (3.92 s)\n"
     ]
    },
    {
     "data": {
      "text/plain": [
       "[-3.61,\n",
       " -3.598,\n",
       " -3.609,\n",
       " -3.598,\n",
       " -3.606,\n",
       " -3.606,\n",
       " -3.604,\n",
       " -3.6,\n",
       " -3.6,\n",
       " -3.607,\n",
       " -3.614,\n",
       " -3.61,\n",
       " -3.613,\n",
       " -3.604,\n",
       " -3.604,\n",
       " -3.616,\n",
       " -3.6,\n",
       " -3.62,\n",
       " -3.605,\n",
       " -3.61,\n",
       " -3.603,\n",
       " -3.619,\n",
       " -3.617,\n",
       " -3.604,\n",
       " -3.611,\n",
       " -3.62,\n",
       " -3.603,\n",
       " -3.611,\n",
       " -3.622,\n",
       " -3.609,\n",
       " -3.607,\n",
       " -3.621,\n",
       " -3.614,\n",
       " -3.599,\n",
       " -3.616,\n",
       " -3.607,\n",
       " -3.604,\n",
       " -3.606,\n",
       " -3.586,\n",
       " -3.606,\n",
       " -3.615,\n",
       " -3.597,\n",
       " -3.603,\n",
       " -3.608,\n",
       " -3.612,\n",
       " -3.585,\n",
       " -3.597,\n",
       " -3.608,\n",
       " -3.614,\n",
       " -3.61,\n",
       " -3.623,\n",
       " -3.609,\n",
       " -3.608,\n",
       " -3.606,\n",
       " -3.604,\n",
       " -3.6,\n",
       " -3.613,\n",
       " -3.609,\n",
       " -3.613,\n",
       " -3.619,\n",
       " -3.601,\n",
       " -3.608,\n",
       " -3.598,\n",
       " -3.596,\n",
       " -3.6,\n",
       " -3.614,\n",
       " -3.613,\n",
       " -3.616,\n",
       " -3.602,\n",
       " -3.612,\n",
       " -3.611,\n",
       " -3.601,\n",
       " -3.607,\n",
       " -3.599,\n",
       " -3.59,\n",
       " -3.599,\n",
       " -3.602,\n",
       " -3.59,\n",
       " -3.617,\n",
       " -3.623,\n",
       " -3.608,\n",
       " -3.597,\n",
       " -3.613,\n",
       " -3.6,\n",
       " -3.606,\n",
       " -3.599,\n",
       " -3.605,\n",
       " -3.596,\n",
       " -3.607,\n",
       " -3.595,\n",
       " -3.601,\n",
       " -3.604,\n",
       " -3.599,\n",
       " -3.588,\n",
       " -3.598,\n",
       " -3.6,\n",
       " -3.603,\n",
       " -3.617,\n",
       " -3.614,\n",
       " -3.613]"
      ]
     },
     "execution_count": 6,
     "metadata": {},
     "output_type": "execute_result"
    }
   ],
   "source": [
    "unidock_scores(['c1ccccc1'] * 100, os.path.join(rec_folder, '4rn0_B_rec.pdbqt'), -21.05715151515151, -5.662727272727273, 3.1404848484848484)"
   ]
  },
  {
   "cell_type": "code",
   "execution_count": 7,
   "metadata": {},
   "outputs": [
    {
     "name": "stderr",
     "output_type": "stream",
     "text": [
      "Processing SMILES: 100%|██████████| 100/100 [00:00<00:00, 295165.66it/s]\n",
      "/home/tsa87/anaconda3/envs/tacogfn/lib/python3.9/site-packages/networkx/utils/backends.py:135: RuntimeWarning: networkx backend defined more than once: nx-loopback\n",
      "  backends.update(_get_backends(\"networkx.backends\"))\n"
     ]
    },
    {
     "name": "stdout",
     "output_type": "stream",
     "text": [
      "[INFO][2024-05-23 07:16:52,770][main.py 28] [Params] {'cmd': 'unidock_pipeline', 'receptor': 'dataset/crossdocktest_pdbqt/4rn0_B_rec.pdbqt', 'ligands': None, 'ligand_index': '/tmp/tmp4n7gbulp/smiles_list.txt', 'center_x': -21.05715151515151, 'center_y': -5.662727272727273, 'center_z': 3.1404848484848484, 'size_x': 22.5, 'size_y': 22.5, 'size_z': 22.5, 'workdir': 'unidock_pipeline_ljmaa', 'savedir': '/tmp/tmp4n7gbulp/docking', 'batch_size': 18000, 'scoring_function': 'vina', 'search_mode': '', 'exhaustiveness': 128, 'max_step': 20, 'num_modes': 3, 'refine_step': 3, 'energy_range': 3.0, 'topn': 100, 'score_only': False, 'local_only': False, 'seed': 181129, 'debug': False}\n",
      "[INFO][2024-05-23 07:16:52,772][unidock_pipeline.py 223] [UniDock Pipeline] 100 ligands found.\n",
      "[INFO][2024-05-23 07:16:52,772][unidock_pipeline.py 225] [UniDock Pipeline] Start\n",
      "[INFO][2024-05-23 07:16:52,794][unidock_pipeline.py 238] [UniDock Pipeline] Start docking\n",
      "[INFO][2024-05-23 07:16:53,403][unidock.py 94] unidock cmd: unidock --receptor /home/tsa87/refactor-tacogfn/dataset/crossdocktest_pdbqt/4rn0_B_rec.pdbqt --ligand_index unidock_20240523071653/ligand_index_gogz.txt --dir /home/tsa87/refactor-tacogfn/unidock_pipeline_ljmaa/docking_dir/docking_results --exhaustiveness 128 --max_step 20 --center_x -21.05715151515151 --center_y -5.662727272727273 --center_z 3.1404848484848484 --size_x 22.5 --size_y 22.5 --size_z 22.5 --scoring vina --num_modes 3 --energy_range 3.0 --refine_step 3 --seed 181129 --verbosity 2 --keep_nonpolar_H\n",
      "[INFO][2024-05-23 07:16:55,464][unidock_pipeline.py 257] UniDock Pipeline finished (2.69 s)\n"
     ]
    },
    {
     "data": {
      "text/plain": [
       "[-3.6,\n",
       " -3.603,\n",
       " -3.6,\n",
       " -3.605,\n",
       " -3.59,\n",
       " -3.609,\n",
       " -3.611,\n",
       " -3.619,\n",
       " -3.602,\n",
       " -3.587,\n",
       " -3.605,\n",
       " -3.6,\n",
       " -3.612,\n",
       " -3.61,\n",
       " -3.606,\n",
       " -3.582,\n",
       " -3.612,\n",
       " -3.601,\n",
       " -3.596,\n",
       " -3.596,\n",
       " -3.611,\n",
       " -3.612,\n",
       " -3.601,\n",
       " -3.594,\n",
       " -3.606,\n",
       " -3.593,\n",
       " -3.602,\n",
       " -3.601,\n",
       " -3.615,\n",
       " -3.601,\n",
       " -3.596,\n",
       " -3.621,\n",
       " -3.6,\n",
       " -3.613,\n",
       " -3.605,\n",
       " -3.588,\n",
       " -3.612,\n",
       " -3.605,\n",
       " -3.602,\n",
       " -3.576,\n",
       " -3.597,\n",
       " -3.612,\n",
       " -3.603,\n",
       " -3.608,\n",
       " -3.617,\n",
       " -3.605,\n",
       " -3.596,\n",
       " -3.601,\n",
       " -3.597,\n",
       " -3.613,\n",
       " -3.577,\n",
       " -3.597,\n",
       " -3.601,\n",
       " -3.596,\n",
       " -3.581,\n",
       " -3.611,\n",
       " -3.604,\n",
       " -3.59,\n",
       " -3.601,\n",
       " -3.603,\n",
       " -3.601,\n",
       " -3.586,\n",
       " -3.604,\n",
       " -3.615,\n",
       " -3.589,\n",
       " -3.595,\n",
       " -3.599,\n",
       " -3.524,\n",
       " -3.609,\n",
       " -3.599,\n",
       " -3.589,\n",
       " -3.618,\n",
       " -3.599,\n",
       " -3.616,\n",
       " -3.597,\n",
       " -3.617,\n",
       " -3.593,\n",
       " -3.593,\n",
       " -3.589,\n",
       " -3.606,\n",
       " -3.61,\n",
       " -3.615,\n",
       " -3.596,\n",
       " -3.612,\n",
       " -3.595,\n",
       " -3.599,\n",
       " -3.567,\n",
       " -3.614,\n",
       " -3.605,\n",
       " -3.603,\n",
       " -3.605,\n",
       " -3.607,\n",
       " -3.593,\n",
       " -3.615,\n",
       " -3.606,\n",
       " -3.606,\n",
       " -3.601,\n",
       " -3.603,\n",
       " -3.622,\n",
       " -3.582]"
      ]
     },
     "execution_count": 7,
     "metadata": {},
     "output_type": "execute_result"
    }
   ],
   "source": [
    "unidock_scores(['c1ccccc1'] * 100, os.path.join(rec_folder, '4rn0_B_rec.pdbqt'), -21.05715151515151, -5.662727272727273, 3.1404848484848484, mode='fast')"
   ]
  },
  {
   "cell_type": "code",
   "execution_count": null,
   "metadata": {},
   "outputs": [],
   "source": []
  }
 ],
 "metadata": {
  "kernelspec": {
   "display_name": "tacogfn",
   "language": "python",
   "name": "python3"
  },
  "language_info": {
   "codemirror_mode": {
    "name": "ipython",
    "version": 3
   },
   "file_extension": ".py",
   "mimetype": "text/x-python",
   "name": "python",
   "nbconvert_exporter": "python",
   "pygments_lexer": "ipython3",
   "version": "3.9.18"
  }
 },
 "nbformat": 4,
 "nbformat_minor": 2
}
