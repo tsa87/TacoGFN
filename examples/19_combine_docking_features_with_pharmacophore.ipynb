{
 "cells": [
  {
   "cell_type": "code",
   "execution_count": 1,
   "metadata": {},
   "outputs": [],
   "source": [
    "import os\n",
    "os.chdir('..')"
   ]
  },
  {
   "cell_type": "code",
   "execution_count": 2,
   "metadata": {},
   "outputs": [
    {
     "name": "stderr",
     "output_type": "stream",
     "text": [
      "/home/tsa87/anaconda3/envs/tacogfn/lib/python3.9/site-packages/tqdm/auto.py:21: TqdmWarning: IProgress not found. Please update jupyter and ipywidgets. See https://ipywidgets.readthedocs.io/en/stable/user_install.html\n",
      "  from .autonotebook import tqdm as notebook_tqdm\n"
     ]
    }
   ],
   "source": [
    "import torch\n",
    "import numpy as np\n",
    "from omegaconf import OmegaConf\n",
    "from src.scoring import PrecalculationModule"
   ]
  },
  {
   "cell_type": "code",
   "execution_count": 37,
   "metadata": {},
   "outputs": [],
   "source": [
    "MODEL_PATH = 'model_weights/model.tar'\n",
    "HEAD_PATH = 'model_weights/crossdocked_dim_128.pth'"
   ]
  },
  {
   "cell_type": "code",
   "execution_count": 38,
   "metadata": {},
   "outputs": [],
   "source": [
    "head = torch.load(HEAD_PATH)\n",
    "score_threshold = head[\"absolute_score_threshold\"]\n",
    "\n",
    "cfg = OmegaConf.create(head['config'])\n",
    "focus_threshold = cfg.THRESHOLD.FOCUS\n",
    "box_threshold = cfg.THRESHOLD.BOX"
   ]
  },
  {
   "cell_type": "code",
   "execution_count": 39,
   "metadata": {},
   "outputs": [
    {
     "data": {
      "text/plain": [
       "{'Hydrophobic': 0.12035781145095825,\n",
       " 'PiStacking_P': 0.0017433513421565294,\n",
       " 'PiStacking_T': 0.027523474767804146,\n",
       " 'PiCation_lring': 0.009127387776970863,\n",
       " 'PiCation_pring': 0.001319622853770852,\n",
       " 'HBond_ldon': 0.0827205702662468,\n",
       " 'HBond_pdon': 0.12345150858163834,\n",
       " 'SaltBridge_lneg': 0.12117615342140198,\n",
       " 'SaltBridge_pneg': 0.06078973412513733,\n",
       " 'XBond': 0.0020935165230184793}"
      ]
     },
     "execution_count": 39,
     "metadata": {},
     "output_type": "execute_result"
    }
   ],
   "source": [
    "score_threshold"
   ]
  },
  {
   "cell_type": "code",
   "execution_count": 5,
   "metadata": {},
   "outputs": [],
   "source": [
    "# predictor = PrecalculationModule(MODEL_PATH, HEAD_PATH, 'cuda')"
   ]
  },
  {
   "cell_type": "code",
   "execution_count": 23,
   "metadata": {},
   "outputs": [],
   "source": []
  },
  {
   "cell_type": "code",
   "execution_count": 24,
   "metadata": {},
   "outputs": [],
   "source": [
    "from src.pharmaconet.modeling import ModelingModule\n",
    "module = ModelingModule('model_weights/model.tar', 'cuda',\n",
    "                        score_threshold=score_threshold)"
   ]
  },
  {
   "cell_type": "code",
   "execution_count": 25,
   "metadata": {},
   "outputs": [],
   "source": [
    "split_file = torch.load('dataset/pocket_to_ligands.pt')"
   ]
  },
  {
   "cell_type": "code",
   "execution_count": 26,
   "metadata": {},
   "outputs": [],
   "source": [
    "for rec_id, lig_id in split_file.items():\n",
    "    rec_path = os.path.join('dataset/crossdock', rec_id + '_rec.pdb')\n",
    "    lig_path = os.path.join('dataset/crossdocked_pocket10', lig_id)\n",
    "    \n",
    "    p_model = module.run(rec_path, ref_ligand_path=lig_path)\n",
    "    break"
   ]
  },
  {
   "cell_type": "code",
   "execution_count": 43,
   "metadata": {},
   "outputs": [
    {
     "data": {
      "text/plain": [
       "(192,)"
      ]
     },
     "execution_count": 43,
     "metadata": {},
     "output_type": "execute_result"
    }
   ],
   "source": [
    "p_model.nodes[2].feature.shape"
   ]
  },
  {
   "cell_type": "code",
   "execution_count": 9,
   "metadata": {},
   "outputs": [],
   "source": [
    "# center: [ -5.1225715 -32.597176    6.1419644]"
   ]
  },
  {
   "cell_type": "code",
   "execution_count": 23,
   "metadata": {},
   "outputs": [],
   "source": [
    "pocket_image2, tokens2 = predictor._PrecalculationModule__parse_protein(rec_path,  np.array([-5.1225715, -32.597176, 6.1419644]))"
   ]
  },
  {
   "cell_type": "code",
   "execution_count": 8,
   "metadata": {},
   "outputs": [
    {
     "name": "stdout",
     "output_type": "stream",
     "text": [
      "4xe6_X\n",
      "64\n"
     ]
    }
   ],
   "source": [
    "print(rec_id)\n",
    "print(len(p_model.nodes))"
   ]
  },
  {
   "cell_type": "code",
   "execution_count": null,
   "metadata": {},
   "outputs": [],
   "source": []
  }
 ],
 "metadata": {
  "kernelspec": {
   "display_name": "tacogfn",
   "language": "python",
   "name": "python3"
  },
  "language_info": {
   "codemirror_mode": {
    "name": "ipython",
    "version": 3
   },
   "file_extension": ".py",
   "mimetype": "text/x-python",
   "name": "python",
   "nbconvert_exporter": "python",
   "pygments_lexer": "ipython3",
   "version": "3.9.18"
  }
 },
 "nbformat": 4,
 "nbformat_minor": 2
}
