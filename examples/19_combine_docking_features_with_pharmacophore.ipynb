{
 "cells": [
  {
   "cell_type": "code",
   "execution_count": 1,
   "metadata": {},
   "outputs": [],
   "source": [
    "import os\n",
    "os.chdir('..')"
   ]
  },
  {
   "cell_type": "code",
   "execution_count": 2,
   "metadata": {},
   "outputs": [
    {
     "name": "stderr",
     "output_type": "stream",
     "text": [
      "/home/tsa87/anaconda3/envs/tacogfn/lib/python3.9/site-packages/tqdm/auto.py:21: TqdmWarning: IProgress not found. Please update jupyter and ipywidgets. See https://ipywidgets.readthedocs.io/en/stable/user_install.html\n",
      "  from .autonotebook import tqdm as notebook_tqdm\n"
     ]
    }
   ],
   "source": [
    "import torch\n",
    "import numpy as np\n",
    "from omegaconf import OmegaConf\n",
    "from src.scoring import PrecalculationModule"
   ]
  },
  {
   "cell_type": "code",
   "execution_count": 3,
   "metadata": {},
   "outputs": [],
   "source": [
    "MODEL_PATH = 'model_weights/model.tar'\n",
    "HEAD_PATH = 'model_weights/zinc_1000_dim_256.pth'"
   ]
  },
  {
   "cell_type": "code",
   "execution_count": 4,
   "metadata": {},
   "outputs": [],
   "source": [
    "head = torch.load(HEAD_PATH)\n",
    "score_threshold = head[\"absolute_score_threshold\"]\n",
    "\n",
    "cfg = OmegaConf.create(head['config'])\n",
    "focus_threshold = cfg.THRESHOLD.FOCUS\n",
    "box_threshold = cfg.THRESHOLD.BOX"
   ]
  },
  {
   "cell_type": "code",
   "execution_count": 5,
   "metadata": {},
   "outputs": [],
   "source": [
    "# predictor = PrecalculationModule(MODEL_PATH, HEAD_PATH, 'cuda')"
   ]
  },
  {
   "cell_type": "code",
   "execution_count": 5,
   "metadata": {},
   "outputs": [],
   "source": [
    "from src.pharmaconet.modeling import ModelingModule\n",
    "module = ModelingModule('model_weights/model.tar', 'cuda',\n",
    "                        focus_threshold=focus_threshold,\n",
    "                        box_threshold=box_threshold,\n",
    "                        score_threshold=score_threshold)"
   ]
  },
  {
   "cell_type": "code",
   "execution_count": 7,
   "metadata": {},
   "outputs": [],
   "source": [
    "split_file = torch.load('dataset/pocket_to_ligands.pt')"
   ]
  },
  {
   "cell_type": "code",
   "execution_count": 8,
   "metadata": {},
   "outputs": [],
   "source": [
    "for rec_id, lig_id in split_file.items():\n",
    "    rec_path = os.path.join('dataset/crossdock', rec_id + '_rec.pdb')\n",
    "    lig_path = os.path.join('dataset/crossdocked_pocket10', lig_id)\n",
    "    \n",
    "    p_model = module.run(rec_path, ref_ligand_path=lig_path)\n",
    "    break"
   ]
  },
  {
   "cell_type": "code",
   "execution_count": 12,
   "metadata": {},
   "outputs": [
    {
     "data": {
      "text/plain": [
       "array([ 3.00607085e-03,  7.81376660e-01,  5.09609938e+00,  1.82631940e-01,\n",
       "        3.34946930e-01,  3.16515565e-01,  6.78936899e-01, -4.44812663e-02,\n",
       "       -1.11003570e-01,  9.69555825e-02,  3.61912325e-02,  1.02629565e-01,\n",
       "        1.27877101e-01,  1.11688578e+00, -2.14803405e-02, -8.74845609e-02,\n",
       "        2.04536974e-01,  1.17669797e+00,  1.67102173e-01, -2.35504165e-01,\n",
       "        1.76707447e-01,  1.81422067e+00, -2.21573249e-01,  1.60369262e-01,\n",
       "        5.66082954e-01, -2.50028968e-01,  1.59415781e-01,  1.78260505e-01,\n",
       "        7.57520199e-02,  8.21047798e-02,  2.51354027e+00,  1.18668504e-01,\n",
       "        2.19667912e-01,  4.62436295e+00,  3.52643430e-01,  1.83771753e+00,\n",
       "        2.80970156e-01,  1.69603586e+00,  4.79777575e+00,  1.60204634e-01,\n",
       "        3.95592308e+00,  1.44217551e-01, -1.91319749e-01,  2.07374144e+00,\n",
       "       -2.03853533e-01,  1.06751304e-02,  1.91873825e+00,  4.11036871e-02,\n",
       "        5.62935174e-01,  2.11866689e+00,  2.00081015e+00, -2.58941531e-01,\n",
       "        1.91227865e+00,  1.76527095e+00,  1.46862641e-01,  1.32201517e+00,\n",
       "        9.90910754e-02,  1.37122437e-01,  1.64756596e-01, -4.00766060e-02,\n",
       "        1.63093925e-01,  1.82676637e+00,  9.30369943e-02,  1.01445770e+00,\n",
       "       -1.97176099e-01,  1.70012742e-01,  8.63160253e-01, -1.00026643e-02,\n",
       "        1.73456803e-01,  2.72551291e-02,  3.10259986e+00,  2.20049906e+00,\n",
       "        1.76768112e+00,  1.86376739e+00, -2.74916947e-01,  2.51004505e+00,\n",
       "        1.26575136e+00,  1.54550001e-01, -1.69681057e-01, -7.45300204e-02,\n",
       "        8.98233116e-01,  1.88983500e-01,  1.62606418e-01, -2.42753148e-01,\n",
       "        8.40345100e-02, -2.23580539e-01,  1.11269307e+00,  1.53321847e-01,\n",
       "        3.69342774e-01, -1.32109195e-01,  2.15333390e+00,  4.14993078e-01,\n",
       "        3.76325339e-01,  1.38311148e-01,  2.12539673e+00,  1.34847999e-01,\n",
       "        8.28008890e-01, -4.97085810e-01,  4.21023637e-01,  6.97373003e-02,\n",
       "        4.18913513e-02,  3.41374695e-01,  6.53199255e-01,  2.33977884e-01,\n",
       "       -5.74490607e-01, -1.14690185e-01,  9.27109480e-01,  1.56097710e-02,\n",
       "        1.11351296e-01, -2.45427266e-01, -3.47111732e-01, -3.98953199e-01,\n",
       "       -8.14809740e-01,  1.39804885e-01, -9.17651772e-01,  1.25413442e+00,\n",
       "        4.13831383e-01, -2.58471340e-01,  2.73745179e-01, -6.69977248e-01,\n",
       "        4.77210134e-02,  4.85119969e-02,  2.35553548e-01, -3.08140934e-01,\n",
       "       -6.12588823e-01, -1.18129238e-01, -3.03669363e-01, -3.36477339e-01,\n",
       "       -1.49134398e-01,  6.98954701e-01,  3.16661865e-01,  1.13167024e+00,\n",
       "        3.92256677e-03, -5.04911840e-01, -1.17076293e-01,  7.33107865e-01,\n",
       "       -8.95353928e-02, -1.08205825e-01,  1.35814846e-01,  7.50786841e-01,\n",
       "       -2.04937264e-01,  4.44866717e-01,  1.90196455e-01, -5.34071803e-01,\n",
       "       -2.28290454e-01,  3.07268798e-01,  1.77376926e-01, -9.40520883e-01,\n",
       "        4.33294237e-01, -3.79633695e-01, -6.44458830e-01, -5.22997081e-01,\n",
       "        2.86076128e-01, -3.69294465e-01,  1.87183708e-01, -3.86506796e-01,\n",
       "        5.25556445e-01, -1.78132057e-01,  5.82016170e-01,  2.02191606e-01,\n",
       "        1.39914051e-01,  2.35723495e-01,  5.59018135e-01, -6.46584988e-01,\n",
       "        4.26078498e-01,  4.02117819e-01,  4.09972250e-01,  1.75308183e-01,\n",
       "       -2.75335252e-01, -4.37995195e-01,  4.03435647e-01,  1.46175504e-01,\n",
       "       -6.98543727e-01,  5.62729955e-01,  7.03076482e-01, -6.87867522e-01,\n",
       "       -1.06346875e-01,  1.36651784e-01, -5.44581890e-01,  4.55580235e-01,\n",
       "        7.09675431e-01,  4.39424396e-01, -1.41824335e-02, -7.48964667e-01,\n",
       "        5.64320326e-01,  4.91160572e-01, -1.47581920e-01,  6.57824993e-01,\n",
       "        4.35691327e-03, -6.26017809e-01, -4.66972053e-01, -3.04278463e-01],\n",
       "      dtype=float32)"
      ]
     },
     "execution_count": 12,
     "metadata": {},
     "output_type": "execute_result"
    }
   ],
   "source": [
    "p_model.nodes[0].feature"
   ]
  },
  {
   "cell_type": "code",
   "execution_count": 9,
   "metadata": {},
   "outputs": [],
   "source": [
    "# center: [ -5.1225715 -32.597176    6.1419644]"
   ]
  },
  {
   "cell_type": "code",
   "execution_count": 23,
   "metadata": {},
   "outputs": [],
   "source": [
    "pocket_image2, tokens2 = predictor._PrecalculationModule__parse_protein(rec_path,  np.array([-5.1225715, -32.597176, 6.1419644]))"
   ]
  },
  {
   "cell_type": "code",
   "execution_count": 8,
   "metadata": {},
   "outputs": [
    {
     "name": "stdout",
     "output_type": "stream",
     "text": [
      "4xe6_X\n",
      "64\n"
     ]
    }
   ],
   "source": [
    "print(rec_id)\n",
    "print(len(p_model.nodes))"
   ]
  },
  {
   "cell_type": "code",
   "execution_count": 16,
   "metadata": {},
   "outputs": [
    {
     "data": {
      "text/plain": [
       "torch.Size([45, 256])"
      ]
     },
     "execution_count": 16,
     "metadata": {},
     "output_type": "execute_result"
    }
   ],
   "source": [
    "p2_model['token_features'].shape"
   ]
  },
  {
   "cell_type": "code",
   "execution_count": null,
   "metadata": {},
   "outputs": [],
   "source": []
  }
 ],
 "metadata": {
  "kernelspec": {
   "display_name": "tacogfn",
   "language": "python",
   "name": "python3"
  },
  "language_info": {
   "codemirror_mode": {
    "name": "ipython",
    "version": 3
   },
   "file_extension": ".py",
   "mimetype": "text/x-python",
   "name": "python",
   "nbconvert_exporter": "python",
   "pygments_lexer": "ipython3",
   "version": "3.9.18"
  }
 },
 "nbformat": 4,
 "nbformat_minor": 2
}
