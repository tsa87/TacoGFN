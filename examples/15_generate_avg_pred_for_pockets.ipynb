{
 "cells": [
  {
   "cell_type": "code",
   "execution_count": 15,
   "metadata": {},
   "outputs": [],
   "source": [
    "import sys\n",
    "import pandas as pd\n",
    "from glob import glob\n",
    "from tqdm import tqdm   \n",
    "\n",
    "sys.path.append('../')"
   ]
  },
  {
   "cell_type": "code",
   "execution_count": 12,
   "metadata": {},
   "outputs": [],
   "source": [
    "from src.tacogfn.data.pharmacophore import PharmacoDB\n",
    "from src.scoring.scoring_module import AffinityPredictor"
   ]
  },
  {
   "cell_type": "code",
   "execution_count": 13,
   "metadata": {},
   "outputs": [],
   "source": [
    "HEAD_PATH = \"../model_weights/base_100_per_pocket.pth\"\n",
    "device = 'cuda'\n",
    "predictor = AffinityPredictor(HEAD_PATH, device)"
   ]
  },
  {
   "cell_type": "code",
   "execution_count": 14,
   "metadata": {},
   "outputs": [],
   "source": [
    "pharmacophore_paths = glob('../dataset/docking_pharmacophores/*.pt')"
   ]
  },
  {
   "cell_type": "code",
   "execution_count": 17,
   "metadata": {},
   "outputs": [],
   "source": [
    "zinc250k = pd.read_csv('../dataset/zinc_250k.csv')"
   ]
  },
  {
   "cell_type": "code",
   "execution_count": 33,
   "metadata": {},
   "outputs": [],
   "source": [
    "smiles_list = [smi.strip() for smi in zinc250k['smiles'].sample(20).to_list()]"
   ]
  },
  {
   "cell_type": "code",
   "execution_count": 34,
   "metadata": {},
   "outputs": [],
   "source": [
    "avg_scores = {}"
   ]
  },
  {
   "cell_type": "code",
   "execution_count": 35,
   "metadata": {},
   "outputs": [
    {
     "name": "stderr",
     "output_type": "stream",
     "text": [
      "100%|██████████| 15252/15252 [12:07<00:00, 20.95it/s]\n"
     ]
    }
   ],
   "source": [
    "import torch\n",
    "import numpy as np\n",
    "\n",
    "for pharmacophore_path in tqdm(pharmacophore_paths):\n",
    "    pocket_id = pharmacophore_path.split('/')[-1].split('.')[0]\n",
    "    features = torch.load(pharmacophore_path, map_location=device)\n",
    "    \n",
    "    avg_scores[pocket_id] = []\n",
    "    for smiles in smiles_list:\n",
    "        score = predictor.scoring(features, smiles).item()\n",
    "        avg_scores[pocket_id].append(score)"
   ]
  },
  {
   "cell_type": "code",
   "execution_count": 37,
   "metadata": {},
   "outputs": [],
   "source": [
    "final_scores = {}\n",
    "for pocket_id in avg_scores.keys():\n",
    "    final_scores[pocket_id[:-4]] = np.mean(avg_scores[pocket_id])"
   ]
  },
  {
   "cell_type": "code",
   "execution_count": 39,
   "metadata": {},
   "outputs": [],
   "source": [
    "torch.save(final_scores, '../model_weights/avg_scores/avg_for_base_100_per_pocket.pt')"
   ]
  },
  {
   "cell_type": "code",
   "execution_count": null,
   "metadata": {},
   "outputs": [],
   "source": []
  }
 ],
 "metadata": {
  "kernelspec": {
   "display_name": "tacogfn",
   "language": "python",
   "name": "python3"
  },
  "language_info": {
   "codemirror_mode": {
    "name": "ipython",
    "version": 3
   },
   "file_extension": ".py",
   "mimetype": "text/x-python",
   "name": "python",
   "nbconvert_exporter": "python",
   "pygments_lexer": "ipython3",
   "version": "3.9.18"
  }
 },
 "nbformat": 4,
 "nbformat_minor": 2
}
