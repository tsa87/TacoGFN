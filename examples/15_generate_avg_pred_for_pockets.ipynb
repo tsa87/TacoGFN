{
 "cells": [
  {
   "cell_type": "code",
   "execution_count": 1,
   "metadata": {},
   "outputs": [],
   "source": [
    "import os\n",
    "os.chdir('../')"
   ]
  },
  {
   "cell_type": "code",
   "execution_count": 30,
   "metadata": {},
   "outputs": [
    {
     "name": "stderr",
     "output_type": "stream",
     "text": [
      "/home/tsa87/anaconda3/envs/tacogfn/lib/python3.9/site-packages/tqdm/auto.py:21: TqdmWarning: IProgress not found. Please update jupyter and ipywidgets. See https://ipywidgets.readthedocs.io/en/stable/user_install.html\n",
      "  from .autonotebook import tqdm as notebook_tqdm\n"
     ]
    }
   ],
   "source": [
    "import torch\n",
    "import pandas as pd\n",
    "from glob import glob\n",
    "from tqdm import tqdm   "
   ]
  },
  {
   "cell_type": "code",
   "execution_count": 5,
   "metadata": {},
   "outputs": [],
   "source": [
    "result_files = glob('dataset/zinc_1000/*.csv')"
   ]
  },
  {
   "cell_type": "code",
   "execution_count": 25,
   "metadata": {},
   "outputs": [
    {
     "name": "stderr",
     "output_type": "stream",
     "text": [
      "100%|██████████| 15207/15207 [00:14<00:00, 1041.37it/s]\n"
     ]
    }
   ],
   "source": [
    "avg_scores = {}\n",
    "all_scores = []\n",
    "\n",
    "for file in tqdm(result_files):\n",
    "    pdb_id = file.split('/')[-1].split('_rec')[0]\n",
    "    df = pd.read_csv(file)\n",
    "    \n",
    "    all_scores.extend(df['VINA_SCORE'].values)\n",
    "    avg_scores[pdb_id] = min(df['VINA_SCORE'].mean(), 0)"
   ]
  },
  {
   "cell_type": "code",
   "execution_count": 31,
   "metadata": {},
   "outputs": [],
   "source": [
    "torch.save(avg_scores, 'dataset/pocket_to_avg_zinc_vina_score.pt')"
   ]
  },
  {
   "cell_type": "code",
   "execution_count": 26,
   "metadata": {},
   "outputs": [
    {
     "data": {
      "text/plain": [
       "-7.159119627047481"
      ]
     },
     "execution_count": 26,
     "metadata": {},
     "output_type": "execute_result"
    }
   ],
   "source": [
    "#sort the dictionary by value\n",
    "import numpy as np\n",
    "\n",
    "np.mean(all_scores)"
   ]
  },
  {
   "cell_type": "code",
   "execution_count": 28,
   "metadata": {},
   "outputs": [
    {
     "data": {
      "text/plain": [
       "(array([1.000000e+00, 1.000000e+00, 2.000000e+00, 9.000000e+00,\n",
       "        1.600000e+01, 4.800000e+01, 9.100000e+01, 1.980000e+02,\n",
       "        4.560000e+02, 9.620000e+02, 1.933000e+03, 4.045000e+03,\n",
       "        1.169700e+04, 1.792400e+04, 3.229700e+04, 5.605400e+04,\n",
       "        9.340400e+04, 1.505070e+05, 2.336650e+05, 3.446910e+05,\n",
       "        4.876710e+05, 6.575380e+05, 8.460080e+05, 1.040566e+06,\n",
       "        1.214571e+06, 1.813675e+06, 1.418405e+06, 1.379763e+06,\n",
       "        1.265306e+06, 1.088144e+06, 8.766500e+05, 6.623670e+05,\n",
       "        4.704030e+05, 3.164250e+05, 2.049960e+05, 1.298480e+05,\n",
       "        8.092000e+04, 6.035600e+04, 2.532600e+04, 1.725600e+04,\n",
       "        1.301000e+04, 1.108100e+04, 1.000000e+04, 9.247000e+03,\n",
       "        8.527000e+03, 7.536000e+03, 6.711000e+03, 6.417000e+03,\n",
       "        6.763000e+03, 9.485300e+04]),\n",
       " array([-15.4  , -15.092, -14.784, -14.476, -14.168, -13.86 , -13.552,\n",
       "        -13.244, -12.936, -12.628, -12.32 , -12.012, -11.704, -11.396,\n",
       "        -11.088, -10.78 , -10.472, -10.164,  -9.856,  -9.548,  -9.24 ,\n",
       "         -8.932,  -8.624,  -8.316,  -8.008,  -7.7  ,  -7.392,  -7.084,\n",
       "         -6.776,  -6.468,  -6.16 ,  -5.852,  -5.544,  -5.236,  -4.928,\n",
       "         -4.62 ,  -4.312,  -4.004,  -3.696,  -3.388,  -3.08 ,  -2.772,\n",
       "         -2.464,  -2.156,  -1.848,  -1.54 ,  -1.232,  -0.924,  -0.616,\n",
       "         -0.308,   0.   ]),\n",
       " <BarContainer object of 50 artists>)"
      ]
     },
     "execution_count": 28,
     "metadata": {},
     "output_type": "execute_result"
    },
    {
     "data": {
      "image/png": "[encoded data removed]",
      "text/plain": [
       "<Figure size 640x480 with 1 Axes>"
      ]
     },
     "metadata": {},
     "output_type": "display_data"
    }
   ],
   "source": [
    "import matplotlib.pyplot as plt\n",
    "\n",
    "plt.hist([min(0, s) for s in all_scores], bins=50)"
   ]
  },
  {
   "cell_type": "code",
   "execution_count": 39,
   "metadata": {},
   "outputs": [],
   "source": []
  }
 ],
 "metadata": {
  "kernelspec": {
   "display_name": "tacogfn",
   "language": "python",
   "name": "python3"
  },
  "language_info": {
   "codemirror_mode": {
    "name": "ipython",
    "version": 3
   },
   "file_extension": ".py",
   "mimetype": "text/x-python",
   "name": "python",
   "nbconvert_exporter": "python",
   "pygments_lexer": "ipython3",
   "version": "3.9.18"
  }
 },
 "nbformat": 4,
 "nbformat_minor": 2
}
