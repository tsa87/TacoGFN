{
 "cells": [
  {
   "cell_type": "code",
   "execution_count": 8,
   "metadata": {},
   "outputs": [],
   "source": [
    "import sys\n",
    "\n",
    "sys.path.append('../')"
   ]
  },
  {
   "cell_type": "code",
   "execution_count": 9,
   "metadata": {},
   "outputs": [],
   "source": [
    "from src.tacogfn.data.pharmacophore import PharmacoDB\n",
    "from src.scoring.scoring_module import AffinityPredictor"
   ]
  },
  {
   "cell_type": "code",
   "execution_count": 10,
   "metadata": {},
   "outputs": [],
   "source": [
    "HEAD_PATH = \"../model_weights/base_100_per_pocket.pth\"\n",
    "device = 'cpu'\n",
    "predictor = AffinityPredictor(HEAD_PATH, device)"
   ]
  },
  {
   "cell_type": "code",
   "execution_count": 15,
   "metadata": {},
   "outputs": [],
   "source": [
    "import torch\n",
    "\n",
    "features = torch.load('../dataset/docking_pharmacophores/1a3y_B_rec.pt', map_location=device)"
   ]
  },
  {
   "cell_type": "code",
   "execution_count": 16,
   "metadata": {},
   "outputs": [],
   "source": [
    "smiles_list = ['c1ccccc1', 'C1CCCCC1', 'CCCCCC']"
   ]
  },
  {
   "cell_type": "code",
   "execution_count": 1,
   "metadata": {},
   "outputs": [
    {
     "ename": "NameError",
     "evalue": "name 'smiles_list' is not defined",
     "output_type": "error",
     "traceback": [
      "\u001b[0;31m---------------------------------------------------------------------------\u001b[0m",
      "\u001b[0;31mNameError\u001b[0m                                 Traceback (most recent call last)",
      "Cell \u001b[0;32mIn[1], line 1\u001b[0m\n\u001b[0;32m----> 1\u001b[0m \u001b[38;5;28;01mfor\u001b[39;00m smiles \u001b[38;5;129;01min\u001b[39;00m \u001b[43msmiles_list\u001b[49m:\n\u001b[1;32m      2\u001b[0m     score \u001b[38;5;241m=\u001b[39m predictor\u001b[38;5;241m.\u001b[39mscoring(features, smiles)\n\u001b[1;32m      3\u001b[0m     \u001b[38;5;28mprint\u001b[39m(score)\n",
      "\u001b[0;31mNameError\u001b[0m: name 'smiles_list' is not defined"
     ]
    }
   ],
   "source": [
    "for smiles in smiles_list:\n",
    "    score = predictor.scoring(features, smiles)\n",
    "    print(score)"
   ]
  }
 ],
 "metadata": {
  "kernelspec": {
   "display_name": "tacogfn",
   "language": "python",
   "name": "python3"
  },
  "language_info": {
   "codemirror_mode": {
    "name": "ipython",
    "version": 3
   },
   "file_extension": ".py",
   "mimetype": "text/x-python",
   "name": "python",
   "nbconvert_exporter": "python",
   "pygments_lexer": "ipython3",
   "version": "3.9.18"
  }
 },
 "nbformat": 4,
 "nbformat_minor": 2
}
