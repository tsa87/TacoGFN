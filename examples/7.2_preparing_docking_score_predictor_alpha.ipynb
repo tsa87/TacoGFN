{
 "cells": [
  {
   "cell_type": "code",
   "execution_count": 1,
   "metadata": {},
   "outputs": [],
   "source": [
    "import sys\n",
    "\n",
    "sys.path.append('../')"
   ]
  },
  {
   "cell_type": "code",
   "execution_count": 2,
   "metadata": {},
   "outputs": [
    {
     "name": "stderr",
     "output_type": "stream",
     "text": [
      "/home/tsa87/anaconda3/envs/tacogfn/lib/python3.9/site-packages/tqdm/auto.py:21: TqdmWarning: IProgress not found. Please update jupyter and ipywidgets. See https://ipywidgets.readthedocs.io/en/stable/user_install.html\n",
      "  from .autonotebook import tqdm as notebook_tqdm\n"
     ]
    }
   ],
   "source": [
    "from src.tacogfn.data.pharmacophore import PharmacoDB\n",
    "from src.scoring.scoring_module import AffinityPredictor"
   ]
  },
  {
   "cell_type": "code",
   "execution_count": 11,
   "metadata": {},
   "outputs": [],
   "source": [
    "HEAD_PATH = \"../model_weights/crossdocked_dim_256.pth\"\n",
    "device = 'cpu'"
   ]
  },
  {
   "cell_type": "code",
   "execution_count": 12,
   "metadata": {},
   "outputs": [
    {
     "data": {
      "text/plain": [
       "<All keys matched successfully>"
      ]
     },
     "execution_count": 12,
     "metadata": {},
     "output_type": "execute_result"
    }
   ],
   "source": [
    "from omegaconf import OmegaConf\n",
    "from src.pharmaconet.network import build_model\n",
    "\n",
    "checkpoint = torch.load(HEAD_PATH, map_location=\"cpu\")\n",
    "config = OmegaConf.create(checkpoint[\"config\"])\n",
    "model = build_model(config.MODEL.HEAD)\n",
    "model.load_state_dict(checkpoint[\"model\"])"
   ]
  },
  {
   "cell_type": "code",
   "execution_count": 13,
   "metadata": {},
   "outputs": [
    {
     "data": {
      "text/plain": [
       "AffinityHead(\n",
       "  (ligand_encoder): GraphEncoder(\n",
       "    (node_layer): Embedding(10, 128)\n",
       "    (edge_layer): Embedding(5, 128)\n",
       "    (conv_list): ModuleList(\n",
       "      (0): GINEConv(nn=Sequential(\n",
       "        (0): Linear(128, 128, bias=True)\n",
       "        (1): LeakyReLU(negative_slope=0.01)\n",
       "      ))\n",
       "      (1): GINEConv(nn=Sequential(\n",
       "        (0): Linear(128, 128, bias=True)\n",
       "        (1): LeakyReLU(negative_slope=0.01)\n",
       "      ))\n",
       "      (2): GINEConv(nn=Sequential(\n",
       "        (0): Linear(128, 128, bias=True)\n",
       "        (1): LeakyReLU(negative_slope=0.01)\n",
       "      ))\n",
       "      (3): GINEConv(nn=Sequential(\n",
       "        (0): Linear(128, 128, bias=True)\n",
       "        (1): LeakyReLU(negative_slope=0.01)\n",
       "      ))\n",
       "    )\n",
       "    (readout_layer): Linear(in_features=256, out_features=256, bias=True)\n",
       "    (readout_gate): Linear(in_features=256, out_features=256, bias=True)\n",
       "    (head): Sequential(\n",
       "      (0): Linear(in_features=128, out_features=256, bias=True)\n",
       "      (1): LayerNorm((256,), eps=1e-05, elementwise_affine=True)\n",
       "    )\n",
       "  )\n",
       "  (token_mlp): Sequential(\n",
       "    (0): SiLU()\n",
       "    (1): Linear(in_features=192, out_features=256, bias=True)\n",
       "  )\n",
       "  (pocket_mlp_list): ModuleList(\n",
       "    (0): Sequential(\n",
       "      (0): SiLU()\n",
       "      (1): Conv3d(96, 256, kernel_size=(3, 3, 3), stride=(1, 1, 1))\n",
       "    )\n",
       "    (1): Sequential(\n",
       "      (0): SiLU()\n",
       "      (1): Conv3d(96, 256, kernel_size=(3, 3, 3), stride=(1, 1, 1))\n",
       "    )\n",
       "    (2): Sequential(\n",
       "      (0): SiLU()\n",
       "      (1): Conv3d(96, 256, kernel_size=(3, 3, 3), stride=(1, 1, 1))\n",
       "    )\n",
       "    (3): Sequential(\n",
       "      (0): SiLU()\n",
       "      (1): Conv3d(96, 256, kernel_size=(3, 3, 3), stride=(1, 1, 1))\n",
       "    )\n",
       "    (4): Sequential(\n",
       "      (0): SiLU()\n",
       "      (1): Conv3d(96, 256, kernel_size=(3, 3, 3), stride=(1, 1, 1))\n",
       "    )\n",
       "  )\n",
       "  (pocket_mlp): Sequential(\n",
       "    (0): SiLU()\n",
       "    (1): Linear(in_features=1280, out_features=256, bias=True)\n",
       "  )\n",
       "  (concat_layer): Linear(in_features=768, out_features=256, bias=True)\n",
       "  (concat_gate): Sequential(\n",
       "    (0): Linear(in_features=768, out_features=256, bias=True)\n",
       "    (1): Sigmoid()\n",
       "  )\n",
       "  (ligand_layer_atom): Identity()\n",
       "  (ligand_layer_graph): Identity()\n",
       "  (energy_bias_mlp): Sequential(\n",
       "    (0): Linear(in_features=512, out_features=256, bias=True)\n",
       "    (1): LeakyReLU(negative_slope=0.01)\n",
       "    (2): Linear(in_features=256, out_features=1, bias=True)\n",
       "  )\n",
       "  (interaction_mlp): Sequential(\n",
       "    (0): Linear(in_features=256, out_features=256, bias=True)\n",
       "    (1): LeakyReLU(negative_slope=0.01)\n",
       "  )\n",
       "  (pair_energy_layer): Linear(in_features=256, out_features=1, bias=True)\n",
       "  (pair_energy_gate): Sequential(\n",
       "    (0): Linear(in_features=256, out_features=1, bias=True)\n",
       "    (1): Sigmoid()\n",
       "  )\n",
       ")"
      ]
     },
     "execution_count": 13,
     "metadata": {},
     "output_type": "execute_result"
    }
   ],
   "source": [
    "model"
   ]
  },
  {
   "cell_type": "code",
   "execution_count": 5,
   "metadata": {},
   "outputs": [],
   "source": [
    "import torch\n",
    "\n",
    "features = torch.load('../dataset/affinity_prediction_pharmacophores/crossdocked_dim_256/1a0g_A_rec.pt', map_location=device)"
   ]
  },
  {
   "cell_type": "code",
   "execution_count": 31,
   "metadata": {},
   "outputs": [
    {
     "data": {
      "text/plain": [
       "torch.Size([2, 384])"
      ]
     },
     "execution_count": 31,
     "metadata": {},
     "output_type": "execute_result"
    }
   ],
   "source": [
    "torch.concat([torch.rand(2, 128), torch.stack([features['pocket_features']]*2)], dim=1).shape"
   ]
  },
  {
   "cell_type": "code",
   "execution_count": 23,
   "metadata": {},
   "outputs": [
    {
     "data": {
      "text/plain": [
       "torch.Size([2, 256])"
      ]
     },
     "execution_count": 23,
     "metadata": {},
     "output_type": "execute_result"
    }
   ],
   "source": []
  },
  {
   "cell_type": "code",
   "execution_count": 6,
   "metadata": {},
   "outputs": [],
   "source": [
    "smiles_list = ['c1ccccc1', 'C1CCCCC1', 'CCCCCC']"
   ]
  },
  {
   "cell_type": "code",
   "execution_count": 7,
   "metadata": {},
   "outputs": [
    {
     "name": "stdout",
     "output_type": "stream",
     "text": [
      "tensor([-4.6001])\n",
      "tensor([-3.8804])\n",
      "tensor([-3.7410])\n"
     ]
    }
   ],
   "source": [
    "for smiles in smiles_list:\n",
    "    score = predictor.scoring(features, smiles)\n",
    "    print(score)"
   ]
  },
  {
   "cell_type": "code",
   "execution_count": null,
   "metadata": {},
   "outputs": [],
   "source": []
  }
 ],
 "metadata": {
  "kernelspec": {
   "display_name": "tacogfn",
   "language": "python",
   "name": "python3"
  },
  "language_info": {
   "codemirror_mode": {
    "name": "ipython",
    "version": 3
   },
   "file_extension": ".py",
   "mimetype": "text/x-python",
   "name": "python",
   "nbconvert_exporter": "python",
   "pygments_lexer": "ipython3",
   "version": "3.9.18"
  }
 },
 "nbformat": 4,
 "nbformat_minor": 2
}
