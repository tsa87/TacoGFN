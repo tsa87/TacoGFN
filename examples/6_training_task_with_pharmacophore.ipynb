{
 "cells": [
  {
   "cell_type": "code",
   "execution_count": 1,
   "metadata": {},
   "outputs": [
    {
     "name": "stderr",
     "output_type": "stream",
     "text": [
      "/home/tsa87/anaconda3/envs/tacogfn/lib/python3.9/site-packages/tqdm/auto.py:21: TqdmWarning: IProgress not found. Please update jupyter and ipywidgets. See https://ipywidgets.readthedocs.io/en/stable/user_install.html\n",
      "  from .autonotebook import tqdm as notebook_tqdm\n"
     ]
    }
   ],
   "source": [
    "import sys\n",
    "import torch\n",
    "\n",
    "sys.path.append('../')"
   ]
  },
  {
   "cell_type": "code",
   "execution_count": 2,
   "metadata": {},
   "outputs": [],
   "source": [
    "from src.tacogfn.tasks import pharmaco_frag"
   ]
  },
  {
   "cell_type": "code",
   "execution_count": 3,
   "metadata": {},
   "outputs": [],
   "source": [
    "hps = {\n",
    "    \"log_dir\": \"./logs/debug_run_pharmaco_frag_pb\",\n",
    "    \"split_file\": '../dataset/split_by_name.pt',\n",
    "    \"pharmacophore_db_path\": \"../misc/pharmacophores.lmdb\",\n",
    "    \"device\": \"cuda\" if torch.cuda.is_available() else \"cpu\",\n",
    "    \"overwrite_existing_exp\": True,\n",
    "    \"num_training_steps\": 10_000,\n",
    "    \"num_workers\": 1,\n",
    "    \"opt\": {\n",
    "        \"lr_decay\": 20000,\n",
    "    },\n",
    "    \"algo\": {\"sampling_tau\": 0.99, \"offline_ratio\": 0.0},\n",
    "    \"cond\": {\n",
    "        \"temperature\": {\n",
    "            \"sample_dist\": \"uniform\",\n",
    "            \"dist_params\": [0, 64.0],\n",
    "        }\n",
    "    },\n",
    "}"
   ]
  },
  {
   "cell_type": "code",
   "execution_count": 5,
   "metadata": {},
   "outputs": [
    {
     "name": "stdout",
     "output_type": "stream",
     "text": [
      "loaded 5801 ids for train\n",
      "loaded 30 ids for test\n",
      "\n",
      "\n",
      "Hyperparameters:\n",
      "\n",
      "log_dir: ./logs/debug_run_pharmaco_frag_pb\n",
      "device: cuda\n",
      "split_file: ../dataset/split_by_name.pt\n",
      "pharmacophore_db_path: ../misc/pharmacophores.lmdb\n",
      "seed: 0\n",
      "validate_every: 1000\n",
      "checkpoint_every: null\n",
      "print_every: 100\n",
      "start_at_step: 0\n",
      "num_final_gen_steps: null\n",
      "num_training_steps: 10000\n",
      "num_workers: 1\n",
      "hostname: DESKTOP-2DNJF9F\n",
      "pickle_mp_messages: false\n",
      "git_hash: 5da24da\n",
      "overwrite_existing_exp: true\n",
      "algo:\n",
      "  method: TB\n",
      "  global_batch_size: 64\n",
      "  max_len: 128\n",
      "  max_nodes: 9\n",
      "  max_edges: 128\n",
      "  illegal_action_logreward: -75.0\n",
      "  offline_ratio: 0.0\n",
      "  valid_offline_ratio: 0.0\n",
      "  train_random_action_prob: 0.01\n",
      "  valid_random_action_prob: 0.0\n",
      "  valid_sample_cond_info: true\n",
      "  sampling_tau: 0.99\n",
      "  tb:\n",
      "    bootstrap_own_reward: false\n",
      "    epsilon: null\n",
      "    reward_loss_multiplier: 1.0\n",
      "    variant: TB\n",
      "    do_correct_idempotent: false\n",
      "    do_parameterize_p_b: false\n",
      "    do_sample_p_b: true\n",
      "    do_length_normalize: false\n",
      "    subtb_max_len: 128\n",
      "    Z_learning_rate: 0.001\n",
      "    Z_lr_decay: 50000.0\n",
      "    cum_subtb: true\n",
      "model:\n",
      "  num_layers: 4\n",
      "  num_emb: 128\n",
      "  dropout: 0.0\n",
      "  graph_transformer:\n",
      "    num_heads: 2\n",
      "    ln_type: pre\n",
      "    num_mlp_layers: 0\n",
      "  pharmaco_cond:\n",
      "    num_heads: 2\n",
      "    ln_type: pre\n",
      "    num_mlp_layers: 0\n",
      "    pharmaco_dim: 64\n",
      "opt:\n",
      "  opt: adam\n",
      "  learning_rate: 0.0001\n",
      "  lr_decay: 20000.0\n",
      "  weight_decay: 1.0e-08\n",
      "  momentum: 0.9\n",
      "  clip_grad_type: norm\n",
      "  clip_grad_param: 10.0\n",
      "  adam_eps: 1.0e-08\n",
      "replay:\n",
      "  use: false\n",
      "  capacity: 10000\n",
      "  warmup: 1000\n",
      "  hindsight_ratio: 0.0\n",
      "task:\n",
      "  seh: {}\n",
      "  seh_moo:\n",
      "    use_steer_thermometer: false\n",
      "    preference_type: dirichlet\n",
      "    focus_type: null\n",
      "    focus_dirs_listed: null\n",
      "    focus_cosim: 0.0\n",
      "    focus_limit_coef: 1.0\n",
      "    focus_model_training_limits: null\n",
      "    focus_model_state_space_res: null\n",
      "    max_train_it: null\n",
      "    n_valid: 15\n",
      "    n_valid_repeats: 128\n",
      "    objectives:\n",
      "    - seh\n",
      "    - qed\n",
      "    - sa\n",
      "    - mw\n",
      "cond:\n",
      "  temperature:\n",
      "    sample_dist: uniform\n",
      "    dist_params:\n",
      "    - 0\n",
      "    - 64.0\n",
      "    num_thermometer_dim: 32\n",
      "  moo:\n",
      "    num_objectives: 2\n",
      "    num_thermometer_dim: 16\n",
      "  weighted_prefs:\n",
      "    preference_type: dirichlet\n",
      "  focus_region:\n",
      "    focus_type: learned-tabular\n",
      "    use_steer_thermomether: false\n",
      "    focus_cosim: 0.98\n",
      "    focus_limit_coef: 0.1\n",
      "    focus_model_training_limits:\n",
      "    - 0.25\n",
      "    - 0.75\n",
      "    focus_model_state_space_res: 30\n",
      "    max_train_it: 20000\n",
      "\n"
     ]
    }
   ],
   "source": [
    "trainer = pharmaco_frag.PharmacophoreTrainer(hps)"
   ]
  },
  {
   "cell_type": "code",
   "execution_count": 9,
   "metadata": {},
   "outputs": [
    {
     "data": {
      "text/plain": [
       "73"
      ]
     },
     "execution_count": 9,
     "metadata": {},
     "output_type": "execute_result"
    }
   ],
   "source": [
    "trainer.ctx.num_node_dim"
   ]
  },
  {
   "cell_type": "code",
   "execution_count": 10,
   "metadata": {},
   "outputs": [
    {
     "data": {
      "text/plain": [
       "14"
      ]
     },
     "execution_count": 10,
     "metadata": {},
     "output_type": "execute_result"
    }
   ],
   "source": [
    "trainer.ctx.num_edge_dim"
   ]
  },
  {
   "cell_type": "code",
   "execution_count": 6,
   "metadata": {},
   "outputs": [],
   "source": [
    "trainer.print_every = 1"
   ]
  },
  {
   "cell_type": "code",
   "execution_count": 7,
   "metadata": {},
   "outputs": [
    {
     "name": "stdout",
     "output_type": "stream",
     "text": [
      "04/01/2024 14:11:25 - INFO - logger - Starting training\n",
      "04/01/2024 14:11:32 - INFO - logger - iteration 1 : offline_loss:0.00 online_loss:703665.06 reward_loss:0.00 invalid_trajectories:0.00 invalid_logprob:0.00 invalid_losses:0.00 logZ:-0.06 loss:703665.06\n",
      "04/01/2024 14:11:36 - INFO - logger - iteration 2 : offline_loss:0.00 online_loss:26947.79 reward_loss:0.00 invalid_trajectories:0.00 invalid_logprob:0.00 invalid_losses:0.00 logZ:1.35 loss:26947.79\n",
      "04/01/2024 14:11:39 - INFO - logger - iteration 3 : offline_loss:0.00 online_loss:9280.86 reward_loss:0.00 invalid_trajectories:0.00 invalid_logprob:0.00 invalid_losses:0.00 logZ:2.65 loss:9280.86\n",
      "04/01/2024 14:11:43 - INFO - logger - iteration 4 : offline_loss:0.00 online_loss:15535.91 reward_loss:0.00 invalid_trajectories:0.00 invalid_logprob:0.00 invalid_losses:0.00 logZ:4.46 loss:15535.91\n",
      "04/01/2024 14:11:47 - INFO - logger - iteration 5 : offline_loss:0.00 online_loss:141218.70 reward_loss:0.00 invalid_trajectories:0.00 invalid_logprob:0.00 invalid_losses:0.00 logZ:5.11 loss:141218.70\n",
      "04/01/2024 14:11:50 - INFO - logger - iteration 6 : offline_loss:0.00 online_loss:155973.50 reward_loss:0.00 invalid_trajectories:0.00 invalid_logprob:0.00 invalid_losses:0.00 logZ:6.31 loss:155973.50\n",
      "04/01/2024 14:11:54 - INFO - logger - iteration 7 : offline_loss:0.00 online_loss:202131.25 reward_loss:0.00 invalid_trajectories:0.00 invalid_logprob:0.00 invalid_losses:0.00 logZ:8.58 loss:202131.25\n",
      "04/01/2024 14:11:58 - INFO - logger - iteration 8 : offline_loss:0.00 online_loss:17905.75 reward_loss:0.00 invalid_trajectories:0.00 invalid_logprob:0.00 invalid_losses:0.00 logZ:10.77 loss:17905.75\n",
      "04/01/2024 14:12:02 - INFO - logger - iteration 9 : offline_loss:0.00 online_loss:59182.16 reward_loss:0.00 invalid_trajectories:0.00 invalid_logprob:0.00 invalid_losses:0.00 logZ:12.89 loss:59182.16\n",
      "04/01/2024 14:12:07 - INFO - logger - iteration 10 : offline_loss:0.00 online_loss:18080.25 reward_loss:0.00 invalid_trajectories:0.00 invalid_logprob:0.00 invalid_losses:0.00 logZ:15.84 loss:18080.25\n",
      "04/01/2024 14:12:10 - INFO - logger - iteration 11 : offline_loss:0.00 online_loss:18660.85 reward_loss:0.00 invalid_trajectories:0.00 invalid_logprob:0.00 invalid_losses:0.00 logZ:17.27 loss:18660.85\n",
      "04/01/2024 14:12:14 - INFO - logger - iteration 12 : offline_loss:0.00 online_loss:6652.94 reward_loss:0.00 invalid_trajectories:0.00 invalid_logprob:0.00 invalid_losses:0.00 logZ:19.94 loss:6652.94\n",
      "04/01/2024 14:12:18 - INFO - logger - iteration 13 : offline_loss:0.00 online_loss:21985.35 reward_loss:0.00 invalid_trajectories:0.00 invalid_logprob:0.00 invalid_losses:0.00 logZ:22.82 loss:21985.35\n",
      "04/01/2024 14:12:21 - INFO - logger - iteration 14 : offline_loss:0.00 online_loss:11240.50 reward_loss:0.00 invalid_trajectories:0.00 invalid_logprob:0.00 invalid_losses:0.00 logZ:24.23 loss:11240.50\n",
      "04/01/2024 14:12:25 - INFO - logger - iteration 15 : offline_loss:0.00 online_loss:7058.78 reward_loss:0.00 invalid_trajectories:0.00 invalid_logprob:0.00 invalid_losses:0.00 logZ:30.83 loss:7058.78\n",
      "04/01/2024 14:12:29 - INFO - logger - iteration 16 : offline_loss:0.00 online_loss:10285.37 reward_loss:0.00 invalid_trajectories:0.00 invalid_logprob:0.00 invalid_losses:0.00 logZ:31.50 loss:10285.37\n",
      "04/01/2024 14:12:33 - INFO - logger - iteration 17 : offline_loss:0.00 online_loss:6251.70 reward_loss:0.00 invalid_trajectories:0.00 invalid_logprob:0.00 invalid_losses:0.00 logZ:30.32 loss:6251.70\n",
      "04/01/2024 14:12:37 - INFO - logger - iteration 18 : offline_loss:0.00 online_loss:15764.89 reward_loss:0.00 invalid_trajectories:0.00 invalid_logprob:0.00 invalid_losses:0.00 logZ:30.23 loss:15764.89\n",
      "04/01/2024 14:12:41 - INFO - logger - iteration 19 : offline_loss:0.00 online_loss:10684.85 reward_loss:0.00 invalid_trajectories:0.00 invalid_logprob:0.00 invalid_losses:0.00 logZ:30.66 loss:10684.85\n"
     ]
    },
    {
     "ename": "KeyboardInterrupt",
     "evalue": "",
     "output_type": "error",
     "traceback": [
      "\u001b[0;31m---------------------------------------------------------------------------\u001b[0m",
      "\u001b[0;31mKeyboardInterrupt\u001b[0m                         Traceback (most recent call last)",
      "Cell \u001b[0;32mIn[7], line 1\u001b[0m\n\u001b[0;32m----> 1\u001b[0m \u001b[43mtrainer\u001b[49m\u001b[38;5;241;43m.\u001b[39;49m\u001b[43mrun\u001b[49m\u001b[43m(\u001b[49m\u001b[43m)\u001b[49m\n",
      "File \u001b[0;32m~/refactor-tacogfn/examples/../src/tacogfn/trainer.py:353\u001b[0m, in \u001b[0;36mGFNTrainer.run\u001b[0;34m(self, logger)\u001b[0m\n\u001b[1;32m    349\u001b[0m     logger\u001b[38;5;241m.\u001b[39minfo(\n\u001b[1;32m    350\u001b[0m         \u001b[38;5;124mf\u001b[39m\u001b[38;5;124m\"\u001b[39m\u001b[38;5;124miteration \u001b[39m\u001b[38;5;132;01m{\u001b[39;00mit\u001b[38;5;132;01m}\u001b[39;00m\u001b[38;5;124m : warming up replay buffer \u001b[39m\u001b[38;5;132;01m{\u001b[39;00m\u001b[38;5;28mlen\u001b[39m(\u001b[38;5;28mself\u001b[39m\u001b[38;5;241m.\u001b[39mreplay_buffer)\u001b[38;5;132;01m}\u001b[39;00m\u001b[38;5;124m/\u001b[39m\u001b[38;5;132;01m{\u001b[39;00m\u001b[38;5;28mself\u001b[39m\u001b[38;5;241m.\u001b[39mreplay_buffer\u001b[38;5;241m.\u001b[39mwarmup\u001b[38;5;132;01m}\u001b[39;00m\u001b[38;5;124m\"\u001b[39m\n\u001b[1;32m    351\u001b[0m     )\n\u001b[1;32m    352\u001b[0m     \u001b[38;5;28;01mcontinue\u001b[39;00m\n\u001b[0;32m--> 353\u001b[0m info \u001b[38;5;241m=\u001b[39m \u001b[38;5;28;43mself\u001b[39;49m\u001b[38;5;241;43m.\u001b[39;49m\u001b[43mtrain_batch\u001b[49m\u001b[43m(\u001b[49m\u001b[43mbatch\u001b[49m\u001b[38;5;241;43m.\u001b[39;49m\u001b[43mto\u001b[49m\u001b[43m(\u001b[49m\u001b[38;5;28;43mself\u001b[39;49m\u001b[38;5;241;43m.\u001b[39;49m\u001b[43mdevice\u001b[49m\u001b[43m)\u001b[49m\u001b[43m,\u001b[49m\u001b[43m \u001b[49m\u001b[43mepoch_idx\u001b[49m\u001b[43m,\u001b[49m\u001b[43m \u001b[49m\u001b[43mbatch_idx\u001b[49m\u001b[43m,\u001b[49m\u001b[43m \u001b[49m\u001b[43mit\u001b[49m\u001b[43m)\u001b[49m\n\u001b[1;32m    354\u001b[0m \u001b[38;5;28mself\u001b[39m\u001b[38;5;241m.\u001b[39mlog(info, it, \u001b[38;5;124m\"\u001b[39m\u001b[38;5;124mtrain\u001b[39m\u001b[38;5;124m\"\u001b[39m)\n\u001b[1;32m    355\u001b[0m \u001b[38;5;28;01mif\u001b[39;00m it \u001b[38;5;241m%\u001b[39m \u001b[38;5;28mself\u001b[39m\u001b[38;5;241m.\u001b[39mprint_every \u001b[38;5;241m==\u001b[39m \u001b[38;5;241m0\u001b[39m:\n",
      "File \u001b[0;32m~/refactor-tacogfn/examples/../src/tacogfn/trainer.py:288\u001b[0m, in \u001b[0;36mGFNTrainer.train_batch\u001b[0;34m(self, batch, epoch_idx, batch_idx, train_it)\u001b[0m\n\u001b[1;32m    284\u001b[0m \u001b[38;5;28;01mdef\u001b[39;00m \u001b[38;5;21mtrain_batch\u001b[39m(\n\u001b[1;32m    285\u001b[0m     \u001b[38;5;28mself\u001b[39m, batch: gd\u001b[38;5;241m.\u001b[39mBatch, epoch_idx: \u001b[38;5;28mint\u001b[39m, batch_idx: \u001b[38;5;28mint\u001b[39m, train_it: \u001b[38;5;28mint\u001b[39m\n\u001b[1;32m    286\u001b[0m ) \u001b[38;5;241m-\u001b[39m\u001b[38;5;241m>\u001b[39m Dict[\u001b[38;5;28mstr\u001b[39m, Any]:\n\u001b[1;32m    287\u001b[0m     \u001b[38;5;28;01mtry\u001b[39;00m:\n\u001b[0;32m--> 288\u001b[0m         loss, info \u001b[38;5;241m=\u001b[39m \u001b[38;5;28;43mself\u001b[39;49m\u001b[38;5;241;43m.\u001b[39;49m\u001b[43malgo\u001b[49m\u001b[38;5;241;43m.\u001b[39;49m\u001b[43mcompute_batch_losses\u001b[49m\u001b[43m(\u001b[49m\u001b[38;5;28;43mself\u001b[39;49m\u001b[38;5;241;43m.\u001b[39;49m\u001b[43mmodel\u001b[49m\u001b[43m,\u001b[49m\u001b[43m \u001b[49m\u001b[43mbatch\u001b[49m\u001b[43m)\u001b[49m\n\u001b[1;32m    289\u001b[0m         \u001b[38;5;28;01mif\u001b[39;00m \u001b[38;5;129;01mnot\u001b[39;00m torch\u001b[38;5;241m.\u001b[39misfinite(loss):\n\u001b[1;32m    290\u001b[0m             \u001b[38;5;28;01mraise\u001b[39;00m \u001b[38;5;167;01mValueError\u001b[39;00m(\u001b[38;5;124m\"\u001b[39m\u001b[38;5;124mloss is not finite\u001b[39m\u001b[38;5;124m\"\u001b[39m)\n",
      "File \u001b[0;32m~/refactor-tacogfn/examples/../src/tacogfn/algo/trajectory_balance.py:920\u001b[0m, in \u001b[0;36mPharmacophoreTrajectoryBalance.compute_batch_losses\u001b[0;34m(self, model, batch, num_bootstrap)\u001b[0m\n\u001b[1;32m    917\u001b[0m \u001b[38;5;66;03m# Forward pass of the model, returns a GraphActionCategorical representing the forward\u001b[39;00m\n\u001b[1;32m    918\u001b[0m \u001b[38;5;66;03m# policy P_F, optionally a backward policy P_B, and per-graph outputs (e.g. F(s) in SubTB).\u001b[39;00m\n\u001b[1;32m    919\u001b[0m molecule_data_list \u001b[38;5;241m=\u001b[39m batch\u001b[38;5;241m.\u001b[39mto_data_list()\n\u001b[0;32m--> 920\u001b[0m pharmacophore_repeated_list \u001b[38;5;241m=\u001b[39m [pharmacophore_list[i] \u001b[38;5;28;01mfor\u001b[39;00m i \u001b[38;5;129;01min\u001b[39;00m batch_idx]\n\u001b[1;32m    921\u001b[0m \u001b[38;5;28;01massert\u001b[39;00m \u001b[38;5;28mlen\u001b[39m(pharmacophore_repeated_list) \u001b[38;5;241m==\u001b[39m \u001b[38;5;28mlen\u001b[39m(molecule_data_list)\n\u001b[1;32m    922\u001b[0m batch_with_pharmacophore \u001b[38;5;241m=\u001b[39m merge_pharmacophore_and_molecule_data_list(\n\u001b[1;32m    923\u001b[0m     pharmacophore_repeated_list, molecule_data_list\n\u001b[1;32m    924\u001b[0m )\u001b[38;5;241m.\u001b[39mto(dev)\n",
      "File \u001b[0;32m~/refactor-tacogfn/examples/../src/tacogfn/algo/trajectory_balance.py:920\u001b[0m, in \u001b[0;36m<listcomp>\u001b[0;34m(.0)\u001b[0m\n\u001b[1;32m    917\u001b[0m \u001b[38;5;66;03m# Forward pass of the model, returns a GraphActionCategorical representing the forward\u001b[39;00m\n\u001b[1;32m    918\u001b[0m \u001b[38;5;66;03m# policy P_F, optionally a backward policy P_B, and per-graph outputs (e.g. F(s) in SubTB).\u001b[39;00m\n\u001b[1;32m    919\u001b[0m molecule_data_list \u001b[38;5;241m=\u001b[39m batch\u001b[38;5;241m.\u001b[39mto_data_list()\n\u001b[0;32m--> 920\u001b[0m pharmacophore_repeated_list \u001b[38;5;241m=\u001b[39m [\u001b[43mpharmacophore_list\u001b[49m\u001b[43m[\u001b[49m\u001b[43mi\u001b[49m\u001b[43m]\u001b[49m \u001b[38;5;28;01mfor\u001b[39;00m i \u001b[38;5;129;01min\u001b[39;00m batch_idx]\n\u001b[1;32m    921\u001b[0m \u001b[38;5;28;01massert\u001b[39;00m \u001b[38;5;28mlen\u001b[39m(pharmacophore_repeated_list) \u001b[38;5;241m==\u001b[39m \u001b[38;5;28mlen\u001b[39m(molecule_data_list)\n\u001b[1;32m    922\u001b[0m batch_with_pharmacophore \u001b[38;5;241m=\u001b[39m merge_pharmacophore_and_molecule_data_list(\n\u001b[1;32m    923\u001b[0m     pharmacophore_repeated_list, molecule_data_list\n\u001b[1;32m    924\u001b[0m )\u001b[38;5;241m.\u001b[39mto(dev)\n",
      "File \u001b[0;32m~/refactor-tacogfn/examples/../src/tacogfn/data/pharmacophore.py:161\u001b[0m, in \u001b[0;36mPharmacophoreGraphDataset.__getitem__\u001b[0;34m(self, idx)\u001b[0m\n\u001b[1;32m    160\u001b[0m \u001b[38;5;28;01mdef\u001b[39;00m \u001b[38;5;21m__getitem__\u001b[39m(\u001b[38;5;28mself\u001b[39m, idx):\n\u001b[0;32m--> 161\u001b[0m     \u001b[38;5;28;01mreturn\u001b[39;00m \u001b[38;5;28;43mself\u001b[39;49m\u001b[38;5;241;43m.\u001b[39;49m\u001b[43m_featurize_as_graph\u001b[49m\u001b[43m(\u001b[49m\u001b[38;5;28;43mself\u001b[39;49m\u001b[38;5;241;43m.\u001b[39;49m\u001b[43mdata_list\u001b[49m\u001b[43m[\u001b[49m\u001b[43midx\u001b[49m\u001b[43m]\u001b[49m\u001b[43m)\u001b[49m\n",
      "File \u001b[0;32m~/refactor-tacogfn/examples/../src/tacogfn/data/pharmacophore.py:206\u001b[0m, in \u001b[0;36mPharmacophoreGraphDataset._featurize_as_graph\u001b[0;34m(self, pharmacophore)\u001b[0m\n\u001b[1;32m    198\u001b[0m unit_vector_to_hotspot \u001b[38;5;241m=\u001b[39m _normalize(dist_to_hotspot)\n\u001b[1;32m    199\u001b[0m dist_to_hotspot_rbf \u001b[38;5;241m=\u001b[39m _rbf(\n\u001b[1;32m    200\u001b[0m     dist_to_hotspot\u001b[38;5;241m.\u001b[39mnorm(dim\u001b[38;5;241m=\u001b[39m\u001b[38;5;241m-\u001b[39m\u001b[38;5;241m1\u001b[39m),\n\u001b[1;32m    201\u001b[0m     D_min\u001b[38;5;241m=\u001b[39m\u001b[38;5;241m0\u001b[39m,\n\u001b[0;32m   (...)\u001b[0m\n\u001b[1;32m    204\u001b[0m     device\u001b[38;5;241m=\u001b[39m\u001b[38;5;28mself\u001b[39m\u001b[38;5;241m.\u001b[39mdevice,\n\u001b[1;32m    205\u001b[0m )\n\u001b[0;32m--> 206\u001b[0m scores_therometer \u001b[38;5;241m=\u001b[39m \u001b[43mtransforms\u001b[49m\u001b[38;5;241;43m.\u001b[39;49m\u001b[43mthermometer\u001b[49m\u001b[43m(\u001b[49m\n\u001b[1;32m    207\u001b[0m \u001b[43m    \u001b[49m\u001b[43mscores\u001b[49m\u001b[43m,\u001b[49m\u001b[43m \u001b[49m\u001b[43mn_bins\u001b[49m\u001b[38;5;241;43m=\u001b[39;49m\u001b[38;5;241;43m8\u001b[39;49m\u001b[43m,\u001b[49m\u001b[43m \u001b[49m\u001b[43mvmin\u001b[49m\u001b[38;5;241;43m=\u001b[39;49m\u001b[38;5;241;43m0.0\u001b[39;49m\u001b[43m,\u001b[49m\u001b[43m \u001b[49m\u001b[43mvmax\u001b[49m\u001b[38;5;241;43m=\u001b[39;49m\u001b[38;5;241;43m1.0\u001b[39;49m\n\u001b[1;32m    208\u001b[0m \u001b[43m\u001b[49m\u001b[43m)\u001b[49m\u001b[38;5;241m.\u001b[39mto(\u001b[38;5;28mself\u001b[39m\u001b[38;5;241m.\u001b[39mdevice)\n\u001b[1;32m    210\u001b[0m \u001b[38;5;66;03m# Edge features\u001b[39;00m\n\u001b[1;32m    211\u001b[0m edge_index \u001b[38;5;241m=\u001b[39m torch_cluster\u001b[38;5;241m.\u001b[39mknn_graph(centroids, k\u001b[38;5;241m=\u001b[39m\u001b[38;5;28mself\u001b[39m\u001b[38;5;241m.\u001b[39mtop_k)\n",
      "File \u001b[0;32m~/refactor-tacogfn/examples/../src/tacogfn/utils/transforms.py:33\u001b[0m, in \u001b[0;36mthermometer\u001b[0;34m(v, n_bins, vmin, vmax)\u001b[0m\n\u001b[1;32m     31\u001b[0m gap \u001b[38;5;241m=\u001b[39m bins[\u001b[38;5;241m1\u001b[39m] \u001b[38;5;241m-\u001b[39m bins[\u001b[38;5;241m0\u001b[39m]\n\u001b[1;32m     32\u001b[0m \u001b[38;5;28;01massert\u001b[39;00m gap \u001b[38;5;241m>\u001b[39m \u001b[38;5;241m0\u001b[39m, \u001b[38;5;124m\"\u001b[39m\u001b[38;5;124mvmin and vmax must be different\u001b[39m\u001b[38;5;124m\"\u001b[39m\n\u001b[0;32m---> 33\u001b[0m \u001b[38;5;28;01mreturn\u001b[39;00m \u001b[43m(\u001b[49m\u001b[43mv\u001b[49m\u001b[43m[\u001b[49m\u001b[38;5;241;43m.\u001b[39;49m\u001b[38;5;241;43m.\u001b[39;49m\u001b[38;5;241;43m.\u001b[39;49m\u001b[43m,\u001b[49m\u001b[43m \u001b[49m\u001b[38;5;28;43;01mNone\u001b[39;49;00m\u001b[43m]\u001b[49m\u001b[43m \u001b[49m\u001b[38;5;241;43m-\u001b[39;49m\u001b[43m \u001b[49m\u001b[43mbins\u001b[49m\u001b[38;5;241;43m.\u001b[39;49m\u001b[43mreshape\u001b[49m\u001b[43m(\u001b[49m\u001b[43m(\u001b[49m\u001b[38;5;241;43m1\u001b[39;49m\u001b[43m,\u001b[49m\u001b[43m)\u001b[49m\u001b[43m \u001b[49m\u001b[38;5;241;43m*\u001b[39;49m\u001b[43m \u001b[49m\u001b[43mv\u001b[49m\u001b[38;5;241;43m.\u001b[39;49m\u001b[43mndim\u001b[49m\u001b[43m \u001b[49m\u001b[38;5;241;43m+\u001b[39;49m\u001b[43m \u001b[49m\u001b[43m(\u001b[49m\u001b[38;5;241;43m-\u001b[39;49m\u001b[38;5;241;43m1\u001b[39;49m\u001b[43m,\u001b[49m\u001b[43m)\u001b[49m\u001b[43m)\u001b[49m\u001b[43m)\u001b[49m\u001b[38;5;241;43m.\u001b[39;49m\u001b[43mclamp\u001b[49m\u001b[43m(\u001b[49m\n\u001b[1;32m     34\u001b[0m \u001b[43m    \u001b[49m\u001b[38;5;241;43m0\u001b[39;49m\u001b[43m,\u001b[49m\u001b[43m \u001b[49m\u001b[43mgap\u001b[49m\u001b[38;5;241;43m.\u001b[39;49m\u001b[43mitem\u001b[49m\u001b[43m(\u001b[49m\u001b[43m)\u001b[49m\n\u001b[1;32m     35\u001b[0m \u001b[43m\u001b[49m\u001b[43m)\u001b[49m \u001b[38;5;241m/\u001b[39m gap\n",
      "\u001b[0;31mKeyboardInterrupt\u001b[0m: "
     ]
    }
   ],
   "source": [
    "trainer.run()"
   ]
  },
  {
   "cell_type": "code",
   "execution_count": null,
   "metadata": {},
   "outputs": [],
   "source": []
  }
 ],
 "metadata": {
  "kernelspec": {
   "display_name": "tacogfn",
   "language": "python",
   "name": "python3"
  },
  "language_info": {
   "codemirror_mode": {
    "name": "ipython",
    "version": 3
   },
   "file_extension": ".py",
   "mimetype": "text/x-python",
   "name": "python",
   "nbconvert_exporter": "python",
   "pygments_lexer": "ipython3",
   "version": "3.9.18"
  }
 },
 "nbformat": 4,
 "nbformat_minor": 2
}
