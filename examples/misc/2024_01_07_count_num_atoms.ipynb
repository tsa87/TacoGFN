{
 "cells": [
  {
   "cell_type": "code",
   "execution_count": 3,
   "metadata": {},
   "outputs": [
    {
     "name": "stdout",
     "output_type": "stream",
     "text": [
      "Centroid coordinates: (13.74036363636364, 10.03327272727273, -2.958909090909091)\n"
     ]
    }
   ],
   "source": [
    "from rdkit import Chem\n",
    "from rdkit.Chem import AllChem\n",
    "\n",
    "# Specify the path to your SDF file\n",
    "sdf_file = '../dataset/crossdock/3img_bz3_lig.sdf'\n",
    "\n",
    "# Read the SDF file\n",
    "suppl = Chem.SDMolSupplier(sdf_file)\n",
    "\n",
    "# Initialize variables for centroid calculation\n",
    "total_x = 0\n",
    "total_y = 0\n",
    "total_z = 0\n",
    "num_atoms = 0\n",
    "\n",
    "# Iterate over the molecules in the SDF file\n",
    "for mol in suppl:\n",
    "    if mol is not None:\n",
    "        # Calculate the centroid of the molecule\n",
    "        conf = mol.GetConformer()\n",
    "        for i in range(mol.GetNumAtoms()):\n",
    "            pos = conf.GetAtomPosition(i)\n",
    "            total_x += pos.x\n",
    "            total_y += pos.y\n",
    "            total_z += pos.z\n",
    "            num_atoms += 1\n",
    "\n",
    "# Calculate the centroid coordinates\n",
    "centroid_x = total_x / num_atoms\n",
    "centroid_y = total_y / num_atoms\n",
    "centroid_z = total_z / num_atoms\n",
    "\n",
    "# Print the centroid coordinates\n",
    "print(\"Centroid coordinates: ({}, {}, {})\".format(centroid_x, centroid_y, centroid_z))\n"
   ]
  },
  {
   "cell_type": "code",
   "execution_count": 4,
   "metadata": {},
   "outputs": [
    {
     "name": "stdout",
     "output_type": "stream",
     "text": [
      "Total number of atoms within the radius: 510\n"
     ]
    },
    {
     "name": "stderr",
     "output_type": "stream",
     "text": [
      "/home/tsa87/anaconda3/envs/tacogfn/lib/python3.9/site-packages/Bio/PDB/PDBParser.py:388: PDBConstructionWarning: Ignoring unrecognized record 'TER' at line 2127\n",
      "  warnings.warn(\n"
     ]
    }
   ],
   "source": [
    "from Bio import PDB\n",
    "import numpy as np\n",
    "# Specify the path to your PDB file\n",
    "pdb_file = '../dataset/crossdock/3img_A_rec.pdb'\n",
    "\n",
    "# Specify the center coordinates and radius\n",
    "center = np.array([13.74036363636364, 10.03327272727273, -2.958909090909091])  # Example center coordinates\n",
    "radius = 15.0  # Example radius\n",
    "\n",
    "# Create a PDB parser object\n",
    "parser = PDB.PDBParser()\n",
    "\n",
    "# Parse the PDB file\n",
    "structure = parser.get_structure('pdb', pdb_file)\n",
    "\n",
    "# Initialize a counter for the atoms within the radius\n",
    "atoms_within_radius = 0\n",
    "\n",
    "# Iterate over all models in the structure\n",
    "for model in structure:\n",
    "    # Iterate over all chains in the model\n",
    "    for chain in model:\n",
    "        # Iterate over all residues in the chain\n",
    "        for residue in chain:\n",
    "            # Iterate over all atoms in the residue\n",
    "            for atom in residue:\n",
    "                # Calculate the distance between the atom and the center\n",
    "                atom_coords = atom.get_coord()\n",
    "                distance = np.linalg.norm(atom_coords - center)\n",
    "                \n",
    "                # Check if the atom is within the radius\n",
    "                if distance <= radius:\n",
    "                    atoms_within_radius += 1\n",
    "\n",
    "# Print the total number of atoms within the radius\n",
    "print(\"Total number of atoms within the radius:\", atoms_within_radius)\n"
   ]
  },
  {
   "cell_type": "code",
   "execution_count": 5,
   "metadata": {},
   "outputs": [],
   "source": [
    "out_path = pdb_file.replace('.pdb', '_pharmacophore.pkl').replace('crossdock', 'crossdock_pharmacophores')"
   ]
  },
  {
   "cell_type": "code",
   "execution_count": 6,
   "metadata": {},
   "outputs": [
    {
     "data": {
      "text/plain": [
       "19"
      ]
     },
     "execution_count": 6,
     "metadata": {},
     "output_type": "execute_result"
    }
   ],
   "source": [
    "import pickle\n",
    "with open(out_path, 'rb') as f:\n",
    "    pharmacophore_model = pickle.load(f)\n",
    "len(pharmacophore_model['nodes'])"
   ]
  },
  {
   "cell_type": "code",
   "execution_count": null,
   "metadata": {},
   "outputs": [],
   "source": []
  }
 ],
 "metadata": {
  "kernelspec": {
   "display_name": "tacogfn",
   "language": "python",
   "name": "python3"
  },
  "language_info": {
   "codemirror_mode": {
    "name": "ipython",
    "version": 3
   },
   "file_extension": ".py",
   "mimetype": "text/x-python",
   "name": "python",
   "nbconvert_exporter": "python",
   "pygments_lexer": "ipython3",
   "version": "3.9.18"
  }
 },
 "nbformat": 4,
 "nbformat_minor": 2
}
