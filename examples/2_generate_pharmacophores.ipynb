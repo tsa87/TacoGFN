{
 "cells": [
  {
   "cell_type": "code",
   "execution_count": 1,
   "metadata": {},
   "outputs": [],
   "source": [
    "import os\n",
    "os.chdir('..')"
   ]
  },
  {
   "cell_type": "code",
   "execution_count": 2,
   "metadata": {},
   "outputs": [
    {
     "name": "stderr",
     "output_type": "stream",
     "text": [
      "/home/tsa87/anaconda3/envs/tacogfn/lib/python3.9/site-packages/tqdm/auto.py:21: TqdmWarning: IProgress not found. Please update jupyter and ipywidgets. See https://ipywidgets.readthedocs.io/en/stable/user_install.html\n",
      "  from .autonotebook import tqdm as notebook_tqdm\n"
     ]
    }
   ],
   "source": [
    "import torch\n",
    "from tqdm import tqdm\n",
    "from src.pharmaconet.modeling import ModelingModule"
   ]
  },
  {
   "cell_type": "code",
   "execution_count": 3,
   "metadata": {},
   "outputs": [],
   "source": [
    "MODEL_PATH = 'model_weights/model.tar'\n",
    "split_file = torch.load('dataset/pocket_to_ligands.pt')"
   ]
  },
  {
   "cell_type": "code",
   "execution_count": 4,
   "metadata": {},
   "outputs": [],
   "source": [
    "score_threshold =  {\n",
    "    'Hydrophobic': 0.12035781145095825,\n",
    "    'PiStacking_P': 0.0017433513421565294,\n",
    "    'PiStacking_T': 0.027523474767804146,\n",
    "    'PiCation_lring': 0.009127387776970863,\n",
    "    'PiCation_pring': 0.001319622853770852,\n",
    "    'HBond_ldon': 0.0827205702662468,\n",
    "    'HBond_pdon': 0.12345150858163834,\n",
    "    'SaltBridge_lneg': 0.12117615342140198,\n",
    "    'SaltBridge_pneg': 0.06078973412513733,\n",
    "    'XBond': 0.0020935165230184793\n",
    "}"
   ]
  },
  {
   "cell_type": "code",
   "execution_count": 5,
   "metadata": {},
   "outputs": [],
   "source": [
    "module = ModelingModule('model_weights/model.tar', 'cuda',\n",
    "                        score_threshold=score_threshold)"
   ]
  },
  {
   "cell_type": "code",
   "execution_count": 6,
   "metadata": {},
   "outputs": [
    {
     "name": "stderr",
     "output_type": "stream",
     "text": [
      "  0%|          | 46/15307 [01:34<7:34:51,  1.79s/it] "
     ]
    }
   ],
   "source": [
    "failed = []\n",
    "for rec_id, lig_id in tqdm(split_file.items()):\n",
    "    try:\n",
    "        rec_path = os.path.join('dataset/crossdock', rec_id + '_rec.pdb')\n",
    "        lig_path = os.path.join('dataset/crossdocked_pocket10', lig_id)\n",
    "        out_path = os.path.join('dataset/new_pharmacophores', rec_id + 'pt')\n",
    "        \n",
    "        p_model = module.run(rec_path, ref_ligand_path=lig_path)\n",
    "        p_model.save(out_path)\n",
    "    except:\n",
    "        failed.append((rec_id, lig_id))"
   ]
  }
 ],
 "metadata": {
  "kernelspec": {
   "display_name": "tacogfn",
   "language": "python",
   "name": "python3"
  },
  "language_info": {
   "codemirror_mode": {
    "name": "ipython",
    "version": 3
   },
   "file_extension": ".py",
   "mimetype": "text/x-python",
   "name": "python",
   "nbconvert_exporter": "python",
   "pygments_lexer": "ipython3",
   "version": "3.9.18"
  }
 },
 "nbformat": 4,
 "nbformat_minor": 2
}
