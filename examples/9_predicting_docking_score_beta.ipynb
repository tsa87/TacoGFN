{
    "cells": [
        {
            "cell_type": "code",
            "execution_count": 4,
            "metadata": {},
            "outputs": [
                {
                    "name": "stderr",
                    "output_type": "stream",
                    "text": [
                        "/home/tsa87/anaconda3/envs/tacogfn/lib/python3.9/site-packages/tqdm/auto.py:21: TqdmWarning: IProgress not found. Please update jupyter and ipywidgets. See https://ipywidgets.readthedocs.io/en/stable/user_install.html\n",
                        "  from .autonotebook import tqdm as notebook_tqdm\n"
                    ]
                }
            ],
            "source": [
                "import sys\n",
                "import torch\n",
                "from molfeat.trans.pretrained import PretrainedDGLTransformer\n",
                "\n",
                "sys.path.append('..')\n",
                "\n",
                "from src.tacogfn.models.beta_docking_score_predictor import DockingScorePredictionModel\n",
                "from src.tacogfn.data.pharmacophore import PharmacoDB"
            ]
        },
        {
            "cell_type": "code",
            "execution_count": 5,
            "metadata": {},
            "outputs": [],
            "source": [
                "model_state = torch.load('../logs/debug_docking_score_prediction_beta/model_state_23.pt')"
            ]
        },
        {
            "cell_type": "code",
            "execution_count": 6,
            "metadata": {},
            "outputs": [
                {
                    "data": {
                        "text/plain": [
                            "<All keys matched successfully>"
                        ]
                    },
                    "execution_count": 6,
                    "metadata": {},
                    "output_type": "execute_result"
                }
            ],
            "source": [
                "model = DockingScorePredictionModel(hidden_dim=model_state['hps']['hidden_dim'])\n",
                "model.load_state_dict(model_state['models_state_dict'][0])"
            ]
        },
        {
            "cell_type": "code",
            "execution_count": 7,
            "metadata": {},
            "outputs": [],
            "source": [
                "db = PharmacoDB('../misc/pharmacophores_db.lmdb/')"
            ]
        },
        {
            "cell_type": "code",
            "execution_count": 8,
            "metadata": {},
            "outputs": [],
            "source": [
                "pdbs = [\n",
                "    '4u5s_A',\n",
                "    '2z3h_A',\n",
                "    '3dzh_A',\n",
                "]\n",
                "smis = [\n",
                "    'CNC(=O)c1cc(Cl)ccn1',\n",
                "    'CN(CCC(N)CC(=O)NC1CCC(N2C=CC(N)(O)NC2=O)OC1C(=O)O)C(=N)N',\n",
                "    'NC1=c2ncn3c2=NCN1C1CC(COP(=O)(O)OP(=O)(O)OCC2OC3C(O)C2O)C(O)C1O',\n",
                "]"
            ]
        },
        {
            "cell_type": "code",
            "execution_count": 9,
            "metadata": {},
            "outputs": [],
            "source": [
                "transformer = PretrainedDGLTransformer(kind='gin_supervised_contextpred', dtype=float)"
            ]
        },
        {
            "cell_type": "code",
            "execution_count": 10,
            "metadata": {},
            "outputs": [],
            "source": [
                "datas = [db.get_data_from_id(pdb) for pdb in pdbs]"
            ]
        },
        {
            "cell_type": "code",
            "execution_count": 11,
            "metadata": {},
            "outputs": [],
            "source": [
                "ligand_features = torch.tensor(transformer(smis))"
            ]
        },
        {
            "cell_type": "code",
            "execution_count": 12,
            "metadata": {},
            "outputs": [
                {
                    "name": "stdout",
                    "output_type": "stream",
                    "text": [
                        "3\n"
                    ]
                },
                {
                    "name": "stderr",
                    "output_type": "stream",
                    "text": [
                        "/home/tsa87/anaconda3/envs/tacogfn/lib/python3.9/site-packages/torch_geometric/deprecation.py:22: UserWarning: 'data.DataLoader' is deprecated, use 'loader.DataLoader' instead\n",
                        "  warnings.warn(out)\n"
                    ]
                }
            ],
            "source": [
                "from torch_geometric.data import DataLoader\n",
                "\n",
                "loader = DataLoader([{\n",
                "    'pharmacophore': p, \n",
                "    'ligand_features': l\n",
                "} for p, l in zip(datas, ligand_features)], batch_size=1000)\n",
                "for i in loader:\n",
                "    print(len(model(i)))"
            ]
        }
    ],
    "metadata": {
        "kernelspec": {
            "display_name": "tacogfn",
            "language": "python",
            "name": "python3"
        },
        "language_info": {
            "codemirror_mode": {
                "name": "ipython",
                "version": 3
            },
            "file_extension": ".py",
            "mimetype": "text/x-python",
            "name": "python",
            "nbconvert_exporter": "python",
            "pygments_lexer": "ipython3",
            "version": "3.9.18"
        }
    },
    "nbformat": 4,
    "nbformat_minor": 2
}