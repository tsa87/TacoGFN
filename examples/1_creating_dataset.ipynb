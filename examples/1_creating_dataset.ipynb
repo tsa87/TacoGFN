{
 "cells": [
  {
   "cell_type": "markdown",
   "metadata": {},
   "source": [
    "This notebook generates dataset according to CrossDock 100k subset\n",
    "- The goal is to use full protein from original CrossDock dataset instead of the version with 12A cutoff.\n",
    "- pockets not from PDBBind set are removed \n",
    "\n",
    "You need to have CrossDock subset and full set downloaded to run this script."
   ]
  },
  {
   "cell_type": "code",
   "execution_count": 1,
   "metadata": {},
   "outputs": [
    {
     "name": "stderr",
     "output_type": "stream",
     "text": [
      "/home/tsa87/anaconda3/envs/tacogfn/lib/python3.9/site-packages/tqdm/auto.py:21: TqdmWarning: IProgress not found. Please update jupyter and ipywidgets. See https://ipywidgets.readthedocs.io/en/stable/user_install.html\n",
      "  from .autonotebook import tqdm as notebook_tqdm\n"
     ]
    }
   ],
   "source": [
    "import os\n",
    "from glob import glob\n",
    "import torch\n",
    "from tqdm import tqdm\n",
    "from collections import defaultdict \n",
    "import sys\n",
    "\n",
    "sys.path.append('../')\n",
    "\n",
    "from src.tacogfn.eval import docking\n",
    "from src.tacogfn.utils import molecules"
   ]
  },
  {
   "cell_type": "markdown",
   "metadata": {},
   "source": [
    "There are 24478 receptors"
   ]
  },
  {
   "cell_type": "code",
   "execution_count": 2,
   "metadata": {},
   "outputs": [
    {
     "data": {
      "text/plain": [
       "44646"
      ]
     },
     "execution_count": 2,
     "metadata": {},
     "output_type": "execute_result"
    }
   ],
   "source": [
    "pocket_paths = glob('../dataset/crossdock/*_rec.pdb')\n",
    "len(pocket_paths)"
   ]
  },
  {
   "cell_type": "markdown",
   "metadata": {},
   "source": [
    "There are 21231 ligands"
   ]
  },
  {
   "cell_type": "code",
   "execution_count": 3,
   "metadata": {},
   "outputs": [
    {
     "data": {
      "text/plain": [
       "22288"
      ]
     },
     "execution_count": 3,
     "metadata": {},
     "output_type": "execute_result"
    }
   ],
   "source": [
    "ligand_paths = glob('../dataset/crossdock/*_lig.pdb')\n",
    "len(ligand_paths)"
   ]
  },
  {
   "cell_type": "code",
   "execution_count": 4,
   "metadata": {},
   "outputs": [],
   "source": [
    "pocket_ids = [i.split('/')[-1].split('_rec')[0] for i in pocket_paths]"
   ]
  },
  {
   "cell_type": "code",
   "execution_count": 5,
   "metadata": {},
   "outputs": [],
   "source": [
    "pocket_ids_to_paths = dict(zip(pocket_ids, pocket_paths))"
   ]
  },
  {
   "cell_type": "markdown",
   "metadata": {},
   "source": [
    "We now match ligands to pockets based on filenames and resolve based on docking scores"
   ]
  },
  {
   "cell_type": "code",
   "execution_count": 6,
   "metadata": {},
   "outputs": [],
   "source": [
    "# Pocket2Mol pdb ids\n",
    "split_by_name = torch.load('../dataset/split_by_name.pt')\n",
    "train_pdb_ids = [val[0].split('/')[-1].split('_rec')[0] for val in split_by_name['train']]\n",
    "val_pdb_ids = [val[0].split('/')[-1].split('_rec')[0] for val in split_by_name['test']]\n",
    "pocket2mol_split = split_by_name['train'] + split_by_name['test']\n",
    "pocket2mol_pdb_ids = set(train_pdb_ids + val_pdb_ids)"
   ]
  },
  {
   "cell_type": "code",
   "execution_count": 7,
   "metadata": {},
   "outputs": [],
   "source": [
    "cross_dock_pocket_ids = set(pocket_ids)"
   ]
  },
  {
   "cell_type": "code",
   "execution_count": 66,
   "metadata": {},
   "outputs": [],
   "source": [
    "pocket_to_ligands = {}\n",
    "\n",
    "for pair in pocket2mol_split:\n",
    "    pdb_id = pair[0].split('/')[-1].split('_rec')[0]\n",
    "    ligand_path = pair[1]\n",
    "\n",
    "    pocket_to_ligands[pdb_id] = ligand_path"
   ]
  },
  {
   "cell_type": "code",
   "execution_count": 67,
   "metadata": {},
   "outputs": [],
   "source": [
    "torch.save(pocket_to_ligands, '../dataset/pocket_to_ligands.pt')"
   ]
  },
  {
   "cell_type": "markdown",
   "metadata": {},
   "source": [
    "Compute pocket centroids"
   ]
  },
  {
   "cell_type": "code",
   "execution_count": 7,
   "metadata": {},
   "outputs": [],
   "source": [
    "pocket_to_ligands = torch.load('../dataset/pocket_to_ligands.pt')"
   ]
  },
  {
   "cell_type": "code",
   "execution_count": 23,
   "metadata": {},
   "outputs": [],
   "source": [
    "pocket_to_centroid = {}\n",
    "for key, lig_path in pocket_to_ligands.items():\n",
    "    lig_path = os.path.join('../dataset/crossdocked_pocket10/', lig_path)\n",
    "    pocket_to_centroid[key] = molecules.get_centroid_from_sdf(lig_path)"
   ]
  },
  {
   "cell_type": "code",
   "execution_count": 25,
   "metadata": {},
   "outputs": [],
   "source": [
    "torch.save(pocket_to_centroid, '../dataset/pocket_to_centroid.pt')"
   ]
  },
  {
   "cell_type": "code",
   "execution_count": 1,
   "metadata": {},
   "outputs": [
    {
     "name": "stderr",
     "output_type": "stream",
     "text": [
      "/home/tsa87/anaconda3/envs/tacogfn/lib/python3.9/site-packages/tqdm/auto.py:21: TqdmWarning: IProgress not found. Please update jupyter and ipywidgets. See https://ipywidgets.readthedocs.io/en/stable/user_install.html\n",
      "  from .autonotebook import tqdm as notebook_tqdm\n"
     ]
    }
   ],
   "source": [
    "import torch\n",
    "pocket2centroid = torch.load('../dataset/pocket_to_centroid.pt')"
   ]
  },
  {
   "cell_type": "code",
   "execution_count": 2,
   "metadata": {},
   "outputs": [
    {
     "data": {
      "text/plain": [
       "(46.82177272727272, 19.169818181818183, 13.434545454545455)"
      ]
     },
     "execution_count": 2,
     "metadata": {},
     "output_type": "execute_result"
    }
   ],
   "source": [
    "pocket2centroid['1a0g_A']"
   ]
  },
  {
   "cell_type": "markdown",
   "metadata": {},
   "source": [
    "Compute pocket to native ligand docking scores"
   ]
  },
  {
   "cell_type": "code",
   "execution_count": 2,
   "metadata": {},
   "outputs": [],
   "source": [
    "pocket_to_ligands = torch.load('../dataset/pocket_to_ligands.pt')"
   ]
  },
  {
   "cell_type": "code",
   "execution_count": 6,
   "metadata": {},
   "outputs": [
    {
     "name": "stderr",
     "output_type": "stream",
     "text": [
      "  0%|          | 0/15307 [00:00<?, ?it/s]Traceback (most recent call last):\n",
      "  File \"/home/tsa87/ADFRsuite-1.0/CCSBpckgs/AutoDockTools/Utilities24/prepare_receptor4.py\", line 216, in <module>\n",
      "    dict=dictionary)    \n",
      "  File \"/home/tsa87/ADFRsuite-1.0/CCSBpckgs/AutoDockTools/MoleculePreparation.py\", line 558, in __init__\n",
      "    version=version, delete_single_nonstd_residues=delete_single_nonstd_residues)\n",
      "  File \"/home/tsa87/ADFRsuite-1.0/CCSBpckgs/AutoDockTools/MoleculePreparation.py\", line 141, in __init__\n",
      "    self.addCharges(mol, charges_to_add)\n",
      "  File \"/home/tsa87/ADFRsuite-1.0/CCSBpckgs/AutoDockTools/MoleculePreparation.py\", line 227, in addCharges\n",
      "    chargeCalculator.addCharges(mol.allAtoms)\n",
      "  File \"/home/tsa87/ADFRsuite-1.0/CCSBpckgs/MolKit/chargeCalculator.py\", line 80, in addCharges\n",
      "    babel.assignHybridization(atoms)\n",
      "  File \"/home/tsa87/ADFRsuite-1.0/CCSBpckgs/PyBabel/atomTypes.py\", line 136, in assignHybridization\n",
      "    self.valence_three()\n",
      "  File \"/home/tsa87/ADFRsuite-1.0/CCSBpckgs/PyBabel/atomTypes.py\", line 229, in valence_three\n",
      "    angle1 = bond_angle(k.coords, a.coords, l.coords)\n",
      "  File \"/home/tsa87/ADFRsuite-1.0/CCSBpckgs/PyBabel/util.py\", line 53, in bond_angle\n",
      "    else: angle = (math.acos(cos_theta)) * RAD_TO_DEG\n",
      "ValueError: math domain error\n",
      "  2%|▏         | 338/15307 [00:01<00:48, 308.66it/s]Traceback (most recent call last):\n",
      "  File \"/home/tsa87/ADFRsuite-1.0/CCSBpckgs/AutoDockTools/Utilities24/prepare_receptor4.py\", line 216, in <module>\n",
      "    dict=dictionary)    \n",
      "  File \"/home/tsa87/ADFRsuite-1.0/CCSBpckgs/AutoDockTools/MoleculePreparation.py\", line 558, in __init__\n",
      "    version=version, delete_single_nonstd_residues=delete_single_nonstd_residues)\n",
      "  File \"/home/tsa87/ADFRsuite-1.0/CCSBpckgs/AutoDockTools/MoleculePreparation.py\", line 141, in __init__\n",
      "    self.addCharges(mol, charges_to_add)\n",
      "  File \"/home/tsa87/ADFRsuite-1.0/CCSBpckgs/AutoDockTools/MoleculePreparation.py\", line 227, in addCharges\n",
      "    chargeCalculator.addCharges(mol.allAtoms)\n",
      "  File \"/home/tsa87/ADFRsuite-1.0/CCSBpckgs/MolKit/chargeCalculator.py\", line 80, in addCharges\n",
      "    babel.assignHybridization(atoms)\n",
      "  File \"/home/tsa87/ADFRsuite-1.0/CCSBpckgs/PyBabel/atomTypes.py\", line 137, in assignHybridization\n",
      "    self.valence_two()\n",
      "  File \"/home/tsa87/ADFRsuite-1.0/CCSBpckgs/PyBabel/atomTypes.py\", line 266, in valence_two\n",
      "    angle1 = bond_angle(k.coords, a.coords, l.coords)\n",
      "  File \"/home/tsa87/ADFRsuite-1.0/CCSBpckgs/PyBabel/util.py\", line 47, in bond_angle\n",
      "    raise ZeroDivisionError(\"Input used:\", a, b, c)\n",
      "ZeroDivisionError: ('Input used:', [0.618, 14.237, 28.755], [0.829, 14.733, 27.948], [0.829, 14.733, 27.948])\n",
      "  7%|▋         | 1147/15307 [00:01<00:14, 1011.07it/s]"
     ]
    },
    {
     "name": "stdout",
     "output_type": "stream",
     "text": [
      "WARNING! 4b3b_A_rec has 224  atoms with alternate locations named ['A']!\n",
      "\n",
      "WARNING! using alternate location A\n",
      "adding gasteiger charges to peptide\n",
      "4b3b_A_rec:A:LYS317:HB2 and 4b3b_A_rec:A:LYS317:HB3 have the same coordinates\n"
     ]
    },
    {
     "name": "stderr",
     "output_type": "stream",
     "text": [
      "Traceback (most recent call last):\n",
      "  File \"/home/tsa87/ADFRsuite-1.0/CCSBpckgs/AutoDockTools/Utilities24/prepare_receptor4.py\", line 216, in <module>\n",
      "    dict=dictionary)    \n",
      "  File \"/home/tsa87/ADFRsuite-1.0/CCSBpckgs/AutoDockTools/MoleculePreparation.py\", line 558, in __init__\n",
      "    version=version, delete_single_nonstd_residues=delete_single_nonstd_residues)\n",
      "  File \"/home/tsa87/ADFRsuite-1.0/CCSBpckgs/AutoDockTools/MoleculePreparation.py\", line 141, in __init__\n",
      "    self.addCharges(mol, charges_to_add)\n",
      "  File \"/home/tsa87/ADFRsuite-1.0/CCSBpckgs/AutoDockTools/MoleculePreparation.py\", line 227, in addCharges\n",
      "    chargeCalculator.addCharges(mol.allAtoms)\n",
      "  File \"/home/tsa87/ADFRsuite-1.0/CCSBpckgs/MolKit/chargeCalculator.py\", line 80, in addCharges\n",
      "    babel.assignHybridization(atoms)\n",
      "  File \"/home/tsa87/ADFRsuite-1.0/CCSBpckgs/PyBabel/atomTypes.py\", line 137, in assignHybridization\n",
      "    self.valence_two()\n",
      "  File \"/home/tsa87/ADFRsuite-1.0/CCSBpckgs/PyBabel/atomTypes.py\", line 266, in valence_two\n",
      "    angle1 = bond_angle(k.coords, a.coords, l.coords)\n",
      "  File \"/home/tsa87/ADFRsuite-1.0/CCSBpckgs/PyBabel/util.py\", line 47, in bond_angle\n",
      "    raise ZeroDivisionError(\"Input used:\", a, b, c)\n",
      "ZeroDivisionError: ('Input used:', [51.213, 41.964, 47.023], [52.915, 39.848, 46.546], [52.915, 39.848, 46.546])\n",
      " 20%|█▉        | 3054/15307 [00:01<00:06, 1973.03it/s]"
     ]
    },
    {
     "name": "stdout",
     "output_type": "stream",
     "text": [
      "2dua_A_rec:A:CL 549:CL and 2dua_A_rec:A:CL 549:CL have the same coordinates\n",
      "WARNING! 4gg1_A_rec has 1056  atoms with alternate locations named ['A']!\n",
      "\n",
      "WARNING! using alternate location A\n"
     ]
    },
    {
     "name": "stderr",
     "output_type": "stream",
     "text": [
      "Traceback (most recent call last):\n",
      "  File \"/home/tsa87/ADFRsuite-1.0/CCSBpckgs/AutoDockTools/Utilities24/prepare_receptor4.py\", line 216, in <module>\n",
      "    dict=dictionary)    \n",
      "  File \"/home/tsa87/ADFRsuite-1.0/CCSBpckgs/AutoDockTools/MoleculePreparation.py\", line 558, in __init__\n",
      "    version=version, delete_single_nonstd_residues=delete_single_nonstd_residues)\n",
      "  File \"/home/tsa87/ADFRsuite-1.0/CCSBpckgs/AutoDockTools/MoleculePreparation.py\", line 141, in __init__\n",
      "    self.addCharges(mol, charges_to_add)\n",
      "  File \"/home/tsa87/ADFRsuite-1.0/CCSBpckgs/AutoDockTools/MoleculePreparation.py\", line 227, in addCharges\n",
      "    chargeCalculator.addCharges(mol.allAtoms)\n",
      "  File \"/home/tsa87/ADFRsuite-1.0/CCSBpckgs/MolKit/chargeCalculator.py\", line 80, in addCharges\n",
      "    babel.assignHybridization(atoms)\n",
      "  File \"/home/tsa87/ADFRsuite-1.0/CCSBpckgs/PyBabel/atomTypes.py\", line 137, in assignHybridization\n",
      "    self.valence_two()\n",
      "  File \"/home/tsa87/ADFRsuite-1.0/CCSBpckgs/PyBabel/atomTypes.py\", line 266, in valence_two\n",
      "    angle1 = bond_angle(k.coords, a.coords, l.coords)\n",
      "  File \"/home/tsa87/ADFRsuite-1.0/CCSBpckgs/PyBabel/util.py\", line 47, in bond_angle\n",
      "    raise ZeroDivisionError(\"Input used:\", a, b, c)\n",
      "ZeroDivisionError: ('Input used:', [-0.727, 44.731, -7.016], [0.136, 46.996, -7.39], [0.136, 46.996, -7.39])\n",
      " 22%|██▏       | 3300/15307 [00:03<00:12, 984.07it/s] "
     ]
    },
    {
     "name": "stdout",
     "output_type": "stream",
     "text": [
      "4gg1_A_rec:A:NA 604:NA and 4gg1_A_rec:A:NA 604:NA have the same coordinates\n"
     ]
    },
    {
     "name": "stderr",
     "output_type": "stream",
     "text": [
      "Traceback (most recent call last):\n",
      "  File \"/home/tsa87/ADFRsuite-1.0/CCSBpckgs/AutoDockTools/Utilities24/prepare_receptor4.py\", line 216, in <module>\n",
      "    dict=dictionary)    \n",
      "  File \"/home/tsa87/ADFRsuite-1.0/CCSBpckgs/AutoDockTools/MoleculePreparation.py\", line 558, in __init__\n",
      "    version=version, delete_single_nonstd_residues=delete_single_nonstd_residues)\n",
      "  File \"/home/tsa87/ADFRsuite-1.0/CCSBpckgs/AutoDockTools/MoleculePreparation.py\", line 141, in __init__\n",
      "    self.addCharges(mol, charges_to_add)\n",
      "  File \"/home/tsa87/ADFRsuite-1.0/CCSBpckgs/AutoDockTools/MoleculePreparation.py\", line 227, in addCharges\n",
      "    chargeCalculator.addCharges(mol.allAtoms)\n",
      "  File \"/home/tsa87/ADFRsuite-1.0/CCSBpckgs/MolKit/chargeCalculator.py\", line 80, in addCharges\n",
      "    babel.assignHybridization(atoms)\n",
      "  File \"/home/tsa87/ADFRsuite-1.0/CCSBpckgs/PyBabel/atomTypes.py\", line 136, in assignHybridization\n",
      "    self.valence_three()\n",
      "  File \"/home/tsa87/ADFRsuite-1.0/CCSBpckgs/PyBabel/atomTypes.py\", line 231, in valence_three\n",
      "    angle3 = bond_angle(l.coords, a.coords, m.coords)\n",
      "  File \"/home/tsa87/ADFRsuite-1.0/CCSBpckgs/PyBabel/util.py\", line 53, in bond_angle\n",
      "    else: angle = (math.acos(cos_theta)) * RAD_TO_DEG\n",
      "ValueError: math domain error\n",
      " 43%|████▎     | 6610/15307 [00:03<00:03, 2559.03it/s]"
     ]
    },
    {
     "name": "stdout",
     "output_type": "stream",
     "text": [
      "WARNING! 4mpp_A_rec has 628  atoms with alternate locations named ['A']!\n",
      "\n",
      "WARNING! using alternate location A\n"
     ]
    },
    {
     "name": "stderr",
     "output_type": "stream",
     "text": [
      "Traceback (most recent call last):\n",
      "  File \"/home/tsa87/ADFRsuite-1.0/CCSBpckgs/AutoDockTools/Utilities24/prepare_receptor4.py\", line 216, in <module>\n",
      "    dict=dictionary)    \n",
      "  File \"/home/tsa87/ADFRsuite-1.0/CCSBpckgs/AutoDockTools/MoleculePreparation.py\", line 558, in __init__\n",
      "    version=version, delete_single_nonstd_residues=delete_single_nonstd_residues)\n",
      "  File \"/home/tsa87/ADFRsuite-1.0/CCSBpckgs/AutoDockTools/MoleculePreparation.py\", line 141, in __init__\n",
      "    self.addCharges(mol, charges_to_add)\n",
      "  File \"/home/tsa87/ADFRsuite-1.0/CCSBpckgs/AutoDockTools/MoleculePreparation.py\", line 227, in addCharges\n",
      "    chargeCalculator.addCharges(mol.allAtoms)\n",
      "  File \"/home/tsa87/ADFRsuite-1.0/CCSBpckgs/MolKit/chargeCalculator.py\", line 80, in addCharges\n",
      "    babel.assignHybridization(atoms)\n",
      "  File \"/home/tsa87/ADFRsuite-1.0/CCSBpckgs/PyBabel/atomTypes.py\", line 136, in assignHybridization\n",
      "    self.valence_three()\n",
      "  File \"/home/tsa87/ADFRsuite-1.0/CCSBpckgs/PyBabel/atomTypes.py\", line 231, in valence_three\n",
      "    angle3 = bond_angle(l.coords, a.coords, m.coords)\n",
      "  File \"/home/tsa87/ADFRsuite-1.0/CCSBpckgs/PyBabel/util.py\", line 53, in bond_angle\n",
      "    else: angle = (math.acos(cos_theta)) * RAD_TO_DEG\n",
      "ValueError: math domain error\n",
      " 73%|███████▎  | 11165/15307 [00:04<00:01, 3235.09it/s]"
     ]
    },
    {
     "name": "stdout",
     "output_type": "stream",
     "text": [
      "WARNING! 4jd5_A_rec has 1004  atoms with alternate locations named ['A']!\n",
      "\n",
      "WARNING! using alternate location A\n"
     ]
    },
    {
     "name": "stderr",
     "output_type": "stream",
     "text": [
      "Traceback (most recent call last):\n",
      "  File \"/home/tsa87/ADFRsuite-1.0/CCSBpckgs/AutoDockTools/Utilities24/prepare_receptor4.py\", line 216, in <module>\n",
      "    dict=dictionary)    \n",
      "  File \"/home/tsa87/ADFRsuite-1.0/CCSBpckgs/AutoDockTools/MoleculePreparation.py\", line 558, in __init__\n",
      "    version=version, delete_single_nonstd_residues=delete_single_nonstd_residues)\n",
      "  File \"/home/tsa87/ADFRsuite-1.0/CCSBpckgs/AutoDockTools/MoleculePreparation.py\", line 141, in __init__\n",
      "    self.addCharges(mol, charges_to_add)\n",
      "  File \"/home/tsa87/ADFRsuite-1.0/CCSBpckgs/AutoDockTools/MoleculePreparation.py\", line 227, in addCharges\n",
      "    chargeCalculator.addCharges(mol.allAtoms)\n",
      "  File \"/home/tsa87/ADFRsuite-1.0/CCSBpckgs/MolKit/chargeCalculator.py\", line 80, in addCharges\n",
      "    babel.assignHybridization(atoms)\n",
      "  File \"/home/tsa87/ADFRsuite-1.0/CCSBpckgs/PyBabel/atomTypes.py\", line 137, in assignHybridization\n",
      "    self.valence_two()\n",
      "  File \"/home/tsa87/ADFRsuite-1.0/CCSBpckgs/PyBabel/atomTypes.py\", line 266, in valence_two\n",
      "    angle1 = bond_angle(k.coords, a.coords, l.coords)\n",
      "  File \"/home/tsa87/ADFRsuite-1.0/CCSBpckgs/PyBabel/util.py\", line 47, in bond_angle\n",
      "    raise ZeroDivisionError(\"Input used:\", a, b, c)\n",
      "ZeroDivisionError: ('Input used:', [-0.781, 44.742, -7.004], [0.102, 47.028, -7.52], [0.102, 47.028, -7.52])\n",
      " 96%|█████████▌| 14701/15307 [00:05<00:00, 3114.39it/s]"
     ]
    },
    {
     "name": "stdout",
     "output_type": "stream",
     "text": [
      "4jd5_A_rec:A:NA 604:NA and 4jd5_A_rec:A:NA 604:NA have the same coordinates\n",
      "WARNING! 5kuk_A_rec has 348  atoms with alternate locations named ['A']!\n",
      "\n",
      "WARNING! using alternate location A\n"
     ]
    },
    {
     "name": "stderr",
     "output_type": "stream",
     "text": [
      "Traceback (most recent call last):\n",
      "  File \"/home/tsa87/ADFRsuite-1.0/CCSBpckgs/AutoDockTools/Utilities24/prepare_receptor4.py\", line 216, in <module>\n",
      "    dict=dictionary)    \n",
      "  File \"/home/tsa87/ADFRsuite-1.0/CCSBpckgs/AutoDockTools/MoleculePreparation.py\", line 558, in __init__\n",
      "    version=version, delete_single_nonstd_residues=delete_single_nonstd_residues)\n",
      "  File \"/home/tsa87/ADFRsuite-1.0/CCSBpckgs/AutoDockTools/MoleculePreparation.py\", line 141, in __init__\n",
      "    self.addCharges(mol, charges_to_add)\n",
      "  File \"/home/tsa87/ADFRsuite-1.0/CCSBpckgs/AutoDockTools/MoleculePreparation.py\", line 227, in addCharges\n",
      "    chargeCalculator.addCharges(mol.allAtoms)\n",
      "  File \"/home/tsa87/ADFRsuite-1.0/CCSBpckgs/MolKit/chargeCalculator.py\", line 80, in addCharges\n",
      "    babel.assignHybridization(atoms)\n",
      "  File \"/home/tsa87/ADFRsuite-1.0/CCSBpckgs/PyBabel/atomTypes.py\", line 136, in assignHybridization\n",
      "    self.valence_three()\n",
      "  File \"/home/tsa87/ADFRsuite-1.0/CCSBpckgs/PyBabel/atomTypes.py\", line 231, in valence_three\n",
      "    angle3 = bond_angle(l.coords, a.coords, m.coords)\n",
      "  File \"/home/tsa87/ADFRsuite-1.0/CCSBpckgs/PyBabel/util.py\", line 53, in bond_angle\n",
      "    else: angle = (math.acos(cos_theta)) * RAD_TO_DEG\n",
      "ValueError: math domain error\n",
      "100%|██████████| 15307/15307 [00:06<00:00, 2324.56it/s]\n"
     ]
    }
   ],
   "source": [
    "from src.tacogfn.eval import docking\n",
    "\n",
    "for key, lig_path in tqdm(pocket_to_ligands.items()):\n",
    "    rec_path = os.path.join('../dataset/crossdock/', key + '_rec.pdb')\n",
    "    target_path = rec_path.replace('.pdb', '.pdbqt').replace('crossdock', 'crossdock_pdbqt')\n",
    "    if not os.path.exists(target_path):\n",
    "        docking._prepare_receptor(\n",
    "            rec_path,\n",
    "            target_path\n",
    "        )"
   ]
  },
  {
   "cell_type": "code",
   "execution_count": 6,
   "metadata": {},
   "outputs": [],
   "source": [
    "pocket_to_centroid = torch.load('../dataset/pocket_to_centroid.pt')"
   ]
  },
  {
   "cell_type": "code",
   "execution_count": 9,
   "metadata": {},
   "outputs": [
    {
     "name": "stderr",
     "output_type": "stream",
     "text": [
      " 14%|█▎        | 2069/15307 [18:56<2:11:02,  1.68it/s][22:38:46] ERROR: CTAB version string invalid at line 4\n",
      "[22:38:46] ERROR: moving to the beginning of the next molecule\n",
      "Traceback (most recent call last):\n",
      "  File \"/home/tsa87/anaconda3/envs/tacogfn/bin/mk_prepare_ligand.py\", line 286, in <module>\n",
      "    mol_supplier = parsers[ext](input_molecule_filename, removeHs=False) # input must have explicit H\n",
      "OSError: File error: Invalid input file /tmp/tmp1h9d5cuc/ligand.sdf\n",
      " 23%|██▎       | 3584/15307 [32:36<1:43:07,  1.89it/s]atom number 0 has non finite charge, mol name: __4b1g_A_rec_4na0_ar6_lig_min.pdb, charge: nan\n",
      "atom number 1 has non finite charge, mol name: __4b1g_A_rec_4na0_ar6_lig_min.pdb, charge: nan\n",
      "atom number 2 has non finite charge, mol name: __4b1g_A_rec_4na0_ar6_lig_min.pdb, charge: nan\n",
      "atom number 3 has non finite charge, mol name: __4b1g_A_rec_4na0_ar6_lig_min.pdb, charge: nan\n",
      "atom number 4 has non finite charge, mol name: __4b1g_A_rec_4na0_ar6_lig_min.pdb, charge: nan\n",
      "atom number 5 has non finite charge, mol name: __4b1g_A_rec_4na0_ar6_lig_min.pdb, charge: nan\n",
      "atom number 6 has non finite charge, mol name: __4b1g_A_rec_4na0_ar6_lig_min.pdb, charge: nan\n",
      "atom number 7 has non finite charge, mol name: __4b1g_A_rec_4na0_ar6_lig_min.pdb, charge: nan\n",
      "atom number 8 has non finite charge, mol name: __4b1g_A_rec_4na0_ar6_lig_min.pdb, charge: nan\n",
      "atom number 9 has non finite charge, mol name: __4b1g_A_rec_4na0_ar6_lig_min.pdb, charge: nan\n",
      "atom number 10 has non finite charge, mol name: __4b1g_A_rec_4na0_ar6_lig_min.pdb, charge: nan\n",
      "atom number 11 has non finite charge, mol name: __4b1g_A_rec_4na0_ar6_lig_min.pdb, charge: nan\n",
      "atom number 12 has non finite charge, mol name: __4b1g_A_rec_4na0_ar6_lig_min.pdb, charge: nan\n",
      "atom number 13 has non finite charge, mol name: __4b1g_A_rec_4na0_ar6_lig_min.pdb, charge: nan\n",
      "atom number 14 has non finite charge, mol name: __4b1g_A_rec_4na0_ar6_lig_min.pdb, charge: nan\n",
      "atom number 15 has non finite charge, mol name: __4b1g_A_rec_4na0_ar6_lig_min.pdb, charge: nan\n",
      "atom number 16 has non finite charge, mol name: __4b1g_A_rec_4na0_ar6_lig_min.pdb, charge: nan\n",
      "atom number 17 has non finite charge, mol name: __4b1g_A_rec_4na0_ar6_lig_min.pdb, charge: nan\n",
      "atom number 18 has non finite charge, mol name: __4b1g_A_rec_4na0_ar6_lig_min.pdb, charge: nan\n",
      "atom number 19 has non finite charge, mol name: __4b1g_A_rec_4na0_ar6_lig_min.pdb, charge: nan\n",
      "atom number 20 has non finite charge, mol name: __4b1g_A_rec_4na0_ar6_lig_min.pdb, charge: nan\n",
      "atom number 21 has non finite charge, mol name: __4b1g_A_rec_4na0_ar6_lig_min.pdb, charge: nan\n",
      "atom number 22 has non finite charge, mol name: __4b1g_A_rec_4na0_ar6_lig_min.pdb, charge: nan\n",
      "atom number 23 has non finite charge, mol name: __4b1g_A_rec_4na0_ar6_lig_min.pdb, charge: nan\n",
      "atom number 24 has non finite charge, mol name: __4b1g_A_rec_4na0_ar6_lig_min.pdb, charge: nan\n",
      "atom number 25 has non finite charge, mol name: __4b1g_A_rec_4na0_ar6_lig_min.pdb, charge: nan\n",
      "atom number 26 has non finite charge, mol name: __4b1g_A_rec_4na0_ar6_lig_min.pdb, charge: nan\n",
      "atom number 27 has non finite charge, mol name: __4b1g_A_rec_4na0_ar6_lig_min.pdb, charge: nan\n",
      "atom number 28 has non finite charge, mol name: __4b1g_A_rec_4na0_ar6_lig_min.pdb, charge: nan\n",
      "atom number 29 has non finite charge, mol name: __4b1g_A_rec_4na0_ar6_lig_min.pdb, charge: nan\n",
      "atom number 30 has non finite charge, mol name: __4b1g_A_rec_4na0_ar6_lig_min.pdb, charge: nan\n",
      "atom number 31 has non finite charge, mol name: __4b1g_A_rec_4na0_ar6_lig_min.pdb, charge: nan\n",
      "atom number 32 has non finite charge, mol name: __4b1g_A_rec_4na0_ar6_lig_min.pdb, charge: nan\n",
      "atom number 33 has non finite charge, mol name: __4b1g_A_rec_4na0_ar6_lig_min.pdb, charge: nan\n",
      "atom number 34 has non finite charge, mol name: __4b1g_A_rec_4na0_ar6_lig_min.pdb, charge: nan\n",
      "atom number 35 has non finite charge, mol name: __4b1g_A_rec_4na0_ar6_lig_min.pdb, charge: nan\n",
      "atom number 36 has non finite charge, mol name: __4b1g_A_rec_4na0_ar6_lig_min.pdb, charge: nan\n",
      "atom number 37 has non finite charge, mol name: __4b1g_A_rec_4na0_ar6_lig_min.pdb, charge: nan\n",
      "atom number 41 has non finite charge, mol name: __4b1g_A_rec_4na0_ar6_lig_min.pdb, charge: nan\n",
      "atom number 43 has non finite charge, mol name: __4b1g_A_rec_4na0_ar6_lig_min.pdb, charge: nan\n",
      "atom number 46 has non finite charge, mol name: __4b1g_A_rec_4na0_ar6_lig_min.pdb, charge: nan\n",
      "atom number 47 has non finite charge, mol name: __4b1g_A_rec_4na0_ar6_lig_min.pdb, charge: nan\n",
      "atom number 49 has non finite charge, mol name: __4b1g_A_rec_4na0_ar6_lig_min.pdb, charge: nan\n",
      "atom number 53 has non finite charge, mol name: __4b1g_A_rec_4na0_ar6_lig_min.pdb, charge: nan\n",
      "atom number 55 has non finite charge, mol name: __4b1g_A_rec_4na0_ar6_lig_min.pdb, charge: nan\n",
      "atom number 57 has non finite charge, mol name: __4b1g_A_rec_4na0_ar6_lig_min.pdb, charge: nan\n",
      "\n",
      " 48%|████▊     | 7418/15307 [1:07:21<1:08:12,  1.93it/s]atom number 0 has non finite charge, mol name: __2bow_A_rec_2bow_p4p_lig_min.pdb, charge: nan\n",
      "atom number 1 has non finite charge, mol name: __2bow_A_rec_2bow_p4p_lig_min.pdb, charge: nan\n",
      "atom number 2 has non finite charge, mol name: __2bow_A_rec_2bow_p4p_lig_min.pdb, charge: nan\n",
      "atom number 3 has non finite charge, mol name: __2bow_A_rec_2bow_p4p_lig_min.pdb, charge: nan\n",
      "atom number 4 has non finite charge, mol name: __2bow_A_rec_2bow_p4p_lig_min.pdb, charge: nan\n",
      "atom number 5 has non finite charge, mol name: __2bow_A_rec_2bow_p4p_lig_min.pdb, charge: nan\n",
      "atom number 6 has non finite charge, mol name: __2bow_A_rec_2bow_p4p_lig_min.pdb, charge: nan\n",
      "atom number 7 has non finite charge, mol name: __2bow_A_rec_2bow_p4p_lig_min.pdb, charge: nan\n",
      "atom number 8 has non finite charge, mol name: __2bow_A_rec_2bow_p4p_lig_min.pdb, charge: nan\n",
      "atom number 9 has non finite charge, mol name: __2bow_A_rec_2bow_p4p_lig_min.pdb, charge: nan\n",
      "atom number 10 has non finite charge, mol name: __2bow_A_rec_2bow_p4p_lig_min.pdb, charge: nan\n",
      "atom number 11 has non finite charge, mol name: __2bow_A_rec_2bow_p4p_lig_min.pdb, charge: nan\n",
      "atom number 12 has non finite charge, mol name: __2bow_A_rec_2bow_p4p_lig_min.pdb, charge: nan\n",
      "atom number 13 has non finite charge, mol name: __2bow_A_rec_2bow_p4p_lig_min.pdb, charge: nan\n",
      "atom number 14 has non finite charge, mol name: __2bow_A_rec_2bow_p4p_lig_min.pdb, charge: nan\n",
      "atom number 15 has non finite charge, mol name: __2bow_A_rec_2bow_p4p_lig_min.pdb, charge: nan\n",
      "atom number 16 has non finite charge, mol name: __2bow_A_rec_2bow_p4p_lig_min.pdb, charge: nan\n",
      "atom number 17 has non finite charge, mol name: __2bow_A_rec_2bow_p4p_lig_min.pdb, charge: nan\n",
      "atom number 18 has non finite charge, mol name: __2bow_A_rec_2bow_p4p_lig_min.pdb, charge: nan\n",
      "atom number 19 has non finite charge, mol name: __2bow_A_rec_2bow_p4p_lig_min.pdb, charge: nan\n",
      "atom number 20 has non finite charge, mol name: __2bow_A_rec_2bow_p4p_lig_min.pdb, charge: nan\n",
      "atom number 21 has non finite charge, mol name: __2bow_A_rec_2bow_p4p_lig_min.pdb, charge: nan\n",
      "atom number 22 has non finite charge, mol name: __2bow_A_rec_2bow_p4p_lig_min.pdb, charge: nan\n",
      "atom number 23 has non finite charge, mol name: __2bow_A_rec_2bow_p4p_lig_min.pdb, charge: nan\n",
      "atom number 24 has non finite charge, mol name: __2bow_A_rec_2bow_p4p_lig_min.pdb, charge: nan\n",
      "atom number 25 has non finite charge, mol name: __2bow_A_rec_2bow_p4p_lig_min.pdb, charge: nan\n",
      "\n",
      " 57%|█████▋    | 8744/15307 [1:19:24<57:43,  1.89it/s]  atom number 0 has non finite charge, mol name: __4na4_B_rec_4na0_ar6_lig_min.pdb, charge: nan\n",
      "atom number 1 has non finite charge, mol name: __4na4_B_rec_4na0_ar6_lig_min.pdb, charge: nan\n",
      "atom number 2 has non finite charge, mol name: __4na4_B_rec_4na0_ar6_lig_min.pdb, charge: nan\n",
      "atom number 3 has non finite charge, mol name: __4na4_B_rec_4na0_ar6_lig_min.pdb, charge: nan\n",
      "atom number 4 has non finite charge, mol name: __4na4_B_rec_4na0_ar6_lig_min.pdb, charge: nan\n",
      "atom number 5 has non finite charge, mol name: __4na4_B_rec_4na0_ar6_lig_min.pdb, charge: nan\n",
      "atom number 6 has non finite charge, mol name: __4na4_B_rec_4na0_ar6_lig_min.pdb, charge: nan\n",
      "atom number 7 has non finite charge, mol name: __4na4_B_rec_4na0_ar6_lig_min.pdb, charge: nan\n",
      "atom number 8 has non finite charge, mol name: __4na4_B_rec_4na0_ar6_lig_min.pdb, charge: nan\n",
      "atom number 9 has non finite charge, mol name: __4na4_B_rec_4na0_ar6_lig_min.pdb, charge: nan\n",
      "atom number 10 has non finite charge, mol name: __4na4_B_rec_4na0_ar6_lig_min.pdb, charge: nan\n",
      "atom number 11 has non finite charge, mol name: __4na4_B_rec_4na0_ar6_lig_min.pdb, charge: nan\n",
      "atom number 12 has non finite charge, mol name: __4na4_B_rec_4na0_ar6_lig_min.pdb, charge: nan\n",
      "atom number 13 has non finite charge, mol name: __4na4_B_rec_4na0_ar6_lig_min.pdb, charge: nan\n",
      "atom number 14 has non finite charge, mol name: __4na4_B_rec_4na0_ar6_lig_min.pdb, charge: nan\n",
      "atom number 15 has non finite charge, mol name: __4na4_B_rec_4na0_ar6_lig_min.pdb, charge: nan\n",
      "atom number 16 has non finite charge, mol name: __4na4_B_rec_4na0_ar6_lig_min.pdb, charge: nan\n",
      "atom number 17 has non finite charge, mol name: __4na4_B_rec_4na0_ar6_lig_min.pdb, charge: nan\n",
      "atom number 18 has non finite charge, mol name: __4na4_B_rec_4na0_ar6_lig_min.pdb, charge: nan\n",
      "atom number 19 has non finite charge, mol name: __4na4_B_rec_4na0_ar6_lig_min.pdb, charge: nan\n",
      "atom number 20 has non finite charge, mol name: __4na4_B_rec_4na0_ar6_lig_min.pdb, charge: nan\n",
      "atom number 21 has non finite charge, mol name: __4na4_B_rec_4na0_ar6_lig_min.pdb, charge: nan\n",
      "atom number 22 has non finite charge, mol name: __4na4_B_rec_4na0_ar6_lig_min.pdb, charge: nan\n",
      "atom number 23 has non finite charge, mol name: __4na4_B_rec_4na0_ar6_lig_min.pdb, charge: nan\n",
      "atom number 24 has non finite charge, mol name: __4na4_B_rec_4na0_ar6_lig_min.pdb, charge: nan\n",
      "atom number 25 has non finite charge, mol name: __4na4_B_rec_4na0_ar6_lig_min.pdb, charge: nan\n",
      "atom number 26 has non finite charge, mol name: __4na4_B_rec_4na0_ar6_lig_min.pdb, charge: nan\n",
      "atom number 27 has non finite charge, mol name: __4na4_B_rec_4na0_ar6_lig_min.pdb, charge: nan\n",
      "atom number 28 has non finite charge, mol name: __4na4_B_rec_4na0_ar6_lig_min.pdb, charge: nan\n",
      "atom number 29 has non finite charge, mol name: __4na4_B_rec_4na0_ar6_lig_min.pdb, charge: nan\n",
      "atom number 30 has non finite charge, mol name: __4na4_B_rec_4na0_ar6_lig_min.pdb, charge: nan\n",
      "atom number 31 has non finite charge, mol name: __4na4_B_rec_4na0_ar6_lig_min.pdb, charge: nan\n",
      "atom number 32 has non finite charge, mol name: __4na4_B_rec_4na0_ar6_lig_min.pdb, charge: nan\n",
      "atom number 33 has non finite charge, mol name: __4na4_B_rec_4na0_ar6_lig_min.pdb, charge: nan\n",
      "atom number 34 has non finite charge, mol name: __4na4_B_rec_4na0_ar6_lig_min.pdb, charge: nan\n",
      "atom number 35 has non finite charge, mol name: __4na4_B_rec_4na0_ar6_lig_min.pdb, charge: nan\n",
      "atom number 36 has non finite charge, mol name: __4na4_B_rec_4na0_ar6_lig_min.pdb, charge: nan\n",
      "atom number 37 has non finite charge, mol name: __4na4_B_rec_4na0_ar6_lig_min.pdb, charge: nan\n",
      "atom number 41 has non finite charge, mol name: __4na4_B_rec_4na0_ar6_lig_min.pdb, charge: nan\n",
      "atom number 43 has non finite charge, mol name: __4na4_B_rec_4na0_ar6_lig_min.pdb, charge: nan\n",
      "atom number 46 has non finite charge, mol name: __4na4_B_rec_4na0_ar6_lig_min.pdb, charge: nan\n",
      "atom number 47 has non finite charge, mol name: __4na4_B_rec_4na0_ar6_lig_min.pdb, charge: nan\n",
      "atom number 49 has non finite charge, mol name: __4na4_B_rec_4na0_ar6_lig_min.pdb, charge: nan\n",
      "atom number 53 has non finite charge, mol name: __4na4_B_rec_4na0_ar6_lig_min.pdb, charge: nan\n",
      "atom number 55 has non finite charge, mol name: __4na4_B_rec_4na0_ar6_lig_min.pdb, charge: nan\n",
      "atom number 57 has non finite charge, mol name: __4na4_B_rec_4na0_ar6_lig_min.pdb, charge: nan\n",
      "\n",
      " 93%|█████████▎| 14161/15307 [2:09:02<10:34,  1.81it/s] atom number 0 has non finite charge, mol name: __4na0_B_rec_4na0_ar6_lig_min.pdb, charge: nan\n",
      "atom number 1 has non finite charge, mol name: __4na0_B_rec_4na0_ar6_lig_min.pdb, charge: nan\n",
      "atom number 2 has non finite charge, mol name: __4na0_B_rec_4na0_ar6_lig_min.pdb, charge: nan\n",
      "atom number 3 has non finite charge, mol name: __4na0_B_rec_4na0_ar6_lig_min.pdb, charge: nan\n",
      "atom number 4 has non finite charge, mol name: __4na0_B_rec_4na0_ar6_lig_min.pdb, charge: nan\n",
      "atom number 5 has non finite charge, mol name: __4na0_B_rec_4na0_ar6_lig_min.pdb, charge: nan\n",
      "atom number 6 has non finite charge, mol name: __4na0_B_rec_4na0_ar6_lig_min.pdb, charge: nan\n",
      "atom number 7 has non finite charge, mol name: __4na0_B_rec_4na0_ar6_lig_min.pdb, charge: nan\n",
      "atom number 8 has non finite charge, mol name: __4na0_B_rec_4na0_ar6_lig_min.pdb, charge: nan\n",
      "atom number 9 has non finite charge, mol name: __4na0_B_rec_4na0_ar6_lig_min.pdb, charge: nan\n",
      "atom number 10 has non finite charge, mol name: __4na0_B_rec_4na0_ar6_lig_min.pdb, charge: nan\n",
      "atom number 11 has non finite charge, mol name: __4na0_B_rec_4na0_ar6_lig_min.pdb, charge: nan\n",
      "atom number 12 has non finite charge, mol name: __4na0_B_rec_4na0_ar6_lig_min.pdb, charge: nan\n",
      "atom number 13 has non finite charge, mol name: __4na0_B_rec_4na0_ar6_lig_min.pdb, charge: nan\n",
      "atom number 14 has non finite charge, mol name: __4na0_B_rec_4na0_ar6_lig_min.pdb, charge: nan\n",
      "atom number 15 has non finite charge, mol name: __4na0_B_rec_4na0_ar6_lig_min.pdb, charge: nan\n",
      "atom number 16 has non finite charge, mol name: __4na0_B_rec_4na0_ar6_lig_min.pdb, charge: nan\n",
      "atom number 17 has non finite charge, mol name: __4na0_B_rec_4na0_ar6_lig_min.pdb, charge: nan\n",
      "atom number 18 has non finite charge, mol name: __4na0_B_rec_4na0_ar6_lig_min.pdb, charge: nan\n",
      "atom number 19 has non finite charge, mol name: __4na0_B_rec_4na0_ar6_lig_min.pdb, charge: nan\n",
      "atom number 20 has non finite charge, mol name: __4na0_B_rec_4na0_ar6_lig_min.pdb, charge: nan\n",
      "atom number 21 has non finite charge, mol name: __4na0_B_rec_4na0_ar6_lig_min.pdb, charge: nan\n",
      "atom number 22 has non finite charge, mol name: __4na0_B_rec_4na0_ar6_lig_min.pdb, charge: nan\n",
      "atom number 23 has non finite charge, mol name: __4na0_B_rec_4na0_ar6_lig_min.pdb, charge: nan\n",
      "atom number 24 has non finite charge, mol name: __4na0_B_rec_4na0_ar6_lig_min.pdb, charge: nan\n",
      "atom number 25 has non finite charge, mol name: __4na0_B_rec_4na0_ar6_lig_min.pdb, charge: nan\n",
      "atom number 26 has non finite charge, mol name: __4na0_B_rec_4na0_ar6_lig_min.pdb, charge: nan\n",
      "atom number 27 has non finite charge, mol name: __4na0_B_rec_4na0_ar6_lig_min.pdb, charge: nan\n",
      "atom number 28 has non finite charge, mol name: __4na0_B_rec_4na0_ar6_lig_min.pdb, charge: nan\n",
      "atom number 29 has non finite charge, mol name: __4na0_B_rec_4na0_ar6_lig_min.pdb, charge: nan\n",
      "atom number 30 has non finite charge, mol name: __4na0_B_rec_4na0_ar6_lig_min.pdb, charge: nan\n",
      "atom number 31 has non finite charge, mol name: __4na0_B_rec_4na0_ar6_lig_min.pdb, charge: nan\n",
      "atom number 32 has non finite charge, mol name: __4na0_B_rec_4na0_ar6_lig_min.pdb, charge: nan\n",
      "atom number 33 has non finite charge, mol name: __4na0_B_rec_4na0_ar6_lig_min.pdb, charge: nan\n",
      "atom number 34 has non finite charge, mol name: __4na0_B_rec_4na0_ar6_lig_min.pdb, charge: nan\n",
      "atom number 35 has non finite charge, mol name: __4na0_B_rec_4na0_ar6_lig_min.pdb, charge: nan\n",
      "atom number 36 has non finite charge, mol name: __4na0_B_rec_4na0_ar6_lig_min.pdb, charge: nan\n",
      "atom number 37 has non finite charge, mol name: __4na0_B_rec_4na0_ar6_lig_min.pdb, charge: nan\n",
      "atom number 41 has non finite charge, mol name: __4na0_B_rec_4na0_ar6_lig_min.pdb, charge: nan\n",
      "atom number 43 has non finite charge, mol name: __4na0_B_rec_4na0_ar6_lig_min.pdb, charge: nan\n",
      "atom number 46 has non finite charge, mol name: __4na0_B_rec_4na0_ar6_lig_min.pdb, charge: nan\n",
      "atom number 47 has non finite charge, mol name: __4na0_B_rec_4na0_ar6_lig_min.pdb, charge: nan\n",
      "atom number 49 has non finite charge, mol name: __4na0_B_rec_4na0_ar6_lig_min.pdb, charge: nan\n",
      "atom number 53 has non finite charge, mol name: __4na0_B_rec_4na0_ar6_lig_min.pdb, charge: nan\n",
      "atom number 55 has non finite charge, mol name: __4na0_B_rec_4na0_ar6_lig_min.pdb, charge: nan\n",
      "atom number 57 has non finite charge, mol name: __4na0_B_rec_4na0_ar6_lig_min.pdb, charge: nan\n",
      "\n",
      " 98%|█████████▊| 15077/15307 [2:17:33<02:03,  1.86it/s][00:37:23] ERROR: CTAB version string invalid at line 4\n",
      "[00:37:23] ERROR: moving to the beginning of the next molecule\n",
      "Traceback (most recent call last):\n",
      "  File \"/home/tsa87/anaconda3/envs/tacogfn/bin/mk_prepare_ligand.py\", line 286, in <module>\n",
      "    mol_supplier = parsers[ext](input_molecule_filename, removeHs=False) # input must have explicit H\n",
      "OSError: File error: Invalid input file /tmp/tmpff7z5ui5/ligand.sdf\n",
      "100%|██████████| 15307/15307 [2:19:40<00:00,  1.83it/s]\n"
     ]
    }
   ],
   "source": [
    "pocket_to_score = {}\n",
    "for key, lig_path in tqdm(pocket_to_ligands.items()):\n",
    "    rec_path = os.path.join('../dataset/crossdock_pdbqt/', key + '_rec.pdbqt')\n",
    "    lig_path = os.path.join('../dataset/crossdocked_pocket10/', lig_path)\n",
    "    \n",
    "    \n",
    "    score = docking.compute_docking_score_from_sdf(\n",
    "        pdb_path=rec_path,\n",
    "        sdf_path=lig_path,\n",
    "        local_search=True\n",
    "    )\n",
    "    \n",
    "    pocket_to_score[key] = score"
   ]
  },
  {
   "cell_type": "code",
   "execution_count": 10,
   "metadata": {},
   "outputs": [],
   "source": [
    "torch.save(pocket_to_score, '../dataset/pocket_to_score.pt')"
   ]
  }
 ],
 "metadata": {
  "kernelspec": {
   "display_name": "tacogfn",
   "language": "python",
   "name": "python3"
  },
  "language_info": {
   "codemirror_mode": {
    "name": "ipython",
    "version": 3
   },
   "file_extension": ".py",
   "mimetype": "text/x-python",
   "name": "python",
   "nbconvert_exporter": "python",
   "pygments_lexer": "ipython3",
   "version": "3.9.18"
  }
 },
 "nbformat": 4,
 "nbformat_minor": 2
}
