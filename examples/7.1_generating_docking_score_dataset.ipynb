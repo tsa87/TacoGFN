{
 "cells": [
  {
   "cell_type": "markdown",
   "metadata": {},
   "source": [
    "This notebook generates docking score dataset from CrossDock 100k"
   ]
  },
  {
   "cell_type": "code",
   "execution_count": 1,
   "metadata": {},
   "outputs": [
    {
     "name": "stderr",
     "output_type": "stream",
     "text": [
      "/home/tsa87/anaconda3/envs/tacogfn/lib/python3.9/site-packages/tqdm/auto.py:21: TqdmWarning: IProgress not found. Please update jupyter and ipywidgets. See https://ipywidgets.readthedocs.io/en/stable/user_install.html\n",
      "  from .autonotebook import tqdm as notebook_tqdm\n"
     ]
    }
   ],
   "source": [
    "import sys\n",
    "sys.path.append('../')\n",
    "\n",
    "import torch\n",
    "from glob import glob\n",
    "from tqdm import tqdm\n",
    "\n",
    "from src.tacogfn.utils.molecules import sdf_to_single_smiles\n",
    "from src.tacogfn.data.pharmacophore import PharmacoDB\n",
    "\n",
    "import rdkit\n",
    "rdkit.RDLogger.DisableLog('rdApp.*')"
   ]
  },
  {
   "cell_type": "markdown",
   "metadata": {},
   "source": [
    "Load type files containing all information"
   ]
  },
  {
   "cell_type": "code",
   "execution_count": 2,
   "metadata": {},
   "outputs": [],
   "source": [
    "files = glob('../dataset/it2_tt_v1.1_completeset_train0.types')"
   ]
  },
  {
   "cell_type": "code",
   "execution_count": 3,
   "metadata": {},
   "outputs": [],
   "source": [
    "def process_line(line):\n",
    "    info = line.split()\n",
    "    pocket_id = info[3].split(\"/\")[-1].split('_rec')[0] \n",
    "    ligand_id = info[4].split(\"/\")[-1].split('rec_')[1].split('_lig')[0] \n",
    "    docking_score = float(info[-1][1:])\n",
    "    return pocket_id, ligand_id, docking_score"
   ]
  },
  {
   "cell_type": "markdown",
   "metadata": {},
   "source": [
    "Create a dataset with docking score (key is pocket_id + '_' + ligand_id)"
   ]
  },
  {
   "cell_type": "code",
   "execution_count": 4,
   "metadata": {},
   "outputs": [
    {
     "name": "stderr",
     "output_type": "stream",
     "text": [
      "22583743it [00:30, 735850.20it/s]\n"
     ]
    }
   ],
   "source": [
    "dataset = {}\n",
    "\n",
    "for file_path in files:\n",
    "    with open(file_path, \"r\") as file:\n",
    "        for line in tqdm(file):\n",
    "            pocket_id, ligand_id, docking_score = process_line(line)\n",
    "            key = pocket_id + '_' + ligand_id\n",
    "            if key not in dataset:\n",
    "                dataset[key] = [docking_score]        \n",
    "            else:\n",
    "                dataset[key].append(docking_score)"
   ]
  },
  {
   "cell_type": "code",
   "execution_count": 5,
   "metadata": {},
   "outputs": [],
   "source": [
    "# for file_path in files:\n",
    "#     with open(file_path, \"r\") as file:\n",
    "#         for line in file:\n",
    "#             key = '3rlj_A_rec_1i38_dht'\n",
    "#             if key in line:\n",
    "#                 print(line)"
   ]
  },
  {
   "cell_type": "markdown",
   "metadata": {},
   "source": [
    "We can only use a subset of this dataset"
   ]
  },
  {
   "cell_type": "code",
   "execution_count": 6,
   "metadata": {},
   "outputs": [],
   "source": [
    "splits = torch.load('../dataset/split_by_name.pt')"
   ]
  },
  {
   "cell_type": "code",
   "execution_count": 7,
   "metadata": {},
   "outputs": [],
   "source": [
    "get_pocket_id_and_ligand_id = lambda path: (path.split('/')[1].split('_rec')[0], path.split('/')[1].split('rec_')[1].split('_lig')[0])"
   ]
  },
  {
   "cell_type": "code",
   "execution_count": 8,
   "metadata": {},
   "outputs": [],
   "source": [
    "train_pairs = [get_pocket_id_and_ligand_id(path) for path, _ in splits['train']]\n",
    "train_keys = set(pair[0] + '_' + pair[1] for pair in train_pairs)\n",
    "\n",
    "test_pairs = [get_pocket_id_and_ligand_id(path) for path, _ in splits['test']] \n",
    "test_keys = set(pair[0] + '_' + pair[1] for pair in test_pairs)"
   ]
  },
  {
   "cell_type": "code",
   "execution_count": 9,
   "metadata": {},
   "outputs": [],
   "source": [
    "train_dataset = {key: dataset[key] for key in dataset.keys() if key in train_keys}\n",
    "test_dataset = {key: dataset[key] for key in dataset.keys() if key in test_keys}"
   ]
  },
  {
   "cell_type": "code",
   "execution_count": 10,
   "metadata": {},
   "outputs": [
    {
     "name": "stdout",
     "output_type": "stream",
     "text": [
      "There are 84459 ligand pocket combinations in CrossDock 100k\n",
      "There are 100 ligand pocket combinations in CrossDock 100k\n"
     ]
    }
   ],
   "source": [
    "print('There are {} ligand pocket combinations in CrossDock 100k'.format(len(train_keys)))\n",
    "print('There are {} ligand pocket combinations in CrossDock 100k'.format(len(test_keys)))"
   ]
  },
  {
   "cell_type": "code",
   "execution_count": 11,
   "metadata": {},
   "outputs": [
    {
     "name": "stdout",
     "output_type": "stream",
     "text": [
      "There are 84459 ligand pocket combinations in train with docking score\n",
      "There are 100 ligand pocket combinations in test with docking score\n"
     ]
    }
   ],
   "source": [
    "len(train_dataset), len(test_dataset)\n",
    "print('There are {} ligand pocket combinations in train with docking score'.format(len(train_dataset)))\n",
    "print('There are {} ligand pocket combinations in test with docking score'.format(len(test_dataset)))"
   ]
  },
  {
   "cell_type": "markdown",
   "metadata": {},
   "source": [
    "We average the top docking scores for each protein ligand pair as label"
   ]
  },
  {
   "cell_type": "code",
   "execution_count": 12,
   "metadata": {},
   "outputs": [],
   "source": [
    "acc_train_dataset = {\n",
    "    key: min(scores + [0]) for key, scores in train_dataset.items()\n",
    "}\n",
    "acc_test_dataset = {\n",
    "    key: min(scores + [0]) for key, scores in test_dataset.items()\n",
    "}"
   ]
  },
  {
   "cell_type": "markdown",
   "metadata": {},
   "source": [
    "Distribution of docking scores"
   ]
  },
  {
   "cell_type": "code",
   "execution_count": 13,
   "metadata": {},
   "outputs": [
    {
     "data": {
      "image/png": "[encoded data removed]",
      "text/plain": [
       "<Figure size 640x480 with 1 Axes>"
      ]
     },
     "metadata": {},
     "output_type": "display_data"
    }
   ],
   "source": [
    "import matplotlib.pyplot as plt\n",
    "\n",
    "docking_scores = acc_train_dataset.values()\n",
    "\n",
    "plt.hist(docking_scores, bins=10)\n",
    "plt.xlabel('Docking Score')\n",
    "plt.ylabel('Frequency')\n",
    "plt.title('Histogram of Docking Scores')\n",
    "plt.show()"
   ]
  },
  {
   "cell_type": "code",
   "execution_count": 14,
   "metadata": {},
   "outputs": [
    {
     "data": {
      "text/plain": [
       "1.593823870220958"
      ]
     },
     "execution_count": 14,
     "metadata": {},
     "output_type": "execute_result"
    }
   ],
   "source": [
    "from statistics import mean\n",
    "\n",
    "avg = mean(list(docking_scores))\n",
    "\n",
    "mean([abs(score - avg) for score in docking_scores])"
   ]
  },
  {
   "cell_type": "markdown",
   "metadata": {},
   "source": [
    "Get dataset in the form of (pdb_id, smiles, docking scores) "
   ]
  },
  {
   "cell_type": "code",
   "execution_count": 39,
   "metadata": {},
   "outputs": [],
   "source": [
    "import os\n",
    "\n",
    "db = PharmacoDB('../misc/pharmacophores_db.lmdb')\n",
    "avail_keys = set(db.get_keys())\n",
    "\n",
    "def get_final_dataset(acc_dataset):\n",
    "    final_dataset = []\n",
    "\n",
    "    for key, score in tqdm(acc_dataset.items()):\n",
    "        pdb_id = '_'.join(key.split('_')[:2])\n",
    "        sdf_path = os.path.join('../dataset/crossdock', '_'.join(key.split('_')[2:]) + '_lig.sdf')\n",
    "        \n",
    "        try:\n",
    "            smiles = sdf_to_single_smiles(sdf_path)\n",
    "            \n",
    "            if pdb_id in avail_keys and smiles is not None:\n",
    "                if len(db.get_pharmacophore(pdb_id).nodes) >= 3:\n",
    "                    final_dataset.append(\n",
    "                        (pdb_id, smiles, score)\n",
    "                    )\n",
    "        except:\n",
    "            pass\n",
    "    return final_dataset"
   ]
  },
  {
   "cell_type": "code",
   "execution_count": 16,
   "metadata": {},
   "outputs": [
    {
     "name": "stderr",
     "output_type": "stream",
     "text": [
      "100%|██████████| 84459/84459 [01:37<00:00, 865.67it/s] \n",
      "100%|██████████| 100/100 [00:00<00:00, 1039.15it/s]\n"
     ]
    }
   ],
   "source": [
    "final_train_dataset = get_final_dataset(acc_train_dataset)\n",
    "final_test_dataset = get_final_dataset(acc_test_dataset)"
   ]
  },
  {
   "cell_type": "code",
   "execution_count": 17,
   "metadata": {},
   "outputs": [
    {
     "data": {
      "text/plain": [
       "[('2cy0_A', 'O=C(O)C1=CC(O)C(O)C(O)C1', -7.44323),\n",
       " ('5mgl_A', 'CNC(=O)c1cc(Cl)ccn1', -5.72688),\n",
       " ('5tjn_A', 'CC(=O)NC1C(O)OC(CO)C(OC2OC(CO)C(O)C(O)C2O)C1O', -5.98847),\n",
       " ('4qlk_A',\n",
       "  'OCC1OC(OC2C(CO)OC(OC3C(CO)OC(OC4C(CO)OC(O)C(O)C4O)C(O)C3O)C(O)C2O)C(O)C(O)C1O',\n",
       "  -12.20443),\n",
       " ('2z3h_A',\n",
       "  'CN(CCC(N)CC(=O)NC1CCC(N2C=CC(N)(O)NC2=O)OC1C(=O)O)C(=N)N',\n",
       "  -10.12669),\n",
       " ('1a2g_A', 'Nc1ccc2nccn2c1', -5.31187),\n",
       " ('3dzh_A',\n",
       "  'NC1=c2ncn3c2=NCN1C1CC(COP(=O)(O)OP(=O)(O)OCC2OC3C(O)C2O)C(O)C1O',\n",
       "  -10.99611),\n",
       " ('1coy_A', 'CC12CCC3C(CC=C4CC(O)CCC43C)C1CCC2=O', -9.59933),\n",
       " ('4q8b_B', 'COc1cc(C=CC(=O)O)cc(OC)c1O', -5.28093),\n",
       " ('4zfa_A', 'CCCCCCCCCCCCCCCC(=O)O', -6.23889),\n",
       " ('4tqr_A', 'Nc1ccn(C2CCC(COP(=O)=O)O2)c(=O)n1', -4.11087),\n",
       " ('3jyh_A', 'NCCC(N)C(=O)N1CCCCC1', -6.01706),\n",
       " ('2hcj_B',\n",
       "  'Nc1nc(=O)c2ncn(C3OC(COP(=O)(O)OP(=O)(O)O)C(O)C3O)c2[nH]1',\n",
       "  -10.39394),\n",
       " ('3kc1_A', 'NC(=O)C1=CCC(OCP(=O)(O)O)=C2C1=Cc1scnc12', -7.84476),\n",
       " ('1d7j_A',\n",
       "  'C=CCC1C=C(C)CC(C)CC(OC)C2OC(O)(C(=O)C(=O)N3CCCCC3C(=O)OC(C(C)=CC3CCC(O)C(OC)C3)C(C)C(O)CC1=O)C(C)CC2OC',\n",
       "  -8.47813),\n",
       " ('4ja8_B',\n",
       "  'O=C(Nc1cccc(C(F)(F)F)c1)Nc1cc(S(=O)(=O)NC2CC2)ccc1-c1ccsc1',\n",
       "  -13.17952),\n",
       " ('4u5s_A', 'CNCc1cccc(-c2cccnc2)c1', -5.11136),\n",
       " ('4iiy_A',\n",
       "  'Nc1ncnc2c1ncn2C1OC(COS(O)(O)NC(=O)C(N)CCC(=O)O)C(O)C1O',\n",
       "  -9.63429),\n",
       " ('3v4t_A', 'O=c1ccn(C2OC(COP(=O)(O)OP(=O)(O)O)C(O)C2O)c(=O)[nH]1', -8.62687),\n",
       " ('4d7o_A', 'Cc1cc(N)nc(CCc2cccc(CCc3cc(C)nc(N)c3)n2)c1', -9.91521),\n",
       " ('3tym_A', 'Cc1cc(N)nc(CCc2cccc(CCc3cc(C)nc(N)c3)c2)c1', -10.7015),\n",
       " ('3ej8_A', 'CCSC(=N)N', -3.27179),\n",
       " ('1rs9_A', 'CCSC(=N)N', -3.46075),\n",
       " ('4kcq_A', 'Cc1cc(N)nc(CC2CNCC2OCCCCCc2ccccn2)c1', -8.39592),\n",
       " ('3pdh_A', 'NC(=O)C1CCCC2=C3C=C(Cl)C=CC3N=C21', -8.33794),\n",
       " ('1umd_B', 'CC1=C(CCOP(=O)(O)OP(=O)(O)O)SCN1Cc1cnc(C)nc1N', -10.35425),\n",
       " ('4pxz_A',\n",
       "  'CSc1nc(N)c2ncn(C3OC(COP(=O)(O)OP(=O)(O)O)C(O)C3O)c2n1',\n",
       "  -11.26348),\n",
       " ('1ai4_A', 'O=C(O)Cc1cccc([N+](=O)[O-])c1', -7.092),\n",
       " ('5mma_A',\n",
       "  'CC(O)CN1C(=O)c2c3c(c(O)c(=O)n2C12CCC1CC12)C(=O)N(Cc1ccc(F)c(Cl)c1)CC3',\n",
       "  -7.70615),\n",
       " ('2e6d_A', 'O=C(O)C=CC(=O)O', -5.02962),\n",
       " ('3w83_B', 'O=C(O)C=CC(=O)O', -4.38099),\n",
       " ('4rv4_A', 'O=P(O)(O)OCC1OC(OP(=O)(O)OP(=O)(O)O)C(O)C1O', -9.10925),\n",
       " ('5d7n_D', 'CS(=O)(=O)NCCC1CCN(c2ncnc3cc(C(N)=O)sc23)CC1', -8.08095),\n",
       " ('1h36_A', 'CN(C(=O)Oc1ccc(Cl)cc1)C1CCC(c2ccc(CN3CCCCC3)cc2)CC1', -12.70481),\n",
       " ('4gvd_A', 'CN(C)c1cccc2c([SH](O)O)cccc12', -5.59144),\n",
       " ('4tos_A',\n",
       "  'CC1C=CC=C2N=C(Cn3c(=O)n(CC4CCC(C(=O)NCc5ccccc5)CC4)c(=O)c4ccccc43)CC(=O)N21',\n",
       "  -15.9863),\n",
       " ('5aeh_A',\n",
       "  'COc1ccc(C(=O)Nc2ccc(C(=O)N(c3ccncn3)c3ccccc3Cl)cc2)cc1',\n",
       "  -12.25542),\n",
       " ('4h3c_A', 'COc1ccc(C(=C(Cl)c2ccccc2)c2ccccc2)cc1', -7.99324),\n",
       " ('4rlu_A', 'O=C(C=Cc1ccc(O)cc1)c1ccc(O)cc1O', -9.18062),\n",
       " ('4xli_B',\n",
       "  'Cc1nc(Nc2ncc(C(=O)Nc3c(C)cccc3Cl)s2)cc(N2CCN(CCO)CC2)n1',\n",
       "  -9.52465),\n",
       " ('3l3n_A', 'CC(NC(=O)O)C(=O)O', -4.25405),\n",
       " ('5liu_X', 'O=C(C=Cc1ccc(O)c(O)c1)OCCc1ccccc1', -10.18953),\n",
       " ('3o96_A',\n",
       "  'O=c1[nH]c2ccccc2n1C1CCN(Cc2ccc(-c3nc4cc5[nH]cnc5cc4nc3-c3ccccc3)cc2)CC1',\n",
       "  -14.71002),\n",
       " ('3hy9_B', 'O=C(CC(Cc1cccc(O)c1)C(=O)NC1c2ccccc2CC1O)NO', -10.11716),\n",
       " ('4bel_A',\n",
       "  'Cc1cccc(CNCC(O)C(Cc2ccccc2)NC(=O)C2=Cc3ccccc3Oc3ccccc32)c1',\n",
       "  -9.7533),\n",
       " ('3nfb_A',\n",
       "  'CC1(C)SC(C(NC(=O)C(N)c2ccccc2)C(=O)O)NC1C(=O)O.CC1(C)SC(C(NC(=O)C(N)c2ccccc2)C(=O)O)NC1C(=O)O',\n",
       "  -9.1896),\n",
       " ('4m7t_A', 'C[SH](CCC(N)C(=O)O)CC1OC(n2cnc3c(N)ncnc32)C(O)C1O', -9.58385),\n",
       " ('3u9f_C', 'O=C(NC(CO)C(O)c1ccc([N+](=O)[O-])cc1)C(Cl)Cl', -7.50919),\n",
       " ('2f2c_B', 'O=c1c(O)c(-c2ccc(O)c(O)c2)oc2cc(O)ccc12', -9.15314),\n",
       " ('4aua_A', 'O=C(c1ccc[nH]1)c1nc2ccccc2[nH]1', -7.75778),\n",
       " ('1k9t_A', 'C1COCCO1.C1COCCO1.C1COCCO1.C1COCCO1.C1COCCO1', -3.27789),\n",
       " ('3chc_B', 'CNC(=N)NC(=O)NC', -4.65741),\n",
       " ('4z2g_A',\n",
       "  'C#CCOC1C(C)C(OC(=O)NCCCCNC(=N)NC(=O)NC)C(C)C(=O)OC(CC)C(C)(O)C2OC(C)(C)OC(C(C)CC1(C)O)C2C.C#CCOC1C(C)C(OC(=O)NCCCCNC(=N)NC(=O)NC)C(C)C(=O)OC(CC)C(C)(O)C2OC(C)(C)OC(C(C)CC1(C)O)C2C',\n",
       "  -10.38387),\n",
       " ('1h0i_A', 'CC1=NC2C(O1)OC(CO)C(O)C2O', -6.2917),\n",
       " ('3af2_A',\n",
       "  'Nc1nc(=O)c2ncn(C3OC(COP(=O)(O)OP(=O)(O)CP(=O)(O)O)C(O)C3O)c2[nH]1',\n",
       "  -9.83055),\n",
       " ('1jn2_P', 'O=[N+]([O-])c1ccc(OC2OC(CO)C(O)C(O)C2O)cc1', -6.9307),\n",
       " ('3li4_A', 'NP(=O)(OC1CCCC1)OC1CCCC1', -7.04078),\n",
       " ('3pnm_A', 'O=C(CO)CO', -3.77294),\n",
       " ('1afs_A', 'CC12CCC(=O)C=C1CCC1C2CCC2(C)C(O)CCC12', -9.98068),\n",
       " ('4azf_A', 'COC(N)c1nc2ccc3ncnc(Nc4ccc(Cl)cc4Cl)c3c2s1', -9.50812),\n",
       " ('2pc8_A', 'OC1CN2CCC(O)C2C(O)C1O', -6.65028),\n",
       " ('4aaw_A', 'COc1cc(OC)c(S(=O)(=O)NCc2ccccc2N2CCCCC2)cc1NC(C)=O', -7.99704),\n",
       " ('4yhj_A', 'Nc1ncnc2c1ncn2C1OC(COP(=O)(O)OP(N)(=O)O)C(O)C1O', -7.98734),\n",
       " ('14gs_A', 'Nc1cc(S(O)(O)O)c(N)c2c1C(=O)c1ccccc1C2=O', -8.49836),\n",
       " ('2v3r_A', 'CC(C)NCC(O)COc1cccc2ccccc12', -9.064),\n",
       " ('4rn0_B',\n",
       "  'CC(C)C1NC(=O)C2(C)CSC(=N2)c2cccc(n2)CNC(=O)CC(C=CCCS)NC1=O',\n",
       "  -6.33267),\n",
       " ('1fmc_B', 'CC(CCC(N)=O)C1CCC2C3C(=O)CC4CC(O)CCC4(C)C3CCC12C', -10.54004),\n",
       " ('3daf_A',\n",
       "  'CC1=C(OP(=O)(O)OCC2OC(n3cnc4c(=O)nc(N)[nH]c43)C(O)C2O)C(C)C(=O)N=C1CC(=O)O',\n",
       "  -10.18407),\n",
       " ('5w2g_A', 'Nc1ncnc2c1ncn2C1OC(COP(=O)(O)OP(=O)(O)O)C(O)C1O', -6.93286),\n",
       " ('3g51_A',\n",
       "  'Nc1ncnc2c1ncn2C1OC(COP(=O)(O)OP(=O)(O)NP(=O)(O)O)C(O)C1O',\n",
       "  -10.63663),\n",
       " ('2jjg_A', 'Cc1ncc(COP(=O)(O)O)c(C)c1O', -6.91112),\n",
       " ('2pqw_A', 'CNCCCCC(N)C(=O)O', -4.71606),\n",
       " ('2rhy_A', 'CNCCCCC(N)C(=O)O', -3.97817),\n",
       " ('4g3d_B', 'COCCOc1cnc(N)nc1C1=CN=C2CC=C(C#CC(C)(C)O)C=C12', -8.07191),\n",
       " ('5bur_A', 'Nc1ncnc2c1ncn2C1OC(COP(=O)(O)O)C(O)C1O', -8.02061),\n",
       " ('3gs6_A', 'CC(=O)NC1C(=NOC(=O)Nc2ccccc2)OC(C=O)C(O)C1O', -6.79228),\n",
       " ('1r1h_A',\n",
       "  'CC(NC(=O)C(Cc1ccc(-c2ccccc2)cc1)CP(=O)(O)C(C)N)C(=O)O',\n",
       "  -10.46063),\n",
       " ('1gg5_A', 'COC1=CC(=O)c2c(c(COc3ccccc3)c(C)n2C)C1=O', -8.49066),\n",
       " ('1dxo_C', 'Cn1c(C=CCO)c(CO)c2c1C(=O)C=C(N1CC1)C2=O', -6.10654),\n",
       " ('5q0k_A',\n",
       "  'CCOC(=O)c1ccc(NC(=O)c2c3c(nn2-c2ccccc2)CCN(S(=O)(=O)c2cccs2)C3)cc1',\n",
       "  -9.831),\n",
       " ('5b08_A', 'CCCCCc1cc(O)cc(O)c1C(=O)O', -6.81798),\n",
       " ('2azy_A', 'CC(C=CC(=O)O)C1CCC2C3C(O)CC4CC(O)CCC4(C)C3CC(O)C12C', -10.92404),\n",
       " ('5i0b_A', 'O=S(=O)(c1cccc2cnccc12)N1CCCNCC1', -7.77373),\n",
       " ('1phk_A',\n",
       "  'N=c1nc[nH]c2c1ncn2C1OC(COP(=O)(O)OP(=O)(O)OP(=O)(O)O)C(O)C1O',\n",
       "  -9.9959),\n",
       " ('4keu_A', 'OCCOCCOCCOCCO', -4.73207),\n",
       " ('1djy_A', 'O=P(O)(O)OC1C(O)C(O)C(O)C(O)C1OP(=O)(O)O', -7.29331),\n",
       " ('5l1v_A', 'CC1(C)CC2CC(C(=O)O)C3COC(=O)C4(CO4)C23C1', -7.63495),\n",
       " ('2rma_A', 'CCOC(=O)CNC(=O)NCc1ccc(N)cc1', -6.7219),\n",
       " ('3b6h_A', 'Nc1cc(N2CCCCC2)nc(N)[n+]1[O-]', -6.07302),\n",
       " ('2zen_A', 'c1ccc(Cn2ccnc2)cc1', -6.13728),\n",
       " ('3u5y_B',\n",
       "  'CC=C1C2CC3C4Nc5ccccc5C45CC(C2C5OC(C)=O)N3C1OC1OC(CO)C(O)C(O)C1O',\n",
       "  -10.36247),\n",
       " ('4p6p_A', 'O=C(CO)C(O)C(O)COP(=O)(O)O', -7.73448),\n",
       " ('4f1m_A',\n",
       "  'Nc1ncnc2c1ncn2C1OC(COP(=O)(O)OP(=O)(O)CP(=O)(O)O)C(O)C1O',\n",
       "  -8.2088),\n",
       " ('4lfu_A', 'CCCCCCCC(=O)OCC(O)CO', -6.91005),\n",
       " ('4iwq_A', 'CC1=C(C=CC(=O)O)C(C)N=C1CC1C(=O)Nc2ccccc21', -8.26709),\n",
       " ('1l3l_A', 'CCCCCC(=O)CC(=O)NC1C=COC1=O', -8.28172),\n",
       " ('5ngz_A', 'NCc1nc2ccccc2s1', -4.95864),\n",
       " ('1e8h_A', 'Nc1ncnc2c1ncn2C1OC(COP(=O)(O)OP(=O)(O)O)C(O)C1O', -10.60329),\n",
       " ('2e24_A', 'CC1(C(=O)O)OCC2OC(O)C(O)C(O)C2O1', -7.47438)]"
      ]
     },
     "execution_count": 17,
     "metadata": {},
     "output_type": "execute_result"
    }
   ],
   "source": [
    "final_test_dataset"
   ]
  },
  {
   "cell_type": "code",
   "execution_count": 29,
   "metadata": {},
   "outputs": [
    {
     "name": "stdout",
     "output_type": "stream",
     "text": [
      "There are 8245 unique ligands\n",
      "There are 14967 unique pdb ids\n"
     ]
    }
   ],
   "source": [
    "all_smiles = [smi for smi in list(set([data[1] for data in final_train_dataset]))]\n",
    "all_pdb_ids = list(set([data[0] for data in final_train_dataset]))\n",
    "print('There are {} unique ligands'.format( len(all_smiles)))\n",
    "print('There are {} unique pdb ids'.format( len(all_pdb_ids)))"
   ]
  },
  {
   "cell_type": "markdown",
   "metadata": {},
   "source": [
    "Split the dataset with MOOD considerations (This only has to be done once)\n",
    "Perimeter splitting is the best"
   ]
  },
  {
   "cell_type": "code",
   "execution_count": 19,
   "metadata": {},
   "outputs": [],
   "source": [
    "# gflownet_molecules = [data[1] for data in torch.load('../misc/examples_of_gflownet_produced_molecules.pt')]"
   ]
  },
  {
   "cell_type": "code",
   "execution_count": 20,
   "metadata": {},
   "outputs": [],
   "source": [
    "# import numpy as np\n",
    "# import datamol as dm\n",
    "# from rdkit import Chem\n",
    "\n",
    "# from sklearn.model_selection import ShuffleSplit\n",
    "\n",
    "# import splito"
   ]
  },
  {
   "cell_type": "code",
   "execution_count": 21,
   "metadata": {},
   "outputs": [],
   "source": [
    "# # Load the training dataset\n",
    "# dataset_feat = [dm.to_fp(Chem.MolFromSmiles(smi)) for smi in all_smiles if smi is not None]\n",
    "\n",
    "# # Load the deployment set\n",
    "# # Alternatively, you can also load an array of deployment-to-dataset distance\n",
    "# deployment_feat = [dm.to_fp(Chem.MolFromSmiles(smi)) for smi in gflownet_molecules]"
   ]
  },
  {
   "cell_type": "code",
   "execution_count": 22,
   "metadata": {},
   "outputs": [],
   "source": [
    "# # Define the candidate splitters\n",
    "# # Since we use the scikit-learn interface, this can also be sklearn Splitters\n",
    "# mols = [Chem.MolFromSmiles(smi) for smi in all_smiles if smi is not None]\n",
    "\n",
    "# splitters = {\n",
    "#     \"Random\": ShuffleSplit(),\n",
    "#     \"Scaffold\": splito.ScaffoldSplit(mols),\n",
    "#     \"Perimeter\": splito.PerimeterSplit(),\n",
    "#     \"MaxDissimilarity\": splito.MaxDissimilaritySplit(),\n",
    "# }\n",
    "\n",
    "# splitter = splito.MOODSplitter(splitters)"
   ]
  },
  {
   "cell_type": "code",
   "execution_count": 23,
   "metadata": {},
   "outputs": [],
   "source": [
    "# # get the rank of the splitting methods with the givent deployment set\n",
    "# splitter.fit(X=np.stack(dataset_feat), X_deployment=np.stack(deployment_feat))"
   ]
  },
  {
   "cell_type": "markdown",
   "metadata": {},
   "source": [
    "We are going to use Max Dissimilarity splitting because it produces best representativeness"
   ]
  },
  {
   "cell_type": "code",
   "execution_count": 30,
   "metadata": {},
   "outputs": [
    {
     "name": "stderr",
     "output_type": "stream",
     "text": [
      "2024-01-14 10:21:48.945 | DEBUG    | splito.utils:get_kmeans_clusters:68 - To use KMeans with the jaccard metric, we use the Empirical Kernel Map\n",
      "Exception ignored on calling ctypes callback function: <function _ThreadpoolInfo._find_modules_with_dl_iterate_phdr.<locals>.match_module_callback at 0x7f8fd403e310>\n",
      "Traceback (most recent call last):\n",
      "  File \"/home/tsa87/anaconda3/envs/tacogfn/lib/python3.9/site-packages/threadpoolctl.py\", line 400, in match_module_callback\n",
      "    self._make_module_from_path(filepath)\n",
      "  File \"/home/tsa87/anaconda3/envs/tacogfn/lib/python3.9/site-packages/threadpoolctl.py\", line 515, in _make_module_from_path\n",
      "    module = module_class(filepath, prefix, user_api, internal_api)\n",
      "  File \"/home/tsa87/anaconda3/envs/tacogfn/lib/python3.9/site-packages/threadpoolctl.py\", line 606, in __init__\n",
      "    self.version = self.get_version()\n",
      "  File \"/home/tsa87/anaconda3/envs/tacogfn/lib/python3.9/site-packages/threadpoolctl.py\", line 646, in get_version\n",
      "    config = get_config().split()\n",
      "AttributeError: 'NoneType' object has no attribute 'split'\n",
      "Exception ignored on calling ctypes callback function: <function _ThreadpoolInfo._find_modules_with_dl_iterate_phdr.<locals>.match_module_callback at 0x7f8fd403e310>\n",
      "Traceback (most recent call last):\n",
      "  File \"/home/tsa87/anaconda3/envs/tacogfn/lib/python3.9/site-packages/threadpoolctl.py\", line 400, in match_module_callback\n",
      "    self._make_module_from_path(filepath)\n",
      "  File \"/home/tsa87/anaconda3/envs/tacogfn/lib/python3.9/site-packages/threadpoolctl.py\", line 515, in _make_module_from_path\n",
      "    module = module_class(filepath, prefix, user_api, internal_api)\n",
      "  File \"/home/tsa87/anaconda3/envs/tacogfn/lib/python3.9/site-packages/threadpoolctl.py\", line 606, in __init__\n",
      "    self.version = self.get_version()\n",
      "  File \"/home/tsa87/anaconda3/envs/tacogfn/lib/python3.9/site-packages/threadpoolctl.py\", line 646, in get_version\n",
      "    config = get_config().split()\n",
      "AttributeError: 'NoneType' object has no attribute 'split'\n",
      "Exception ignored on calling ctypes callback function: <function _ThreadpoolInfo._find_modules_with_dl_iterate_phdr.<locals>.match_module_callback at 0x7f8fd403e310>\n",
      "Traceback (most recent call last):\n",
      "  File \"/home/tsa87/anaconda3/envs/tacogfn/lib/python3.9/site-packages/threadpoolctl.py\", line 400, in match_module_callback\n",
      "    self._make_module_from_path(filepath)\n",
      "  File \"/home/tsa87/anaconda3/envs/tacogfn/lib/python3.9/site-packages/threadpoolctl.py\", line 515, in _make_module_from_path\n",
      "    module = module_class(filepath, prefix, user_api, internal_api)\n",
      "  File \"/home/tsa87/anaconda3/envs/tacogfn/lib/python3.9/site-packages/threadpoolctl.py\", line 606, in __init__\n",
      "    self.version = self.get_version()\n",
      "  File \"/home/tsa87/anaconda3/envs/tacogfn/lib/python3.9/site-packages/threadpoolctl.py\", line 646, in get_version\n",
      "    config = get_config().split()\n",
      "AttributeError: 'NoneType' object has no attribute 'split'\n",
      "Exception ignored on calling ctypes callback function: <function _ThreadpoolInfo._find_modules_with_dl_iterate_phdr.<locals>.match_module_callback at 0x7f8fd4038160>\n",
      "Traceback (most recent call last):\n",
      "  File \"/home/tsa87/anaconda3/envs/tacogfn/lib/python3.9/site-packages/threadpoolctl.py\", line 400, in match_module_callback\n",
      "    self._make_module_from_path(filepath)\n",
      "  File \"/home/tsa87/anaconda3/envs/tacogfn/lib/python3.9/site-packages/threadpoolctl.py\", line 515, in _make_module_from_path\n",
      "    module = module_class(filepath, prefix, user_api, internal_api)\n",
      "  File \"/home/tsa87/anaconda3/envs/tacogfn/lib/python3.9/site-packages/threadpoolctl.py\", line 606, in __init__\n",
      "    self.version = self.get_version()\n",
      "  File \"/home/tsa87/anaconda3/envs/tacogfn/lib/python3.9/site-packages/threadpoolctl.py\", line 646, in get_version\n",
      "    config = get_config().split()\n",
      "AttributeError: 'NoneType' object has no attribute 'split'\n",
      "Exception ignored on calling ctypes callback function: <function _ThreadpoolInfo._find_modules_with_dl_iterate_phdr.<locals>.match_module_callback at 0x7f8fd4038160>\n",
      "Traceback (most recent call last):\n",
      "  File \"/home/tsa87/anaconda3/envs/tacogfn/lib/python3.9/site-packages/threadpoolctl.py\", line 400, in match_module_callback\n",
      "    self._make_module_from_path(filepath)\n",
      "  File \"/home/tsa87/anaconda3/envs/tacogfn/lib/python3.9/site-packages/threadpoolctl.py\", line 515, in _make_module_from_path\n",
      "    module = module_class(filepath, prefix, user_api, internal_api)\n",
      "  File \"/home/tsa87/anaconda3/envs/tacogfn/lib/python3.9/site-packages/threadpoolctl.py\", line 606, in __init__\n",
      "    self.version = self.get_version()\n",
      "  File \"/home/tsa87/anaconda3/envs/tacogfn/lib/python3.9/site-packages/threadpoolctl.py\", line 646, in get_version\n",
      "    config = get_config().split()\n",
      "AttributeError: 'NoneType' object has no attribute 'split'\n",
      "Exception ignored on calling ctypes callback function: <function _ThreadpoolInfo._find_modules_with_dl_iterate_phdr.<locals>.match_module_callback at 0x7f8fd37b3c10>\n",
      "Traceback (most recent call last):\n",
      "  File \"/home/tsa87/anaconda3/envs/tacogfn/lib/python3.9/site-packages/threadpoolctl.py\", line 400, in match_module_callback\n",
      "    self._make_module_from_path(filepath)\n",
      "  File \"/home/tsa87/anaconda3/envs/tacogfn/lib/python3.9/site-packages/threadpoolctl.py\", line 515, in _make_module_from_path\n",
      "    module = module_class(filepath, prefix, user_api, internal_api)\n",
      "  File \"/home/tsa87/anaconda3/envs/tacogfn/lib/python3.9/site-packages/threadpoolctl.py\", line 606, in __init__\n",
      "    self.version = self.get_version()\n",
      "  File \"/home/tsa87/anaconda3/envs/tacogfn/lib/python3.9/site-packages/threadpoolctl.py\", line 646, in get_version\n",
      "    config = get_config().split()\n",
      "AttributeError: 'NoneType' object has no attribute 'split'\n"
     ]
    }
   ],
   "source": [
    "import splito\n",
    "\n",
    "splitter = splito.MaxDissimilaritySplit(n_jobs=1, test_size=0.2, random_state=111)\n",
    "train_idx, test_idx = next(splitter.split(X=all_smiles))"
   ]
  },
  {
   "cell_type": "code",
   "execution_count": 31,
   "metadata": {},
   "outputs": [],
   "source": [
    "train_smiles = [all_smiles[idx] for idx in train_idx]\n",
    "test_smiles = [all_smiles[idx] for idx in test_idx]\n",
    "\n",
    "train_dataset = [entry for entry in final_train_dataset if entry[1] in train_smiles]\n",
    "test_dataset = [entry for entry in final_train_dataset if entry[1] in test_smiles]"
   ]
  },
  {
   "cell_type": "code",
   "execution_count": 32,
   "metadata": {},
   "outputs": [
    {
     "data": {
      "text/plain": [
       "(13129, 6665, 4827)"
      ]
     },
     "execution_count": 32,
     "metadata": {},
     "output_type": "execute_result"
    }
   ],
   "source": [
    "train_pdb_ids = set([data[0] for data in train_dataset])\n",
    "test_pdb_ids = set([data[0] for data in test_dataset])\n",
    "len(train_pdb_ids), len(test_pdb_ids), len(train_pdb_ids.intersection(test_pdb_ids))"
   ]
  },
  {
   "cell_type": "code",
   "execution_count": 43,
   "metadata": {},
   "outputs": [],
   "source": [
    "pharmaco_db = PharmacoDB('../misc/pharmacophores_db.lmdb')"
   ]
  },
  {
   "cell_type": "code",
   "execution_count": 45,
   "metadata": {},
   "outputs": [
    {
     "name": "stderr",
     "output_type": "stream",
     "text": [
      "100%|██████████| 13129/13129 [00:10<00:00, 1222.66it/s]\n"
     ]
    }
   ],
   "source": [
    "for pdb_id in tqdm(train_pdb_ids):\n",
    "    assert pharmaco_db.get_pharmacophore(pdb_id) is not None"
   ]
  },
  {
   "cell_type": "code",
   "execution_count": 46,
   "metadata": {},
   "outputs": [
    {
     "name": "stderr",
     "output_type": "stream",
     "text": [
      "100%|██████████| 6665/6665 [00:05<00:00, 1216.25it/s]\n"
     ]
    }
   ],
   "source": [
    "for pdb_id in tqdm(test_pdb_ids):\n",
    "    assert pharmaco_db.get_pharmacophore(pdb_id) is not None"
   ]
  },
  {
   "cell_type": "code",
   "execution_count": 57,
   "metadata": {},
   "outputs": [],
   "source": [
    "all_dataset = train_dataset + test_dataset"
   ]
  },
  {
   "cell_type": "code",
   "execution_count": 59,
   "metadata": {},
   "outputs": [],
   "source": [
    "torch.save(train_dataset, '../dataset/crossdock_docking_scores/train.pt')\n",
    "torch.save(test_dataset, '../dataset/crossdock_docking_scores/test.pt')\n",
    "torch.save(all_dataset, '../dataset/crossdock_docking_scores/all_crossdock_100k.pt')"
   ]
  },
  {
   "cell_type": "code",
   "execution_count": 296,
   "metadata": {},
   "outputs": [
    {
     "ename": "",
     "evalue": "",
     "output_type": "error",
     "traceback": [
      "\u001b[1;31mThe Kernel crashed while executing code in the the current cell or a previous cell. Please review the code in the cell(s) to identify a possible cause of the failure. Click <a href='https://aka.ms/vscodeJupyterKernelCrash'>here</a> for more info. View Jupyter <a href='command:jupyter.viewOutput'>log</a> for further details."
     ]
    }
   ],
   "source": [
    "# trainer = DockingScoreTrainer(\n",
    "#     hps={\n",
    "#         'log_dir': 'logs',\n",
    "#         'dataset_save_dir': '../misc/crossdock_docking_score_dataset'  \n",
    "#     },\n",
    "#     train_datalist=train_dataset,\n",
    "#     test_datalist=test_dataset,\n",
    "#     device='cuda'\n",
    "# )"
   ]
  },
  {
   "cell_type": "code",
   "execution_count": null,
   "metadata": {},
   "outputs": [],
   "source": []
  }
 ],
 "metadata": {
  "kernelspec": {
   "display_name": "tacogfn",
   "language": "python",
   "name": "python3"
  },
  "language_info": {
   "codemirror_mode": {
    "name": "ipython",
    "version": 3
   },
   "file_extension": ".py",
   "mimetype": "text/x-python",
   "name": "python",
   "nbconvert_exporter": "python",
   "pygments_lexer": "ipython3",
   "version": "3.9.18"
  }
 },
 "nbformat": 4,
 "nbformat_minor": 2
}
