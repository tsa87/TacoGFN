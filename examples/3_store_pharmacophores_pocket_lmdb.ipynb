{
    "cells": [
        {
            "cell_type": "markdown",
            "metadata": {},
            "source": [
                "Store pharmacophores in LMDB for fast access"
            ]
        },
        {
            "cell_type": "code",
            "execution_count": 1,
            "metadata": {},
            "outputs": [
                {
                    "name": "stderr",
                    "output_type": "stream",
                    "text": [
                        "/home/tsa87/anaconda3/envs/tacogfn/lib/python3.9/site-packages/tqdm/auto.py:21: TqdmWarning: IProgress not found. Please update jupyter and ipywidgets. See https://ipywidgets.readthedocs.io/en/stable/user_install.html\n",
                        "  from .autonotebook import tqdm as notebook_tqdm\n"
                    ]
                }
            ],
            "source": [
                "import sys\n",
                "import os\n",
                "import torch\n",
                "from glob import glob\n",
                "\n",
                "os.chdir('..')"
            ]
        },
        {
            "cell_type": "code",
            "execution_count": 2,
            "metadata": {},
            "outputs": [],
            "source": [
                "from tqdm import tqdm\n",
                "from src.tacogfn.data.pharmacophore import PharmacoDB\n",
                "from src.tacogfn.data.pocket import PocketDB"
            ]
        },
        {
            "cell_type": "markdown",
            "metadata": {},
            "source": [
                "New PharmacoDB"
            ]
        },
        {
            "cell_type": "code",
            "execution_count": 3,
            "metadata": {},
            "outputs": [],
            "source": [
                "pharmacophore_paths = glob('dataset/new_pharmacophores/*.pt')\n",
                "keys = [path.split('/')[-1].split('.pt')[0] for path in pharmacophore_paths]"
            ]
        },
        {
            "cell_type": "code",
            "execution_count": 4,
            "metadata": {},
            "outputs": [],
            "source": [
                "!rm -r misc/new_pharmacophores_db.lmdb"
            ]
        },
        {
            "cell_type": "code",
            "execution_count": 5,
            "metadata": {},
            "outputs": [
                {
                    "name": "stderr",
                    "output_type": "stream",
                    "text": [
                        "15221it [00:00, 22454.41it/s]\n"
                    ]
                }
            ],
            "source": [
                "db = PharmacoDB('misc/new_pharmacophores_db.lmdb')\n",
                "db.add_data(pharmacophore_paths, keys)"
            ]
        },
        {
            "cell_type": "code",
            "execution_count": 6,
            "metadata": {},
            "outputs": [
                {
                    "name": "stderr",
                    "output_type": "stream",
                    "text": [
                        "46it [00:00, 211.68it/s]"
                    ]
                },
                {
                    "name": "stdout",
                    "output_type": "stream",
                    "text": [
                        "Sizes of tensors must match except in dimension 1. Expected size 0 but got size 1 for tensor number 2 in the list.\n"
                    ]
                },
                {
                    "name": "stderr",
                    "output_type": "stream",
                    "text": [
                        "243it [00:00, 266.19it/s]"
                    ]
                },
                {
                    "name": "stdout",
                    "output_type": "stream",
                    "text": [
                        "Sizes of tensors must match except in dimension 1. Expected size 0 but got size 1 for tensor number 2 in the list.\n"
                    ]
                },
                {
                    "name": "stderr",
                    "output_type": "stream",
                    "text": [
                        "2201it [00:08, 243.43it/s]"
                    ]
                },
                {
                    "name": "stdout",
                    "output_type": "stream",
                    "text": [
                        "Sizes of tensors must match except in dimension 1. Expected size 0 but got size 1 for tensor number 2 in the list.\n"
                    ]
                },
                {
                    "name": "stderr",
                    "output_type": "stream",
                    "text": [
                        "3683it [00:13, 256.17it/s]"
                    ]
                },
                {
                    "name": "stdout",
                    "output_type": "stream",
                    "text": [
                        "Sizes of tensors must match except in dimension 1. Expected size 0 but got size 1 for tensor number 2 in the list.\n",
                        "Sizes of tensors must match except in dimension 1. Expected size 0 but got size 1 for tensor number 2 in the list.\n"
                    ]
                },
                {
                    "name": "stderr",
                    "output_type": "stream",
                    "text": [
                        "4500it [00:17, 245.70it/s]"
                    ]
                },
                {
                    "name": "stdout",
                    "output_type": "stream",
                    "text": [
                        "Sizes of tensors must match except in dimension 1. Expected size 0 but got size 1 for tensor number 2 in the list.\n"
                    ]
                },
                {
                    "name": "stderr",
                    "output_type": "stream",
                    "text": [
                        "6597it [00:26, 256.85it/s]"
                    ]
                },
                {
                    "name": "stdout",
                    "output_type": "stream",
                    "text": [
                        "Sizes of tensors must match except in dimension 1. Expected size 0 but got size 1 for tensor number 2 in the list.\n"
                    ]
                },
                {
                    "name": "stderr",
                    "output_type": "stream",
                    "text": [
                        "6865it [00:27, 283.09it/s]"
                    ]
                },
                {
                    "name": "stdout",
                    "output_type": "stream",
                    "text": [
                        "Sizes of tensors must match except in dimension 1. Expected size 0 but got size 1 for tensor number 2 in the list.\n"
                    ]
                },
                {
                    "name": "stderr",
                    "output_type": "stream",
                    "text": [
                        "8423it [00:34, 226.30it/s]"
                    ]
                },
                {
                    "name": "stdout",
                    "output_type": "stream",
                    "text": [
                        "Sizes of tensors must match except in dimension 1. Expected size 0 but got size 1 for tensor number 2 in the list.\n"
                    ]
                },
                {
                    "name": "stderr",
                    "output_type": "stream",
                    "text": [
                        "11923it [00:46, 250.43it/s]"
                    ]
                },
                {
                    "name": "stdout",
                    "output_type": "stream",
                    "text": [
                        "Sizes of tensors must match except in dimension 1. Expected size 0 but got size 1 for tensor number 2 in the list.\n"
                    ]
                },
                {
                    "name": "stderr",
                    "output_type": "stream",
                    "text": [
                        "13371it [00:51, 261.14it/s]"
                    ]
                },
                {
                    "name": "stdout",
                    "output_type": "stream",
                    "text": [
                        "Sizes of tensors must match except in dimension 1. Expected size 0 but got size 1 for tensor number 2 in the list.\n"
                    ]
                },
                {
                    "name": "stderr",
                    "output_type": "stream",
                    "text": [
                        "15166it [00:58, 239.83it/s]"
                    ]
                },
                {
                    "name": "stdout",
                    "output_type": "stream",
                    "text": [
                        "Sizes of tensors must match except in dimension 1. Expected size 0 but got size 1 for tensor number 2 in the list.\n",
                        "Sizes of tensors must match except in dimension 1. Expected size 0 but got size 1 for tensor number 2 in the list.\n"
                    ]
                },
                {
                    "name": "stderr",
                    "output_type": "stream",
                    "text": [
                        "15221it [00:58, 258.04it/s]"
                    ]
                },
                {
                    "name": "stdout",
                    "output_type": "stream",
                    "text": [
                        "Removed 13 pharmacophores.\n"
                    ]
                },
                {
                    "name": "stderr",
                    "output_type": "stream",
                    "text": [
                        "\n"
                    ]
                }
            ],
            "source": [
                "db._purge_none_data()"
            ]
        },
        {
            "cell_type": "markdown",
            "metadata": {},
            "source": [
                "PharmacoDB"
            ]
        },
        {
            "cell_type": "code",
            "execution_count": 3,
            "metadata": {},
            "outputs": [],
            "source": [
                "pharmacophore_paths = glob('dataset/crossdock_pharmacophores/*.pkl')\n",
                "keys = [path.split('/')[-1].split('_rec')[0] for path in pharmacophore_paths]"
            ]
        },
        {
            "cell_type": "code",
            "execution_count": 4,
            "metadata": {},
            "outputs": [],
            "source": [
                "!rm -r misc/pharmacophores_db.lmdb"
            ]
        },
        {
            "cell_type": "code",
            "execution_count": 5,
            "metadata": {},
            "outputs": [
                {
                    "name": "stderr",
                    "output_type": "stream",
                    "text": [
                        "15116it [00:05, 2744.97it/s]\n"
                    ]
                }
            ],
            "source": [
                "# Add pharmacophores to database\n",
                "db = PharmacoDB('misc/pharmacophores_db.lmdb')\n",
                "db.add_data(pharmacophore_paths, keys)"
            ]
        },
        {
            "cell_type": "code",
            "execution_count": 6,
            "metadata": {},
            "outputs": [
                {
                    "name": "stderr",
                    "output_type": "stream",
                    "text": [
                        "15116it [00:00, 494047.37it/s]"
                    ]
                },
                {
                    "name": "stdout",
                    "output_type": "stream",
                    "text": [
                        "Removed 0 pharmacophores.\n"
                    ]
                },
                {
                    "name": "stderr",
                    "output_type": "stream",
                    "text": [
                        "\n"
                    ]
                }
            ],
            "source": [
                "db._purge_none_data()"
            ]
        },
        {
            "cell_type": "markdown",
            "metadata": {},
            "source": [
                "PocketDB"
            ]
        },
        {
            "cell_type": "code",
            "execution_count": 4,
            "metadata": {},
            "outputs": [],
            "source": [
                "split_file = torch.load('dataset/split_by_name.pt')"
            ]
        },
        {
            "cell_type": "code",
            "execution_count": 5,
            "metadata": {},
            "outputs": [],
            "source": [
                "pairs = split_file['train'] + split_file['test']\n",
                "key_to_path = {}"
            ]
        },
        {
            "cell_type": "code",
            "execution_count": 6,
            "metadata": {},
            "outputs": [],
            "source": [
                "for pair in pairs:\n",
                "    pocket_path = os.path.join('dataset/crossdocked_pocket10/' , pair[0])\n",
                "    key = pocket_path.split('/')[-1].split('_rec')[0] \n",
                "    key_to_path[key] = pocket_path"
            ]
        },
        {
            "cell_type": "code",
            "execution_count": 7,
            "metadata": {},
            "outputs": [],
            "source": [
                "keys = list(key_to_path.keys())\n",
                "pocket_paths = [key_to_path[key] for key in keys]"
            ]
        },
        {
            "cell_type": "code",
            "execution_count": 10,
            "metadata": {},
            "outputs": [
                {
                    "name": "stderr",
                    "output_type": "stream",
                    "text": [
                        "15307it [01:32, 165.64it/s]\n"
                    ]
                }
            ],
            "source": [
                "# Add pharmacophores to database\n",
                "pocket_db = PocketDB('misc/pocket_db.lmdb')\n",
                "pocket_db.add_data(pocket_paths , keys)"
            ]
        },
        {
            "cell_type": "code",
            "execution_count": null,
            "metadata": {},
            "outputs": [],
            "source": []
        }
    ],
    "metadata": {
        "kernelspec": {
            "display_name": "tacogfn",
            "language": "python",
            "name": "python3"
        },
        "language_info": {
            "codemirror_mode": {
                "name": "ipython",
                "version": 3
            },
            "file_extension": ".py",
            "mimetype": "text/x-python",
            "name": "python",
            "nbconvert_exporter": "python",
            "pygments_lexer": "ipython3",
            "version": "3.9.18"
        }
    },
    "nbformat": 4,
    "nbformat_minor": 2
}
