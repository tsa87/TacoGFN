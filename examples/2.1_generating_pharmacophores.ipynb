{
 "cells": [
  {
   "cell_type": "markdown",
   "metadata": {},
   "source": [
    "This notebook generates 3D pharmacophore graphs from pretrained model (Used for GFlowNet)"
   ]
  },
  {
   "cell_type": "code",
   "execution_count": 1,
   "metadata": {},
   "outputs": [
    {
     "name": "stderr",
     "output_type": "stream",
     "text": [
      "/home/tsa87/anaconda3/envs/tacogfn/lib/python3.9/site-packages/tqdm/auto.py:21: TqdmWarning: IProgress not found. Please update jupyter and ipywidgets. See https://ipywidgets.readthedocs.io/en/stable/user_install.html\n",
      "  from .autonotebook import tqdm as notebook_tqdm\n"
     ]
    }
   ],
   "source": [
    "import sys\n",
    "import os\n",
    "import torch\n",
    "from tqdm import tqdm\n",
    "\n",
    "sys.path.append(\"..\")"
   ]
  },
  {
   "cell_type": "code",
   "execution_count": 2,
   "metadata": {},
   "outputs": [],
   "source": [
    "from src.pharmaconet.modeling import ModelingModule"
   ]
  },
  {
   "cell_type": "code",
   "execution_count": 3,
   "metadata": {},
   "outputs": [],
   "source": [
    "# split_file = torch.load('../dataset/split_by_name.pt')\n",
    "# train_ids = list(set([data[0].split('/')[1].split('_')[0] for data in split_file['train']]))\n",
    "# test_ids = list(set([data[0].split('/')[1].split('_')[0] for data in split_file['test']]))"
   ]
  },
  {
   "cell_type": "code",
   "execution_count": 4,
   "metadata": {},
   "outputs": [],
   "source": [
    "# from glob import glob\n",
    "# pdb_ids = [path.split('/')[-1].split('_')[0] for path in glob('../dataset/pdbbind/*_protein.pdb')]"
   ]
  },
  {
   "cell_type": "code",
   "execution_count": 5,
   "metadata": {},
   "outputs": [],
   "source": [
    "module = ModelingModule('../model_weights/model.tar', 'cuda')\n",
    "split_file = torch.load('../dataset/pocket_to_ligands.pt')"
   ]
  },
  {
   "cell_type": "code",
   "execution_count": 7,
   "metadata": {},
   "outputs": [
    {
     "data": {
      "text/plain": [
       "15307"
      ]
     },
     "execution_count": 7,
     "metadata": {},
     "output_type": "execute_result"
    }
   ],
   "source": [
    "len(split_file)"
   ]
  },
  {
   "cell_type": "code",
   "execution_count": 11,
   "metadata": {},
   "outputs": [
    {
     "name": "stderr",
     "output_type": "stream",
     "text": [
      "  0%|          | 35/15307 [00:32<3:50:54,  1.10it/s]"
     ]
    },
    {
     "name": "stdout",
     "output_type": "stream",
     "text": [
      "../dataset/crossdock/1fm6_U_rec.pdb ../dataset/crossdocked_pocket10/RXRA_HUMAN_222_461_ligBind_0/1fm6_U_rec_3ozj_bgv_lig_tt_docked_2.sdf failed!\n",
      "16\n"
     ]
    },
    {
     "name": "stderr",
     "output_type": "stream",
     "text": [
      "  0%|          | 57/15307 [00:50<3:39:59,  1.16it/s]"
     ]
    },
    {
     "name": "stdout",
     "output_type": "stream",
     "text": [
      "../dataset/crossdock/4iic_B_rec.pdb ../dataset/crossdocked_pocket10/BGL1_ASPAC_20_860_0/4iic_B_rec_4iie_mrd_lig_tt_min_0.sdf failed!\n",
      "2\n"
     ]
    },
    {
     "name": "stderr",
     "output_type": "stream",
     "text": [
      "  0%|          | 63/15307 [00:55<3:56:17,  1.08it/s]"
     ]
    },
    {
     "name": "stdout",
     "output_type": "stream",
     "text": [
      "../dataset/crossdock/4ucs_A_rec.pdb ../dataset/crossdocked_pocket10/DNLJ_HAEIN_64_324_0/4ucs_A_rec_4ucr_jcf_lig_tt_min_0.sdf failed!\n",
      "19\n"
     ]
    },
    {
     "name": "stderr",
     "output_type": "stream",
     "text": [
      "  0%|          | 72/15307 [01:00<2:10:29,  1.95it/s]"
     ]
    },
    {
     "name": "stdout",
     "output_type": "stream",
     "text": [
      "../dataset/crossdock/3pgq_A_rec.pdb ../dataset/crossdocked_pocket10/ACAC_YEAST_1477_2229_inhibitor_0/3pgq_A_rec_4wz8_3w7_lig_tt_docked_15.sdf failed!\n",
      "3\n"
     ]
    },
    {
     "name": "stderr",
     "output_type": "stream",
     "text": [
      "  1%|          | 162/15307 [02:26<3:36:51,  1.16it/s]"
     ]
    },
    {
     "name": "stdout",
     "output_type": "stream",
     "text": [
      "../dataset/crossdock/4j5w_D_rec.pdb ../dataset/crossdocked_pocket10/RXRA_HUMAN_222_461_ligBind_0/4j5w_D_rec_5ec9_5lo_lig_tt_docked_0.sdf failed!\n",
      "12\n"
     ]
    },
    {
     "name": "stderr",
     "output_type": "stream",
     "text": [
      "  1%|          | 171/15307 [02:33<3:27:31,  1.22it/s]"
     ]
    },
    {
     "name": "stdout",
     "output_type": "stream",
     "text": [
      "../dataset/crossdock/4ik7_A_rec.pdb ../dataset/crossdocked_pocket10/TTHY_HUMAN_21_147_0/4ik7_A_rec_4abu_ft1_lig_tt_min_0.sdf failed!\n",
      "5\n"
     ]
    },
    {
     "name": "stderr",
     "output_type": "stream",
     "text": [
      "  1%|▏         | 206/15307 [03:05<3:23:16,  1.24it/s]"
     ]
    },
    {
     "name": "stdout",
     "output_type": "stream",
     "text": [
      "../dataset/crossdock/4gbu_A_rec.pdb ../dataset/crossdocked_pocket10/OYE1_SACPS_1_300_0/4gbu_A_rec_4gbu_0wv_lig_tt_docked_0.sdf failed!\n",
      "19\n"
     ]
    },
    {
     "name": "stderr",
     "output_type": "stream",
     "text": [
      "  1%|▏         | 222/15307 [03:18<3:55:07,  1.07it/s]"
     ]
    },
    {
     "name": "stdout",
     "output_type": "stream",
     "text": [
      "../dataset/crossdock/1t8i_A_rec.pdb ../dataset/crossdocked_pocket10/TOP1_HUMAN_202_765_0/1t8i_A_rec_1nh3_car_lig_tt_min_0.sdf failed!\n",
      "4\n"
     ]
    },
    {
     "name": "stderr",
     "output_type": "stream",
     "text": [
      "  2%|▏         | 265/15307 [03:59<4:02:28,  1.03it/s]"
     ]
    },
    {
     "name": "stdout",
     "output_type": "stream",
     "text": [
      "../dataset/crossdock/3oob_A_rec.pdb ../dataset/crossdocked_pocket10/PIN1_HUMAN_44_163_0/3oob_A_rec_3i6c_gia_lig_tt_min_0.sdf failed!\n",
      "26\n"
     ]
    },
    {
     "name": "stderr",
     "output_type": "stream",
     "text": [
      "  2%|▏         | 373/15307 [05:38<3:16:19,  1.27it/s]"
     ]
    },
    {
     "name": "stdout",
     "output_type": "stream",
     "text": [
      "../dataset/crossdock/5e4a_A_rec.pdb ../dataset/crossdocked_pocket10/TTHY_HUMAN_21_147_0/5e4a_A_rec_5ihh_6b5_lig_tt_docked_2.sdf failed!\n",
      "4\n"
     ]
    },
    {
     "name": "stderr",
     "output_type": "stream",
     "text": [
      "  2%|▏         | 382/15307 [05:46<3:46:56,  1.10it/s]"
     ]
    },
    {
     "name": "stdout",
     "output_type": "stream",
     "text": [
      "../dataset/crossdock/4bwm_A_rec.pdb ../dataset/crossdocked_pocket10/DPO1_THEAQ_292_832_0/4bwm_A_rec_4bwm_doc_lig_tt_min_0.sdf failed!\n",
      "5\n"
     ]
    },
    {
     "name": "stderr",
     "output_type": "stream",
     "text": [
      "  3%|▎         | 413/15307 [06:16<3:52:13,  1.07it/s]"
     ]
    },
    {
     "name": "stdout",
     "output_type": "stream",
     "text": [
      "../dataset/crossdock/6ezq_A_rec.pdb ../dataset/crossdocked_pocket10/ALBU_HUMAN_25_609_diazepamSite_0/6ezq_A_rec_6ezq_c7k_lig_tt_docked_2.sdf failed!\n",
      "20\n"
     ]
    },
    {
     "name": "stderr",
     "output_type": "stream",
     "text": [
      "  3%|▎         | 487/15307 [07:23<3:16:43,  1.26it/s]"
     ]
    },
    {
     "name": "stdout",
     "output_type": "stream",
     "text": [
      "../dataset/crossdock/3cfl_A_rec.pdb ../dataset/crossdocked_pocket10/TRFL_BOVIN_361_704_0/3cfl_A_rec_2e1s_ara_lig_tt_min_0.sdf failed!\n",
      "4\n"
     ]
    },
    {
     "name": "stderr",
     "output_type": "stream",
     "text": [
      "  3%|▎         | 488/15307 [07:23<2:47:24,  1.48it/s]"
     ]
    },
    {
     "name": "stdout",
     "output_type": "stream",
     "text": [
      "../dataset/crossdock/3doz_A_rec.pdb ../dataset/crossdocked_pocket10/FABZ_HELPY_1_159_0/3doz_A_rec_3dp0_ben_lig_tt_min_0.sdf failed!\n",
      "1\n"
     ]
    },
    {
     "name": "stderr",
     "output_type": "stream",
     "text": [
      "  4%|▍         | 657/15307 [10:00<3:24:56,  1.19it/s]"
     ]
    },
    {
     "name": "stdout",
     "output_type": "stream",
     "text": [
      "../dataset/crossdock/4tqp_A_rec.pdb ../dataset/crossdocked_pocket10/TTHY_HUMAN_21_147_0/4tqp_A_rec_4n86_gbj_lig_tt_min_0.sdf failed!\n",
      "2\n"
     ]
    },
    {
     "name": "stderr",
     "output_type": "stream",
     "text": [
      "  5%|▍         | 692/15307 [10:32<2:51:34,  1.42it/s]"
     ]
    },
    {
     "name": "stdout",
     "output_type": "stream",
     "text": [
      "../dataset/crossdock/3wkb_A_rec.pdb ../dataset/crossdocked_pocket10/HYES_HUMAN_230_551_0/3wkb_A_rec_4x6x_s74_lig_tt_min_0.sdf failed!\n",
      "24\n"
     ]
    },
    {
     "name": "stderr",
     "output_type": "stream",
     "text": [
      "  5%|▍         | 695/15307 [10:34<3:11:40,  1.27it/s]"
     ]
    },
    {
     "name": "stdout",
     "output_type": "stream",
     "text": [
      "../dataset/crossdock/1rdt_A_rec.pdb ../dataset/crossdocked_pocket10/RXRA_HUMAN_222_461_ligBind_0/1rdt_A_rec_4oc7_2qo_lig_tt_min_0.sdf failed!\n",
      "20\n"
     ]
    },
    {
     "name": "stderr",
     "output_type": "stream",
     "text": [
      "  6%|▌         | 917/15307 [13:57<3:26:02,  1.16it/s]"
     ]
    },
    {
     "name": "stdout",
     "output_type": "stream",
     "text": [
      "../dataset/crossdock/5al0_A_rec.pdb ../dataset/crossdocked_pocket10/TTHY_HUMAN_21_147_0/5al0_A_rec_4l1t_1wz_lig_tt_min_0.sdf failed!\n",
      "4\n"
     ]
    },
    {
     "name": "stderr",
     "output_type": "stream",
     "text": [
      "  6%|▌         | 922/15307 [14:01<2:59:31,  1.34it/s]"
     ]
    },
    {
     "name": "stdout",
     "output_type": "stream",
     "text": [
      "../dataset/crossdock/5tbb_A_rec.pdb ../dataset/crossdocked_pocket10/DPOLB_HUMAN_142_335_0/5tbb_A_rec_5tbb_ppv_lig_tt_docked_12.sdf failed!\n",
      "4\n"
     ]
    },
    {
     "name": "stderr",
     "output_type": "stream",
     "text": [
      "  6%|▋         | 964/15307 [14:39<2:47:11,  1.43it/s]"
     ]
    },
    {
     "name": "stdout",
     "output_type": "stream",
     "text": [
      "../dataset/crossdock/5mj5_A_rec.pdb ../dataset/crossdocked_pocket10/RXRA_HUMAN_222_461_ligBind_0/5mj5_A_rec_5mku_j57_lig_tt_docked_0.sdf failed!\n",
      "32\n"
     ]
    },
    {
     "name": "stderr",
     "output_type": "stream",
     "text": [
      "  6%|▋         | 974/15307 [14:46<2:34:25,  1.55it/s]"
     ]
    },
    {
     "name": "stdout",
     "output_type": "stream",
     "text": [
      "../dataset/crossdock/4j5x_D_rec.pdb ../dataset/crossdocked_pocket10/RXRA_HUMAN_222_461_ligBind_0/4j5x_D_rec_5ec9_5lo_lig_tt_docked_0.sdf failed!\n",
      "10\n"
     ]
    },
    {
     "name": "stderr",
     "output_type": "stream",
     "text": [
      "  7%|▋         | 1067/15307 [16:07<3:31:48,  1.12it/s]"
     ]
    },
    {
     "name": "stdout",
     "output_type": "stream",
     "text": [
      "../dataset/crossdock/4kai_A_rec.pdb ../dataset/crossdocked_pocket10/POLG_HCVBK_2420_2955_catalytic_0/4kai_A_rec_3fqk_79z_lig_tt_docked_0.sdf failed!\n",
      "25\n"
     ]
    },
    {
     "name": "stderr",
     "output_type": "stream",
     "text": [
      "  7%|▋         | 1103/15307 [16:37<2:22:56,  1.66it/s]"
     ]
    },
    {
     "name": "stdout",
     "output_type": "stream",
     "text": [
      "../dataset/crossdock/5v56_A_rec.pdb ../dataset/crossdocked_pocket10/SMO_HUMAN_187_558_0/5v56_A_rec_5v56_836_lig_tt_min_0.sdf failed!\n",
      "14\n"
     ]
    },
    {
     "name": "stderr",
     "output_type": "stream",
     "text": [
      "  8%|▊         | 1234/15307 [18:31<3:00:17,  1.30it/s]"
     ]
    },
    {
     "name": "stdout",
     "output_type": "stream",
     "text": [
      "../dataset/crossdock/3rgy_A_rec.pdb ../dataset/crossdocked_pocket10/TRFL_BOVIN_361_704_0/3rgy_A_rec_2e0s_ram_lig_tt_min_0.sdf failed!\n",
      "2\n"
     ]
    },
    {
     "name": "stderr",
     "output_type": "stream",
     "text": [
      "  8%|▊         | 1249/15307 [18:44<3:31:58,  1.11it/s]"
     ]
    },
    {
     "name": "stdout",
     "output_type": "stream",
     "text": [
      "../dataset/crossdock/3rad_D_rec.pdb ../dataset/crossdocked_pocket10/PARE_STRPN_397_647_0/3rad_D_rec_3rad_nfx_lig_tt_min_0.sdf failed!\n",
      "0\n"
     ]
    },
    {
     "name": "stderr",
     "output_type": "stream",
     "text": [
      "  9%|▊         | 1331/15307 [20:00<3:47:45,  1.02it/s]"
     ]
    },
    {
     "name": "stdout",
     "output_type": "stream",
     "text": [
      "../dataset/crossdock/5yil_B_rec.pdb ../dataset/crossdocked_pocket10/ACRB_ECOLI_1_1048_ampicillin_0/5yil_B_rec_4dx7_d10_lig_tt_min_0.sdf failed!\n",
      "0\n"
     ]
    },
    {
     "name": "stderr",
     "output_type": "stream",
     "text": [
      "  9%|▉         | 1446/15307 [21:47<2:46:10,  1.39it/s]"
     ]
    },
    {
     "name": "stdout",
     "output_type": "stream",
     "text": [
      "../dataset/crossdock/3b7j_D_rec.pdb ../dataset/crossdocked_pocket10/FABZ_HELPY_1_159_0/3b7j_D_rec_3dp0_ben_lig_tt_min_0.sdf failed!\n",
      "0\n"
     ]
    },
    {
     "name": "stderr",
     "output_type": "stream",
     "text": [
      " 10%|█         | 1533/15307 [23:09<3:37:27,  1.06it/s]"
     ]
    },
    {
     "name": "stdout",
     "output_type": "stream",
     "text": [
      "../dataset/crossdock/4hiq_A_rec.pdb ../dataset/crossdocked_pocket10/TTHY_HUMAN_21_147_0/4hiq_A_rec_4pme_cur_lig_tt_docked_1.sdf failed!\n",
      "5\n"
     ]
    },
    {
     "name": "stderr",
     "output_type": "stream",
     "text": [
      " 10%|█         | 1593/15307 [24:02<3:09:22,  1.21it/s]"
     ]
    },
    {
     "name": "stdout",
     "output_type": "stream",
     "text": [
      "../dataset/crossdock/3ttr_A_rec.pdb ../dataset/crossdocked_pocket10/TRFL_BOVIN_361_704_0/3ttr_A_rec_2doj_adn_lig_tt_docked_17.sdf failed!\n",
      "3\n"
     ]
    },
    {
     "name": "stderr",
     "output_type": "stream",
     "text": [
      " 10%|█         | 1605/15307 [24:12<3:04:25,  1.24it/s]"
     ]
    },
    {
     "name": "stdout",
     "output_type": "stream",
     "text": [
      "../dataset/crossdock/4yi5_A_rec.pdb ../dataset/crossdocked_pocket10/PYGM_HUMAN_3_842_allosteric_0/4yi5_A_rec_3ms2_18s_lig_tt_min_0.sdf failed!\n",
      "2\n"
     ]
    },
    {
     "name": "stderr",
     "output_type": "stream",
     "text": [
      " 11%|█         | 1609/15307 [24:15<3:24:59,  1.11it/s]"
     ]
    },
    {
     "name": "stdout",
     "output_type": "stream",
     "text": [
      "../dataset/crossdock/1e7f_A_rec.pdb ../dataset/crossdocked_pocket10/ALBU_HUMAN_25_609_diazepamSite_0/1e7f_A_rec_2bxh_ios_lig_tt_min_0.sdf failed!\n",
      "27\n"
     ]
    },
    {
     "name": "stderr",
     "output_type": "stream",
     "text": [
      " 11%|█         | 1615/15307 [24:20<3:20:10,  1.14it/s]"
     ]
    },
    {
     "name": "stdout",
     "output_type": "stream",
     "text": [
      "../dataset/crossdock/4ldo_A_rec.pdb ../dataset/crossdocked_pocket10/ADRB2_HUMAN_26_357_TM_0/4ldo_A_rec_4ldo_ale_lig_tt_docked_1.sdf failed!\n",
      "25\n"
     ]
    },
    {
     "name": "stderr",
     "output_type": "stream",
     "text": [
      " 11%|█         | 1675/15307 [25:10<2:46:56,  1.36it/s]"
     ]
    },
    {
     "name": "stdout",
     "output_type": "stream",
     "text": [
      "../dataset/crossdock/4pwf_A_rec.pdb ../dataset/crossdocked_pocket10/TTHY_HUMAN_21_147_0/4pwf_A_rec_3p3r_3m1_lig_tt_min_0.sdf failed!\n",
      "5\n"
     ]
    },
    {
     "name": "stderr",
     "output_type": "stream",
     "text": [
      " 11%|█         | 1708/15307 [25:40<2:40:28,  1.41it/s]"
     ]
    },
    {
     "name": "stdout",
     "output_type": "stream",
     "text": [
      "../dataset/crossdock/4r0a_A_rec.pdb ../dataset/crossdocked_pocket10/TLR8_HUMAN_26_831_0/4r0a_A_rec_5awc_m4d_lig_tt_min_0.sdf failed!\n",
      "2\n"
     ]
    },
    {
     "name": "stderr",
     "output_type": "stream",
     "text": [
      " 12%|█▏        | 1784/15307 [26:49<3:02:34,  1.23it/s]"
     ]
    },
    {
     "name": "stdout",
     "output_type": "stream",
     "text": [
      "../dataset/crossdock/5mku_A_rec.pdb ../dataset/crossdocked_pocket10/RXRA_HUMAN_222_461_ligBind_0/5mku_A_rec_5mku_j57_lig_tt_docked_0.sdf failed!\n",
      "18\n"
     ]
    },
    {
     "name": "stderr",
     "output_type": "stream",
     "text": [
      " 12%|█▏        | 1879/15307 [28:12<2:58:18,  1.26it/s]"
     ]
    },
    {
     "name": "stdout",
     "output_type": "stream",
     "text": [
      "../dataset/crossdock/1n5u_A_rec.pdb ../dataset/crossdocked_pocket10/ALBU_HUMAN_25_609_halothaneSite_0/1n5u_A_rec_2bxn_myr_lig_tt_docked_12.sdf failed!\n",
      "15\n"
     ]
    },
    {
     "name": "stderr",
     "output_type": "stream",
     "text": [
      " 13%|█▎        | 1986/15307 [29:46<2:54:57,  1.27it/s]"
     ]
    },
    {
     "name": "stdout",
     "output_type": "stream",
     "text": [
      "../dataset/crossdock/4tqh_A_rec.pdb ../dataset/crossdocked_pocket10/TTHY_HUMAN_21_147_0/4tqh_A_rec_4i85_h50_lig_tt_docked_12.sdf failed!\n",
      "5\n"
     ]
    },
    {
     "name": "stderr",
     "output_type": "stream",
     "text": [
      " 13%|█▎        | 1995/15307 [29:54<3:21:58,  1.10it/s]"
     ]
    },
    {
     "name": "stdout",
     "output_type": "stream",
     "text": [
      "../dataset/crossdock/3s0c_C_rec.pdb ../dataset/crossdocked_pocket10/TAL_THEAC_1_223_0/3s0c_C_rec_4xz9_g3p_lig_tt_min_0.sdf failed!\n",
      "3\n"
     ]
    },
    {
     "name": "stderr",
     "output_type": "stream",
     "text": [
      " 13%|█▎        | 2038/15307 [30:35<3:18:27,  1.11it/s]"
     ]
    },
    {
     "name": "stdout",
     "output_type": "stream",
     "text": [
      "../dataset/crossdock/5l4i_A_rec.pdb ../dataset/crossdocked_pocket10/TTHY_HUMAN_21_147_0/5l4i_A_rec_3gs0_6bd_lig_tt_docked_7.sdf failed!\n",
      "5\n"
     ]
    },
    {
     "name": "stderr",
     "output_type": "stream",
     "text": [
      " 13%|█▎        | 2049/15307 [30:44<3:24:41,  1.08it/s]"
     ]
    },
    {
     "name": "stdout",
     "output_type": "stream",
     "text": [
      "../dataset/crossdock/2xp8_A_rec.pdb ../dataset/crossdocked_pocket10/PIN1_HUMAN_44_163_0/2xp8_A_rec_3ntp_rzd_lig_tt_min_0.sdf failed!\n",
      "34\n"
     ]
    },
    {
     "name": "stderr",
     "output_type": "stream",
     "text": [
      " 14%|█▎        | 2083/15307 [31:16<2:24:38,  1.52it/s]"
     ]
    },
    {
     "name": "stdout",
     "output_type": "stream",
     "text": [
      "../dataset/crossdock/3v5a_A_rec.pdb ../dataset/crossdocked_pocket10/TRFL_BOVIN_361_704_0/3v5a_A_rec_2b65_mal_lig_tt_min_0.sdf failed!\n",
      "3\n"
     ]
    },
    {
     "name": "stderr",
     "output_type": "stream",
     "text": [
      " 14%|█▍        | 2217/15307 [33:18<2:55:20,  1.24it/s]"
     ]
    },
    {
     "name": "stdout",
     "output_type": "stream",
     "text": [
      "../dataset/crossdock/5aks_A_rec.pdb ../dataset/crossdocked_pocket10/TTHY_HUMAN_21_147_0/5aks_A_rec_4wns_3rl_lig_tt_min_0.sdf failed!\n",
      "4\n"
     ]
    },
    {
     "name": "stderr",
     "output_type": "stream",
     "text": [
      " 15%|█▌        | 2309/15307 [34:40<3:01:12,  1.20it/s]"
     ]
    },
    {
     "name": "stdout",
     "output_type": "stream",
     "text": [
      "../dataset/crossdock/1mv9_A_rec.pdb ../dataset/crossdocked_pocket10/RXRA_HUMAN_222_461_ligBind_0/1mv9_A_rec_4pp5_2w0_lig_tt_min_0.sdf failed!\n",
      "14\n"
     ]
    },
    {
     "name": "stderr",
     "output_type": "stream",
     "text": [
      " 15%|█▌        | 2350/15307 [35:17<3:22:03,  1.07it/s]"
     ]
    },
    {
     "name": "stdout",
     "output_type": "stream",
     "text": [
      "../dataset/crossdock/3cxz_A_rec.pdb ../dataset/crossdocked_pocket10/CP121_MYCTU_1_396_0/3cxz_A_rec_4ipw_1g7_lig_tt_min_0.sdf failed!\n",
      "4\n"
     ]
    },
    {
     "name": "stderr",
     "output_type": "stream",
     "text": [
      " 16%|█▌        | 2410/15307 [36:14<2:46:28,  1.29it/s]"
     ]
    },
    {
     "name": "stdout",
     "output_type": "stream",
     "text": [
      "../dataset/crossdock/3fps_A_rec.pdb ../dataset/crossdocked_pocket10/AT2A1_BOVIN_1_993_0/3fps_A_rec_2eat_cza_lig_tt_docked_6.sdf failed!\n",
      "5\n"
     ]
    },
    {
     "name": "stderr",
     "output_type": "stream",
     "text": [
      " 16%|█▌        | 2453/15307 [36:52<2:24:42,  1.48it/s]"
     ]
    },
    {
     "name": "stdout",
     "output_type": "stream",
     "text": [
      "../dataset/crossdock/1g8m_A_rec.pdb ../dataset/crossdocked_pocket10/PUR9_CHICK_1_593_IMPCH_0/1g8m_A_rec_2b1g_13a_lig_tt_docked_0.sdf failed!\n",
      "25\n"
     ]
    },
    {
     "name": "stderr",
     "output_type": "stream",
     "text": [
      " 17%|█▋        | 2567/15307 [38:35<2:50:54,  1.24it/s]"
     ]
    },
    {
     "name": "stdout",
     "output_type": "stream",
     "text": [
      "../dataset/crossdock/1usq_A_rec.pdb ../dataset/crossdocked_pocket10/DRAA_ECOLX_22_160_0/1usq_A_rec_2w5p_cl8_lig_tt_docked_0.sdf failed!\n",
      "2\n"
     ]
    },
    {
     "name": "stderr",
     "output_type": "stream",
     "text": [
      " 19%|█▊        | 2854/15307 [43:08<3:33:24,  1.03s/it]"
     ]
    },
    {
     "name": "stdout",
     "output_type": "stream",
     "text": [
      "../dataset/crossdock/3c7n_B_rec.pdb ../dataset/crossdocked_pocket10/HSP7C_HUMAN_1_384_0/3c7n_B_rec_5aqf_adn_lig_tt_docked_0.sdf failed!\n",
      "5\n"
     ]
    },
    {
     "name": "stderr",
     "output_type": "stream",
     "text": [
      " 19%|█▉        | 2930/15307 [44:20<2:41:12,  1.28it/s]"
     ]
    },
    {
     "name": "stdout",
     "output_type": "stream",
     "text": [
      "../dataset/crossdock/5fz0_A_rec.pdb ../dataset/crossdocked_pocket10/KDM5B_HUMAN_360_770_0/5fz0_A_rec_5fzf_uun_lig_tt_min_0.sdf failed!\n",
      "3\n"
     ]
    },
    {
     "name": "stderr",
     "output_type": "stream",
     "text": [
      " 20%|██        | 3117/15307 [47:06<2:19:30,  1.46it/s]"
     ]
    },
    {
     "name": "stdout",
     "output_type": "stream",
     "text": [
      "../dataset/crossdock/3d9u_A_rec.pdb ../dataset/crossdocked_pocket10/BIRC2_HUMAN_258_357_0/3d9u_A_rec_4lge_1y0_lig_tt_min_0.sdf failed!\n",
      "2\n"
     ]
    },
    {
     "name": "stderr",
     "output_type": "stream",
     "text": [
      " 21%|██        | 3144/15307 [47:33<3:04:54,  1.10it/s]"
     ]
    },
    {
     "name": "stdout",
     "output_type": "stream",
     "text": [
      "../dataset/crossdock/4kqs_A_rec.pdb ../dataset/crossdocked_pocket10/FPPS_HUMAN_69_419_allosteric_0/4kqs_A_rec_4kqs_ipe_lig_tt_docked_8.sdf failed!\n",
      "22\n"
     ]
    },
    {
     "name": "stderr",
     "output_type": "stream",
     "text": [
      " 21%|██        | 3165/15307 [47:50<2:25:33,  1.39it/s]"
     ]
    },
    {
     "name": "stdout",
     "output_type": "stream",
     "text": [
      "../dataset/crossdock/3pn4_A_rec.pdb ../dataset/crossdocked_pocket10/DEF1B_ARATH_80_272_actinonin_0/3pn4_A_rec_3m6q_bb2_lig_tt_min_0.sdf failed!\n",
      "12\n"
     ]
    },
    {
     "name": "stderr",
     "output_type": "stream",
     "text": [
      " 21%|██        | 3217/15307 [48:36<3:11:50,  1.05it/s]"
     ]
    },
    {
     "name": "stdout",
     "output_type": "stream",
     "text": [
      "../dataset/crossdock/3tc5_A_rec.pdb ../dataset/crossdocked_pocket10/PIN1_HUMAN_44_163_0/3tc5_A_rec_4tyo_39x_lig_tt_min_0.sdf failed!\n",
      "17\n"
     ]
    },
    {
     "name": "stderr",
     "output_type": "stream",
     "text": [
      " 21%|██        | 3229/15307 [48:45<2:19:32,  1.44it/s]"
     ]
    },
    {
     "name": "stdout",
     "output_type": "stream",
     "text": [
      "../dataset/crossdock/1e7e_A_rec.pdb ../dataset/crossdocked_pocket10/ALBU_HUMAN_25_609_naproxenSite_0/1e7e_A_rec_2xvw_9nr_lig_tt_docked_1.sdf failed!\n",
      "19\n"
     ]
    },
    {
     "name": "stderr",
     "output_type": "stream",
     "text": [
      " 21%|██▏       | 3283/15307 [49:36<2:27:34,  1.36it/s]"
     ]
    },
    {
     "name": "stdout",
     "output_type": "stream",
     "text": [
      "../dataset/crossdock/2dxy_A_rec.pdb ../dataset/crossdocked_pocket10/TRFL_BOVIN_361_704_0/2dxy_A_rec_3u8q_npu_lig_tt_min_0.sdf failed!\n",
      "1\n"
     ]
    },
    {
     "name": "stderr",
     "output_type": "stream",
     "text": [
      " 22%|██▏       | 3405/15307 [51:26<2:14:01,  1.48it/s]"
     ]
    },
    {
     "name": "stdout",
     "output_type": "stream",
     "text": [
      "../dataset/crossdock/5eiw_A_rec.pdb ../dataset/crossdocked_pocket10/POLG_DEN3I_2490_2759_0/5eiw_A_rec_5eiw_x0v_lig_tt_docked_12.sdf failed!\n",
      "2\n"
     ]
    },
    {
     "name": "stderr",
     "output_type": "stream",
     "text": [
      " 23%|██▎       | 3447/15307 [52:05<3:24:00,  1.03s/it]"
     ]
    },
    {
     "name": "stdout",
     "output_type": "stream",
     "text": [
      "../dataset/crossdock/3sz2_A_rec.pdb ../dataset/crossdocked_pocket10/DPO1_THEAQ_292_832_0/3sz2_A_rec_3rrg_dg3_lig_tt_min_0.sdf failed!\n",
      "4\n"
     ]
    },
    {
     "name": "stderr",
     "output_type": "stream",
     "text": [
      " 23%|██▎       | 3460/15307 [52:16<2:31:47,  1.30it/s]"
     ]
    },
    {
     "name": "stdout",
     "output_type": "stream",
     "text": [
      "../dataset/crossdock/2e0s_A_rec.pdb ../dataset/crossdocked_pocket10/TRFL_BOVIN_361_704_0/2e0s_A_rec_3u72_isz_lig_tt_docked_11.sdf failed!\n",
      "3\n"
     ]
    },
    {
     "name": "stderr",
     "output_type": "stream",
     "text": [
      " 23%|██▎       | 3482/15307 [52:36<3:04:22,  1.07it/s]"
     ]
    },
    {
     "name": "stdout",
     "output_type": "stream",
     "text": [
      "../dataset/crossdock/2p1t_A_rec.pdb ../dataset/crossdocked_pocket10/RXRA_HUMAN_222_461_ligBind_0/2p1t_A_rec_2p1v_5tn_lig_tt_min_0.sdf failed!\n",
      "21\n"
     ]
    },
    {
     "name": "stderr",
     "output_type": "stream",
     "text": [
      " 23%|██▎       | 3500/15307 [52:50<2:20:34,  1.40it/s]"
     ]
    },
    {
     "name": "stdout",
     "output_type": "stream",
     "text": [
      "../dataset/crossdock/5u4c_A_rec.pdb ../dataset/crossdocked_pocket10/TTHY_HUMAN_21_147_0/5u4c_A_rec_4ydm_4aj_lig_tt_min_0.sdf failed!\n",
      "3\n"
     ]
    },
    {
     "name": "stderr",
     "output_type": "stream",
     "text": [
      " 23%|██▎       | 3510/15307 [52:58<2:29:42,  1.31it/s]"
     ]
    },
    {
     "name": "stdout",
     "output_type": "stream",
     "text": [
      "../dataset/crossdock/4j5w_C_rec.pdb ../dataset/crossdocked_pocket10/RXRA_HUMAN_222_461_ligBind_0/4j5w_C_rec_5mkj_4cu_lig_tt_min_0.sdf failed!\n",
      "11\n"
     ]
    },
    {
     "name": "stderr",
     "output_type": "stream",
     "text": [
      " 24%|██▎       | 3600/15307 [54:20<2:28:36,  1.31it/s]"
     ]
    },
    {
     "name": "stdout",
     "output_type": "stream",
     "text": [
      "../dataset/crossdock/2f21_A_rec.pdb ../dataset/crossdocked_pocket10/PIN1_HUMAN_44_163_0/2f21_A_rec_2xp6_4g2_lig_tt_min_0.sdf failed!\n",
      "8\n"
     ]
    },
    {
     "name": "stderr",
     "output_type": "stream",
     "text": [
      " 24%|██▍       | 3648/15307 [55:03<2:49:55,  1.14it/s]"
     ]
    },
    {
     "name": "stdout",
     "output_type": "stream",
     "text": [
      "../dataset/crossdock/3dsx_B_rec.pdb ../dataset/crossdocked_pocket10/PGTB2_MOUSE_9_339_0/3dsx_B_rec_3hxd_bd7_lig_tt_min_0.sdf failed!\n",
      "5\n"
     ]
    },
    {
     "name": "stderr",
     "output_type": "stream",
     "text": [
      " 24%|██▍       | 3657/15307 [55:10<2:08:15,  1.51it/s]"
     ]
    },
    {
     "name": "stdout",
     "output_type": "stream",
     "text": [
      "../dataset/crossdock/3u8q_A_rec.pdb ../dataset/crossdocked_pocket10/TRFL_BOVIN_361_704_0/3u8q_A_rec_2e0s_ram_lig_tt_min_0.sdf failed!\n",
      "4\n"
     ]
    },
    {
     "name": "stderr",
     "output_type": "stream",
     "text": [
      " 24%|██▍       | 3692/15307 [55:42<3:00:36,  1.07it/s]"
     ]
    },
    {
     "name": "stdout",
     "output_type": "stream",
     "text": [
      "../dataset/crossdock/4n56_A_rec.pdb ../dataset/crossdocked_pocket10/DPO1_THEAQ_292_832_0/4n56_A_rec_4c8k_bmr_lig_tt_min_0.sdf failed!\n",
      "5\n"
     ]
    },
    {
     "name": "stderr",
     "output_type": "stream",
     "text": [
      " 24%|██▍       | 3741/15307 [56:24<2:47:21,  1.15it/s]"
     ]
    },
    {
     "name": "stdout",
     "output_type": "stream",
     "text": [
      "../dataset/crossdock/5c9x_A_rec.pdb ../dataset/crossdocked_pocket10/MASZ_MYCTU_1_740_0/5c9x_A_rec_5cbi_4zc_lig_tt_min_0.sdf failed!\n",
      "2\n"
     ]
    },
    {
     "name": "stderr",
     "output_type": "stream",
     "text": [
      " 25%|██▌       | 3890/15307 [58:35<2:53:18,  1.10it/s]"
     ]
    },
    {
     "name": "stdout",
     "output_type": "stream",
     "text": [
      "../dataset/crossdock/2jc0_A_rec.pdb ../dataset/crossdocked_pocket10/POLG_HCVBK_2420_2955_catalytic_0/2jc0_A_rec_3cde_n3h_lig_tt_min_0.sdf failed!\n",
      "10\n"
     ]
    },
    {
     "name": "stderr",
     "output_type": "stream",
     "text": [
      " 26%|██▌       | 3904/15307 [58:47<3:08:26,  1.01it/s]"
     ]
    },
    {
     "name": "stdout",
     "output_type": "stream",
     "text": [
      "../dataset/crossdock/3ejl_C_rec.pdb ../dataset/crossdocked_pocket10/TYSY_HUMAN_25_313_raltitrexed_0/3ejl_C_rec_5x5q_ump_lig_tt_min_0.sdf failed!\n",
      "32\n"
     ]
    },
    {
     "name": "stderr",
     "output_type": "stream",
     "text": [
      " 26%|██▋       | 4020/15307 [1:00:31<2:43:30,  1.15it/s]"
     ]
    },
    {
     "name": "stdout",
     "output_type": "stream",
     "text": [
      "../dataset/crossdock/4pjk_A_rec.pdb ../dataset/crossdocked_pocket10/MYS2_DICDI_1_694_ATP_0/4pjk_A_rec_1mmd_adp_lig_tt_docked_1.sdf failed!\n",
      "21\n"
     ]
    },
    {
     "name": "stderr",
     "output_type": "stream",
     "text": [
      " 28%|██▊       | 4214/15307 [1:03:29<2:12:28,  1.40it/s]"
     ]
    },
    {
     "name": "stdout",
     "output_type": "stream",
     "text": [
      "../dataset/crossdock/3m1o_A_rec.pdb ../dataset/crossdocked_pocket10/TTHY_HUMAN_21_147_0/3m1o_A_rec_3m1o_cjz_lig_tt_docked_6.sdf failed!\n",
      "3\n"
     ]
    },
    {
     "name": "stderr",
     "output_type": "stream",
     "text": [
      " 28%|██▊       | 4273/15307 [1:04:22<1:46:00,  1.73it/s]"
     ]
    },
    {
     "name": "stdout",
     "output_type": "stream",
     "text": [
      "../dataset/crossdock/1hk5_A_rec.pdb ../dataset/crossdocked_pocket10/ALBU_HUMAN_25_609_halothaneSite_0/1hk5_A_rec_1ha2_swf_lig_tt_min_0.sdf failed!\n",
      "13\n"
     ]
    },
    {
     "name": "stderr",
     "output_type": "stream",
     "text": [
      " 28%|██▊       | 4278/15307 [1:04:27<2:13:34,  1.38it/s]"
     ]
    },
    {
     "name": "stdout",
     "output_type": "stream",
     "text": [
      "../dataset/crossdock/4zqp_A_rec.pdb ../dataset/crossdocked_pocket10/IMDH_MYCTU_1_529_0/4zqp_A_rec_4zqn_4qo_lig_tt_docked_2.sdf failed!\n",
      "1\n"
     ]
    },
    {
     "name": "stderr",
     "output_type": "stream",
     "text": [
      " 29%|██▊       | 4384/15307 [1:06:05<2:44:11,  1.11it/s]"
     ]
    },
    {
     "name": "stdout",
     "output_type": "stream",
     "text": [
      "../dataset/crossdock/3jpr_A_rec.pdb ../dataset/crossdocked_pocket10/DPOLB_HUMAN_142_335_0/3jpr_A_rec_5eoz_gfl_lig_tt_docked_18.sdf failed!\n",
      "4\n"
     ]
    },
    {
     "name": "stderr",
     "output_type": "stream",
     "text": [
      " 30%|██▉       | 4516/15307 [1:08:11<2:18:06,  1.30it/s]"
     ]
    },
    {
     "name": "stdout",
     "output_type": "stream",
     "text": [
      "../dataset/crossdock/5alu_A_rec.pdb ../dataset/crossdocked_pocket10/HYES_HUMAN_230_551_0/5alu_A_rec_3i1y_33n_lig_tt_docked_0.sdf failed!\n",
      "36\n"
     ]
    },
    {
     "name": "stderr",
     "output_type": "stream",
     "text": [
      " 31%|███       | 4707/15307 [1:11:10<2:08:40,  1.37it/s]"
     ]
    },
    {
     "name": "stdout",
     "output_type": "stream",
     "text": [
      "../dataset/crossdock/1seu_A_rec.pdb ../dataset/crossdocked_pocket10/TOP1_HUMAN_202_765_0/1seu_A_rec_1tl8_ai3_lig_tt_min_0.sdf failed!\n",
      "0\n"
     ]
    },
    {
     "name": "stderr",
     "output_type": "stream",
     "text": [
      " 31%|███       | 4761/15307 [1:12:03<2:19:58,  1.26it/s]"
     ]
    },
    {
     "name": "stdout",
     "output_type": "stream",
     "text": [
      "../dataset/crossdock/4a7v_A_rec.pdb ../dataset/crossdocked_pocket10/SODC_HUMAN_2_154_quinazoline_0/4a7v_A_rec_4a7v_ldp_lig_tt_min_0.sdf failed!\n",
      "18\n"
     ]
    },
    {
     "name": "stderr",
     "output_type": "stream",
     "text": [
      " 32%|███▏      | 4828/15307 [1:13:10<2:46:27,  1.05it/s]"
     ]
    },
    {
     "name": "stdout",
     "output_type": "stream",
     "text": [
      "../dataset/crossdock/2a0f_C_rec.pdb ../dataset/crossdocked_pocket10/PYRB_ECOLI_2_311_0/2a0f_C_rec_2hse_pct_lig_tt_min_0.sdf failed!\n",
      "5\n"
     ]
    },
    {
     "name": "stderr",
     "output_type": "stream",
     "text": [
      " 32%|███▏      | 4830/15307 [1:13:11<2:15:51,  1.29it/s]"
     ]
    },
    {
     "name": "stdout",
     "output_type": "stream",
     "text": [
      "../dataset/crossdock/4u84_A_rec.pdb ../dataset/crossdocked_pocket10/PIN1_HUMAN_44_163_0/4u84_A_rec_2xp4_g14_lig_tt_min_0.sdf failed!\n",
      "11\n"
     ]
    },
    {
     "name": "stderr",
     "output_type": "stream",
     "text": [
      " 32%|███▏      | 4850/15307 [1:13:29<2:35:05,  1.12it/s]"
     ]
    },
    {
     "name": "stdout",
     "output_type": "stream",
     "text": [
      "../dataset/crossdock/2gll_B_rec.pdb ../dataset/crossdocked_pocket10/FABZ_HELPY_1_159_0/2gll_B_rec_3cf9_ben_lig_it2_tt_docked_8.sdf failed!\n",
      "0\n"
     ]
    },
    {
     "name": "stderr",
     "output_type": "stream",
     "text": [
      " 32%|███▏      | 4899/15307 [1:14:21<2:36:27,  1.11it/s]"
     ]
    },
    {
     "name": "stdout",
     "output_type": "stream",
     "text": [
      "../dataset/crossdock/6bmb_A_rec.pdb ../dataset/crossdocked_pocket10/DHQSD_ARATH_90_603_SDH_0/6bmb_A_rec_2o7q_dhk_lig_tt_docked_1.sdf failed!\n",
      "5\n"
     ]
    },
    {
     "name": "stderr",
     "output_type": "stream",
     "text": [
      " 33%|███▎      | 4992/15307 [1:15:51<2:15:32,  1.27it/s]"
     ]
    },
    {
     "name": "stdout",
     "output_type": "stream",
     "text": [
      "../dataset/crossdock/1ut1_A_rec.pdb ../dataset/crossdocked_pocket10/DRAA_ECOLX_22_160_0/1ut1_A_rec_1usq_clm_lig_tt_min_0.sdf failed!\n",
      "2\n"
     ]
    },
    {
     "name": "stderr",
     "output_type": "stream",
     "text": [
      " 33%|███▎      | 5044/15307 [1:16:35<2:13:24,  1.28it/s]"
     ]
    },
    {
     "name": "stdout",
     "output_type": "stream",
     "text": [
      "../dataset/crossdock/3tus_A_rec.pdb ../dataset/crossdocked_pocket10/TRFL_BOVIN_361_704_0/3tus_A_rec_3tus_3hb_lig_tt_min_0.sdf failed!\n",
      "5\n"
     ]
    },
    {
     "name": "stderr",
     "output_type": "stream",
     "text": [
      " 33%|███▎      | 5103/15307 [1:17:26<2:19:11,  1.22it/s]"
     ]
    },
    {
     "name": "stdout",
     "output_type": "stream",
     "text": [
      "../dataset/crossdock/1xvp_C_rec.pdb ../dataset/crossdocked_pocket10/RXRA_HUMAN_222_461_ligBind_0/1xvp_C_rec_5mj5_7o0_lig_tt_min_0.sdf failed!\n",
      "13\n"
     ]
    },
    {
     "name": "stderr",
     "output_type": "stream",
     "text": [
      " 34%|███▍      | 5181/15307 [1:18:37<2:09:58,  1.30it/s]"
     ]
    },
    {
     "name": "stdout",
     "output_type": "stream",
     "text": [
      "../dataset/crossdock/5ggk_B_rec.pdb ../dataset/crossdocked_pocket10/PMGT1_HUMAN_94_250_0/5ggk_B_rec_5ggj_pna_lig_tt_min_0.sdf failed!\n",
      "5\n"
     ]
    },
    {
     "name": "stderr",
     "output_type": "stream",
     "text": [
      " 34%|███▍      | 5185/15307 [1:18:40<2:02:51,  1.37it/s]"
     ]
    },
    {
     "name": "stdout",
     "output_type": "stream",
     "text": [
      "../dataset/crossdock/5lgj_A_rec.pdb ../dataset/crossdocked_pocket10/IGHE_HUMAN_206_427_0/5lgj_A_rec_1f6a_cps_lig_tt_docked_13.sdf failed!\n",
      "2\n"
     ]
    },
    {
     "name": "stderr",
     "output_type": "stream",
     "text": [
      " 35%|███▌      | 5403/15307 [1:22:01<3:10:53,  1.16s/it]"
     ]
    },
    {
     "name": "stdout",
     "output_type": "stream",
     "text": [
      "../dataset/crossdock/1i6v_C_rec.pdb ../dataset/crossdocked_pocket10/RPOB_THET8_2_394_0/1i6v_C_rec_1i6v_rfp_lig_tt_docked_0.sdf failed!\n",
      "5\n"
     ]
    },
    {
     "name": "stderr",
     "output_type": "stream",
     "text": [
      " 36%|███▌      | 5450/15307 [1:22:44<2:07:27,  1.29it/s]"
     ]
    },
    {
     "name": "stdout",
     "output_type": "stream",
     "text": [
      "../dataset/crossdock/5mkj_A_rec.pdb ../dataset/crossdocked_pocket10/RXRA_HUMAN_222_461_ligBind_0/5mkj_A_rec_4rmd_3sw_lig_tt_min_0.sdf failed!\n",
      "11\n"
     ]
    },
    {
     "name": "stderr",
     "output_type": "stream",
     "text": [
      " 36%|███▌      | 5453/15307 [1:22:46<1:41:12,  1.62it/s]"
     ]
    },
    {
     "name": "stdout",
     "output_type": "stream",
     "text": [
      "../dataset/crossdock/4k98_A_rec.pdb ../dataset/crossdocked_pocket10/CGAS_MOUSE_144_507_0/4k98_A_rec_4lez_1sy_lig_tt_docked_2.sdf failed!\n",
      "4\n"
     ]
    },
    {
     "name": "stderr",
     "output_type": "stream",
     "text": [
      " 36%|███▌      | 5488/15307 [1:23:15<2:15:43,  1.21it/s]"
     ]
    },
    {
     "name": "stdout",
     "output_type": "stream",
     "text": [
      "../dataset/crossdock/1rrj_A_rec.pdb ../dataset/crossdocked_pocket10/TOP1_HUMAN_202_765_0/1rrj_A_rec_1rrj_ttc_lig_tt_min_0.sdf failed!\n",
      "0\n"
     ]
    },
    {
     "name": "stderr",
     "output_type": "stream",
     "text": [
      " 36%|███▋      | 5550/15307 [1:24:09<2:20:59,  1.15it/s]"
     ]
    },
    {
     "name": "stdout",
     "output_type": "stream",
     "text": [
      "../dataset/crossdock/4cf8_A_rec.pdb ../dataset/crossdocked_pocket10/POL_HV1B1_1211_1371_allosteric2_0/4cf8_A_rec_4cgh_loz_lig_tt_docked_1.sdf failed!\n",
      "24\n"
     ]
    },
    {
     "name": "stderr",
     "output_type": "stream",
     "text": [
      " 37%|███▋      | 5661/15307 [1:25:51<1:57:29,  1.37it/s]"
     ]
    },
    {
     "name": "stdout",
     "output_type": "stream",
     "text": [
      "../dataset/crossdock/3tod_A_rec.pdb ../dataset/crossdocked_pocket10/TRFL_BOVIN_361_704_0/3tod_A_rec_2b65_mal_lig_tt_min_0.sdf failed!\n",
      "5\n"
     ]
    },
    {
     "name": "stderr",
     "output_type": "stream",
     "text": [
      " 38%|███▊      | 5748/15307 [1:27:16<2:54:16,  1.09s/it]"
     ]
    },
    {
     "name": "stdout",
     "output_type": "stream",
     "text": [
      "../dataset/crossdock/1e7b_A_rec.pdb ../dataset/crossdocked_pocket10/ALBU_HUMAN_25_609_diazepamSite_0/1e7b_A_rec_2xvu_9dn_lig_tt_docked_1.sdf failed!\n",
      "7\n"
     ]
    },
    {
     "name": "stderr",
     "output_type": "stream",
     "text": [
      " 38%|███▊      | 5787/15307 [1:27:51<2:20:34,  1.13it/s]"
     ]
    },
    {
     "name": "stdout",
     "output_type": "stream",
     "text": [
      "../dataset/crossdock/1yvf_A_rec.pdb ../dataset/crossdocked_pocket10/POLG_HCVBK_2420_2955_catalytic_0/1yvf_A_rec_3h2l_yak_lig_tt_min_0.sdf failed!\n",
      "34\n"
     ]
    },
    {
     "name": "stderr",
     "output_type": "stream",
     "text": [
      " 39%|███▉      | 5934/15307 [1:30:04<2:19:53,  1.12it/s]"
     ]
    },
    {
     "name": "stdout",
     "output_type": "stream",
     "text": [
      "../dataset/crossdock/4f29_A_rec.pdb ../dataset/crossdocked_pocket10/GRIA3_MOUSE_412_799_0/4f29_A_rec_3lsw_4mp_lig_tt_min_0.sdf failed!\n",
      "25\n"
     ]
    },
    {
     "name": "stderr",
     "output_type": "stream",
     "text": [
      " 39%|███▉      | 5948/15307 [1:30:19<2:28:14,  1.05it/s]"
     ]
    },
    {
     "name": "stdout",
     "output_type": "stream",
     "text": [
      "../dataset/crossdock/4gna_B_rec.pdb ../dataset/crossdocked_pocket10/RGN_MOUSE_1_299_0/4gna_B_rec_4gn8_aso_lig_tt_min_0.sdf failed!\n",
      "5\n"
     ]
    },
    {
     "name": "stderr",
     "output_type": "stream",
     "text": [
      " 39%|███▉      | 6010/15307 [1:31:20<2:57:00,  1.14s/it]"
     ]
    },
    {
     "name": "stdout",
     "output_type": "stream",
     "text": [
      "../dataset/crossdock/2giq_A_rec.pdb ../dataset/crossdocked_pocket10/POLG_HCVBK_2420_2955_catalytic_0/2giq_A_rec_2gc8_885_lig_tt_min_0.sdf failed!\n",
      "24\n"
     ]
    },
    {
     "name": "stderr",
     "output_type": "stream",
     "text": [
      " 41%|████      | 6252/15307 [1:35:07<2:43:53,  1.09s/it]"
     ]
    },
    {
     "name": "stdout",
     "output_type": "stream",
     "text": [
      "../dataset/crossdock/3tdl_A_rec.pdb ../dataset/crossdocked_pocket10/ALBU_HUMAN_25_609_halothaneSite_0/3tdl_A_rec_1h9z_rwf_lig_tt_docked_0.sdf failed!\n",
      "24\n"
     ]
    },
    {
     "name": "stderr",
     "output_type": "stream",
     "text": [
      " 41%|████      | 6256/15307 [1:35:10<1:59:57,  1.26it/s]"
     ]
    },
    {
     "name": "stdout",
     "output_type": "stream",
     "text": [
      "../dataset/crossdock/3ntp_A_rec.pdb ../dataset/crossdocked_pocket10/PIN1_HUMAN_44_163_0/3ntp_A_rec_2xp6_4g2_lig_tt_docked_0.sdf failed!\n",
      "20\n"
     ]
    },
    {
     "name": "stderr",
     "output_type": "stream",
     "text": [
      " 41%|████      | 6293/15307 [1:35:39<1:39:30,  1.51it/s]"
     ]
    },
    {
     "name": "stdout",
     "output_type": "stream",
     "text": [
      "../dataset/crossdock/3ed0_D_rec.pdb ../dataset/crossdocked_pocket10/FABZ_HELPY_1_159_0/3ed0_D_rec_2glm_ben_lig_tt_min_0.sdf failed!\n",
      "5\n"
     ]
    },
    {
     "name": "stderr",
     "output_type": "stream",
     "text": [
      " 42%|████▏     | 6369/15307 [1:36:49<1:29:52,  1.66it/s]"
     ]
    },
    {
     "name": "stdout",
     "output_type": "stream",
     "text": [
      "../dataset/crossdock/2vdb_A_rec.pdb ../dataset/crossdocked_pocket10/ALBU_HUMAN_25_609_naproxenSite_0/2vdb_A_rec_2vdb_nps_lig_tt_min_0.sdf failed!\n",
      "23\n"
     ]
    },
    {
     "name": "stderr",
     "output_type": "stream",
     "text": [
      " 42%|████▏     | 6473/15307 [1:38:25<2:12:13,  1.11it/s]"
     ]
    },
    {
     "name": "stdout",
     "output_type": "stream",
     "text": [
      "../dataset/crossdock/2b65_A_rec.pdb ../dataset/crossdocked_pocket10/TRFL_BOVIN_361_704_0/2b65_A_rec_2doj_adn_lig_tt_min_0.sdf failed!\n",
      "1\n"
     ]
    },
    {
     "name": "stderr",
     "output_type": "stream",
     "text": [
      " 43%|████▎     | 6544/15307 [1:39:29<1:58:29,  1.23it/s]"
     ]
    },
    {
     "name": "stdout",
     "output_type": "stream",
     "text": [
      "../dataset/crossdock/4x5c_B_rec.pdb ../dataset/crossdocked_pocket10/TRPD_MYCTU_9_370_0/4x5c_B_rec_4zok_62l_lig_tt_min_0.sdf failed!\n",
      "4\n"
     ]
    },
    {
     "name": "stderr",
     "output_type": "stream",
     "text": [
      " 43%|████▎     | 6576/15307 [1:39:58<2:02:08,  1.19it/s]"
     ]
    },
    {
     "name": "stdout",
     "output_type": "stream",
     "text": [
      "../dataset/crossdock/3k8x_A_rec.pdb ../dataset/crossdocked_pocket10/ACAC_YEAST_1477_2229_ACoA_0/3k8x_A_rec_3k8x_b89_lig_tt_docked_0.sdf failed!\n",
      "5\n"
     ]
    },
    {
     "name": "stderr",
     "output_type": "stream",
     "text": [
      " 43%|████▎     | 6589/15307 [1:40:09<1:58:53,  1.22it/s]"
     ]
    },
    {
     "name": "stdout",
     "output_type": "stream",
     "text": [
      "../dataset/crossdock/4xn8_A_rec.pdb ../dataset/crossdocked_pocket10/AMPN_ECOLI_3_870_0/4xn8_A_rec_5mfs_mli_lig_tt_docked_13.sdf failed!\n",
      "4\n"
     ]
    },
    {
     "name": "stderr",
     "output_type": "stream",
     "text": [
      " 44%|████▍     | 6727/15307 [1:42:14<1:55:01,  1.24it/s]"
     ]
    },
    {
     "name": "stdout",
     "output_type": "stream",
     "text": [
      "../dataset/crossdock/4ctj_A_rec.pdb ../dataset/crossdocked_pocket10/POLG_DEN3I_2490_2759_0/4ctj_A_rec_5ekx_2cq_lig_tt_min_0.sdf failed!\n",
      "2\n"
     ]
    },
    {
     "name": "stderr",
     "output_type": "stream",
     "text": [
      " 45%|████▌     | 6911/15307 [1:45:08<1:43:20,  1.35it/s]"
     ]
    },
    {
     "name": "stdout",
     "output_type": "stream",
     "text": [
      "../dataset/crossdock/1was_A_rec.pdb ../dataset/crossdocked_pocket10/MCP2_SALTY_32_182_0/1was_A_rec_2lig_phn_lig_tt_min_0.sdf failed!\n",
      "4\n"
     ]
    },
    {
     "name": "stderr",
     "output_type": "stream",
     "text": [
      " 46%|████▌     | 6981/15307 [1:46:13<1:45:02,  1.32it/s]"
     ]
    },
    {
     "name": "stdout",
     "output_type": "stream",
     "text": [
      "../dataset/crossdock/4qqd_A_rec.pdb ../dataset/crossdocked_pocket10/UHRF1_HUMAN_130_295_chem_0/4qqd_A_rec_4qqd_36x_lig_tt_docked_8.sdf failed!\n",
      "17\n"
     ]
    },
    {
     "name": "stderr",
     "output_type": "stream",
     "text": [
      " 46%|████▌     | 7071/15307 [1:47:31<2:03:11,  1.11it/s]"
     ]
    },
    {
     "name": "stdout",
     "output_type": "stream",
     "text": [
      "../dataset/crossdock/3zg3_A_rec.pdb ../dataset/crossdocked_pocket10/CP51_TRYCC_26_481_0/3zg3_A_rec_3zg3_udd_lig_tt_docked_0.sdf failed!\n",
      "0\n"
     ]
    },
    {
     "name": "stderr",
     "output_type": "stream",
     "text": [
      " 47%|████▋     | 7216/15307 [1:49:41<1:33:54,  1.44it/s]"
     ]
    },
    {
     "name": "stdout",
     "output_type": "stream",
     "text": [
      "../dataset/crossdock/2nzt_A_rec.pdb ../dataset/crossdocked_pocket10/HXK2_HUMAN_15_916_catalytic_0/2nzt_A_rec_2nzt_glc_lig_tt_min_0.sdf failed!\n",
      "17\n"
     ]
    },
    {
     "name": "stderr",
     "output_type": "stream",
     "text": [
      " 48%|████▊     | 7357/15307 [1:51:50<1:56:32,  1.14it/s]"
     ]
    },
    {
     "name": "stdout",
     "output_type": "stream",
     "text": [
      "../dataset/crossdock/3fug_A_rec.pdb ../dataset/crossdocked_pocket10/RXRA_HUMAN_222_461_ligBind_0/3fug_A_rec_4k4j_1o8_lig_tt_docked_0.sdf failed!\n",
      "20\n"
     ]
    },
    {
     "name": "stderr",
     "output_type": "stream",
     "text": [
      " 48%|████▊     | 7401/15307 [1:52:26<1:36:50,  1.36it/s]"
     ]
    },
    {
     "name": "stdout",
     "output_type": "stream",
     "text": [
      "../dataset/crossdock/4e1m_A_rec.pdb ../dataset/crossdocked_pocket10/POL_HV1B1_1211_1371_allosteric2_0/4e1m_A_rec_4e1n_tqx_lig_tt_docked_0.sdf failed!\n",
      "1\n"
     ]
    },
    {
     "name": "stderr",
     "output_type": "stream",
     "text": [
      " 49%|████▉     | 7538/15307 [1:54:29<1:09:54,  1.85it/s]"
     ]
    },
    {
     "name": "stdout",
     "output_type": "stream",
     "text": [
      "../dataset/crossdock/2b1i_B_rec.pdb ../dataset/crossdocked_pocket10/PUR9_CHICK_1_593_IMPCH_0/2b1i_B_rec_2b1i_93a_lig_tt_min_0.sdf failed!\n",
      "8\n"
     ]
    },
    {
     "name": "stderr",
     "output_type": "stream",
     "text": [
      " 49%|████▉     | 7570/15307 [1:54:56<1:38:26,  1.31it/s]"
     ]
    },
    {
     "name": "stdout",
     "output_type": "stream",
     "text": [
      "../dataset/crossdock/3wh0_A_rec.pdb ../dataset/crossdocked_pocket10/PIN1_HUMAN_44_163_0/3wh0_A_rec_2f21_1pe_lig_tt_min_0.sdf failed!\n",
      "18\n"
     ]
    },
    {
     "name": "stderr",
     "output_type": "stream",
     "text": [
      " 50%|████▉     | 7580/15307 [1:55:03<1:37:29,  1.32it/s]"
     ]
    },
    {
     "name": "stdout",
     "output_type": "stream",
     "text": [
      "../dataset/crossdock/2ei3_A_rec.pdb ../dataset/crossdocked_pocket10/NAHC_PSEU8_1_302_0/2ei3_A_rec_2ei0_bp7_lig_tt_docked_6.sdf failed!\n",
      "4\n"
     ]
    },
    {
     "name": "stderr",
     "output_type": "stream",
     "text": [
      " 50%|████▉     | 7605/15307 [1:55:30<2:20:14,  1.09s/it]"
     ]
    },
    {
     "name": "stdout",
     "output_type": "stream",
     "text": [
      "../dataset/crossdock/2bxp_A_rec.pdb ../dataset/crossdocked_pocket10/ALBU_HUMAN_25_609_halothaneSite_0/2bxp_A_rec_2bxn_myr_lig_tt_docked_17.sdf failed!\n",
      "20\n"
     ]
    },
    {
     "name": "stderr",
     "output_type": "stream",
     "text": [
      " 50%|████▉     | 7635/15307 [1:55:58<2:06:58,  1.01it/s]"
     ]
    },
    {
     "name": "stdout",
     "output_type": "stream",
     "text": [
      "../dataset/crossdock/5hto_A_rec.pdb ../dataset/crossdocked_pocket10/LDH_PLAFD_1_316_0/5hto_A_rec_4plz_oxm_lig_tt_docked_5.sdf failed!\n",
      "5\n"
     ]
    },
    {
     "name": "stderr",
     "output_type": "stream",
     "text": [
      " 50%|█████     | 7710/15307 [1:57:09<1:39:05,  1.28it/s]"
     ]
    },
    {
     "name": "stdout",
     "output_type": "stream",
     "text": [
      "../dataset/crossdock/1a31_A_rec.pdb ../dataset/crossdocked_pocket10/TOP1_HUMAN_202_765_0/1a31_A_rec_1nh3_gng_lig_tt_min_0.sdf failed!\n",
      "2\n"
     ]
    },
    {
     "name": "stderr",
     "output_type": "stream",
     "text": [
      " 50%|█████     | 7714/15307 [1:57:12<1:39:19,  1.27it/s]"
     ]
    },
    {
     "name": "stdout",
     "output_type": "stream",
     "text": [
      "../dataset/crossdock/4zqo_A_rec.pdb ../dataset/crossdocked_pocket10/IMDH_MYCTU_1_529_0/4zqo_A_rec_4zqn_4qo_lig_tt_min_0.sdf failed!\n",
      "2\n"
     ]
    },
    {
     "name": "stderr",
     "output_type": "stream",
     "text": [
      " 51%|█████     | 7766/15307 [1:58:00<1:41:43,  1.24it/s]"
     ]
    },
    {
     "name": "stdout",
     "output_type": "stream",
     "text": [
      "../dataset/crossdock/3dp1_A_rec.pdb ../dataset/crossdocked_pocket10/FABZ_HELPY_1_159_0/3dp1_A_rec_3dp1_ben_lig_tt_min_0.sdf failed!\n",
      "4\n"
     ]
    },
    {
     "name": "stderr",
     "output_type": "stream",
     "text": [
      " 51%|█████     | 7783/15307 [1:58:16<2:16:44,  1.09s/it]"
     ]
    },
    {
     "name": "stdout",
     "output_type": "stream",
     "text": [
      "../dataset/crossdock/4ig0_A_rec.pdb ../dataset/crossdocked_pocket10/POL_HV1B1_826_919_0/4ig0_A_rec_1c1b_gca_lig_tt_min_0.sdf failed!\n",
      "20\n"
     ]
    },
    {
     "name": "stderr",
     "output_type": "stream",
     "text": [
      " 51%|█████     | 7827/15307 [1:58:53<1:15:44,  1.65it/s]"
     ]
    },
    {
     "name": "stdout",
     "output_type": "stream",
     "text": [
      "../dataset/crossdock/3b9l_A_rec.pdb ../dataset/crossdocked_pocket10/ALBU_HUMAN_25_609_naproxenSite_0/3b9l_A_rec_3b9m_sal_lig_tt_min_0.sdf failed!\n",
      "12\n"
     ]
    },
    {
     "name": "stderr",
     "output_type": "stream",
     "text": [
      " 51%|█████     | 7840/15307 [1:59:05<1:57:03,  1.06it/s]"
     ]
    },
    {
     "name": "stdout",
     "output_type": "stream",
     "text": [
      "../dataset/crossdock/1z62_A_rec.pdb ../dataset/crossdocked_pocket10/PYGM_HUMAN_3_842_allosteric_0/1z62_A_rec_3mrv_16f_lig_tt_min_0.sdf failed!\n",
      "5\n"
     ]
    },
    {
     "name": "stderr",
     "output_type": "stream",
     "text": [
      " 51%|█████▏    | 7848/15307 [1:59:11<1:37:48,  1.27it/s]"
     ]
    },
    {
     "name": "stdout",
     "output_type": "stream",
     "text": [
      "../dataset/crossdock/3w3l_D_rec.pdb ../dataset/crossdocked_pocket10/TLR8_HUMAN_26_831_0/3w3l_D_rec_4qbz_d80_lig_tt_min_0.sdf failed!\n",
      "4\n"
     ]
    },
    {
     "name": "stderr",
     "output_type": "stream",
     "text": [
      " 51%|█████▏    | 7859/15307 [1:59:20<1:38:23,  1.26it/s]"
     ]
    },
    {
     "name": "stdout",
     "output_type": "stream",
     "text": [
      "../dataset/crossdock/1sc7_A_rec.pdb ../dataset/crossdocked_pocket10/TOP1_HUMAN_202_765_0/1sc7_A_rec_1nh3_car_lig_tt_min_0.sdf failed!\n",
      "2\n"
     ]
    },
    {
     "name": "stderr",
     "output_type": "stream",
     "text": [
      " 51%|█████▏    | 7869/15307 [1:59:28<1:15:35,  1.64it/s]"
     ]
    },
    {
     "name": "stdout",
     "output_type": "stream",
     "text": [
      "../dataset/crossdock/2acl_A_rec.pdb ../dataset/crossdocked_pocket10/RXRA_HUMAN_222_461_ligBind_0/2acl_A_rec_2acl_rea_lig_tt_docked_1.sdf failed!\n",
      "12\n"
     ]
    },
    {
     "name": "stderr",
     "output_type": "stream",
     "text": [
      " 52%|█████▏    | 7896/15307 [1:59:52<1:31:27,  1.35it/s]"
     ]
    },
    {
     "name": "stdout",
     "output_type": "stream",
     "text": [
      "../dataset/crossdock/3ed0_A_rec.pdb ../dataset/crossdocked_pocket10/FABZ_HELPY_1_159_0/3ed0_A_rec_3cf9_ben_lig_it2_tt_docked_13.sdf failed!\n",
      "0\n"
     ]
    },
    {
     "name": "stderr",
     "output_type": "stream",
     "text": [
      " 52%|█████▏    | 7915/15307 [2:00:12<1:47:51,  1.14it/s]"
     ]
    },
    {
     "name": "stdout",
     "output_type": "stream",
     "text": [
      "../dataset/crossdock/1vom_A_rec.pdb ../dataset/crossdocked_pocket10/MYS2_DICDI_1_694_ATP_0/1vom_A_rec_1vom_adp_lig_tt_docked_1.sdf failed!\n",
      "18\n"
     ]
    },
    {
     "name": "stderr",
     "output_type": "stream",
     "text": [
      " 52%|█████▏    | 7921/15307 [2:00:18<2:11:14,  1.07s/it]"
     ]
    },
    {
     "name": "stdout",
     "output_type": "stream",
     "text": [
      "../dataset/crossdock/5mmw_A_rec.pdb ../dataset/crossdocked_pocket10/RXRA_HUMAN_222_461_ligBind_0/5mmw_A_rec_4rmc_3sv_lig_tt_min_0.sdf failed!\n",
      "14\n"
     ]
    },
    {
     "name": "stderr",
     "output_type": "stream",
     "text": [
      " 52%|█████▏    | 7936/15307 [2:00:31<1:24:49,  1.45it/s]"
     ]
    },
    {
     "name": "stdout",
     "output_type": "stream",
     "text": [
      "../dataset/crossdock/3usd_A_rec.pdb ../dataset/crossdocked_pocket10/TRFL_BOVIN_361_704_0/3usd_A_rec_2px1_rip_lig_tt_min_0.sdf failed!\n",
      "0\n"
     ]
    },
    {
     "name": "stderr",
     "output_type": "stream",
     "text": [
      " 52%|█████▏    | 8015/15307 [2:01:43<1:50:00,  1.10it/s]"
     ]
    },
    {
     "name": "stdout",
     "output_type": "stream",
     "text": [
      "../dataset/crossdock/4dx7_B_rec.pdb ../dataset/crossdocked_pocket10/ACRB_ECOLI_1_39_0/4dx7_B_rec_4dx5_c14_lig_tt_min_0.sdf failed!\n",
      "4\n"
     ]
    },
    {
     "name": "stderr",
     "output_type": "stream",
     "text": [
      " 52%|█████▏    | 8021/15307 [2:01:50<1:58:04,  1.03it/s]"
     ]
    },
    {
     "name": "stdout",
     "output_type": "stream",
     "text": [
      "../dataset/crossdock/1eet_A_rec.pdb ../dataset/crossdocked_pocket10/POL_HV1B1_826_919_0/1eet_A_rec_1bqm_hby_lig_tt_min_0.sdf failed!\n",
      "26\n"
     ]
    },
    {
     "name": "stderr",
     "output_type": "stream",
     "text": [
      " 53%|█████▎    | 8051/15307 [2:02:14<1:20:51,  1.50it/s]"
     ]
    },
    {
     "name": "stdout",
     "output_type": "stream",
     "text": [
      "../dataset/crossdock/4bx7_B_rec.pdb ../dataset/crossdocked_pocket10/SAV_STRAV_73_165_0/4bx7_B_rec_5b5g_6fx_lig_tt_min_0.sdf failed!\n",
      "2\n"
     ]
    },
    {
     "name": "stderr",
     "output_type": "stream",
     "text": [
      " 53%|█████▎    | 8109/15307 [2:03:07<1:35:46,  1.25it/s]"
     ]
    },
    {
     "name": "stdout",
     "output_type": "stream",
     "text": [
      "../dataset/crossdock/4dx5_C_rec.pdb ../dataset/crossdocked_pocket10/ACRB_ECOLI_1_1048_ampicillin_0/4dx5_C_rec_4dx5_dd9_lig_tt_min_0.sdf failed!\n",
      "16\n"
     ]
    },
    {
     "name": "stderr",
     "output_type": "stream",
     "text": [
      " 53%|█████▎    | 8139/15307 [2:03:37<1:35:31,  1.25it/s]"
     ]
    },
    {
     "name": "stdout",
     "output_type": "stream",
     "text": [
      "../dataset/crossdock/2dyh_A_rec.pdb ../dataset/crossdocked_pocket10/KEAP1_HUMAN_319_613_0/2dyh_A_rec_5fzj_75k_lig_tt_min_0.sdf failed!\n",
      "3\n"
     ]
    },
    {
     "name": "stderr",
     "output_type": "stream",
     "text": [
      " 53%|█████▎    | 8164/15307 [2:03:59<1:26:48,  1.37it/s]"
     ]
    },
    {
     "name": "stdout",
     "output_type": "stream",
     "text": [
      "../dataset/crossdock/5h1t_D_rec.pdb ../dataset/crossdocked_pocket10/TIF1A_HUMAN_891_1007_inhibitor_0/5h1t_D_rec_5h1t_7ff_lig_tt_min_0.sdf failed!\n",
      "5\n"
     ]
    },
    {
     "name": "stderr",
     "output_type": "stream",
     "text": [
      " 54%|█████▍    | 8298/15307 [2:06:05<1:45:16,  1.11it/s]"
     ]
    },
    {
     "name": "stdout",
     "output_type": "stream",
     "text": [
      "../dataset/crossdock/3cf8_A_rec.pdb ../dataset/crossdocked_pocket10/FABZ_HELPY_1_159_0/3cf8_A_rec_2glp_ben_lig_tt_docked_0.sdf failed!\n",
      "0\n"
     ]
    },
    {
     "name": "stderr",
     "output_type": "stream",
     "text": [
      " 54%|█████▍    | 8329/15307 [2:06:34<1:40:47,  1.15it/s]"
     ]
    },
    {
     "name": "stdout",
     "output_type": "stream",
     "text": [
      "../dataset/crossdock/3c5f_B_rec.pdb ../dataset/crossdocked_pocket10/DPOLL_HUMAN_327_575_0/3c5f_B_rec_2bcr_ppv_lig_tt_docked_0.sdf failed!\n",
      "5\n"
     ]
    },
    {
     "name": "stderr",
     "output_type": "stream",
     "text": [
      " 55%|█████▍    | 8345/15307 [2:06:50<2:04:19,  1.07s/it]"
     ]
    },
    {
     "name": "stdout",
     "output_type": "stream",
     "text": [
      "../dataset/crossdock/3p0g_A_rec.pdb ../dataset/crossdocked_pocket10/ADRB2_HUMAN_26_357_TM_0/3p0g_A_rec_3p0g_p0g_lig_tt_min_0.sdf failed!\n",
      "43\n"
     ]
    },
    {
     "name": "stderr",
     "output_type": "stream",
     "text": [
      " 55%|█████▌    | 8449/15307 [2:08:24<1:24:41,  1.35it/s]"
     ]
    },
    {
     "name": "stdout",
     "output_type": "stream",
     "text": [
      "../dataset/crossdock/3mkd_A_rec.pdb ../dataset/crossdocked_pocket10/MYS2_DICDI_1_694_ATP_0/3mkd_A_rec_3mkd_adp_lig_tt_min_0.sdf failed!\n",
      "15\n"
     ]
    },
    {
     "name": "stderr",
     "output_type": "stream",
     "text": [
      " 55%|█████▌    | 8454/15307 [2:08:28<1:35:02,  1.20it/s]"
     ]
    },
    {
     "name": "stdout",
     "output_type": "stream",
     "text": [
      "../dataset/crossdock/5jmn_B_rec.pdb ../dataset/crossdocked_pocket10/ACRB_ECOLI_1_39_0/5jmn_B_rec_4dx7_d12_lig_tt_min_0.sdf failed!\n",
      "20\n"
     ]
    },
    {
     "name": "stderr",
     "output_type": "stream",
     "text": [
      " 56%|█████▌    | 8509/15307 [2:09:18<2:11:58,  1.16s/it]"
     ]
    },
    {
     "name": "stdout",
     "output_type": "stream",
     "text": [
      "../dataset/crossdock/5wl0_A_rec.pdb ../dataset/crossdocked_pocket10/PB2_I34A1_318_483_0/5wl0_A_rec_5wl0_21g_lig_tt_min_0.sdf failed!\n",
      "60\n"
     ]
    },
    {
     "name": "stderr",
     "output_type": "stream",
     "text": [
      " 57%|█████▋    | 8733/15307 [2:12:49<1:22:14,  1.33it/s]"
     ]
    },
    {
     "name": "stdout",
     "output_type": "stream",
     "text": [
      "../dataset/crossdock/5ea4_F_rec.pdb ../dataset/crossdocked_pocket10/FUS_HRSVA_149_517_0/5ea4_F_rec_5kww_6ya_lig_tt_min_0.sdf failed!\n",
      "3\n"
     ]
    },
    {
     "name": "stderr",
     "output_type": "stream",
     "text": [
      " 58%|█████▊    | 8857/15307 [2:14:45<1:33:28,  1.15it/s]"
     ]
    },
    {
     "name": "stdout",
     "output_type": "stream",
     "text": [
      "../dataset/crossdock/5hvl_A_rec.pdb ../dataset/crossdocked_pocket10/TPS1_CANAL_1_478_0/5hvl_A_rec_5hvl_udp_lig_tt_min_0.sdf failed!\n",
      "5\n"
     ]
    },
    {
     "name": "stderr",
     "output_type": "stream",
     "text": [
      " 58%|█████▊    | 8866/15307 [2:14:53<1:09:07,  1.55it/s]"
     ]
    },
    {
     "name": "stdout",
     "output_type": "stream",
     "text": [
      "../dataset/crossdock/2bxe_A_rec.pdb ../dataset/crossdocked_pocket10/ALBU_HUMAN_25_609_halothaneSite_0/2bxe_A_rec_2bxe_1fl_lig_tt_docked_3.sdf failed!\n",
      "13\n"
     ]
    },
    {
     "name": "stderr",
     "output_type": "stream",
     "text": [
      " 58%|█████▊    | 8889/15307 [2:15:13<1:19:38,  1.34it/s]"
     ]
    },
    {
     "name": "stdout",
     "output_type": "stream",
     "text": [
      "../dataset/crossdock/3zp7_B_rec.pdb ../dataset/crossdocked_pocket10/AROH_BACSU_1_127_0/3zp7_B_rec_3zp4_tsa_lig_tt_min_0.sdf failed!\n",
      "5\n"
     ]
    },
    {
     "name": "stderr",
     "output_type": "stream",
     "text": [
      " 58%|█████▊    | 8907/15307 [2:15:28<1:27:15,  1.22it/s]"
     ]
    },
    {
     "name": "stdout",
     "output_type": "stream",
     "text": [
      "../dataset/crossdock/3qv7_C_rec.pdb ../dataset/crossdocked_pocket10/KPYK_LEIME_1_499_0/3qv7_C_rec_3qv6_qv6_lig_tt_min_0.sdf failed!\n",
      "18\n"
     ]
    },
    {
     "name": "stderr",
     "output_type": "stream",
     "text": [
      " 59%|█████▊    | 8983/15307 [2:16:37<1:36:42,  1.09it/s]"
     ]
    },
    {
     "name": "stdout",
     "output_type": "stream",
     "text": [
      "../dataset/crossdock/2ydf_A_rec.pdb ../dataset/crossdocked_pocket10/ALBU_HUMAN_25_609_diazepamSite_0/2ydf_A_rec_2bxf_dzp_lig_tt_docked_0.sdf failed!\n",
      "15\n"
     ]
    },
    {
     "name": "stderr",
     "output_type": "stream",
     "text": [
      " 59%|█████▉    | 9009/15307 [2:17:01<1:35:57,  1.09it/s]"
     ]
    },
    {
     "name": "stdout",
     "output_type": "stream",
     "text": [
      "../dataset/crossdock/2w5p_A_rec.pdb ../dataset/crossdocked_pocket10/DRAA_ECOLX_22_160_0/2w5p_A_rec_2w5p_cl8_lig_tt_docked_1.sdf failed!\n",
      "2\n"
     ]
    },
    {
     "name": "stderr",
     "output_type": "stream",
     "text": [
      " 59%|█████▉    | 9036/15307 [2:17:25<1:28:20,  1.18it/s]"
     ]
    },
    {
     "name": "stdout",
     "output_type": "stream",
     "text": [
      "../dataset/crossdock/4k9m_A_rec.pdb ../dataset/crossdocked_pocket10/MDLC_PSEPU_1_528_0/4k9m_A_rec_3f6b_8pa_lig_tt_docked_1.sdf failed!\n",
      "5\n",
      "../dataset/crossdock/4u85_A_rec.pdb ../dataset/crossdocked_pocket10/PIN1_HUMAN_44_163_0/4u85_A_rec_3i6c_gia_lig_tt_min_0.sdf failed!\n",
      "5\n"
     ]
    },
    {
     "name": "stderr",
     "output_type": "stream",
     "text": [
      " 60%|█████▉    | 9153/15307 [2:19:07<1:13:08,  1.40it/s]"
     ]
    },
    {
     "name": "stdout",
     "output_type": "stream",
     "text": [
      "../dataset/crossdock/5fot_A_rec.pdb ../dataset/crossdocked_pocket10/RADA_PYRFU_107_349_0/5fot_A_rec_4b3c_5h1_lig_tt_min_0.sdf failed!\n",
      "2\n"
     ]
    },
    {
     "name": "stderr",
     "output_type": "stream",
     "text": [
      " 60%|██████    | 9206/15307 [2:19:57<1:27:47,  1.16it/s]"
     ]
    },
    {
     "name": "stdout",
     "output_type": "stream",
     "text": [
      "../dataset/crossdock/4nt3_A_rec.pdb ../dataset/crossdocked_pocket10/PERL_BOVIN_118_712_0/4nt3_A_rec_4gm7_hci_lig_tt_min_0.sdf failed!\n",
      "4\n"
     ]
    },
    {
     "name": "stderr",
     "output_type": "stream",
     "text": [
      " 60%|██████    | 9227/15307 [2:20:16<1:20:58,  1.25it/s]"
     ]
    },
    {
     "name": "stdout",
     "output_type": "stream",
     "text": [
      "../dataset/crossdock/5x4o_A_rec.pdb ../dataset/crossdocked_pocket10/BCL6_HUMAN_4_129_0/5x4o_A_rec_5n1x_8hh_lig_tt_min_0.sdf failed!\n",
      "3\n"
     ]
    },
    {
     "name": "stderr",
     "output_type": "stream",
     "text": [
      " 60%|██████    | 9228/15307 [2:20:17<1:04:53,  1.56it/s]"
     ]
    },
    {
     "name": "stdout",
     "output_type": "stream",
     "text": [
      "../dataset/crossdock/2bxm_A_rec.pdb ../dataset/crossdocked_pocket10/ALBU_HUMAN_25_609_naproxenSite_0/2bxm_A_rec_3b9m_sal_lig_tt_min_0.sdf failed!\n",
      "3\n"
     ]
    },
    {
     "name": "stderr",
     "output_type": "stream",
     "text": [
      " 61%|██████    | 9343/15307 [2:22:04<1:31:05,  1.09it/s]"
     ]
    },
    {
     "name": "stdout",
     "output_type": "stream",
     "text": [
      "../dataset/crossdock/4jf0_B_rec.pdb ../dataset/crossdocked_pocket10/ARGD_SALTY_1_405_0/4jf0_B_rec_4jez_p00_lig_tt_min_0.sdf failed!\n",
      "5\n"
     ]
    },
    {
     "name": "stderr",
     "output_type": "stream",
     "text": [
      " 61%|██████▏   | 9384/15307 [2:22:43<1:41:27,  1.03s/it]"
     ]
    },
    {
     "name": "stdout",
     "output_type": "stream",
     "text": [
      "../dataset/crossdock/2p1n_E_rec.pdb ../dataset/crossdocked_pocket10/TIR1_ARATH_1_594_0/2p1n_E_rec_2p1p_iac_lig_tt_min_0.sdf failed!\n",
      "3\n"
     ]
    },
    {
     "name": "stderr",
     "output_type": "stream",
     "text": [
      " 62%|██████▏   | 9463/15307 [2:23:53<1:12:41,  1.34it/s]"
     ]
    },
    {
     "name": "stdout",
     "output_type": "stream",
     "text": [
      "../dataset/crossdock/4nzl_A_rec.pdb ../dataset/crossdocked_pocket10/ELNE_HUMAN_30_247_0/4nzl_A_rec_5a8y_mli_lig_tt_min_0.sdf failed!\n",
      "29\n"
     ]
    },
    {
     "name": "stderr",
     "output_type": "stream",
     "text": [
      " 62%|██████▏   | 9476/15307 [2:24:05<1:10:24,  1.38it/s]"
     ]
    },
    {
     "name": "stdout",
     "output_type": "stream",
     "text": [
      "../dataset/crossdock/3er5_E_rec.pdb ../dataset/crossdocked_pocket10/CARP_CRYPA_90_419_catalytic_0/3er5_E_rec_4y44_46y_lig_tt_min_0.sdf failed!\n",
      "2\n"
     ]
    },
    {
     "name": "stderr",
     "output_type": "stream",
     "text": [
      " 62%|██████▏   | 9497/15307 [2:24:25<1:11:27,  1.36it/s]"
     ]
    },
    {
     "name": "stdout",
     "output_type": "stream",
     "text": [
      "../dataset/crossdock/3lsw_A_rec.pdb ../dataset/crossdocked_pocket10/GRIA3_MOUSE_412_799_0/3lsw_A_rec_3lsw_4mp_lig_tt_min_0.sdf failed!\n",
      "0\n"
     ]
    },
    {
     "name": "stderr",
     "output_type": "stream",
     "text": [
      " 64%|██████▍   | 9764/15307 [2:28:35<1:00:53,  1.52it/s]"
     ]
    },
    {
     "name": "stdout",
     "output_type": "stream",
     "text": [
      "../dataset/crossdock/4p0x_A_rec.pdb ../dataset/crossdocked_pocket10/FPPS_HUMAN_69_419_allosteric_0/4p0x_A_rec_5diq_5b9_lig_tt_docked_3.sdf failed!\n",
      "24\n"
     ]
    },
    {
     "name": "stderr",
     "output_type": "stream",
     "text": [
      " 64%|██████▍   | 9822/15307 [2:29:31<1:29:08,  1.03it/s]"
     ]
    },
    {
     "name": "stdout",
     "output_type": "stream",
     "text": [
      "../dataset/crossdock/5sxa_B_rec.pdb ../dataset/crossdocked_pocket10/P85A_HUMAN_319_433_0/5sxa_B_rec_5sxi_71j_lig_tt_min_0.sdf failed!\n",
      "4\n"
     ]
    },
    {
     "name": "stderr",
     "output_type": "stream",
     "text": [
      " 65%|██████▍   | 9905/15307 [2:30:47<1:29:16,  1.01it/s]"
     ]
    },
    {
     "name": "stdout",
     "output_type": "stream",
     "text": [
      "../dataset/crossdock/1hor_A_rec.pdb ../dataset/crossdocked_pocket10/NAGB_ECOLI_1_266_0/1hor_A_rec_1fqo_f6r_lig_tt_min_0.sdf failed!\n",
      "3\n"
     ]
    },
    {
     "name": "stderr",
     "output_type": "stream",
     "text": [
      " 65%|██████▍   | 9937/15307 [2:31:15<1:16:43,  1.17it/s]"
     ]
    },
    {
     "name": "stdout",
     "output_type": "stream",
     "text": [
      "../dataset/crossdock/1gni_A_rec.pdb ../dataset/crossdocked_pocket10/ALBU_HUMAN_25_609_halothaneSite_0/1gni_A_rec_1h9z_rwf_lig_tt_min_0.sdf failed!\n",
      "18\n"
     ]
    },
    {
     "name": "stderr",
     "output_type": "stream",
     "text": [
      " 65%|██████▍   | 9940/15307 [2:31:17<1:10:58,  1.26it/s]"
     ]
    },
    {
     "name": "stdout",
     "output_type": "stream",
     "text": [
      "../dataset/crossdock/5ezv_E_rec.pdb ../dataset/crossdocked_pocket10/AAKG1_HUMAN_182_330_0/5ezv_E_rec_2v8q_amp_lig_tt_min_0.sdf failed!\n",
      "25\n"
     ]
    },
    {
     "name": "stderr",
     "output_type": "stream",
     "text": [
      " 66%|██████▌   | 10119/15307 [2:34:07<1:09:57,  1.24it/s]"
     ]
    },
    {
     "name": "stdout",
     "output_type": "stream",
     "text": [
      "../dataset/crossdock/3lpt_A_rec.pdb ../dataset/crossdocked_pocket10/POL_HV1B1_1211_1371_allosteric2_0/3lpt_A_rec_4nyf_4bi_lig_tt_docked_0.sdf failed!\n",
      "2\n"
     ]
    },
    {
     "name": "stderr",
     "output_type": "stream",
     "text": [
      " 66%|██████▌   | 10127/15307 [2:34:15<1:11:24,  1.21it/s]"
     ]
    },
    {
     "name": "stdout",
     "output_type": "stream",
     "text": [
      "../dataset/crossdock/3dtu_B_rec.pdb ../dataset/crossdocked_pocket10/COX2_RHOSH_27_282_0/3dtu_B_rec_3dtu_trd_lig_tt_min_0.sdf failed!\n",
      "5\n"
     ]
    },
    {
     "name": "stderr",
     "output_type": "stream",
     "text": [
      " 67%|██████▋   | 10209/15307 [2:35:31<1:22:29,  1.03it/s]"
     ]
    },
    {
     "name": "stdout",
     "output_type": "stream",
     "text": [
      "../dataset/crossdock/4wtl_A_rec.pdb ../dataset/crossdocked_pocket10/POLG_HCVJF_2442_3011_0/4wtl_A_rec_4wta_udp_lig_tt_docked_4.sdf failed!\n",
      "5\n"
     ]
    },
    {
     "name": "stderr",
     "output_type": "stream",
     "text": [
      " 67%|██████▋   | 10211/15307 [2:35:33<1:24:41,  1.00it/s]"
     ]
    },
    {
     "name": "stdout",
     "output_type": "stream",
     "text": [
      "../dataset/crossdock/5dhs_D_rec.pdb ../dataset/crossdocked_pocket10/NADK1_LISMO_1_264_0/5dhs_D_rec_3v8q_5n5_lig_tt_min_0.sdf failed!\n",
      "5\n"
     ]
    },
    {
     "name": "stderr",
     "output_type": "stream",
     "text": [
      " 67%|██████▋   | 10266/15307 [2:36:26<1:15:01,  1.12it/s]"
     ]
    },
    {
     "name": "stdout",
     "output_type": "stream",
     "text": [
      "../dataset/crossdock/4iih_A_rec.pdb ../dataset/crossdocked_pocket10/BGL1_ASPAC_20_860_0/4iih_A_rec_4iie_mrd_lig_tt_min_0.sdf failed!\n",
      "1\n"
     ]
    },
    {
     "name": "stderr",
     "output_type": "stream",
     "text": [
      " 67%|██████▋   | 10274/15307 [2:36:34<1:33:15,  1.11s/it]"
     ]
    },
    {
     "name": "stdout",
     "output_type": "stream",
     "text": [
      "../dataset/crossdock/2bxg_A_rec.pdb ../dataset/crossdocked_pocket10/ALBU_HUMAN_25_609_diazepamSite_0/2bxg_A_rec_2bxe_1fl_lig_tt_docked_6.sdf failed!\n",
      "24\n"
     ]
    },
    {
     "name": "stderr",
     "output_type": "stream",
     "text": [
      " 67%|██████▋   | 10277/15307 [2:36:35<58:53,  1.42it/s]  "
     ]
    },
    {
     "name": "stdout",
     "output_type": "stream",
     "text": [
      "../dataset/crossdock/2p0d_A_rec.pdb ../dataset/crossdocked_pocket10/RHG09_HUMAN_318_440_0/2p0d_A_rec_2p0d_i3p_lig_tt_min_0.sdf failed!\n",
      "5\n"
     ]
    },
    {
     "name": "stderr",
     "output_type": "stream",
     "text": [
      " 68%|██████▊   | 10381/15307 [2:38:17<1:25:18,  1.04s/it]"
     ]
    },
    {
     "name": "stdout",
     "output_type": "stream",
     "text": [
      "../dataset/crossdock/4n32_A_rec.pdb ../dataset/crossdocked_pocket10/CLC4K_HUMAN_193_328_0/4n32_A_rec_4n37_mma_lig_tt_min_0.sdf failed!\n",
      "4\n"
     ]
    },
    {
     "name": "stderr",
     "output_type": "stream",
     "text": [
      " 68%|██████▊   | 10428/15307 [2:39:03<1:15:59,  1.07it/s]"
     ]
    },
    {
     "name": "stdout",
     "output_type": "stream",
     "text": [
      "../dataset/crossdock/1kq7_A_rec.pdb ../dataset/crossdocked_pocket10/FUMC_ECOLI_1_467_0/1kq7_A_rec_1fup_pma_lig_tt_docked_18.sdf failed!\n",
      "5\n"
     ]
    },
    {
     "name": "stderr",
     "output_type": "stream",
     "text": [
      " 69%|██████▊   | 10509/15307 [2:40:17<58:21,  1.37it/s]  "
     ]
    },
    {
     "name": "stdout",
     "output_type": "stream",
     "text": [
      "../dataset/crossdock/4zqm_A_rec.pdb ../dataset/crossdocked_pocket10/IMDH_MYCTU_1_529_0/4zqm_A_rec_4zqp_kp3_lig_tt_min_0.sdf failed!\n",
      "0\n"
     ]
    },
    {
     "name": "stderr",
     "output_type": "stream",
     "text": [
      " 69%|██████▊   | 10513/15307 [2:40:19<45:17,  1.76it/s]"
     ]
    },
    {
     "name": "stdout",
     "output_type": "stream",
     "text": [
      "../dataset/crossdock/1w9l_A_rec.pdb ../dataset/crossdocked_pocket10/MYS2_DICDI_1_694_ATP_0/1w9l_A_rec_3myh_adp_lig_tt_min_0.sdf failed!\n",
      "17\n"
     ]
    },
    {
     "name": "stderr",
     "output_type": "stream",
     "text": [
      " 69%|██████▉   | 10548/15307 [2:40:52<1:07:02,  1.18it/s]"
     ]
    },
    {
     "name": "stdout",
     "output_type": "stream",
     "text": [
      "../dataset/crossdock/3m3f_A_rec.pdb ../dataset/crossdocked_pocket10/GRIA3_MOUSE_412_799_0/3m3f_A_rec_3lsw_4mp_lig_tt_min_0.sdf failed!\n",
      "5\n"
     ]
    },
    {
     "name": "stderr",
     "output_type": "stream",
     "text": [
      " 69%|██████▉   | 10557/15307 [2:41:00<1:00:10,  1.32it/s]"
     ]
    },
    {
     "name": "stdout",
     "output_type": "stream",
     "text": [
      "../dataset/crossdock/3imr_A_rec.pdb ../dataset/crossdocked_pocket10/TTHY_HUMAN_21_147_0/3imr_A_rec_4pme_fer_lig_tt_min_0.sdf failed!\n",
      "4\n"
     ]
    },
    {
     "name": "stderr",
     "output_type": "stream",
     "text": [
      " 69%|██████▉   | 10588/15307 [2:41:28<53:31,  1.47it/s]  "
     ]
    },
    {
     "name": "stdout",
     "output_type": "stream",
     "text": [
      "../dataset/crossdock/2hf3_A_rec.pdb ../dataset/crossdocked_pocket10/ACTB_HUMAN_1_375_CY9_0/2hf3_A_rec_4k43_1po_lig_tt_min_0.sdf failed!\n",
      "13\n"
     ]
    },
    {
     "name": "stderr",
     "output_type": "stream",
     "text": [
      " 70%|██████▉   | 10648/15307 [2:42:29<52:52,  1.47it/s]  "
     ]
    },
    {
     "name": "stdout",
     "output_type": "stream",
     "text": [
      "../dataset/crossdock/4fim_A_rec.pdb ../dataset/crossdocked_pocket10/TRFL_BOVIN_361_704_0/4fim_A_rec_4g8h_lcf_lig_tt_min_0.sdf failed!\n",
      "4\n"
     ]
    },
    {
     "name": "stderr",
     "output_type": "stream",
     "text": [
      " 70%|███████   | 10721/15307 [2:43:39<1:09:42,  1.10it/s]"
     ]
    },
    {
     "name": "stdout",
     "output_type": "stream",
     "text": [
      "../dataset/crossdock/5fpk_A_rec.pdb ../dataset/crossdocked_pocket10/RADA_PYRFU_107_349_0/5fpk_A_rec_4b3d_5mi_lig_tt_min_0.sdf failed!\n",
      "3\n"
     ]
    },
    {
     "name": "stderr",
     "output_type": "stream",
     "text": [
      " 71%|███████   | 10823/15307 [2:45:17<1:06:00,  1.13it/s]"
     ]
    },
    {
     "name": "stdout",
     "output_type": "stream",
     "text": [
      "../dataset/crossdock/2dwi_A_rec.pdb ../dataset/crossdocked_pocket10/TRFL_BOVIN_361_704_0/2dwi_A_rec_2b65_mal_lig_tt_min_0.sdf failed!\n",
      "3\n"
     ]
    },
    {
     "name": "stderr",
     "output_type": "stream",
     "text": [
      " 71%|███████   | 10829/15307 [2:45:22<54:37,  1.37it/s]  "
     ]
    },
    {
     "name": "stdout",
     "output_type": "stream",
     "text": [
      "../dataset/crossdock/2fmn_B_rec.pdb ../dataset/crossdocked_pocket10/METF_ECOLI_3_296_0/2fmn_B_rec_3fsu_mry_lig_tt_min_0.sdf failed!\n",
      "23\n"
     ]
    },
    {
     "name": "stderr",
     "output_type": "stream",
     "text": [
      " 71%|███████   | 10840/15307 [2:45:31<53:44,  1.39it/s]  "
     ]
    },
    {
     "name": "stdout",
     "output_type": "stream",
     "text": [
      "../dataset/crossdock/2oxz_A_rec.pdb ../dataset/crossdocked_pocket10/MMP12_HUMAN_105_264_0/2oxz_A_rec_4h84_y38_lig_tt_min_0.sdf failed!\n",
      "1\n"
     ]
    },
    {
     "name": "stderr",
     "output_type": "stream",
     "text": [
      " 71%|███████   | 10853/15307 [2:45:43<1:13:50,  1.01it/s]"
     ]
    },
    {
     "name": "stdout",
     "output_type": "stream",
     "text": [
      "../dataset/crossdock/5h4i_A_rec.pdb ../dataset/crossdocked_pocket10/POLG_ZIKV_1414_1673_0/5h4i_A_rec_5h4i_7hq_lig_tt_min_0.sdf failed!\n",
      "25\n"
     ]
    },
    {
     "name": "stderr",
     "output_type": "stream",
     "text": [
      " 71%|███████   | 10899/15307 [2:46:25<57:13,  1.28it/s]  "
     ]
    },
    {
     "name": "stdout",
     "output_type": "stream",
     "text": [
      "../dataset/crossdock/1ok7_B_rec.pdb ../dataset/crossdocked_pocket10/DPO3B_ECOLI_1_366_0/1ok7_B_rec_3qsb_743_lig_tt_min_0.sdf failed!\n",
      "5\n"
     ]
    },
    {
     "name": "stderr",
     "output_type": "stream",
     "text": [
      " 72%|███████▏  | 10947/15307 [2:47:08<54:31,  1.33it/s]  "
     ]
    },
    {
     "name": "stdout",
     "output_type": "stream",
     "text": [
      "../dataset/crossdock/3ci8_A_rec.pdb ../dataset/crossdocked_pocket10/TRFL_BOVIN_361_704_0/3ci8_A_rec_3u72_isz_lig_tt_min_0.sdf failed!\n",
      "0\n"
     ]
    },
    {
     "name": "stderr",
     "output_type": "stream",
     "text": [
      " 72%|███████▏  | 10992/15307 [2:47:50<54:39,  1.32it/s]  "
     ]
    },
    {
     "name": "stdout",
     "output_type": "stream",
     "text": [
      "../dataset/crossdock/4iig_A_rec.pdb ../dataset/crossdocked_pocket10/BGL1_ASPAC_20_860_0/4iig_A_rec_4iie_mrd_lig_tt_min_0.sdf failed!\n",
      "5\n"
     ]
    },
    {
     "name": "stderr",
     "output_type": "stream",
     "text": [
      " 72%|███████▏  | 11044/15307 [2:48:34<56:16,  1.26it/s]  "
     ]
    },
    {
     "name": "stdout",
     "output_type": "stream",
     "text": [
      "../dataset/crossdock/5ea7_F_rec.pdb ../dataset/crossdocked_pocket10/FUS_HRSVA_149_517_0/5ea7_F_rec_5kww_6ya_lig_tt_min_0.sdf failed!\n",
      "3\n"
     ]
    },
    {
     "name": "stderr",
     "output_type": "stream",
     "text": [
      " 73%|███████▎  | 11153/15307 [2:50:14<46:17,  1.50it/s]  "
     ]
    },
    {
     "name": "stdout",
     "output_type": "stream",
     "text": [
      "../dataset/crossdock/1byi_A_rec.pdb ../dataset/crossdocked_pocket10/BIOD1_ECOLI_2_225_0/1byi_A_rec_1dag_dsd_lig_tt_docked_0.sdf failed!\n",
      "0\n"
     ]
    },
    {
     "name": "stderr",
     "output_type": "stream",
     "text": [
      " 73%|███████▎  | 11181/15307 [2:50:42<1:18:30,  1.14s/it]"
     ]
    },
    {
     "name": "stdout",
     "output_type": "stream",
     "text": [
      "../dataset/crossdock/3rr8_A_rec.pdb ../dataset/crossdocked_pocket10/DPO1_THEAQ_292_832_0/3rr8_A_rec_4bwm_doc_lig_tt_min_0.sdf failed!\n",
      "2\n"
     ]
    },
    {
     "name": "stderr",
     "output_type": "stream",
     "text": [
      " 74%|███████▎  | 11278/15307 [2:52:21<1:06:46,  1.01it/s]"
     ]
    },
    {
     "name": "stdout",
     "output_type": "stream",
     "text": [
      "../dataset/crossdock/1hk3_A_rec.pdb ../dataset/crossdocked_pocket10/ALBU_HUMAN_25_609_halothaneSite_0/1hk3_A_rec_2bxe_1fl_lig_tt_min_0.sdf failed!\n",
      "17\n"
     ]
    },
    {
     "name": "stderr",
     "output_type": "stream",
     "text": [
      " 74%|███████▍  | 11350/15307 [2:53:31<1:10:37,  1.07s/it]"
     ]
    },
    {
     "name": "stdout",
     "output_type": "stream",
     "text": [
      "../dataset/crossdock/3lwm_A_rec.pdb ../dataset/crossdocked_pocket10/DPO1_THEAQ_292_832_0/3lwm_A_rec_4bwm_doc_lig_tt_min_0.sdf failed!\n",
      "3\n"
     ]
    },
    {
     "name": "stderr",
     "output_type": "stream",
     "text": [
      " 75%|███████▍  | 11465/15307 [2:55:19<59:50,  1.07it/s]  "
     ]
    },
    {
     "name": "stdout",
     "output_type": "stream",
     "text": [
      "../dataset/crossdock/1tl8_A_rec.pdb ../dataset/crossdocked_pocket10/TOP1_HUMAN_202_765_0/1tl8_A_rec_1t8i_ehd_lig_tt_min_0.sdf failed!\n",
      "2\n"
     ]
    },
    {
     "name": "stderr",
     "output_type": "stream",
     "text": [
      " 76%|███████▌  | 11579/15307 [2:57:09<51:32,  1.21it/s]  "
     ]
    },
    {
     "name": "stdout",
     "output_type": "stream",
     "text": [
      "../dataset/crossdock/4o59_P_rec.pdb ../dataset/crossdocked_pocket10/G3P_HUMAN_2_335_0/4o59_P_rec_5tso_phn_lig_tt_docked_5.sdf failed!\n",
      "3\n"
     ]
    },
    {
     "name": "stderr",
     "output_type": "stream",
     "text": [
      " 76%|███████▌  | 11596/15307 [2:57:24<48:28,  1.28it/s]  "
     ]
    },
    {
     "name": "stdout",
     "output_type": "stream",
     "text": [
      "../dataset/crossdock/4ju8_A_rec.pdb ../dataset/crossdocked_pocket10/MDLC_PSEPU_1_528_0/4ju8_A_rec_3f6b_8pa_lig_tt_docked_1.sdf failed!\n",
      "5\n"
     ]
    },
    {
     "name": "stderr",
     "output_type": "stream",
     "text": [
      " 76%|███████▌  | 11620/15307 [2:57:48<49:40,  1.24it/s]  "
     ]
    },
    {
     "name": "stdout",
     "output_type": "stream",
     "text": [
      "../dataset/crossdock/1oz0_B_rec.pdb ../dataset/crossdocked_pocket10/PUR9_CHICK_1_593_IMPCH_0/1oz0_B_rec_2iu3_203_lig_tt_min_0.sdf failed!\n",
      "5\n"
     ]
    },
    {
     "name": "stderr",
     "output_type": "stream",
     "text": [
      " 76%|███████▋  | 11708/15307 [2:59:07<46:16,  1.30it/s]  "
     ]
    },
    {
     "name": "stdout",
     "output_type": "stream",
     "text": [
      "../dataset/crossdock/4f31_B_rec.pdb ../dataset/crossdocked_pocket10/GRIA3_MOUSE_412_799_0/4f31_B_rec_3lsw_4mp_lig_tt_min_0.sdf failed!\n",
      "5\n"
     ]
    },
    {
     "name": "stderr",
     "output_type": "stream",
     "text": [
      " 77%|███████▋  | 11773/15307 [3:00:10<43:06,  1.37it/s]  "
     ]
    },
    {
     "name": "stdout",
     "output_type": "stream",
     "text": [
      "../dataset/crossdock/4ktk_A_rec.pdb ../dataset/crossdocked_pocket10/CP121_MYCTU_1_396_0/4ktk_A_rec_5ibh_69r_lig_tt_min_0.sdf failed!\n",
      "4\n"
     ]
    },
    {
     "name": "stderr",
     "output_type": "stream",
     "text": [
      " 77%|███████▋  | 11805/15307 [3:00:39<41:59,  1.39it/s]  "
     ]
    },
    {
     "name": "stdout",
     "output_type": "stream",
     "text": [
      "../dataset/crossdock/3hjq_A_rec.pdb ../dataset/crossdocked_pocket10/CATA_RHOOP_2_270_0/3hjq_A_rec_3hhy_caq_lig_tt_min_0.sdf failed!\n",
      "2\n"
     ]
    },
    {
     "name": "stderr",
     "output_type": "stream",
     "text": [
      " 77%|███████▋  | 11851/15307 [3:01:20<50:03,  1.15it/s]  "
     ]
    },
    {
     "name": "stdout",
     "output_type": "stream",
     "text": [
      "../dataset/crossdock/1tcm_B_rec.pdb ../dataset/crossdocked_pocket10/CDGT2_BACCI_28_713_0/1tcm_B_rec_1kcl_mal_lig_tt_min_0.sdf failed!\n",
      "5\n"
     ]
    },
    {
     "name": "stderr",
     "output_type": "stream",
     "text": [
      " 77%|███████▋  | 11854/15307 [3:01:23<52:02,  1.11it/s]"
     ]
    },
    {
     "name": "stdout",
     "output_type": "stream",
     "text": [
      "../dataset/crossdock/3c6x_A_rec.pdb ../dataset/crossdocked_pocket10/HNL_HEVBR_1_257_0/3c6x_A_rec_1sc9_cnh_lig_tt_docked_3.sdf failed!\n",
      "5\n"
     ]
    },
    {
     "name": "stderr",
     "output_type": "stream",
     "text": [
      " 78%|███████▊  | 11931/15307 [3:02:38<46:12,  1.22it/s]  "
     ]
    },
    {
     "name": "stdout",
     "output_type": "stream",
     "text": [
      "../dataset/crossdock/2ieg_A_rec.pdb ../dataset/crossdocked_pocket10/PYGM_HUMAN_3_842_allosteric_0/2ieg_A_rec_5o52_9le_lig_tt_min_0.sdf failed!\n",
      "0\n"
     ]
    },
    {
     "name": "stderr",
     "output_type": "stream",
     "text": [
      " 78%|███████▊  | 11982/15307 [3:03:24<45:25,  1.22it/s]"
     ]
    },
    {
     "name": "stdout",
     "output_type": "stream",
     "text": [
      "../dataset/crossdock/1uyv_A_rec.pdb ../dataset/crossdocked_pocket10/ACAC_YEAST_1477_2229_ACoA_0/1uyv_A_rec_1od2_ade_lig_tt_min_0.sdf failed!\n",
      "5\n"
     ]
    },
    {
     "name": "stderr",
     "output_type": "stream",
     "text": [
      " 78%|███████▊  | 11996/15307 [3:03:37<47:27,  1.16it/s]  "
     ]
    },
    {
     "name": "stdout",
     "output_type": "stream",
     "text": [
      "../dataset/crossdock/5swt_B_rec.pdb ../dataset/crossdocked_pocket10/P85A_HUMAN_319_433_0/5swt_B_rec_5sx8_71m_lig_tt_min_0.sdf failed!\n",
      "5\n"
     ]
    },
    {
     "name": "stderr",
     "output_type": "stream",
     "text": [
      " 79%|███████▊  | 12025/15307 [3:04:05<46:43,  1.17it/s]  "
     ]
    },
    {
     "name": "stdout",
     "output_type": "stream",
     "text": [
      "../dataset/crossdock/4xz9_A_rec.pdb ../dataset/crossdocked_pocket10/TAL_THEAC_1_223_0/4xz9_A_rec_4xz9_g3p_lig_tt_min_0.sdf failed!\n",
      "3\n"
     ]
    },
    {
     "name": "stderr",
     "output_type": "stream",
     "text": [
      " 79%|███████▊  | 12044/15307 [3:04:23<1:01:38,  1.13s/it]"
     ]
    },
    {
     "name": "stdout",
     "output_type": "stream",
     "text": [
      "../dataset/crossdock/5hg1_A_rec.pdb ../dataset/crossdocked_pocket10/HXK2_HUMAN_15_916_catalytic_0/5hg1_A_rec_2nzt_glc_lig_tt_docked_0.sdf failed!\n",
      "25\n"
     ]
    },
    {
     "name": "stderr",
     "output_type": "stream",
     "text": [
      " 79%|███████▊  | 12053/15307 [3:04:31<52:00,  1.04it/s]  "
     ]
    },
    {
     "name": "stdout",
     "output_type": "stream",
     "text": [
      "../dataset/crossdock/3u86_A_rec.pdb ../dataset/crossdocked_pocket10/MEN1_HUMAN_1_602_0/3u86_A_rec_4og8_tbf_lig_tt_docked_7.sdf failed!\n",
      "4\n"
     ]
    },
    {
     "name": "stderr",
     "output_type": "stream",
     "text": [
      " 79%|███████▉  | 12155/15307 [3:06:13<47:22,  1.11it/s]  "
     ]
    },
    {
     "name": "stdout",
     "output_type": "stream",
     "text": [
      "../dataset/crossdock/4qj1_A_rec.pdb ../dataset/crossdocked_pocket10/IMDH_CRYPV_1_400_0/4qj1_A_rec_4rv8_i13_lig_tt_min_0.sdf failed!\n",
      "2\n"
     ]
    },
    {
     "name": "stderr",
     "output_type": "stream",
     "text": [
      " 80%|███████▉  | 12236/15307 [3:07:27<47:43,  1.07it/s]"
     ]
    },
    {
     "name": "stdout",
     "output_type": "stream",
     "text": [
      "../dataset/crossdock/1bwk_A_rec.pdb ../dataset/crossdocked_pocket10/OYE1_SACPS_1_300_0/1bwk_A_rec_3tx9_3rn_lig_tt_min_0.sdf failed!\n",
      "19\n"
     ]
    },
    {
     "name": "stderr",
     "output_type": "stream",
     "text": [
      " 80%|████████  | 12277/15307 [3:08:02<37:00,  1.36it/s]"
     ]
    },
    {
     "name": "stdout",
     "output_type": "stream",
     "text": [
      "../dataset/crossdock/4x5a_B_rec.pdb ../dataset/crossdocked_pocket10/TRPD_MYCTU_9_370_0/4x5a_B_rec_3qqs_17c_lig_tt_docked_4.sdf failed!\n",
      "5\n"
     ]
    },
    {
     "name": "stderr",
     "output_type": "stream",
     "text": [
      " 80%|████████  | 12301/15307 [3:08:27<50:54,  1.02s/it]  "
     ]
    },
    {
     "name": "stdout",
     "output_type": "stream",
     "text": [
      "../dataset/crossdock/1njb_A_rec.pdb ../dataset/crossdocked_pocket10/TYSY_LACCA_1_316_0/1njb_A_rec_2g8d_ump_lig_tt_docked_4.sdf failed!\n",
      "4\n"
     ]
    },
    {
     "name": "stderr",
     "output_type": "stream",
     "text": [
      " 81%|████████  | 12323/15307 [3:08:48<47:12,  1.05it/s]"
     ]
    },
    {
     "name": "stdout",
     "output_type": "stream",
     "text": [
      "../dataset/crossdock/5fox_A_rec.pdb ../dataset/crossdocked_pocket10/RADA_PYRFU_107_349_0/5fox_A_rec_4b33_1np_lig_tt_min_0.sdf failed!\n",
      "5\n"
     ]
    },
    {
     "name": "stderr",
     "output_type": "stream",
     "text": [
      " 81%|████████  | 12367/15307 [3:09:29<38:37,  1.27it/s]"
     ]
    },
    {
     "name": "stdout",
     "output_type": "stream",
     "text": [
      "../dataset/crossdock/2e1s_A_rec.pdb ../dataset/crossdocked_pocket10/TRFL_BOVIN_361_704_0/2e1s_A_rec_2doj_adn_lig_tt_min_0.sdf failed!\n",
      "4\n"
     ]
    },
    {
     "name": "stderr",
     "output_type": "stream",
     "text": [
      " 81%|████████  | 12398/15307 [3:10:00<45:54,  1.06it/s]"
     ]
    },
    {
     "name": "stdout",
     "output_type": "stream",
     "text": [
      "../dataset/crossdock/4ucv_A_rec.pdb ../dataset/crossdocked_pocket10/DNLJ_HAEIN_64_324_0/4ucv_A_rec_4ucv_i6g_lig_tt_min_0.sdf failed!\n",
      "4\n"
     ]
    },
    {
     "name": "stderr",
     "output_type": "stream",
     "text": [
      " 81%|████████  | 12399/15307 [3:10:00<38:08,  1.27it/s]"
     ]
    },
    {
     "name": "stdout",
     "output_type": "stream",
     "text": [
      "../dataset/crossdock/3hgi_A_rec.pdb ../dataset/crossdocked_pocket10/CATA_RHOOP_2_270_0/3hgi_A_rec_3hhy_caq_lig_tt_min_0.sdf failed!\n",
      "3\n"
     ]
    },
    {
     "name": "stderr",
     "output_type": "stream",
     "text": [
      " 81%|████████▏ | 12468/15307 [3:11:05<52:54,  1.12s/it]"
     ]
    },
    {
     "name": "stdout",
     "output_type": "stream",
     "text": [
      "../dataset/crossdock/1pam_A_rec.pdb ../dataset/crossdocked_pocket10/CDGT_BACS0_28_713_0/1pam_A_rec_1i75_noj_lig_tt_min_0.sdf failed!\n",
      "2\n"
     ]
    },
    {
     "name": "stderr",
     "output_type": "stream",
     "text": [
      " 82%|████████▏ | 12611/15307 [3:13:16<32:48,  1.37it/s]  "
     ]
    },
    {
     "name": "stdout",
     "output_type": "stream",
     "text": [
      "../dataset/crossdock/4mnx_A_rec.pdb ../dataset/crossdocked_pocket10/UROK_HUMAN_175_427_0/4mnx_A_rec_1sqt_ui3_lig_tt_min_0.sdf failed!\n",
      "3\n"
     ]
    },
    {
     "name": "stderr",
     "output_type": "stream",
     "text": [
      " 82%|████████▏ | 12626/15307 [3:13:30<37:29,  1.19it/s]"
     ]
    },
    {
     "name": "stdout",
     "output_type": "stream",
     "text": [
      "../dataset/crossdock/5nc5_B_rec.pdb ../dataset/crossdocked_pocket10/ACRB_ECOLI_1_1048_ampicillin_0/5nc5_B_rec_5nc5_d10_lig_tt_min_0.sdf failed!\n",
      "14\n"
     ]
    },
    {
     "name": "stderr",
     "output_type": "stream",
     "text": [
      " 83%|████████▎ | 12652/15307 [3:13:56<44:49,  1.01s/it]"
     ]
    },
    {
     "name": "stdout",
     "output_type": "stream",
     "text": [
      "../dataset/crossdock/1rr8_C_rec.pdb ../dataset/crossdocked_pocket10/TOP1_HUMAN_202_765_0/1rr8_C_rec_1rrj_ttc_lig_tt_min_0.sdf failed!\n",
      "3\n"
     ]
    },
    {
     "name": "stderr",
     "output_type": "stream",
     "text": [
      " 83%|████████▎ | 12780/15307 [3:15:56<30:48,  1.37it/s]"
     ]
    },
    {
     "name": "stdout",
     "output_type": "stream",
     "text": [
      "../dataset/crossdock/4n34_A_rec.pdb ../dataset/crossdocked_pocket10/CLC4K_HUMAN_193_328_0/4n34_A_rec_4n37_mma_lig_tt_docked_2.sdf failed!\n",
      "4\n"
     ]
    },
    {
     "name": "stderr",
     "output_type": "stream",
     "text": [
      " 84%|████████▎ | 12794/15307 [3:16:09<34:19,  1.22it/s]"
     ]
    },
    {
     "name": "stdout",
     "output_type": "stream",
     "text": [
      "../dataset/crossdock/3ib1_A_rec.pdb ../dataset/crossdocked_pocket10/TRFL_BOVIN_361_704_0/3ib1_A_rec_2hca_glc_lig_tt_min_0.sdf failed!\n",
      "3\n"
     ]
    },
    {
     "name": "stderr",
     "output_type": "stream",
     "text": [
      " 84%|████████▎ | 12807/15307 [3:16:19<27:41,  1.51it/s]"
     ]
    },
    {
     "name": "stdout",
     "output_type": "stream",
     "text": [
      "../dataset/crossdock/5hrn_A_rec.pdb ../dataset/crossdocked_pocket10/POL_HV1B1_1211_1371_allosteric2_0/5hrn_A_rec_5hrn_65p_lig_tt_min_0.sdf failed!\n",
      "3\n"
     ]
    },
    {
     "name": "stderr",
     "output_type": "stream",
     "text": [
      " 84%|████████▍ | 12825/15307 [3:16:37<43:16,  1.05s/it]"
     ]
    },
    {
     "name": "stdout",
     "output_type": "stream",
     "text": [
      "../dataset/crossdock/1sc9_A_rec.pdb ../dataset/crossdocked_pocket10/HNL_HEVBR_1_257_0/1sc9_A_rec_1sc9_cnh_lig_tt_docked_0.sdf failed!\n",
      "5\n"
     ]
    },
    {
     "name": "stderr",
     "output_type": "stream",
     "text": [
      " 84%|████████▍ | 12915/15307 [3:18:00<26:58,  1.48it/s]"
     ]
    },
    {
     "name": "stdout",
     "output_type": "stream",
     "text": [
      "../dataset/crossdock/3bim_A_rec.pdb ../dataset/crossdocked_pocket10/BCL6_HUMAN_4_129_0/3bim_A_rec_5n1x_8hh_lig_tt_min_0.sdf failed!\n",
      "5\n"
     ]
    },
    {
     "name": "stderr",
     "output_type": "stream",
     "text": [
      " 85%|████████▌ | 13011/15307 [3:19:27<40:25,  1.06s/it]"
     ]
    },
    {
     "name": "stdout",
     "output_type": "stream",
     "text": [
      "../dataset/crossdock/4arc_A_rec.pdb ../dataset/crossdocked_pocket10/SYL_ECOLI_226_413_0/4arc_A_rec_5onh_vrt_lig_tt_docked_0.sdf failed!\n",
      "35\n"
     ]
    },
    {
     "name": "stderr",
     "output_type": "stream",
     "text": [
      " 85%|████████▌ | 13042/15307 [3:19:57<31:36,  1.19it/s]"
     ]
    },
    {
     "name": "stdout",
     "output_type": "stream",
     "text": [
      "../dataset/crossdock/2dvc_A_rec.pdb ../dataset/crossdocked_pocket10/TRFL_BOVIN_361_704_0/2dvc_A_rec_3tus_3hb_lig_tt_min_0.sdf failed!\n",
      "5\n"
     ]
    },
    {
     "name": "stderr",
     "output_type": "stream",
     "text": [
      " 85%|████████▌ | 13051/15307 [3:20:06<30:13,  1.24it/s]"
     ]
    },
    {
     "name": "stdout",
     "output_type": "stream",
     "text": [
      "../dataset/crossdock/4dxu_A_rec.pdb ../dataset/crossdocked_pocket10/TRFL_BOVIN_361_704_0/4dxu_A_rec_2e0s_ram_lig_tt_min_0.sdf failed!\n",
      "4\n"
     ]
    },
    {
     "name": "stderr",
     "output_type": "stream",
     "text": [
      " 86%|████████▌ | 13094/15307 [3:20:47<25:20,  1.46it/s]"
     ]
    },
    {
     "name": "stdout",
     "output_type": "stream",
     "text": [
      "../dataset/crossdock/5ekx_A_rec.pdb ../dataset/crossdocked_pocket10/POLG_DEN3I_2490_2759_0/5ekx_A_rec_5ekx_2cq_lig_tt_docked_0.sdf failed!\n",
      "2\n"
     ]
    },
    {
     "name": "stderr",
     "output_type": "stream",
     "text": [
      " 86%|████████▌ | 13155/15307 [3:21:46<41:29,  1.16s/it]"
     ]
    },
    {
     "name": "stdout",
     "output_type": "stream",
     "text": [
      "../dataset/crossdock/1uop_A_rec.pdb ../dataset/crossdocked_pocket10/PPCE_HUMAN_1_710_0/1uop_A_rec_3eq9_x97_lig_tt_min_0.sdf failed!\n",
      "2\n"
     ]
    },
    {
     "name": "stderr",
     "output_type": "stream",
     "text": [
      " 86%|████████▌ | 13189/15307 [3:22:18<42:01,  1.19s/it]"
     ]
    },
    {
     "name": "stdout",
     "output_type": "stream",
     "text": [
      "../dataset/crossdock/5x69_B_rec.pdb ../dataset/crossdocked_pocket10/TYSY_HUMAN_25_313_raltitrexed_0/5x69_B_rec_5x66_ump_lig_tt_docked_4.sdf failed!\n",
      "47\n"
     ]
    },
    {
     "name": "stderr",
     "output_type": "stream",
     "text": [
      " 86%|████████▋ | 13234/15307 [3:23:00<25:12,  1.37it/s]"
     ]
    },
    {
     "name": "stdout",
     "output_type": "stream",
     "text": [
      "../dataset/crossdock/2qje_A_rec.pdb ../dataset/crossdocked_pocket10/TRFL_BOVIN_361_704_0/2qje_A_rec_2hca_glc_lig_tt_min_0.sdf failed!\n",
      "2\n"
     ]
    },
    {
     "name": "stderr",
     "output_type": "stream",
     "text": [
      " 87%|████████▋ | 13287/15307 [3:23:52<31:29,  1.07it/s]"
     ]
    },
    {
     "name": "stdout",
     "output_type": "stream",
     "text": [
      "../dataset/crossdock/3ib0_A_rec.pdb ../dataset/crossdocked_pocket10/TRFL_BOVIN_361_704_0/3ib0_A_rec_3u8q_npu_lig_tt_min_0.sdf failed!\n",
      "4\n"
     ]
    },
    {
     "name": "stderr",
     "output_type": "stream",
     "text": [
      " 87%|████████▋ | 13308/15307 [3:24:10<26:28,  1.26it/s]"
     ]
    },
    {
     "name": "stdout",
     "output_type": "stream",
     "text": [
      "../dataset/crossdock/3uk4_A_rec.pdb ../dataset/crossdocked_pocket10/TRFL_BOVIN_361_704_0/3uk4_A_rec_3tus_3hb_lig_tt_min_0.sdf failed!\n",
      "4\n"
     ]
    },
    {
     "name": "stderr",
     "output_type": "stream",
     "text": [
      " 87%|████████▋ | 13344/15307 [3:24:43<25:21,  1.29it/s]"
     ]
    },
    {
     "name": "stdout",
     "output_type": "stream",
     "text": [
      "../dataset/crossdock/2iq6_A_rec.pdb ../dataset/crossdocked_pocket10/AMPX_VIBPR_107_400_0/2iq6_A_rec_3vh9_hqy_lig_tt_min_0.sdf failed!\n",
      "5\n"
     ]
    },
    {
     "name": "stderr",
     "output_type": "stream",
     "text": [
      " 87%|████████▋ | 13364/15307 [3:25:03<25:53,  1.25it/s]"
     ]
    },
    {
     "name": "stdout",
     "output_type": "stream",
     "text": [
      "../dataset/crossdock/4zqn_A_rec.pdb ../dataset/crossdocked_pocket10/IMDH_MYCTU_1_529_0/4zqn_A_rec_4zqn_4qo_lig_tt_docked_0.sdf failed!\n",
      "0\n"
     ]
    },
    {
     "name": "stderr",
     "output_type": "stream",
     "text": [
      " 87%|████████▋ | 13371/15307 [3:25:08<20:06,  1.60it/s]"
     ]
    },
    {
     "name": "stdout",
     "output_type": "stream",
     "text": [
      "../dataset/crossdock/2glm_A_rec.pdb ../dataset/crossdocked_pocket10/FABZ_HELPY_1_159_0/2glm_A_rec_3dp0_ben_lig_tt_min_0.sdf failed!\n",
      "0\n"
     ]
    },
    {
     "name": "stderr",
     "output_type": "stream",
     "text": [
      " 87%|████████▋ | 13382/15307 [3:25:19<27:17,  1.18it/s]"
     ]
    },
    {
     "name": "stdout",
     "output_type": "stream",
     "text": [
      "../dataset/crossdock/5l7y_A_rec.pdb ../dataset/crossdocked_pocket10/DHB14_HUMAN_1_270_0/5l7y_A_rec_5l7y_6qo_lig_tt_min_0.sdf failed!\n",
      "0\n"
     ]
    },
    {
     "name": "stderr",
     "output_type": "stream",
     "text": [
      " 88%|████████▊ | 13416/15307 [3:25:52<22:55,  1.37it/s]"
     ]
    },
    {
     "name": "stdout",
     "output_type": "stream",
     "text": [
      "../dataset/crossdock/5ec8_A_rec.pdb ../dataset/crossdocked_pocket10/POLG_DEN3I_2490_2759_0/5ec8_A_rec_5eiw_x0v_lig_tt_min_0.sdf failed!\n",
      "1\n"
     ]
    },
    {
     "name": "stderr",
     "output_type": "stream",
     "text": [
      " 88%|████████▊ | 13451/15307 [3:26:26<23:22,  1.32it/s]"
     ]
    },
    {
     "name": "stdout",
     "output_type": "stream",
     "text": [
      "../dataset/crossdock/3nmk_B_rec.pdb ../dataset/crossdocked_pocket10/C562_ECOLX_23_128_phen_0/3nmk_B_rec_3nmk_pxx_lig_tt_docked_1.sdf failed!\n",
      "4\n"
     ]
    },
    {
     "name": "stderr",
     "output_type": "stream",
     "text": [
      " 88%|████████▊ | 13465/15307 [3:26:40<25:50,  1.19it/s]"
     ]
    },
    {
     "name": "stdout",
     "output_type": "stream",
     "text": [
      "../dataset/crossdock/3dp2_A_rec.pdb ../dataset/crossdocked_pocket10/FABZ_HELPY_1_159_0/3dp2_A_rec_3dp1_ben_lig_it2_tt_docked_7.sdf failed!\n",
      "5\n"
     ]
    },
    {
     "name": "stderr",
     "output_type": "stream",
     "text": [
      " 88%|████████▊ | 13468/15307 [3:26:41<18:10,  1.69it/s]"
     ]
    },
    {
     "name": "stdout",
     "output_type": "stream",
     "text": [
      "../dataset/crossdock/1bwl_A_rec.pdb ../dataset/crossdocked_pocket10/OYE1_SACPS_1_300_0/1bwl_A_rec_3tx9_3rn_lig_tt_min_0.sdf failed!\n",
      "19\n"
     ]
    },
    {
     "name": "stderr",
     "output_type": "stream",
     "text": [
      " 88%|████████▊ | 13528/15307 [3:27:37<26:09,  1.13it/s]"
     ]
    },
    {
     "name": "stdout",
     "output_type": "stream",
     "text": [
      "../dataset/crossdock/3nmi_C_rec.pdb ../dataset/crossdocked_pocket10/C562_ECOLX_23_128_phen_0/3nmi_C_rec_3foo_pxx_lig_tt_docked_0.sdf failed!\n",
      "4\n"
     ]
    },
    {
     "name": "stderr",
     "output_type": "stream",
     "text": [
      " 90%|████████▉ | 13703/15307 [3:30:16<21:18,  1.25it/s]"
     ]
    },
    {
     "name": "stdout",
     "output_type": "stream",
     "text": [
      "../dataset/crossdock/4b0j_A_rec.pdb ../dataset/crossdocked_pocket10/FABA_PSEAE_1_171_0/4b0j_A_rec_4b0c_c9h_lig_tt_min_0.sdf failed!\n",
      "5\n"
     ]
    },
    {
     "name": "stderr",
     "output_type": "stream",
     "text": [
      " 90%|████████▉ | 13731/15307 [3:30:42<22:16,  1.18it/s]"
     ]
    },
    {
     "name": "stdout",
     "output_type": "stream",
     "text": [
      "../dataset/crossdock/1uq5_A_rec.pdb ../dataset/crossdocked_pocket10/RICI_RICCO_36_233_0/1uq5_A_rec_4hup_mla_lig_tt_min_0.sdf failed!\n",
      "3\n"
     ]
    },
    {
     "name": "stderr",
     "output_type": "stream",
     "text": [
      " 90%|█████████ | 13795/15307 [3:31:42<18:48,  1.34it/s]"
     ]
    },
    {
     "name": "stdout",
     "output_type": "stream",
     "text": [
      "../dataset/crossdock/3wdz_A_rec.pdb ../dataset/crossdocked_pocket10/KEAP1_HUMAN_319_613_0/3wdz_A_rec_5fzj_75k_lig_tt_min_0.sdf failed!\n",
      "5\n"
     ]
    },
    {
     "name": "stderr",
     "output_type": "stream",
     "text": [
      " 91%|█████████ | 13890/15307 [3:33:13<22:08,  1.07it/s]"
     ]
    },
    {
     "name": "stdout",
     "output_type": "stream",
     "text": [
      "../dataset/crossdock/1r49_A_rec.pdb ../dataset/crossdocked_pocket10/TOP1_HUMAN_202_765_0/1r49_A_rec_1rrj_ttc_lig_tt_min_0.sdf failed!\n",
      "1\n"
     ]
    },
    {
     "name": "stderr",
     "output_type": "stream",
     "text": [
      " 91%|█████████ | 13910/15307 [3:33:34<20:49,  1.12it/s]"
     ]
    },
    {
     "name": "stdout",
     "output_type": "stream",
     "text": [
      "../dataset/crossdock/3fsu_A_rec.pdb ../dataset/crossdocked_pocket10/METF_ECOLI_3_296_0/3fsu_A_rec_3fsu_mry_lig_tt_min_0.sdf failed!\n",
      "27\n"
     ]
    },
    {
     "name": "stderr",
     "output_type": "stream",
     "text": [
      " 91%|█████████ | 13937/15307 [3:34:00<26:40,  1.17s/it]"
     ]
    },
    {
     "name": "stdout",
     "output_type": "stream",
     "text": [
      "../dataset/crossdock/1ki0_A_rec.pdb ../dataset/crossdocked_pocket10/PLMN_HUMAN_101_183_0/1ki0_A_rec_4cik_xo3_lig_tt_min_0.sdf failed!\n",
      "18\n"
     ]
    },
    {
     "name": "stderr",
     "output_type": "stream",
     "text": [
      " 91%|█████████ | 13939/15307 [3:34:01<17:25,  1.31it/s]"
     ]
    },
    {
     "name": "stdout",
     "output_type": "stream",
     "text": [
      "../dataset/crossdock/5dbs_A_rec.pdb ../dataset/crossdocked_pocket10/PA_I34A1_1_201_0/5dbs_A_rec_5dbs_tmp_lig_tt_min_0.sdf failed!\n",
      "5\n"
     ]
    },
    {
     "name": "stderr",
     "output_type": "stream",
     "text": [
      " 91%|█████████▏| 13992/15307 [3:34:55<22:22,  1.02s/it]"
     ]
    },
    {
     "name": "stdout",
     "output_type": "stream",
     "text": [
      "../dataset/crossdock/2j8s_C_rec.pdb ../dataset/crossdocked_pocket10/ACRB_ECOLI_1_1048_ampicillin_0/2j8s_C_rec_4dx7_d10_lig_tt_min_0.sdf failed!\n",
      "2\n"
     ]
    },
    {
     "name": "stderr",
     "output_type": "stream",
     "text": [
      " 92%|█████████▏| 14026/15307 [3:35:26<20:28,  1.04it/s]"
     ]
    },
    {
     "name": "stdout",
     "output_type": "stream",
     "text": [
      "../dataset/crossdock/4kpf_C_rec.pdb ../dataset/crossdocked_pocket10/PARE_STRPN_397_647_0/4kpf_C_rec_4kpf_1uv_lig_tt_min_0.sdf failed!\n",
      "5\n"
     ]
    },
    {
     "name": "stderr",
     "output_type": "stream",
     "text": [
      " 92%|█████████▏| 14054/15307 [3:35:52<18:25,  1.13it/s]"
     ]
    },
    {
     "name": "stdout",
     "output_type": "stream",
     "text": [
      "../dataset/crossdock/5upv_A_rec.pdb ../dataset/crossdocked_pocket10/IMDH_MYCTU_1_529_0/5upv_A_rec_4zqn_4qo_lig_tt_min_0.sdf failed!\n",
      "0\n"
     ]
    },
    {
     "name": "stderr",
     "output_type": "stream",
     "text": [
      " 92%|█████████▏| 14091/15307 [3:36:27<18:53,  1.07it/s]"
     ]
    },
    {
     "name": "stdout",
     "output_type": "stream",
     "text": [
      "../dataset/crossdock/2x8l_A_rec.pdb ../dataset/crossdocked_pocket10/LDH_PLAFD_1_316_0/2x8l_A_rec_4plz_oxm_lig_tt_min_0.sdf failed!\n",
      "2\n"
     ]
    },
    {
     "name": "stderr",
     "output_type": "stream",
     "text": [
      " 92%|█████████▏| 14111/15307 [3:36:46<15:20,  1.30it/s]"
     ]
    },
    {
     "name": "stdout",
     "output_type": "stream",
     "text": [
      "../dataset/crossdock/4gn8_B_rec.pdb ../dataset/crossdocked_pocket10/RGN_MOUSE_1_299_0/4gn8_B_rec_4gn8_aso_lig_tt_min_0.sdf failed!\n",
      "3\n"
     ]
    },
    {
     "name": "stderr",
     "output_type": "stream",
     "text": [
      " 92%|█████████▏| 14114/15307 [3:36:48<12:34,  1.58it/s]"
     ]
    },
    {
     "name": "stdout",
     "output_type": "stream",
     "text": [
      "../dataset/crossdock/4n35_C_rec.pdb ../dataset/crossdocked_pocket10/CLC4K_HUMAN_193_328_0/4n35_C_rec_4n32_2f8_lig_tt_docked_0.sdf failed!\n",
      "4\n"
     ]
    },
    {
     "name": "stderr",
     "output_type": "stream",
     "text": [
      " 92%|█████████▏| 14153/15307 [3:37:26<16:45,  1.15it/s]"
     ]
    },
    {
     "name": "stdout",
     "output_type": "stream",
     "text": [
      "../dataset/crossdock/4fjp_A_rec.pdb ../dataset/crossdocked_pocket10/TRFL_BOVIN_361_704_0/4fjp_A_rec_2hca_glc_lig_tt_min_0.sdf failed!\n",
      "4\n"
     ]
    },
    {
     "name": "stderr",
     "output_type": "stream",
     "text": [
      " 93%|█████████▎| 14178/15307 [3:37:49<17:47,  1.06it/s]"
     ]
    },
    {
     "name": "stdout",
     "output_type": "stream",
     "text": [
      "../dataset/crossdock/2vku_A_rec.pdb ../dataset/crossdocked_pocket10/CP51_MYCTU_1_451_0/2vku_A_rec_2vku_dbe_lig_tt_min_0.sdf failed!\n",
      "5\n"
     ]
    },
    {
     "name": "stderr",
     "output_type": "stream",
     "text": [
      " 93%|█████████▎| 14188/15307 [3:37:58<13:00,  1.43it/s]"
     ]
    },
    {
     "name": "stdout",
     "output_type": "stream",
     "text": [
      "../dataset/crossdock/4k3p_A_rec.pdb ../dataset/crossdocked_pocket10/DPO3B_ECOLI_1_366_0/4k3p_A_rec_4ovg_2vf_lig_tt_min_0.sdf failed!\n",
      "3\n"
     ]
    },
    {
     "name": "stderr",
     "output_type": "stream",
     "text": [
      " 93%|█████████▎| 14203/15307 [3:38:10<13:48,  1.33it/s]"
     ]
    },
    {
     "name": "stdout",
     "output_type": "stream",
     "text": [
      "../dataset/crossdock/1dht_A_rec.pdb ../dataset/crossdocked_pocket10/DHB1_HUMAN_2_290_0/1dht_A_rec_3km0_aom_lig_tt_docked_5.sdf failed!\n",
      "18\n"
     ]
    },
    {
     "name": "stderr",
     "output_type": "stream",
     "text": [
      " 93%|█████████▎| 14229/15307 [3:38:32<18:16,  1.02s/it]"
     ]
    },
    {
     "name": "stdout",
     "output_type": "stream",
     "text": [
      "../dataset/crossdock/2rd0_A_rec.pdb ../dataset/crossdocked_pocket10/PK3CA_HUMAN_331_481_0/2rd0_A_rec_5sx8_luz_lig_tt_docked_9.sdf failed!\n",
      "0\n"
     ]
    },
    {
     "name": "stderr",
     "output_type": "stream",
     "text": [
      " 93%|█████████▎| 14245/15307 [3:38:47<15:11,  1.17it/s]"
     ]
    },
    {
     "name": "stdout",
     "output_type": "stream",
     "text": [
      "../dataset/crossdock/3khj_B_rec.pdb ../dataset/crossdocked_pocket10/IMDH_CRYPV_1_400_0/3khj_B_rec_4ixh_q21_lig_tt_min_0.sdf failed!\n",
      "0\n"
     ]
    },
    {
     "name": "stderr",
     "output_type": "stream",
     "text": [
      " 93%|█████████▎| 14277/15307 [3:39:17<17:13,  1.00s/it]"
     ]
    },
    {
     "name": "stdout",
     "output_type": "stream",
     "text": [
      "../dataset/crossdock/3rrh_A_rec.pdb ../dataset/crossdocked_pocket10/DPO1_THEAQ_292_832_0/3rrh_A_rec_3rrh_ttp_lig_tt_min_0.sdf failed!\n",
      "2\n"
     ]
    },
    {
     "name": "stderr",
     "output_type": "stream",
     "text": [
      " 93%|█████████▎| 14291/15307 [3:39:31<16:29,  1.03it/s]"
     ]
    },
    {
     "name": "stdout",
     "output_type": "stream",
     "text": [
      "../dataset/crossdock/1unn_A_rec.pdb ../dataset/crossdocked_pocket10/DPO3B_ECOLI_1_366_0/1unn_A_rec_3qsb_743_lig_tt_min_0.sdf failed!\n",
      "2\n"
     ]
    },
    {
     "name": "stderr",
     "output_type": "stream",
     "text": [
      " 93%|█████████▎| 14305/15307 [3:39:43<12:42,  1.31it/s]"
     ]
    },
    {
     "name": "stdout",
     "output_type": "stream",
     "text": [
      "../dataset/crossdock/3fxq_A_rec.pdb ../dataset/crossdocked_pocket10/TSAR_COMTE_91_297_0/3fxq_A_rec_3fxu_tsu_lig_tt_min_0.sdf failed!\n",
      "4\n"
     ]
    },
    {
     "name": "stderr",
     "output_type": "stream",
     "text": [
      " 93%|█████████▎| 14308/15307 [3:39:47<14:47,  1.13it/s]"
     ]
    },
    {
     "name": "stdout",
     "output_type": "stream",
     "text": [
      "../dataset/crossdock/5n10_A_rec.pdb ../dataset/crossdocked_pocket10/1433B_HUMAN_1_240_pep_0/5n10_A_rec_5f74_amp_lig_tt_min_0.sdf failed!\n",
      "2\n"
     ]
    },
    {
     "name": "stderr",
     "output_type": "stream",
     "text": [
      " 94%|█████████▍| 14352/15307 [3:40:26<12:28,  1.28it/s]"
     ]
    },
    {
     "name": "stdout",
     "output_type": "stream",
     "text": [
      "../dataset/crossdock/5mt9_H_rec.pdb ../dataset/crossdocked_pocket10/INS_HUMAN_25_54_0/5mt9_H_rec_1tyl_tyl_lig_tt_min_0.sdf failed!\n",
      "1\n"
     ]
    },
    {
     "name": "stderr",
     "output_type": "stream",
     "text": [
      " 94%|█████████▍| 14358/15307 [3:40:31<14:49,  1.07it/s]"
     ]
    },
    {
     "name": "stdout",
     "output_type": "stream",
     "text": [
      "../dataset/crossdock/1nhv_A_rec.pdb ../dataset/crossdocked_pocket10/POLG_HCVBK_2420_2955_catalytic_0/1nhv_A_rec_2jc0_699_lig_tt_docked_0.sdf failed!\n",
      "21\n"
     ]
    },
    {
     "name": "stderr",
     "output_type": "stream",
     "text": [
      " 94%|█████████▍| 14394/15307 [3:41:03<11:22,  1.34it/s]"
     ]
    },
    {
     "name": "stdout",
     "output_type": "stream",
     "text": [
      "../dataset/crossdock/1ono_A_rec.pdb ../dataset/crossdocked_pocket10/DXR_ECOLI_1_398_0/1ono_A_rec_1q0l_fom_lig_tt_min_0.sdf failed!\n",
      "5\n"
     ]
    },
    {
     "name": "stderr",
     "output_type": "stream",
     "text": [
      " 94%|█████████▍| 14446/15307 [3:41:55<11:36,  1.24it/s]"
     ]
    },
    {
     "name": "stdout",
     "output_type": "stream",
     "text": [
      "../dataset/crossdock/4y9e_A_rec.pdb ../dataset/crossdocked_pocket10/TTHY_HUMAN_21_147_0/4y9e_A_rec_4n86_gbj_lig_tt_min_0.sdf failed!\n",
      "5\n"
     ]
    },
    {
     "name": "stderr",
     "output_type": "stream",
     "text": [
      " 94%|█████████▍| 14460/15307 [3:42:08<11:49,  1.19it/s]"
     ]
    },
    {
     "name": "stdout",
     "output_type": "stream",
     "text": [
      "../dataset/crossdock/4al1_A_rec.pdb ../dataset/crossdocked_pocket10/PTGES_HUMAN_3_152_0/4al1_A_rec_5k0i_6pw_lig_tt_min_0.sdf failed!\n",
      "5\n"
     ]
    },
    {
     "name": "stderr",
     "output_type": "stream",
     "text": [
      " 94%|█████████▍| 14465/15307 [3:42:12<10:24,  1.35it/s]"
     ]
    },
    {
     "name": "stdout",
     "output_type": "stream",
     "text": [
      "../dataset/crossdock/1jmf_A_rec.pdb ../dataset/crossdocked_pocket10/TYSY_LACCA_1_316_0/1jmf_A_rec_2g89_ump_lig_tt_docked_1.sdf failed!\n",
      "4\n"
     ]
    },
    {
     "name": "stderr",
     "output_type": "stream",
     "text": [
      " 95%|█████████▍| 14498/15307 [3:42:43<10:41,  1.26it/s]"
     ]
    },
    {
     "name": "stdout",
     "output_type": "stream",
     "text": [
      "../dataset/crossdock/1bp6_A_rec.pdb ../dataset/crossdocked_pocket10/TYSY_LACCA_1_316_0/1bp6_A_rec_1lca_ump_lig_tt_docked_13.sdf failed!\n",
      "3\n"
     ]
    },
    {
     "name": "stderr",
     "output_type": "stream",
     "text": [
      " 95%|█████████▍| 14502/15307 [3:42:46<09:17,  1.44it/s]"
     ]
    },
    {
     "name": "stdout",
     "output_type": "stream",
     "text": [
      "../dataset/crossdock/2dsf_A_rec.pdb ../dataset/crossdocked_pocket10/TRFL_BOVIN_361_704_0/2dsf_A_rec_2ocu_tyl_lig_tt_min_0.sdf failed!\n",
      "2\n"
     ]
    },
    {
     "name": "stderr",
     "output_type": "stream",
     "text": [
      " 95%|█████████▍| 14517/15307 [3:43:00<11:28,  1.15it/s]"
     ]
    },
    {
     "name": "stdout",
     "output_type": "stream",
     "text": [
      "../dataset/crossdock/3mjn_A_rec.pdb ../dataset/crossdocked_pocket10/TRFL_BOVIN_361_704_0/3mjn_A_rec_3u8q_npu_lig_tt_min_0.sdf failed!\n",
      "3\n"
     ]
    },
    {
     "name": "stderr",
     "output_type": "stream",
     "text": [
      " 95%|█████████▍| 14527/15307 [3:43:09<12:40,  1.03it/s]"
     ]
    },
    {
     "name": "stdout",
     "output_type": "stream",
     "text": [
      "../dataset/crossdock/4c8k_A_rec.pdb ../dataset/crossdocked_pocket10/DPO1_THEAQ_292_832_0/4c8k_A_rec_4bwm_doc_lig_tt_min_0.sdf failed!\n",
      "4\n"
     ]
    },
    {
     "name": "stderr",
     "output_type": "stream",
     "text": [
      " 95%|█████████▌| 14582/15307 [3:44:03<10:01,  1.20it/s]"
     ]
    },
    {
     "name": "stdout",
     "output_type": "stream",
     "text": [
      "../dataset/crossdock/4for_A_rec.pdb ../dataset/crossdocked_pocket10/TRFL_BOVIN_361_704_0/4for_A_rec_3tus_3hb_lig_tt_min_0.sdf failed!\n",
      "4\n"
     ]
    },
    {
     "name": "stderr",
     "output_type": "stream",
     "text": [
      " 96%|█████████▌| 14644/15307 [3:44:59<09:44,  1.13it/s]"
     ]
    },
    {
     "name": "stdout",
     "output_type": "stream",
     "text": [
      "../dataset/crossdock/1k0c_A_rec.pdb ../dataset/crossdocked_pocket10/URE2_YEAST_95_354_0/1k0c_A_rec_1k0c_gtb_lig_tt_min_0.sdf failed!\n",
      "4\n"
     ]
    },
    {
     "name": "stderr",
     "output_type": "stream",
     "text": [
      " 96%|█████████▌| 14719/15307 [3:46:09<07:02,  1.39it/s]"
     ]
    },
    {
     "name": "stdout",
     "output_type": "stream",
     "text": [
      "../dataset/crossdock/5jmn_A_rec.pdb ../dataset/crossdocked_pocket10/ACRB_ECOLI_1_39_0/5jmn_A_rec_5jmn_hex_lig_tt_min_0.sdf failed!\n",
      "6\n"
     ]
    },
    {
     "name": "stderr",
     "output_type": "stream",
     "text": [
      " 97%|█████████▋| 14816/15307 [3:47:40<07:47,  1.05it/s]"
     ]
    },
    {
     "name": "stdout",
     "output_type": "stream",
     "text": [
      "../dataset/crossdock/4za5_A_rec.pdb ../dataset/crossdocked_pocket10/FDC1_ASPNC_1_500_0/4za5_A_rec_4za7_4lv_lig_tt_min_0.sdf failed!\n",
      "5\n"
     ]
    },
    {
     "name": "stderr",
     "output_type": "stream",
     "text": [
      " 97%|█████████▋| 14828/15307 [3:47:49<05:17,  1.51it/s]"
     ]
    },
    {
     "name": "stdout",
     "output_type": "stream",
     "text": [
      "../dataset/crossdock/1gmn_A_rec.pdb ../dataset/crossdocked_pocket10/HGF_HUMAN_29_126_0/1gmn_A_rec_3mkp_sgn_lig_tt_min_0.sdf failed!\n",
      "3\n"
     ]
    },
    {
     "name": "stderr",
     "output_type": "stream",
     "text": [
      " 97%|█████████▋| 14846/15307 [3:48:07<07:22,  1.04it/s]"
     ]
    },
    {
     "name": "stdout",
     "output_type": "stream",
     "text": [
      "../dataset/crossdock/3rr7_A_rec.pdb ../dataset/crossdocked_pocket10/DPO1_THEAQ_292_832_0/3rr7_A_rec_4bwm_doc_lig_tt_min_0.sdf failed!\n",
      "3\n"
     ]
    },
    {
     "name": "stderr",
     "output_type": "stream",
     "text": [
      " 97%|█████████▋| 14853/15307 [3:48:13<06:28,  1.17it/s]"
     ]
    },
    {
     "name": "stdout",
     "output_type": "stream",
     "text": [
      "../dataset/crossdock/1ubv_A_rec.pdb ../dataset/crossdocked_pocket10/FPPS_CHICK_5_367_0/1ubv_A_rec_1uby_dma_lig_tt_min_0.sdf failed!\n",
      "4\n"
     ]
    },
    {
     "name": "stderr",
     "output_type": "stream",
     "text": [
      " 97%|█████████▋| 14854/15307 [3:48:14<05:49,  1.30it/s]"
     ]
    },
    {
     "name": "stdout",
     "output_type": "stream",
     "text": [
      "../dataset/crossdock/2y7q_B_rec.pdb ../dataset/crossdocked_pocket10/IGHE_HUMAN_206_427_0/2y7q_B_rec_1f6a_cps_lig_it1_it2_tt_docked_11.sdf failed!\n",
      "5\n"
     ]
    },
    {
     "name": "stderr",
     "output_type": "stream",
     "text": [
      " 97%|█████████▋| 14884/15307 [3:48:45<06:30,  1.08it/s]"
     ]
    },
    {
     "name": "stdout",
     "output_type": "stream",
     "text": [
      "../dataset/crossdock/2rdd_A_rec.pdb ../dataset/crossdocked_pocket10/ACRB_ECOLI_1_1048_ampicillin_0/2rdd_A_rec_4k7q_zld_lig_tt_min_0.sdf failed!\n",
      "5\n"
     ]
    },
    {
     "name": "stderr",
     "output_type": "stream",
     "text": [
      " 98%|█████████▊| 15059/15307 [3:51:26<03:31,  1.17it/s]"
     ]
    },
    {
     "name": "stdout",
     "output_type": "stream",
     "text": [
      "../dataset/crossdock/4wtk_A_rec.pdb ../dataset/crossdocked_pocket10/POLG_HCVJF_2442_3011_0/4wtk_A_rec_4wtf_5gs_lig_tt_min_0.sdf failed!\n",
      "2\n"
     ]
    },
    {
     "name": "stderr",
     "output_type": "stream",
     "text": [
      " 99%|█████████▉| 15144/15307 [3:52:47<02:11,  1.24it/s]"
     ]
    },
    {
     "name": "stdout",
     "output_type": "stream",
     "text": [
      "../dataset/crossdock/5gwi_A_rec.pdb ../dataset/crossdocked_pocket10/TOP2B_HUMAN_432_1213_0/5gwi_A_rec_3qx3_evp_lig_tt_min_0.sdf failed!\n",
      "0\n"
     ]
    },
    {
     "name": "stderr",
     "output_type": "stream",
     "text": [
      " 99%|█████████▉| 15187/15307 [3:53:28<01:28,  1.36it/s]"
     ]
    },
    {
     "name": "stdout",
     "output_type": "stream",
     "text": [
      "../dataset/crossdock/6bdi_A_rec.pdb ../dataset/crossdocked_pocket10/CP3A4_HUMAN_23_503_catalytic_0/6bdi_A_rec_5a1r_str_lig_tt_min_0.sdf failed!\n",
      "0\n"
     ]
    },
    {
     "name": "stderr",
     "output_type": "stream",
     "text": [
      "100%|█████████▉| 15269/15307 [3:54:47<00:38,  1.01s/it]"
     ]
    },
    {
     "name": "stdout",
     "output_type": "stream",
     "text": [
      "../dataset/crossdock/2gns_A_rec.pdb ../dataset/crossdocked_pocket10/PA2B8_DABRR_1_121_0/2gns_A_rec_4qer_stl_lig_tt_min_0.sdf failed!\n",
      "2\n"
     ]
    },
    {
     "name": "stderr",
     "output_type": "stream",
     "text": [
      "100%|██████████| 15307/15307 [3:55:23<00:00,  1.08it/s]\n"
     ]
    }
   ],
   "source": [
    "failed_pairs = []\n",
    "for pdb_id, lig_path in tqdm(split_file.items()):\n",
    "    try:\n",
    "        rec_path = os.path.join('../dataset/crossdock/', pdb_id + '_rec.pdb')\n",
    "        lig_path = os.path.join('../dataset/crossdocked_pocket10/', lig_path)\n",
    "        out_path = rec_path.replace('.pdb', '_pharmacophore.pkl').replace('crossdock', 'crossdock_pharmacophores')\n",
    "\n",
    "        pharmacophore_model = module.run(rec_path, ref_ligand_path=lig_path) \n",
    "        assert len(pharmacophore_model.nodes) > 5\n",
    "\n",
    "        pharmacophore_model.save(out_path)\n",
    "    except KeyboardInterrupt:\n",
    "        sys.exit()\n",
    "        break\n",
    "    except Exception as e:\n",
    "        print(f\"{rec_path} {lig_path} failed!\")\n",
    "        print(len(pharmacophore_model.nodes))\n",
    "        failed_pairs.append((rec_path, lig_path))"
   ]
  },
  {
   "cell_type": "code",
   "execution_count": 11,
   "metadata": {},
   "outputs": [],
   "source": [
    "module2 = ModelingModule('../model_weights/model.tar', 'cuda',\n",
    "                         score_threshold={\n",
    "    'PiStacking_P': 0.5,    # Top 50%\n",
    "    'PiStacking_T': 0.5,\n",
    "    'SaltBridge_lneg': 0.5,\n",
    "    'SaltBridge_pneg': 0.5,\n",
    "    'PiCation_lring': 0.5,\n",
    "    'PiCation_pring': 0.5,\n",
    "    'XBond': 0.75,           # Top 25%\n",
    "    'HBond_ldon': 0.75,\n",
    "    'HBond_pdon': 0.75,\n",
    "    'Hydrophobic': 0.75,\n",
    "})"
   ]
  },
  {
   "cell_type": "markdown",
   "metadata": {},
   "source": [
    "Lower the Standards slightly"
   ]
  },
  {
   "cell_type": "code",
   "execution_count": 12,
   "metadata": {},
   "outputs": [
    {
     "name": "stderr",
     "output_type": "stream",
     "text": [
      "100%|██████████| 1/1 [00:02<00:00,  2.43s/it]\n"
     ]
    }
   ],
   "source": [
    "num_stop_iterations = 0\n",
    "num_run_time_errors = 0\n",
    "num_min_pharmaco_errors = 0\n",
    "work_now = 0\n",
    "\n",
    "for rec_path, lig_path in tqdm(failed_pairs):\n",
    "    try:\n",
    "        out_path = rec_path.replace('.pdb', '_pharmacophore.pkl').replace('crossdock', 'crossdock_pharmacophores')\n",
    "        \n",
    "        if '2gns_A' not in rec_path:\n",
    "            continue\n",
    "        \n",
    "        try:\n",
    "            pharmacophore_model = module2.run(rec_path, ref_ligand_path=lig_path) \n",
    "        except StopIteration:\n",
    "            num_stop_iterations += 1\n",
    "            continue\n",
    "        except RuntimeError:\n",
    "            num_run_time_errors += 1\n",
    "            continue\n",
    "\n",
    "        try:\n",
    "            if '2gns_A' in rec_path: # Keep this test target \n",
    "                pass \n",
    "            else:\n",
    "                assert len(pharmacophore_model.nodes) > 5\n",
    "        except AssertionError:\n",
    "            num_min_pharmaco_errors += 1\n",
    "            continue\n",
    "                    \n",
    "        pharmacophore_model.save(out_path)\n",
    "    except KeyboardInterrupt:\n",
    "        sys.exit()\n",
    "        break\n",
    "    # except Exception as e:\n",
    "    #     print(f\"{rec_path} {lig_path} failed!\")\n",
    "    #     print(len(pharmacophore_model.nodes))\n",
    "    #     failed_pairs.append((rec_path, lig_path))"
   ]
  },
  {
   "cell_type": "code",
   "execution_count": 47,
   "metadata": {},
   "outputs": [
    {
     "data": {
      "text/plain": [
       "(0, 0, 0)"
      ]
     },
     "execution_count": 47,
     "metadata": {},
     "output_type": "execute_result"
    }
   ],
   "source": [
    "num_stop_iterations, num_run_time_errors, num_min_pharmaco_errors"
   ]
  },
  {
   "cell_type": "code",
   "execution_count": 41,
   "metadata": {},
   "outputs": [
    {
     "data": {
      "text/plain": [
       "0"
      ]
     },
     "execution_count": 41,
     "metadata": {},
     "output_type": "execute_result"
    }
   ],
   "source": [
    "work_now"
   ]
  }
 ],
 "metadata": {
  "kernelspec": {
   "display_name": "tacogfn",
   "language": "python",
   "name": "python3"
  },
  "language_info": {
   "codemirror_mode": {
    "name": "ipython",
    "version": 3
   },
   "file_extension": ".py",
   "mimetype": "text/x-python",
   "name": "python",
   "nbconvert_exporter": "python",
   "pygments_lexer": "ipython3",
   "version": "3.9.18"
  }
 },
 "nbformat": 4,
 "nbformat_minor": 2
}
