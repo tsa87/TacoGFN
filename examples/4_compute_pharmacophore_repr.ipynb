{
 "cells": [
  {
   "cell_type": "markdown",
   "metadata": {},
   "source": [
    "Example on how to compute representation of Pharmacophores with GVP-GNN"
   ]
  },
  {
   "cell_type": "code",
   "execution_count": 1,
   "metadata": {},
   "outputs": [],
   "source": [
    "import sys\n",
    "\n",
    "sys.path.append('../')"
   ]
  },
  {
   "cell_type": "code",
   "execution_count": 2,
   "metadata": {},
   "outputs": [
    {
     "name": "stderr",
     "output_type": "stream",
     "text": [
      "/home/tsa87/anaconda3/envs/tacogfn/lib/python3.9/site-packages/tqdm/auto.py:21: TqdmWarning: IProgress not found. Please update jupyter and ipywidgets. See https://ipywidgets.readthedocs.io/en/stable/user_install.html\n",
      "  from .autonotebook import tqdm as notebook_tqdm\n"
     ]
    }
   ],
   "source": [
    "import pickle\n",
    "import torch\n",
    "import torch_geometric\n",
    "from src.tacogfn.models import gvp_model\n",
    "from src.pharmaconet import PharmacophoreModel\n",
    "from utils import get_example_pharmacophore_datalist"
   ]
  },
  {
   "cell_type": "code",
   "execution_count": 3,
   "metadata": {},
   "outputs": [],
   "source": [
    "data_list = get_example_pharmacophore_datalist()"
   ]
  },
  {
   "cell_type": "code",
   "execution_count": 4,
   "metadata": {},
   "outputs": [],
   "source": [
    "# model = GVP_embedding((6, 3), (32, 0), (32, 1), (32, 0), seq_in=True).to(device)\n",
    "\n",
    "embedding_channels = 256\n",
    "\n",
    "model = gvp_model.GVP_embedding((216, 1), (embedding_channels, 16), (24, 1), (32, 1), seq_in=True)"
   ]
  },
  {
   "cell_type": "code",
   "execution_count": 5,
   "metadata": {},
   "outputs": [],
   "source": [
    "data = data_list[0]\n",
    "out = model((data.node_s, data.node_v), data.edge_index, (data.edge_s, data.edge_v), data.seq)"
   ]
  },
  {
   "cell_type": "code",
   "execution_count": 6,
   "metadata": {},
   "outputs": [
    {
     "data": {
      "text/plain": [
       "tensor([[0.9390, 0.3552, 0.0000,  ..., 0.0000, 0.3677, 0.4050],\n",
       "        [1.2494, 0.2384, 0.0000,  ..., 0.1526, 0.1072, 1.1338],\n",
       "        [0.9459, 0.0000, 0.0000,  ..., 0.0294, 0.1247, 1.9413],\n",
       "        ...,\n",
       "        [0.5858, 0.2619, 0.0000,  ..., 0.0000, 0.0847, 0.4707],\n",
       "        [0.7057, 0.6664, 0.0000,  ..., 0.0000, 0.4189, 1.2255],\n",
       "        [0.7210, 0.8459, 0.0000,  ..., 0.2783, 0.4058, 1.1547]],\n",
       "       grad_fn=<ReluBackward0>)"
      ]
     },
     "execution_count": 6,
     "metadata": {},
     "output_type": "execute_result"
    }
   ],
   "source": [
    "out"
   ]
  },
  {
   "cell_type": "code",
   "execution_count": 4,
   "metadata": {},
   "outputs": [],
   "source": [
    "pharmacophre_dict = pickle.load(open('../dataset/new_pharmacophores/1a2d_B.pt', 'rb'))"
   ]
  },
  {
   "cell_type": "code",
   "execution_count": 51,
   "metadata": {},
   "outputs": [],
   "source": [
    "pharmacophore = PharmacophoreModel()\n",
    "pharmacophore.__setstate__(pharmacophre_dict)"
   ]
  },
  {
   "cell_type": "code",
   "execution_count": 25,
   "metadata": {},
   "outputs": [],
   "source": [
    "from src.pharmaconet.scoring import pharmacophore_model\n",
    "import torch_cluster\n",
    "from src.tacogfn.utils import transforms\n",
    "from src.tacogfn.data.utils import _normalize, _rbf\n",
    "\n",
    "interaction_to_id = {\n",
    "    interaction: i\n",
    "    for i, interaction in enumerate(pharmacophore_model.INTERACTION_TYPES)\n",
    "}\n",
    "id_to_interaction = {\n",
    "    i: interaction\n",
    "    for i, interaction in enumerate(pharmacophore_model.INTERACTION_TYPES)\n",
    "}"
   ]
  },
  {
   "cell_type": "code",
   "execution_count": 32,
   "metadata": {},
   "outputs": [
    {
     "data": {
      "text/plain": [
       "torch.Size([51, 3])"
      ]
     },
     "execution_count": 32,
     "metadata": {},
     "output_type": "execute_result"
    }
   ],
   "source": [
    "hotspot_positions.shape"
   ]
  },
  {
   "cell_type": "code",
   "execution_count": 31,
   "metadata": {},
   "outputs": [
    {
     "data": {
      "text/plain": [
       "torch.Size([51, 1])"
      ]
     },
     "execution_count": 31,
     "metadata": {},
     "output_type": "execute_result"
    }
   ],
   "source": [
    "radii.shape"
   ]
  },
  {
   "cell_type": "code",
   "execution_count": 33,
   "metadata": {},
   "outputs": [
    {
     "data": {
      "text/plain": [
       "torch.Size([51])"
      ]
     },
     "execution_count": 33,
     "metadata": {},
     "output_type": "execute_result"
    }
   ],
   "source": [
    "scores.shape"
   ]
  },
  {
   "cell_type": "code",
   "execution_count": 53,
   "metadata": {},
   "outputs": [],
   "source": [
    "import numpy as np\n",
    "\n",
    "nodes = pharmacophore.nodes\n",
    "top_k = 20\n",
    "\n",
    "with torch.no_grad():\n",
    "    # Node features\n",
    "    seq = torch.as_tensor(\n",
    "        [interaction_to_id[node.interaction_type] for node in nodes],\n",
    "        dtype=torch.long,\n",
    "    )\n",
    "    centroids = torch.tensor(\n",
    "        [node.center for node in nodes],\n",
    "    )\n",
    "    hotspot_positions = torch.tensor(\n",
    "        [node.hotspot_position for node in nodes],\n",
    "    )\n",
    "    radii = torch.tensor(\n",
    "        [node.radius for node in nodes],\n",
    "    ).unsqueeze(-1)\n",
    "    scores = torch.tensor(\n",
    "        [node.score for node in nodes],\n",
    "    )\n",
    "    features = torch.tensor(\n",
    "        np.array([node.feature for node in nodes]),\n",
    "    )\n",
    "    dist_to_hotspot = hotspot_positions - centroids\n",
    "\n",
    "    radii_rbf = _rbf(\n",
    "        radii.squeeze(-1),\n",
    "        D_min=0,\n",
    "        D_max=2,\n",
    "        D_count=8,\n",
    "    )\n",
    "    unit_vector_to_hotspot = _normalize(dist_to_hotspot)\n",
    "    dist_to_hotspot_rbf = _rbf(\n",
    "        dist_to_hotspot.norm(dim=-1),\n",
    "        D_min=0,\n",
    "        D_max=8,\n",
    "        D_count=8,\n",
    "    )\n",
    "    scores_therometer = transforms.thermometer(\n",
    "        scores, n_bins=8, vmin=0.0, vmax=1.0\n",
    "    )\n",
    "\n",
    "    # Edge features\n",
    "    edge_index = torch_cluster.knn_graph(centroids, k=top_k)\n",
    "    covariance_dists = torch.sqrt(\n",
    "        radii[edge_index[0]] ** 2 + radii[edge_index[1]] ** 2\n",
    "    )\n",
    "    pharmacophore_dists = centroids[edge_index[0]] - centroids[edge_index[1]]\n",
    "\n",
    "    unit_vector_to_pharmacophore = _normalize(pharmacophore_dists)\n",
    "\n",
    "    pharmacophore_dists_rbf = _rbf(\n",
    "        pharmacophore_dists.norm(dim=-1),\n",
    "        D_min=0,\n",
    "        D_max=20,\n",
    "        D_count=16,\n",
    "    )\n",
    "\n",
    "    covariance_dists_rbf = _rbf(\n",
    "        covariance_dists.squeeze(-1),\n",
    "        D_min=0,\n",
    "        D_max=2,\n",
    "        D_count=8,\n",
    "    )\n",
    "\n",
    "    node_s = torch.cat(\n",
    "        [\n",
    "            radii_rbf,  # 8\n",
    "            scores_therometer,  # 8\n",
    "            dist_to_hotspot_rbf,  # 8\n",
    "            features,  # 192\n",
    "        ],\n",
    "        dim=-1,\n",
    "    )\n",
    "\n",
    "    node_v = unit_vector_to_hotspot.unsqueeze(-2)\n",
    "    edge_s = torch.cat(\n",
    "        [\n",
    "            pharmacophore_dists_rbf,  # 16\n",
    "            covariance_dists_rbf,  # 8\n",
    "        ],\n",
    "        dim=-1,\n",
    "    )\n",
    "    edge_v = unit_vector_to_pharmacophore.unsqueeze(-2)\n",
    "    \n",
    "    data = torch_geometric.data.Data(\n",
    "            seq=seq,\n",
    "            node_s=node_s,\n",
    "            node_v=node_v,\n",
    "            edge_s=edge_s,\n",
    "            edge_v=edge_v,\n",
    "            edge_index=edge_index,\n",
    "        )"
   ]
  },
  {
   "cell_type": "code",
   "execution_count": 55,
   "metadata": {},
   "outputs": [
    {
     "data": {
      "text/plain": [
       "tensor([2.5281e-07, 5.0643e-04, 7.4430e-02, 8.0259e-01, 6.3498e-01, 3.6859e-02,\n",
       "        1.5698e-04, 4.9052e-08])"
      ]
     },
     "execution_count": 55,
     "metadata": {},
     "output_type": "execute_result"
    }
   ],
   "source": [
    "radii_rbf[0]"
   ]
  },
  {
   "cell_type": "code",
   "execution_count": 56,
   "metadata": {},
   "outputs": [
    {
     "data": {
      "text/plain": [
       "torch.Size([51, 216])"
      ]
     },
     "execution_count": 56,
     "metadata": {},
     "output_type": "execute_result"
    }
   ],
   "source": [
    "node_s.shape"
   ]
  },
  {
   "cell_type": "code",
   "execution_count": 62,
   "metadata": {},
   "outputs": [
    {
     "data": {
      "text/plain": [
       "tensor([[0.0000, 0.0000, 0.0284,  ..., 0.0000, 0.0000, 0.3058],\n",
       "        [0.0000, 0.0000, 0.0267,  ..., 0.2727, 0.0000, 0.2274],\n",
       "        [0.0000, 0.0000, 0.3440,  ..., 0.3255, 0.0000, 0.6017],\n",
       "        ...,\n",
       "        [0.0000, 0.0000, 0.9428,  ..., 0.8119, 0.0000, 0.1741],\n",
       "        [0.0000, 0.0000, 0.9559,  ..., 0.1160, 0.0000, 0.0000],\n",
       "        [0.0000, 0.0000, 1.2372,  ..., 0.0514, 0.0000, 0.2088]],\n",
       "       grad_fn=<ReluBackward0>)"
      ]
     },
     "execution_count": 62,
     "metadata": {},
     "output_type": "execute_result"
    }
   ],
   "source": [
    "out"
   ]
  },
  {
   "cell_type": "code",
   "execution_count": null,
   "metadata": {},
   "outputs": [],
   "source": []
  }
 ],
 "metadata": {
  "kernelspec": {
   "display_name": "tacogfn",
   "language": "python",
   "name": "python3"
  },
  "language_info": {
   "codemirror_mode": {
    "name": "ipython",
    "version": 3
   },
   "file_extension": ".py",
   "mimetype": "text/x-python",
   "name": "python",
   "nbconvert_exporter": "python",
   "pygments_lexer": "ipython3",
   "version": "3.9.18"
  }
 },
 "nbformat": 4,
 "nbformat_minor": 2
}
