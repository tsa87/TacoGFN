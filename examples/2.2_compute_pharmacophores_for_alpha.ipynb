{
 "cells": [
  {
   "cell_type": "markdown",
   "metadata": {},
   "source": [
    "This notebook generates pharmacophore features from pretrained model (Used for Docking Score prediction - Alpha)"
   ]
  },
  {
   "cell_type": "code",
   "execution_count": 2,
   "metadata": {},
   "outputs": [
    {
     "name": "stderr",
     "output_type": "stream",
     "text": [
      "/home/tsa87/anaconda3/envs/tacogfn/lib/python3.9/site-packages/tqdm/auto.py:21: TqdmWarning: IProgress not found. Please update jupyter and ipywidgets. See https://ipywidgets.readthedocs.io/en/stable/user_install.html\n",
      "  from .autonotebook import tqdm as notebook_tqdm\n"
     ]
    }
   ],
   "source": [
    "import sys\n",
    "import os\n",
    "import torch\n",
    "from tqdm import tqdm\n",
    "\n",
    "sys.path.append(\"..\")"
   ]
  },
  {
   "cell_type": "code",
   "execution_count": 3,
   "metadata": {},
   "outputs": [],
   "source": [
    "from src.scoring import PrecalculationModule"
   ]
  },
  {
   "cell_type": "code",
   "execution_count": 5,
   "metadata": {},
   "outputs": [],
   "source": [
    "MODEL_PATH = '../model_weights/model.tar'\n",
    "HEAD_PATH = '../model_weights/20240117_500.pth'\n",
    "\n",
    "split_file = torch.load('../dataset/pocket_to_ligands.pt')"
   ]
  },
  {
   "cell_type": "code",
   "execution_count": 4,
   "metadata": {},
   "outputs": [],
   "source": [
    "predictor = PrecalculationModule(MODEL_PATH, HEAD_PATH, 'cuda')"
   ]
  },
  {
   "cell_type": "code",
   "execution_count": 5,
   "metadata": {},
   "outputs": [
    {
     "name": "stderr",
     "output_type": "stream",
     "text": [
      "  0%|          | 0/15307 [00:07<?, ?it/s]\n"
     ]
    }
   ],
   "source": [
    "failed_pairs = []\n",
    "i = 0\n",
    "for pdb_id, lig_path in tqdm(split_file.items()):\n",
    "    lig_path = os.path.join('../dataset/crossdocked_pocket10/', lig_path)\n",
    "    rec_path = os.path.join('../dataset/crossdock/', pdb_id + '_rec.pdb')\n",
    "    out_path = rec_path.replace('crossdock', 'docking_pharmacophores').replace('.pdb', '.pt')   \n",
    "    \n",
    "    if os.path.exists('out_path'):\n",
    "        continue\n",
    "    try:\n",
    "        cache = predictor.run(rec_path, ref_ligand_path=lig_path)\n",
    "        torch.save(cache, out_path)\n",
    "    except Exception as e:\n",
    "        failed_pairs.append((rec_path, lig_path))\n",
    "        print(e)"
   ]
  },
  {
   "cell_type": "markdown",
   "metadata": {},
   "source": [
    "Check if all files are saved correctly (not corrupted)"
   ]
  },
  {
   "cell_type": "code",
   "execution_count": 6,
   "metadata": {},
   "outputs": [
    {
     "name": "stderr",
     "output_type": "stream",
     "text": [
      "100%|██████████| 15307/15307 [00:10<00:00, 1401.92it/s]\n"
     ]
    }
   ],
   "source": [
    "for pdb_id, lig_path in tqdm(split_file.items()):\n",
    "    lig_path = os.path.join('../dataset/crossdocked_pocket10/', lig_path)\n",
    "    rec_path = os.path.join('../dataset/crossdock/', pdb_id + '_rec.pdb')\n",
    "    out_path = rec_path.replace('crossdock', 'docking_pharmacophores').replace('.pdb', '.pt')\n",
    "    \n",
    "    if os.path.exists(out_path):\n",
    "        try:\n",
    "            torch.load(out_path)\n",
    "        except:\n",
    "            cache = predictor.run(rec_path, ref_ligand_path=lig_path)\n",
    "            print('recomputed', out_path)\n",
    "            torch.save(cache, out_path)"
   ]
  },
  {
   "cell_type": "code",
   "execution_count": null,
   "metadata": {},
   "outputs": [],
   "source": []
  }
 ],
 "metadata": {
  "kernelspec": {
   "display_name": "tacogfn",
   "language": "python",
   "name": "python3"
  },
  "language_info": {
   "codemirror_mode": {
    "name": "ipython",
    "version": 3
   },
   "file_extension": ".py",
   "mimetype": "text/x-python",
   "name": "python",
   "nbconvert_exporter": "python",
   "pygments_lexer": "ipython3",
   "version": "3.9.18"
  }
 },
 "nbformat": 4,
 "nbformat_minor": 2
}
