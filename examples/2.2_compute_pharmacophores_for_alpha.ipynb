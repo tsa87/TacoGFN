{
 "cells": [
  {
   "cell_type": "markdown",
   "metadata": {},
   "source": [
    "This notebook generates pharmacophore features from pretrained model (Used for Docking Score prediction - Alpha)"
   ]
  },
  {
   "cell_type": "code",
   "execution_count": 1,
   "metadata": {},
   "outputs": [
    {
     "name": "stderr",
     "output_type": "stream",
     "text": [
      "/home/tsa87/anaconda3/envs/tacogfn/lib/python3.9/site-packages/tqdm/auto.py:21: TqdmWarning: IProgress not found. Please update jupyter and ipywidgets. See https://ipywidgets.readthedocs.io/en/stable/user_install.html\n",
      "  from .autonotebook import tqdm as notebook_tqdm\n"
     ]
    }
   ],
   "source": [
    "import sys\n",
    "import os\n",
    "import torch\n",
    "from tqdm import tqdm\n",
    "\n",
    "sys.path.append(\"..\")"
   ]
  },
  {
   "cell_type": "code",
   "execution_count": 2,
   "metadata": {},
   "outputs": [],
   "source": [
    "from src.scoring import PrecalculationModule"
   ]
  },
  {
   "cell_type": "code",
   "execution_count": 3,
   "metadata": {},
   "outputs": [],
   "source": [
    "MODEL_PATH = '../model_weights/model.tar'\n",
    "HEAD_PATH = '../model_weights/base_100_per_pocket.pth'\n",
    "\n",
    "split_file = torch.load('../dataset/pocket_to_ligands.pt')"
   ]
  },
  {
   "cell_type": "code",
   "execution_count": 4,
   "metadata": {},
   "outputs": [],
   "source": [
    "predictor = PrecalculationModule(MODEL_PATH, HEAD_PATH, 'cuda')"
   ]
  },
  {
   "cell_type": "code",
   "execution_count": 5,
   "metadata": {},
   "outputs": [
    {
     "name": "stderr",
     "output_type": "stream",
     "text": [
      "  0%|          | 35/15307 [00:22<2:26:58,  1.73it/s]"
     ]
    },
    {
     "name": "stdout",
     "output_type": "stream",
     "text": [
      "\n"
     ]
    },
    {
     "name": "stderr",
     "output_type": "stream",
     "text": [
      "  0%|          | 63/15307 [00:38<2:29:28,  1.70it/s]"
     ]
    },
    {
     "name": "stdout",
     "output_type": "stream",
     "text": [
      "\n"
     ]
    },
    {
     "name": "stderr",
     "output_type": "stream",
     "text": [
      "  1%|          | 163/15307 [01:46<1:59:49,  2.11it/s]"
     ]
    },
    {
     "name": "stdout",
     "output_type": "stream",
     "text": [
      "\n"
     ]
    },
    {
     "name": "stderr",
     "output_type": "stream",
     "text": [
      "  1%|▏         | 206/15307 [02:12<2:08:28,  1.96it/s]"
     ]
    },
    {
     "name": "stdout",
     "output_type": "stream",
     "text": [
      "\n"
     ]
    },
    {
     "name": "stderr",
     "output_type": "stream",
     "text": [
      "  2%|▏         | 265/15307 [02:47<2:19:38,  1.80it/s]"
     ]
    },
    {
     "name": "stdout",
     "output_type": "stream",
     "text": [
      "\n"
     ]
    },
    {
     "name": "stderr",
     "output_type": "stream",
     "text": [
      "  3%|▎         | 414/15307 [04:19<2:03:44,  2.01it/s]"
     ]
    },
    {
     "name": "stdout",
     "output_type": "stream",
     "text": [
      "\n"
     ]
    },
    {
     "name": "stderr",
     "output_type": "stream",
     "text": [
      "  5%|▍         | 695/15307 [07:05<1:48:28,  2.25it/s]"
     ]
    },
    {
     "name": "stdout",
     "output_type": "stream",
     "text": [
      "\n"
     ]
    },
    {
     "name": "stderr",
     "output_type": "stream",
     "text": [
      "  6%|▋         | 964/15307 [09:43<1:31:36,  2.61it/s]"
     ]
    },
    {
     "name": "stdout",
     "output_type": "stream",
     "text": [
      "\n"
     ]
    },
    {
     "name": "stderr",
     "output_type": "stream",
     "text": [
      "  6%|▋         | 973/15307 [09:48<1:58:26,  2.02it/s]"
     ]
    },
    {
     "name": "stdout",
     "output_type": "stream",
     "text": [
      "\n"
     ]
    },
    {
     "name": "stderr",
     "output_type": "stream",
     "text": [
      "  7%|▋         | 1067/15307 [10:38<1:56:58,  2.03it/s]"
     ]
    },
    {
     "name": "stdout",
     "output_type": "stream",
     "text": [
      "\n"
     ]
    },
    {
     "name": "stderr",
     "output_type": "stream",
     "text": [
      "  7%|▋         | 1103/15307 [10:59<1:46:28,  2.22it/s]"
     ]
    },
    {
     "name": "stdout",
     "output_type": "stream",
     "text": [
      "\n"
     ]
    },
    {
     "name": "stderr",
     "output_type": "stream",
     "text": [
      " 12%|█▏        | 1784/15307 [17:40<2:13:49,  1.68it/s]"
     ]
    },
    {
     "name": "stdout",
     "output_type": "stream",
     "text": [
      "\n"
     ]
    },
    {
     "name": "stderr",
     "output_type": "stream",
     "text": [
      " 12%|█▏        | 1880/15307 [18:35<1:33:48,  2.39it/s]"
     ]
    },
    {
     "name": "stdout",
     "output_type": "stream",
     "text": [
      "\n"
     ]
    },
    {
     "name": "stderr",
     "output_type": "stream",
     "text": [
      " 14%|█▎        | 2069/15307 [20:24<3:02:47,  1.21it/s]==============================\n",
      "*** Open Babel Warning  in ReadMolecule\n",
      "  WARNING: Problems reading the Count line of an MDL file\n",
      "There may be erroneous addition spaces or\n",
      "the file may contains Atom Lists, which are ignored\n",
      "\n",
      " 15%|█▌        | 2309/15307 [22:41<1:38:27,  2.20it/s]"
     ]
    },
    {
     "name": "stdout",
     "output_type": "stream",
     "text": [
      "\n"
     ]
    },
    {
     "name": "stderr",
     "output_type": "stream",
     "text": [
      " 16%|█▌        | 2453/15307 [24:03<1:38:08,  2.18it/s]"
     ]
    },
    {
     "name": "stdout",
     "output_type": "stream",
     "text": [
      "\n"
     ]
    },
    {
     "name": "stderr",
     "output_type": "stream",
     "text": [
      " 21%|██        | 3165/15307 [31:06<1:32:28,  2.19it/s]"
     ]
    },
    {
     "name": "stdout",
     "output_type": "stream",
     "text": [
      "\n"
     ]
    },
    {
     "name": "stderr",
     "output_type": "stream",
     "text": [
      " 23%|██▎       | 3482/15307 [34:13<2:00:22,  1.64it/s]"
     ]
    },
    {
     "name": "stdout",
     "output_type": "stream",
     "text": [
      "\n"
     ]
    },
    {
     "name": "stderr",
     "output_type": "stream",
     "text": [
      " 23%|██▎       | 3511/15307 [34:30<1:18:30,  2.50it/s]"
     ]
    },
    {
     "name": "stdout",
     "output_type": "stream",
     "text": [
      "\n"
     ]
    },
    {
     "name": "stderr",
     "output_type": "stream",
     "text": [
      " 25%|██▌       | 3890/15307 [38:06<2:05:04,  1.52it/s]"
     ]
    },
    {
     "name": "stdout",
     "output_type": "stream",
     "text": [
      "\n"
     ]
    },
    {
     "name": "stderr",
     "output_type": "stream",
     "text": [
      " 26%|██▋       | 4020/15307 [39:20<1:37:17,  1.93it/s]"
     ]
    },
    {
     "name": "stdout",
     "output_type": "stream",
     "text": [
      "\n"
     ]
    },
    {
     "name": "stderr",
     "output_type": "stream",
     "text": [
      " 33%|███▎      | 5103/15307 [50:17<1:37:31,  1.74it/s]"
     ]
    },
    {
     "name": "stdout",
     "output_type": "stream",
     "text": [
      "\n"
     ]
    },
    {
     "name": "stderr",
     "output_type": "stream",
     "text": [
      " 36%|███▌      | 5450/15307 [53:45<1:32:50,  1.77it/s]"
     ]
    },
    {
     "name": "stdout",
     "output_type": "stream",
     "text": [
      "\n"
     ]
    },
    {
     "name": "stderr",
     "output_type": "stream",
     "text": [
      " 36%|███▋      | 5550/15307 [54:40<1:23:20,  1.95it/s]"
     ]
    },
    {
     "name": "stdout",
     "output_type": "stream",
     "text": [
      "\n"
     ]
    },
    {
     "name": "stderr",
     "output_type": "stream",
     "text": [
      " 38%|███▊      | 5749/15307 [56:44<1:30:39,  1.76it/s]"
     ]
    },
    {
     "name": "stdout",
     "output_type": "stream",
     "text": [
      "\n"
     ]
    },
    {
     "name": "stderr",
     "output_type": "stream",
     "text": [
      " 38%|███▊      | 5787/15307 [57:06<1:22:01,  1.93it/s]"
     ]
    },
    {
     "name": "stdout",
     "output_type": "stream",
     "text": [
      "\n"
     ]
    },
    {
     "name": "stderr",
     "output_type": "stream",
     "text": [
      " 39%|███▉      | 6010/15307 [59:27<2:12:49,  1.17it/s]"
     ]
    },
    {
     "name": "stdout",
     "output_type": "stream",
     "text": [
      "\n"
     ]
    },
    {
     "name": "stderr",
     "output_type": "stream",
     "text": [
      " 47%|████▋     | 7216/15307 [1:11:26<1:02:10,  2.17it/s]"
     ]
    },
    {
     "name": "stdout",
     "output_type": "stream",
     "text": [
      "\n"
     ]
    },
    {
     "name": "stderr",
     "output_type": "stream",
     "text": [
      " 48%|████▊     | 7357/15307 [1:12:50<1:09:23,  1.91it/s]"
     ]
    },
    {
     "name": "stdout",
     "output_type": "stream",
     "text": [
      "\n"
     ]
    },
    {
     "name": "stderr",
     "output_type": "stream",
     "text": [
      " 49%|████▉     | 7538/15307 [1:14:35<53:22,  2.43it/s]  "
     ]
    },
    {
     "name": "stdout",
     "output_type": "stream",
     "text": [
      "\n"
     ]
    },
    {
     "name": "stderr",
     "output_type": "stream",
     "text": [
      " 49%|████▉     | 7570/15307 [1:14:53<1:06:27,  1.94it/s]"
     ]
    },
    {
     "name": "stdout",
     "output_type": "stream",
     "text": [
      "\n"
     ]
    },
    {
     "name": "stderr",
     "output_type": "stream",
     "text": [
      " 51%|█████     | 7784/15307 [1:17:10<1:13:42,  1.70it/s]"
     ]
    },
    {
     "name": "stdout",
     "output_type": "stream",
     "text": [
      "\n"
     ]
    },
    {
     "name": "stderr",
     "output_type": "stream",
     "text": [
      " 51%|█████▏    | 7868/15307 [1:17:59<1:09:45,  1.78it/s]"
     ]
    },
    {
     "name": "stdout",
     "output_type": "stream",
     "text": [
      "\n"
     ]
    },
    {
     "name": "stderr",
     "output_type": "stream",
     "text": [
      " 52%|█████▏    | 7915/15307 [1:18:29<1:04:37,  1.91it/s]"
     ]
    },
    {
     "name": "stdout",
     "output_type": "stream",
     "text": [
      "\n"
     ]
    },
    {
     "name": "stderr",
     "output_type": "stream",
     "text": [
      " 52%|█████▏    | 7921/15307 [1:18:34<1:43:54,  1.18it/s]"
     ]
    },
    {
     "name": "stdout",
     "output_type": "stream",
     "text": [
      "\n"
     ]
    },
    {
     "name": "stderr",
     "output_type": "stream",
     "text": [
      " 52%|█████▏    | 8021/15307 [1:19:37<1:25:03,  1.43it/s]"
     ]
    },
    {
     "name": "stdout",
     "output_type": "stream",
     "text": [
      "\n"
     ]
    },
    {
     "name": "stderr",
     "output_type": "stream",
     "text": [
      " 53%|█████▎    | 8109/15307 [1:20:28<1:16:37,  1.57it/s]"
     ]
    },
    {
     "name": "stdout",
     "output_type": "stream",
     "text": [
      "\n"
     ]
    },
    {
     "name": "stderr",
     "output_type": "stream",
     "text": [
      " 55%|█████▌    | 8450/15307 [1:23:58<42:29,  2.69it/s]  "
     ]
    },
    {
     "name": "stdout",
     "output_type": "stream",
     "text": [
      "\n"
     ]
    },
    {
     "name": "stderr",
     "output_type": "stream",
     "text": [
      " 56%|█████▌    | 8509/15307 [1:24:34<1:06:49,  1.70it/s]"
     ]
    },
    {
     "name": "stdout",
     "output_type": "stream",
     "text": [
      "\n"
     ]
    },
    {
     "name": "stderr",
     "output_type": "stream",
     "text": [
      " 58%|█████▊    | 8865/15307 [1:28:11<59:38,  1.80it/s]  "
     ]
    },
    {
     "name": "stdout",
     "output_type": "stream",
     "text": [
      "\n"
     ]
    },
    {
     "name": "stderr",
     "output_type": "stream",
     "text": [
      " 58%|█████▊    | 8907/15307 [1:28:35<1:00:05,  1.78it/s]"
     ]
    },
    {
     "name": "stdout",
     "output_type": "stream",
     "text": [
      "\n"
     ]
    },
    {
     "name": "stderr",
     "output_type": "stream",
     "text": [
      " 59%|█████▊    | 8983/15307 [1:29:22<1:15:07,  1.40it/s]"
     ]
    },
    {
     "name": "stdout",
     "output_type": "stream",
     "text": [
      "\n"
     ]
    },
    {
     "name": "stderr",
     "output_type": "stream",
     "text": [
      " 59%|█████▉    | 9036/15307 [1:29:55<1:07:45,  1.54it/s]"
     ]
    },
    {
     "name": "stdout",
     "output_type": "stream",
     "text": [
      "\n"
     ]
    },
    {
     "name": "stderr",
     "output_type": "stream",
     "text": [
      " 65%|██████▍   | 9940/15307 [1:39:06<51:59,  1.72it/s]  "
     ]
    },
    {
     "name": "stdout",
     "output_type": "stream",
     "text": [
      "\n"
     ]
    },
    {
     "name": "stderr",
     "output_type": "stream",
     "text": [
      " 67%|██████▋   | 10275/15307 [1:42:36<48:29,  1.73it/s]  "
     ]
    },
    {
     "name": "stdout",
     "output_type": "stream",
     "text": [
      "\n"
     ]
    },
    {
     "name": "stderr",
     "output_type": "stream",
     "text": [
      " 69%|██████▊   | 10513/15307 [1:45:07<29:25,  2.72it/s]  "
     ]
    },
    {
     "name": "stdout",
     "output_type": "stream",
     "text": [
      "\n"
     ]
    },
    {
     "name": "stderr",
     "output_type": "stream",
     "text": [
      " 71%|███████   | 10853/15307 [1:48:38<46:58,  1.58it/s]  "
     ]
    },
    {
     "name": "stdout",
     "output_type": "stream",
     "text": [
      "\n"
     ]
    },
    {
     "name": "stderr",
     "output_type": "stream",
     "text": [
      " 74%|███████▎  | 11279/15307 [1:53:01<33:36,  2.00it/s]  "
     ]
    },
    {
     "name": "stdout",
     "output_type": "stream",
     "text": [
      "\n"
     ]
    },
    {
     "name": "stderr",
     "output_type": "stream",
     "text": [
      " 79%|███████▊  | 12044/15307 [2:00:56<46:50,  1.16it/s]  "
     ]
    },
    {
     "name": "stdout",
     "output_type": "stream",
     "text": [
      "\n"
     ]
    },
    {
     "name": "stderr",
     "output_type": "stream",
     "text": [
      " 80%|███████▉  | 12236/15307 [2:02:58<36:03,  1.42it/s]"
     ]
    },
    {
     "name": "stdout",
     "output_type": "stream",
     "text": [
      "\n"
     ]
    },
    {
     "name": "stderr",
     "output_type": "stream",
     "text": [
      " 82%|████████▏ | 12626/15307 [2:06:56<28:05,  1.59it/s]"
     ]
    },
    {
     "name": "stdout",
     "output_type": "stream",
     "text": [
      "\n"
     ]
    },
    {
     "name": "stderr",
     "output_type": "stream",
     "text": [
      " 85%|████████▌ | 13012/15307 [2:10:57<19:10,  2.00it/s]"
     ]
    },
    {
     "name": "stdout",
     "output_type": "stream",
     "text": [
      "\n"
     ]
    },
    {
     "name": "stderr",
     "output_type": "stream",
     "text": [
      " 88%|████████▊ | 13468/15307 [2:15:56<11:08,  2.75it/s]"
     ]
    },
    {
     "name": "stdout",
     "output_type": "stream",
     "text": [
      "\n"
     ]
    },
    {
     "name": "stderr",
     "output_type": "stream",
     "text": [
      " 91%|█████████ | 13937/15307 [2:20:23<13:21,  1.71it/s]"
     ]
    },
    {
     "name": "stdout",
     "output_type": "stream",
     "text": [
      "\n"
     ]
    },
    {
     "name": "stderr",
     "output_type": "stream",
     "text": [
      " 94%|█████████▍| 14358/15307 [2:24:04<08:20,  1.90it/s]"
     ]
    },
    {
     "name": "stdout",
     "output_type": "stream",
     "text": [
      "\n"
     ]
    },
    {
     "name": "stderr",
     "output_type": "stream",
     "text": [
      " 96%|█████████▌| 14719/15307 [2:27:15<04:51,  2.02it/s]"
     ]
    },
    {
     "name": "stdout",
     "output_type": "stream",
     "text": [
      "\n"
     ]
    },
    {
     "name": "stderr",
     "output_type": "stream",
     "text": [
      " 98%|█████████▊| 15077/15307 [2:30:25<02:18,  1.66it/s]==============================\n",
      "*** Open Babel Warning  in ReadMolecule\n",
      "  WARNING: Problems reading the Count line of an MDL file\n",
      "There may be erroneous addition spaces or\n",
      "the file may contains Atom Lists, which are ignored\n",
      "\n",
      "100%|██████████| 15307/15307 [2:32:29<00:00,  1.67it/s]\n"
     ]
    }
   ],
   "source": [
    "failed_pairs = []\n",
    "i = 0\n",
    "for pdb_id, lig_path in tqdm(split_file.items()):\n",
    "    try:\n",
    "        lig_path = os.path.join('../dataset/crossdocked_pocket10/', lig_path)\n",
    "        rec_path = os.path.join('../dataset/crossdock/', pdb_id + '_rec.pdb')\n",
    "        out_path = rec_path.replace('crossdock', 'docking_pharmacophores').replace('.pdb', '.pt')\n",
    "\n",
    "        cache = predictor.run(rec_path, ref_ligand_path=lig_path)\n",
    "        torch.save(cache, out_path)\n",
    "    except Exception as e:\n",
    "        failed_pairs.append((rec_path, lig_path))\n",
    "        print(e)"
   ]
  },
  {
   "cell_type": "markdown",
   "metadata": {},
   "source": [
    "Check if all files are saved correctly (not corrupted)"
   ]
  },
  {
   "cell_type": "code",
   "execution_count": 14,
   "metadata": {},
   "outputs": [
    {
     "name": "stderr",
     "output_type": "stream",
     "text": [
      "  4%|▍         | 605/15307 [00:00<00:16, 902.36it/s]"
     ]
    },
    {
     "name": "stdout",
     "output_type": "stream",
     "text": [
      "recomputed ../dataset/docking_pharmacophores/3mb6_A_rec.pt\n",
      "recomputed ../dataset/docking_pharmacophores/5due_A_rec.pt\n",
      "recomputed ../dataset/docking_pharmacophores/3rvh_A_rec.pt\n",
      "recomputed ../dataset/docking_pharmacophores/3n86_A_rec.pt\n",
      "recomputed ../dataset/docking_pharmacophores/2e8a_A_rec.pt\n",
      "recomputed ../dataset/docking_pharmacophores/2r2w_U_rec.pt\n",
      "recomputed ../dataset/docking_pharmacophores/4xew_B_rec.pt\n",
      "recomputed ../dataset/docking_pharmacophores/3aun_A_rec.pt\n",
      "recomputed ../dataset/docking_pharmacophores/5k01_A_rec.pt\n",
      "recomputed ../dataset/docking_pharmacophores/1qf6_A_rec.pt\n",
      "recomputed ../dataset/docking_pharmacophores/1os2_C_rec.pt\n",
      "recomputed ../dataset/docking_pharmacophores/1akc_A_rec.pt\n",
      "recomputed ../dataset/docking_pharmacophores/4y6u_A_rec.pt\n",
      "recomputed ../dataset/docking_pharmacophores/2fr6_B_rec.pt\n",
      "recomputed ../dataset/docking_pharmacophores/4qx5_A_rec.pt\n",
      "recomputed ../dataset/docking_pharmacophores/5ap3_A_rec.pt\n",
      "recomputed ../dataset/docking_pharmacophores/5b0x_A_rec.pt\n",
      "recomputed ../dataset/docking_pharmacophores/1l4l_A_rec.pt\n",
      "recomputed ../dataset/docking_pharmacophores/4ktv_A_rec.pt\n",
      "recomputed ../dataset/docking_pharmacophores/5cs6_A_rec.pt\n",
      "recomputed ../dataset/docking_pharmacophores/5hqe_A_rec.pt\n",
      "recomputed ../dataset/docking_pharmacophores/5ieq_A_rec.pt\n",
      "recomputed ../dataset/docking_pharmacophores/5ntn_C_rec.pt\n"
     ]
    },
    {
     "name": "stderr",
     "output_type": "stream",
     "text": [
      "  4%|▍         | 628/15307 [00:12<06:55, 35.34it/s] "
     ]
    },
    {
     "name": "stdout",
     "output_type": "stream",
     "text": [
      "recomputed ../dataset/docking_pharmacophores/3o57_A_rec.pt\n"
     ]
    },
    {
     "name": "stderr",
     "output_type": "stream",
     "text": [
      "  4%|▍         | 629/15307 [00:13<07:29, 32.65it/s]"
     ]
    },
    {
     "name": "stdout",
     "output_type": "stream",
     "text": [
      "recomputed ../dataset/docking_pharmacophores/3qpn_A_rec.pt\n",
      "recomputed ../dataset/docking_pharmacophores/1ros_A_rec.pt\n",
      "recomputed ../dataset/docking_pharmacophores/3nbw_A_rec.pt\n",
      "recomputed ../dataset/docking_pharmacophores/5j82_A_rec.pt\n",
      "recomputed ../dataset/docking_pharmacophores/1ogx_B_rec.pt\n",
      "recomputed ../dataset/docking_pharmacophores/4fv4_A_rec.pt\n",
      "recomputed ../dataset/docking_pharmacophores/4ymq_A_rec.pt\n",
      "recomputed ../dataset/docking_pharmacophores/4lm0_A_rec.pt\n",
      "recomputed ../dataset/docking_pharmacophores/3b65_A_rec.pt\n",
      "recomputed ../dataset/docking_pharmacophores/4kbn_A_rec.pt\n",
      "recomputed ../dataset/docking_pharmacophores/4uba_A_rec.pt\n",
      "recomputed ../dataset/docking_pharmacophores/5mxk_A_rec.pt\n",
      "recomputed ../dataset/docking_pharmacophores/4elv_A_rec.pt\n",
      "recomputed ../dataset/docking_pharmacophores/5ly1_D_rec.pt\n",
      "recomputed ../dataset/docking_pharmacophores/4rse_A_rec.pt\n",
      "recomputed ../dataset/docking_pharmacophores/1bwb_A_rec.pt\n",
      "recomputed ../dataset/docking_pharmacophores/4rrx_A_rec.pt\n",
      "recomputed ../dataset/docking_pharmacophores/3jsi_A_rec.pt\n",
      "recomputed ../dataset/docking_pharmacophores/3oot_A_rec.pt\n",
      "recomputed ../dataset/docking_pharmacophores/4ibk_A_rec.pt\n",
      "recomputed ../dataset/docking_pharmacophores/1ba1_A_rec.pt\n",
      "recomputed ../dataset/docking_pharmacophores/4mf3_A_rec.pt\n",
      "recomputed ../dataset/docking_pharmacophores/1gin_A_rec.pt\n",
      "recomputed ../dataset/docking_pharmacophores/4dqi_A_rec.pt\n",
      "recomputed ../dataset/docking_pharmacophores/1svk_A_rec.pt\n",
      "recomputed ../dataset/docking_pharmacophores/1i8z_A_rec.pt\n"
     ]
    },
    {
     "name": "stderr",
     "output_type": "stream",
     "text": [
      "  6%|▌         | 937/15307 [00:27<07:38, 31.32it/s]"
     ]
    },
    {
     "name": "stdout",
     "output_type": "stream",
     "text": [
      "recomputed ../dataset/docking_pharmacophores/4jev_A_rec.pt\n"
     ]
    },
    {
     "name": "stderr",
     "output_type": "stream",
     "text": [
      "100%|██████████| 15307/15307 [00:28<00:00, 530.07it/s]\n"
     ]
    }
   ],
   "source": [
    "for pdb_id, lig_path in tqdm(split_file.items()):\n",
    "    lig_path = os.path.join('../dataset/crossdocked_pocket10/', lig_path)\n",
    "    rec_path = os.path.join('../dataset/crossdock/', pdb_id + '_rec.pdb')\n",
    "    out_path = rec_path.replace('crossdock', 'docking_pharmacophores').replace('.pdb', '.pt')\n",
    "    \n",
    "    if os.path.exists(out_path):\n",
    "        try:\n",
    "            torch.load(out_path)\n",
    "        except:\n",
    "            cache = predictor.run(rec_path, ref_ligand_path=lig_path)\n",
    "            print('recomputed', out_path)\n",
    "            torch.save(cache, out_path)"
   ]
  },
  {
   "cell_type": "code",
   "execution_count": 1,
   "metadata": {},
   "outputs": [
    {
     "name": "stderr",
     "output_type": "stream",
     "text": [
      "/home/tsa87/anaconda3/envs/tacogfn/lib/python3.9/site-packages/tqdm/auto.py:21: TqdmWarning: IProgress not found. Please update jupyter and ipywidgets. See https://ipywidgets.readthedocs.io/en/stable/user_install.html\n",
      "  from .autonotebook import tqdm as notebook_tqdm\n"
     ]
    },
    {
     "data": {
      "text/plain": [
       "{'pocket_features': tensor([-7.1359e+00, -7.1857e+00,  8.9155e+00, -7.2242e+00,  8.0860e+00,\n",
       "          1.2627e+01, -1.1418e+01,  3.2766e+01, -1.1102e+01, -9.8266e+00,\n",
       "         -6.9982e+00, -2.1936e+00, -7.3658e+00, -1.5857e+00,  1.2520e+01,\n",
       "         -9.0540e-04,  7.2046e+00,  9.9292e+00, -1.0425e+01, -7.2135e+00,\n",
       "         -8.5731e+00,  8.0012e+00, -9.4897e+00, -9.6983e+00,  8.0898e+00,\n",
       "         -8.9129e+00,  7.5269e+00,  9.1453e+00, -3.6132e-02,  8.4376e+00,\n",
       "          1.0082e+01, -8.3576e+00,  7.8823e+00,  7.9983e+00, -1.2288e+01,\n",
       "         -1.7131e+00, -8.1153e+00,  1.7201e+00, -9.8182e+00, -7.8292e+00,\n",
       "         -1.0306e+01, -1.2755e+00, -6.1770e+00,  9.2218e+00,  8.8829e+00,\n",
       "         -9.7712e+00, -8.1676e+00, -1.8682e+00,  1.1439e+01, -6.9962e+00,\n",
       "         -7.1979e+00, -7.4531e+00,  7.0487e+00, -1.0011e+01,  1.1729e+01,\n",
       "          1.2459e+01,  1.0086e+01,  5.5723e+00,  2.3753e+01, -3.3125e+00,\n",
       "         -8.5627e+00, -7.5562e+00,  6.7505e+00, -4.9461e-01,  1.2769e+01,\n",
       "          7.3774e+00,  8.7311e+00, -1.5393e-03,  8.7110e+00, -1.1751e+01,\n",
       "         -3.2428e+00, -6.5558e+00, -7.2889e+00,  1.5396e+01, -1.4463e+01,\n",
       "          5.3965e+00,  6.6240e+00,  8.3348e+00,  8.1978e+00,  2.3906e-02,\n",
       "          1.0165e+00,  2.0291e+01, -8.4441e+00, -9.2301e+00, -9.3447e+00,\n",
       "         -5.4949e+00, -1.0891e+01, -1.0109e+01, -2.2968e+00,  1.2381e+01,\n",
       "          1.1102e+01,  1.1327e+01, -1.3711e+01,  6.3375e+00,  6.9373e+00,\n",
       "          8.4538e+00,  6.1100e+00,  9.4439e+00, -8.5653e+00, -1.4705e-02,\n",
       "         -1.1311e+01,  4.5705e+00, -3.5644e+00,  9.3715e+00,  6.1274e+00,\n",
       "          8.1652e+00, -1.7702e+01,  7.9152e+00,  9.0237e+00, -5.9729e+00,\n",
       "          9.5575e+00,  2.2742e-04, -7.3378e+00, -9.1118e+00, -6.3295e+00,\n",
       "          8.7444e+00,  1.2844e+01, -5.1967e+00,  6.6759e+00, -9.6193e+00,\n",
       "         -7.1107e+00,  2.0629e-01, -8.2575e+00, -8.3112e+00, -9.4565e+00,\n",
       "         -8.2317e+00,  8.0050e+00,  9.0798e+00]),\n",
       " 'token_features': tensor([[ 0.0091,  0.6826, -0.0297,  ..., -0.1346,  0.1450,  0.1693],\n",
       "         [-0.1101,  0.8023,  0.0396,  ...,  0.0367,  0.2516, -0.0124],\n",
       "         [-0.0062,  0.5415,  0.0873,  ...,  0.0388,  0.0475,  0.1500],\n",
       "         ...,\n",
       "         [ 0.0275,  0.3074,  0.0368,  ...,  0.0886,  0.0368, -0.0080],\n",
       "         [-0.1856,  0.6524, -0.0090,  ..., -0.0622,  0.2187, -0.0283],\n",
       "         [-0.0889,  0.3799,  0.1233,  ..., -0.0827,  0.1938, -0.0292]])}"
      ]
     },
     "execution_count": 1,
     "metadata": {},
     "output_type": "execute_result"
    }
   ],
   "source": [
    "import torch\n",
    "pdb_id = '3g1h_A'\n",
    "\n",
    "torch.load(f\"../dataset/docking_pharmacophores/{pdb_id}_rec.pt\")"
   ]
  },
  {
   "cell_type": "code",
   "execution_count": null,
   "metadata": {},
   "outputs": [],
   "source": []
  }
 ],
 "metadata": {
  "kernelspec": {
   "display_name": "tacogfn",
   "language": "python",
   "name": "python3"
  },
  "language_info": {
   "codemirror_mode": {
    "name": "ipython",
    "version": 3
   },
   "file_extension": ".py",
   "mimetype": "text/x-python",
   "name": "python",
   "nbconvert_exporter": "python",
   "pygments_lexer": "ipython3",
   "version": "3.9.18"
  }
 },
 "nbformat": 4,
 "nbformat_minor": 2
}
