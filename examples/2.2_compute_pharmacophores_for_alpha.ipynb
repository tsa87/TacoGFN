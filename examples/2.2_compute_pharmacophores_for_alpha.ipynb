{
 "cells": [
  {
   "cell_type": "markdown",
   "metadata": {},
   "source": [
    "This notebook generates pharmacophore features from pretrained model (Used for Docking Score prediction - Alpha)"
   ]
  },
  {
   "cell_type": "code",
   "execution_count": 5,
   "metadata": {},
   "outputs": [],
   "source": [
    "import sys\n",
    "import os\n",
    "import torch\n",
    "from tqdm import tqdm\n",
    "\n",
    "sys.path.append(\"..\")"
   ]
  },
  {
   "cell_type": "code",
   "execution_count": 6,
   "metadata": {},
   "outputs": [],
   "source": [
    "from src.scoring import PrecalculationModule"
   ]
  },
  {
   "cell_type": "code",
   "execution_count": 7,
   "metadata": {},
   "outputs": [],
   "source": [
    "MODEL_PATH = '../model_weights/model.tar'\n",
    "HEAD_PATH = '../model_weights/base_head.pth'\n",
    "\n",
    "split_file = torch.load('../dataset/pocket_to_ligands.pt')"
   ]
  },
  {
   "cell_type": "code",
   "execution_count": 8,
   "metadata": {},
   "outputs": [],
   "source": [
    "predictor = PrecalculationModule(MODEL_PATH, HEAD_PATH, 'cuda')"
   ]
  },
  {
   "cell_type": "code",
   "execution_count": 9,
   "metadata": {},
   "outputs": [],
   "source": [
    "# failed_pairs = []\n",
    "# i = 0\n",
    "# for pdb_id, lig_path in tqdm(split_file.items()):\n",
    "#     try:\n",
    "#         lig_path = os.path.join('../dataset/crossdocked_pocket10/', lig_path)\n",
    "#         rec_path = os.path.join('../dataset/crossdock/', pdb_id + '_rec.pdb')\n",
    "#         out_path = rec_path.replace('crossdock', 'docking_pharmacophores').replace('.pdb', '.pt')\n",
    "#         if not os.path.exists(out_path):\n",
    "#             cache = predictor.run(rec_path, ref_ligand_path=lig_path)\n",
    "#             torch.save(cache, out_path)\n",
    "#     except Exception as e:\n",
    "#         failed_pairs.append((rec_path, lig_path))\n",
    "#         print(e)"
   ]
  },
  {
   "cell_type": "markdown",
   "metadata": {},
   "source": [
    "Check if all files are saved correctly (not corrupted)"
   ]
  },
  {
   "cell_type": "code",
   "execution_count": 14,
   "metadata": {},
   "outputs": [
    {
     "name": "stderr",
     "output_type": "stream",
     "text": [
      "  4%|▍         | 605/15307 [00:00<00:16, 902.36it/s]"
     ]
    },
    {
     "name": "stdout",
     "output_type": "stream",
     "text": [
      "recomputed ../dataset/docking_pharmacophores/3mb6_A_rec.pt\n",
      "recomputed ../dataset/docking_pharmacophores/5due_A_rec.pt\n",
      "recomputed ../dataset/docking_pharmacophores/3rvh_A_rec.pt\n",
      "recomputed ../dataset/docking_pharmacophores/3n86_A_rec.pt\n",
      "recomputed ../dataset/docking_pharmacophores/2e8a_A_rec.pt\n",
      "recomputed ../dataset/docking_pharmacophores/2r2w_U_rec.pt\n",
      "recomputed ../dataset/docking_pharmacophores/4xew_B_rec.pt\n",
      "recomputed ../dataset/docking_pharmacophores/3aun_A_rec.pt\n",
      "recomputed ../dataset/docking_pharmacophores/5k01_A_rec.pt\n",
      "recomputed ../dataset/docking_pharmacophores/1qf6_A_rec.pt\n",
      "recomputed ../dataset/docking_pharmacophores/1os2_C_rec.pt\n",
      "recomputed ../dataset/docking_pharmacophores/1akc_A_rec.pt\n",
      "recomputed ../dataset/docking_pharmacophores/4y6u_A_rec.pt\n",
      "recomputed ../dataset/docking_pharmacophores/2fr6_B_rec.pt\n",
      "recomputed ../dataset/docking_pharmacophores/4qx5_A_rec.pt\n",
      "recomputed ../dataset/docking_pharmacophores/5ap3_A_rec.pt\n",
      "recomputed ../dataset/docking_pharmacophores/5b0x_A_rec.pt\n",
      "recomputed ../dataset/docking_pharmacophores/1l4l_A_rec.pt\n",
      "recomputed ../dataset/docking_pharmacophores/4ktv_A_rec.pt\n",
      "recomputed ../dataset/docking_pharmacophores/5cs6_A_rec.pt\n",
      "recomputed ../dataset/docking_pharmacophores/5hqe_A_rec.pt\n",
      "recomputed ../dataset/docking_pharmacophores/5ieq_A_rec.pt\n",
      "recomputed ../dataset/docking_pharmacophores/5ntn_C_rec.pt\n"
     ]
    },
    {
     "name": "stderr",
     "output_type": "stream",
     "text": [
      "  4%|▍         | 628/15307 [00:12<06:55, 35.34it/s] "
     ]
    },
    {
     "name": "stdout",
     "output_type": "stream",
     "text": [
      "recomputed ../dataset/docking_pharmacophores/3o57_A_rec.pt\n"
     ]
    },
    {
     "name": "stderr",
     "output_type": "stream",
     "text": [
      "  4%|▍         | 629/15307 [00:13<07:29, 32.65it/s]"
     ]
    },
    {
     "name": "stdout",
     "output_type": "stream",
     "text": [
      "recomputed ../dataset/docking_pharmacophores/3qpn_A_rec.pt\n",
      "recomputed ../dataset/docking_pharmacophores/1ros_A_rec.pt\n",
      "recomputed ../dataset/docking_pharmacophores/3nbw_A_rec.pt\n",
      "recomputed ../dataset/docking_pharmacophores/5j82_A_rec.pt\n",
      "recomputed ../dataset/docking_pharmacophores/1ogx_B_rec.pt\n",
      "recomputed ../dataset/docking_pharmacophores/4fv4_A_rec.pt\n",
      "recomputed ../dataset/docking_pharmacophores/4ymq_A_rec.pt\n",
      "recomputed ../dataset/docking_pharmacophores/4lm0_A_rec.pt\n",
      "recomputed ../dataset/docking_pharmacophores/3b65_A_rec.pt\n",
      "recomputed ../dataset/docking_pharmacophores/4kbn_A_rec.pt\n",
      "recomputed ../dataset/docking_pharmacophores/4uba_A_rec.pt\n",
      "recomputed ../dataset/docking_pharmacophores/5mxk_A_rec.pt\n",
      "recomputed ../dataset/docking_pharmacophores/4elv_A_rec.pt\n",
      "recomputed ../dataset/docking_pharmacophores/5ly1_D_rec.pt\n",
      "recomputed ../dataset/docking_pharmacophores/4rse_A_rec.pt\n",
      "recomputed ../dataset/docking_pharmacophores/1bwb_A_rec.pt\n",
      "recomputed ../dataset/docking_pharmacophores/4rrx_A_rec.pt\n",
      "recomputed ../dataset/docking_pharmacophores/3jsi_A_rec.pt\n",
      "recomputed ../dataset/docking_pharmacophores/3oot_A_rec.pt\n",
      "recomputed ../dataset/docking_pharmacophores/4ibk_A_rec.pt\n",
      "recomputed ../dataset/docking_pharmacophores/1ba1_A_rec.pt\n",
      "recomputed ../dataset/docking_pharmacophores/4mf3_A_rec.pt\n",
      "recomputed ../dataset/docking_pharmacophores/1gin_A_rec.pt\n",
      "recomputed ../dataset/docking_pharmacophores/4dqi_A_rec.pt\n",
      "recomputed ../dataset/docking_pharmacophores/1svk_A_rec.pt\n",
      "recomputed ../dataset/docking_pharmacophores/1i8z_A_rec.pt\n"
     ]
    },
    {
     "name": "stderr",
     "output_type": "stream",
     "text": [
      "  6%|▌         | 937/15307 [00:27<07:38, 31.32it/s]"
     ]
    },
    {
     "name": "stdout",
     "output_type": "stream",
     "text": [
      "recomputed ../dataset/docking_pharmacophores/4jev_A_rec.pt\n"
     ]
    },
    {
     "name": "stderr",
     "output_type": "stream",
     "text": [
      "100%|██████████| 15307/15307 [00:28<00:00, 530.07it/s]\n"
     ]
    }
   ],
   "source": [
    "for pdb_id, lig_path in tqdm(split_file.items()):\n",
    "    lig_path = os.path.join('../dataset/crossdocked_pocket10/', lig_path)\n",
    "    rec_path = os.path.join('../dataset/crossdock/', pdb_id + '_rec.pdb')\n",
    "    out_path = rec_path.replace('crossdock', 'docking_pharmacophores').replace('.pdb', '.pt')\n",
    "    \n",
    "    if os.path.exists(out_path):\n",
    "        try:\n",
    "            torch.load(out_path)\n",
    "        except:\n",
    "            cache = predictor.run(rec_path, ref_ligand_path=lig_path)\n",
    "            print('recomputed', out_path)\n",
    "            torch.save(cache, out_path)"
   ]
  },
  {
   "cell_type": "code",
   "execution_count": 3,
   "metadata": {},
   "outputs": [
    {
     "ename": "EOFError",
     "evalue": "Ran out of input",
     "output_type": "error",
     "traceback": [
      "\u001b[0;31m---------------------------------------------------------------------------\u001b[0m",
      "\u001b[0;31mEOFError\u001b[0m                                  Traceback (most recent call last)",
      "Cell \u001b[0;32mIn[3], line 4\u001b[0m\n\u001b[1;32m      1\u001b[0m \u001b[38;5;28;01mimport\u001b[39;00m \u001b[38;5;21;01mtorch\u001b[39;00m\n\u001b[1;32m      2\u001b[0m pdb_id \u001b[38;5;241m=\u001b[39m \u001b[38;5;124m'\u001b[39m\u001b[38;5;124m3g1h_A\u001b[39m\u001b[38;5;124m'\u001b[39m\n\u001b[0;32m----> 4\u001b[0m \u001b[43mtorch\u001b[49m\u001b[38;5;241;43m.\u001b[39;49m\u001b[43mload\u001b[49m\u001b[43m(\u001b[49m\u001b[38;5;124;43mf\u001b[39;49m\u001b[38;5;124;43m\"\u001b[39;49m\u001b[38;5;124;43m../dataset/docking_pharmacophores/\u001b[39;49m\u001b[38;5;132;43;01m{\u001b[39;49;00m\u001b[43mpdb_id\u001b[49m\u001b[38;5;132;43;01m}\u001b[39;49;00m\u001b[38;5;124;43m_rec.pt\u001b[39;49m\u001b[38;5;124;43m\"\u001b[39;49m\u001b[43m)\u001b[49m\n",
      "File \u001b[0;32m~/anaconda3/envs/tacogfn/lib/python3.9/site-packages/torch/serialization.py:795\u001b[0m, in \u001b[0;36mload\u001b[0;34m(f, map_location, pickle_module, weights_only, **pickle_load_args)\u001b[0m\n\u001b[1;32m    793\u001b[0m     \u001b[38;5;28;01mexcept\u001b[39;00m \u001b[38;5;167;01mRuntimeError\u001b[39;00m \u001b[38;5;28;01mas\u001b[39;00m e:\n\u001b[1;32m    794\u001b[0m         \u001b[38;5;28;01mraise\u001b[39;00m pickle\u001b[38;5;241m.\u001b[39mUnpicklingError(UNSAFE_MESSAGE \u001b[38;5;241m+\u001b[39m \u001b[38;5;28mstr\u001b[39m(e)) \u001b[38;5;28;01mfrom\u001b[39;00m \u001b[38;5;28;01mNone\u001b[39;00m\n\u001b[0;32m--> 795\u001b[0m \u001b[38;5;28;01mreturn\u001b[39;00m \u001b[43m_legacy_load\u001b[49m\u001b[43m(\u001b[49m\u001b[43mopened_file\u001b[49m\u001b[43m,\u001b[49m\u001b[43m \u001b[49m\u001b[43mmap_location\u001b[49m\u001b[43m,\u001b[49m\u001b[43m \u001b[49m\u001b[43mpickle_module\u001b[49m\u001b[43m,\u001b[49m\u001b[43m \u001b[49m\u001b[38;5;241;43m*\u001b[39;49m\u001b[38;5;241;43m*\u001b[39;49m\u001b[43mpickle_load_args\u001b[49m\u001b[43m)\u001b[49m\n",
      "File \u001b[0;32m~/anaconda3/envs/tacogfn/lib/python3.9/site-packages/torch/serialization.py:1002\u001b[0m, in \u001b[0;36m_legacy_load\u001b[0;34m(f, map_location, pickle_module, **pickle_load_args)\u001b[0m\n\u001b[1;32m    996\u001b[0m \u001b[38;5;28;01mif\u001b[39;00m \u001b[38;5;129;01mnot\u001b[39;00m \u001b[38;5;28mhasattr\u001b[39m(f, \u001b[38;5;124m'\u001b[39m\u001b[38;5;124mreadinto\u001b[39m\u001b[38;5;124m'\u001b[39m) \u001b[38;5;129;01mand\u001b[39;00m (\u001b[38;5;241m3\u001b[39m, \u001b[38;5;241m8\u001b[39m, \u001b[38;5;241m0\u001b[39m) \u001b[38;5;241m<\u001b[39m\u001b[38;5;241m=\u001b[39m sys\u001b[38;5;241m.\u001b[39mversion_info \u001b[38;5;241m<\u001b[39m (\u001b[38;5;241m3\u001b[39m, \u001b[38;5;241m8\u001b[39m, \u001b[38;5;241m2\u001b[39m):\n\u001b[1;32m    997\u001b[0m     \u001b[38;5;28;01mraise\u001b[39;00m \u001b[38;5;167;01mRuntimeError\u001b[39;00m(\n\u001b[1;32m    998\u001b[0m         \u001b[38;5;124m\"\u001b[39m\u001b[38;5;124mtorch.load does not work with file-like objects that do not implement readinto on Python 3.8.0 and 3.8.1. \u001b[39m\u001b[38;5;124m\"\u001b[39m\n\u001b[1;32m    999\u001b[0m         \u001b[38;5;124mf\u001b[39m\u001b[38;5;124m\"\u001b[39m\u001b[38;5;124mReceived object of type \u001b[39m\u001b[38;5;130;01m\\\"\u001b[39;00m\u001b[38;5;132;01m{\u001b[39;00m\u001b[38;5;28mtype\u001b[39m(f)\u001b[38;5;132;01m}\u001b[39;00m\u001b[38;5;130;01m\\\"\u001b[39;00m\u001b[38;5;124m. Please update to Python 3.8.2 or newer to restore this \u001b[39m\u001b[38;5;124m\"\u001b[39m\n\u001b[1;32m   1000\u001b[0m         \u001b[38;5;124m\"\u001b[39m\u001b[38;5;124mfunctionality.\u001b[39m\u001b[38;5;124m\"\u001b[39m)\n\u001b[0;32m-> 1002\u001b[0m magic_number \u001b[38;5;241m=\u001b[39m \u001b[43mpickle_module\u001b[49m\u001b[38;5;241;43m.\u001b[39;49m\u001b[43mload\u001b[49m\u001b[43m(\u001b[49m\u001b[43mf\u001b[49m\u001b[43m,\u001b[49m\u001b[43m \u001b[49m\u001b[38;5;241;43m*\u001b[39;49m\u001b[38;5;241;43m*\u001b[39;49m\u001b[43mpickle_load_args\u001b[49m\u001b[43m)\u001b[49m\n\u001b[1;32m   1003\u001b[0m \u001b[38;5;28;01mif\u001b[39;00m magic_number \u001b[38;5;241m!=\u001b[39m MAGIC_NUMBER:\n\u001b[1;32m   1004\u001b[0m     \u001b[38;5;28;01mraise\u001b[39;00m \u001b[38;5;167;01mRuntimeError\u001b[39;00m(\u001b[38;5;124m\"\u001b[39m\u001b[38;5;124mInvalid magic number; corrupt file?\u001b[39m\u001b[38;5;124m\"\u001b[39m)\n",
      "\u001b[0;31mEOFError\u001b[0m: Ran out of input"
     ]
    }
   ],
   "source": [
    "import torch\n",
    "pdb_id = '3g1h_A'\n",
    "\n",
    "torch.load(f\"../dataset/docking_pharmacophores/{pdb_id}_rec.pt\")"
   ]
  },
  {
   "cell_type": "code",
   "execution_count": null,
   "metadata": {},
   "outputs": [],
   "source": []
  }
 ],
 "metadata": {
  "kernelspec": {
   "display_name": "tacogfn",
   "language": "python",
   "name": "python3"
  },
  "language_info": {
   "codemirror_mode": {
    "name": "ipython",
    "version": 3
   },
   "file_extension": ".py",
   "mimetype": "text/x-python",
   "name": "python",
   "nbconvert_exporter": "python",
   "pygments_lexer": "ipython3",
   "version": "3.9.18"
  }
 },
 "nbformat": 4,
 "nbformat_minor": 2
}
