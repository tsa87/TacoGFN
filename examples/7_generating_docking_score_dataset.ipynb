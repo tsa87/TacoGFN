{
 "cells": [
  {
   "cell_type": "code",
   "execution_count": 3,
   "metadata": {},
   "outputs": [],
   "source": [
    "import sys\n",
    "sys.path.append('../')\n",
    "\n",
    "import torch\n",
    "from glob import glob\n",
    "from tqdm import tqdm\n",
    "\n",
    "from src.tacogfn.utils.molecules import sdf_to_single_smiles\n",
    "from src.tacogfn.data.pharmacophore import PharmacoDB\n",
    "\n",
    "import rdkit\n",
    "rdkit.RDLogger.DisableLog('rdApp.*')"
   ]
  },
  {
   "cell_type": "markdown",
   "metadata": {},
   "source": [
    "Load type files containing all information"
   ]
  },
  {
   "cell_type": "code",
   "execution_count": 4,
   "metadata": {},
   "outputs": [],
   "source": [
    "files = glob('../dataset/types/it2_tt_v1.3_completeset_train*')"
   ]
  },
  {
   "cell_type": "code",
   "execution_count": 5,
   "metadata": {},
   "outputs": [],
   "source": [
    "def process_line(line):\n",
    "    info = line.split()\n",
    "    pocket_id = info[3].split(\"/\")[-1].split('_rec')[0] \n",
    "    ligand_id = info[4].split(\"/\")[-1].split('rec_')[1].split('_lig')[0] \n",
    "    docking_score = float(info[-1][1:])\n",
    "    return pocket_id, ligand_id, docking_score"
   ]
  },
  {
   "cell_type": "markdown",
   "metadata": {},
   "source": [
    "Create a dataset with docking score (key is pocket_id + '_' + ligand_id)"
   ]
  },
  {
   "cell_type": "code",
   "execution_count": 6,
   "metadata": {},
   "outputs": [
    {
     "name": "stderr",
     "output_type": "stream",
     "text": [
      "22566449it [00:29, 776342.85it/s]\n"
     ]
    }
   ],
   "source": [
    "dataset = {}\n",
    "\n",
    "for file_path in files:\n",
    "    with open(file_path, \"r\") as file:\n",
    "        for line in tqdm(file):\n",
    "            pocket_id, ligand_id, docking_score = process_line(line)\n",
    "            key = pocket_id + '_' + ligand_id\n",
    "            if key not in dataset:\n",
    "                dataset[key] = [docking_score]        \n",
    "            else:\n",
    "                dataset[key].append(docking_score)"
   ]
  },
  {
   "cell_type": "code",
   "execution_count": 7,
   "metadata": {},
   "outputs": [],
   "source": [
    "# for file_path in files:\n",
    "#     with open(file_path, \"r\") as file:\n",
    "#         for line in file:\n",
    "#             key = '3rlj_A_rec_1i38_dht'\n",
    "#             if key in line:\n",
    "#                 print(line)"
   ]
  },
  {
   "cell_type": "markdown",
   "metadata": {},
   "source": [
    "We can only use a subset of this dataset"
   ]
  },
  {
   "cell_type": "code",
   "execution_count": 8,
   "metadata": {},
   "outputs": [],
   "source": [
    "splits = torch.load('../dataset/split_by_name.pt')"
   ]
  },
  {
   "cell_type": "code",
   "execution_count": 9,
   "metadata": {},
   "outputs": [],
   "source": [
    "get_pocket_id_and_ligand_id = lambda path: (path.split('/')[1].split('_rec')[0], path.split('/')[1].split('rec_')[1].split('_lig')[0])"
   ]
  },
  {
   "cell_type": "code",
   "execution_count": 10,
   "metadata": {},
   "outputs": [],
   "source": [
    "train_pairs = [get_pocket_id_and_ligand_id(path) for path, _ in splits['train']]\n",
    "train_keys = set(pair[0] + '_' + pair[1] for pair in train_pairs)\n",
    "\n",
    "test_pairs = [get_pocket_id_and_ligand_id(path) for path, _ in splits['test']] \n",
    "test_keys = set(pair[0] + '_' + pair[1] for pair in test_pairs)"
   ]
  },
  {
   "cell_type": "code",
   "execution_count": 11,
   "metadata": {},
   "outputs": [],
   "source": [
    "train_dataset = {key: dataset[key] for key in dataset.keys() if key in train_keys}\n",
    "test_dataset = {key: dataset[key] for key in dataset.keys() if key in test_keys}"
   ]
  },
  {
   "cell_type": "code",
   "execution_count": 12,
   "metadata": {},
   "outputs": [
    {
     "name": "stdout",
     "output_type": "stream",
     "text": [
      "There are 84459 ligand pocket combinations in Train\n",
      "There are 100 ligand pocket combinations in Test\n"
     ]
    }
   ],
   "source": [
    "print('There are {} ligand pocket combinations in Train'.format(len(train_keys)))\n",
    "print('There are {} ligand pocket combinations in Test'.format(len(test_keys)))"
   ]
  },
  {
   "cell_type": "code",
   "execution_count": 13,
   "metadata": {},
   "outputs": [
    {
     "name": "stdout",
     "output_type": "stream",
     "text": [
      "There are 76593 ligand pocket combinations in train\n",
      "There are 89 ligand pocket combinations in test\n"
     ]
    }
   ],
   "source": [
    "len(train_dataset), len(test_dataset)\n",
    "print('There are {} ligand pocket combinations in train'.format(len(train_dataset)))\n",
    "print('There are {} ligand pocket combinations in test'.format(len(test_dataset)))"
   ]
  },
  {
   "cell_type": "markdown",
   "metadata": {},
   "source": [
    "We average the top docking scores for each protein ligand pair as label"
   ]
  },
  {
   "cell_type": "code",
   "execution_count": 14,
   "metadata": {},
   "outputs": [],
   "source": [
    "acc_train_dataset = {\n",
    "    key: min(scores + [0]) for key, scores in train_dataset.items()\n",
    "}\n",
    "\n",
    "acc_test_dataset = {\n",
    "    key: min(scores + [0]) for key, scores in test_dataset.items()\n",
    "}"
   ]
  },
  {
   "cell_type": "markdown",
   "metadata": {},
   "source": [
    "Distribution of docking scores"
   ]
  },
  {
   "cell_type": "code",
   "execution_count": 15,
   "metadata": {},
   "outputs": [
    {
     "data": {
      "image/png": "[encoded data removed]",
      "text/plain": [
       "<Figure size 640x480 with 1 Axes>"
      ]
     },
     "metadata": {},
     "output_type": "display_data"
    }
   ],
   "source": [
    "import matplotlib.pyplot as plt\n",
    "\n",
    "docking_scores = acc_train_dataset.values()\n",
    "\n",
    "plt.hist(docking_scores, bins=10)\n",
    "plt.xlabel('Docking Score')\n",
    "plt.ylabel('Frequency')\n",
    "plt.title('Histogram of Docking Scores')\n",
    "plt.show()"
   ]
  },
  {
   "cell_type": "markdown",
   "metadata": {},
   "source": [
    "Get dataset in the form of (pdb_id, smiles, docking scores) "
   ]
  },
  {
   "cell_type": "code",
   "execution_count": 16,
   "metadata": {},
   "outputs": [
    {
     "name": "stderr",
     "output_type": "stream",
     "text": [
      "100%|██████████| 76593/76593 [00:15<00:00, 4985.33it/s]\n"
     ]
    }
   ],
   "source": [
    "import os\n",
    "\n",
    "final_train_dataset = []\n",
    "for key, score in tqdm(acc_train_dataset.items()):\n",
    "    pdb_id = '_'.join(key.split('_')[:2])\n",
    "    sdf_path = os.path.join('../dataset/crossdock', '_'.join(key.split('_')[2:]) + '_lig.sdf')\n",
    "    smiles = sdf_to_single_smiles(sdf_path)\n",
    "    \n",
    "    final_train_dataset.append(\n",
    "        (pdb_id, smiles, score)\n",
    "    )"
   ]
  },
  {
   "cell_type": "code",
   "execution_count": 17,
   "metadata": {},
   "outputs": [
    {
     "name": "stdout",
     "output_type": "stream",
     "text": [
      "There are 7776 unique ligands\n",
      "There are 14016 unique pdb ids\n"
     ]
    }
   ],
   "source": [
    "all_smiles = list(set([data[1] for data in final_train_dataset]))\n",
    "all_pdb_ids = list(set([data[0] for data in final_train_dataset]))\n",
    "print('There are {} unique ligands'.format( len(all_smiles)))\n",
    "print('There are {} unique pdb ids'.format( len(all_pdb_ids)))"
   ]
  },
  {
   "cell_type": "markdown",
   "metadata": {},
   "source": [
    "Keep only ones we compute Pharmacophores for"
   ]
  },
  {
   "cell_type": "code",
   "execution_count": 18,
   "metadata": {},
   "outputs": [],
   "source": [
    "db = PharmacoDB('../misc/pharmacophores.lmdb')\n",
    "avail_keys = set(db.get_keys())\n",
    "\n",
    "ultimate_train_dataset = []\n",
    "for pdb_id, smiles, score in final_train_dataset:\n",
    "    if pdb_id in avail_keys:\n",
    "        ultimate_train_dataset.append((pdb_id, smiles, score))"
   ]
  },
  {
   "cell_type": "code",
   "execution_count": 19,
   "metadata": {},
   "outputs": [
    {
     "data": {
      "text/plain": [
       "72792"
      ]
     },
     "execution_count": 19,
     "metadata": {},
     "output_type": "execute_result"
    }
   ],
   "source": [
    "len(ultimate_train_dataset)"
   ]
  },
  {
   "cell_type": "markdown",
   "metadata": {},
   "source": [
    "Split the dataset with MOOD considerations"
   ]
  },
  {
   "cell_type": "code",
   "execution_count": 20,
   "metadata": {},
   "outputs": [],
   "source": [
    "gflownet_molecules = [data[1] for data in torch.load('../misc/examples_of_gflownet_produced_molecules.pt')]"
   ]
  },
  {
   "cell_type": "code",
   "execution_count": 21,
   "metadata": {},
   "outputs": [],
   "source": [
    "# We should at least make sure the same ligand don't appear in both train and test\n",
    "# let's split by ligand"
   ]
  },
  {
   "cell_type": "code",
   "execution_count": 22,
   "metadata": {},
   "outputs": [],
   "source": [
    "import numpy as np\n",
    "import datamol as dm\n",
    "from rdkit import Chem\n",
    "\n",
    "from sklearn.model_selection import ShuffleSplit\n",
    "\n",
    "import splito"
   ]
  },
  {
   "cell_type": "code",
   "execution_count": 23,
   "metadata": {},
   "outputs": [],
   "source": [
    "# Load the training dataset\n",
    "dataset_feat = [dm.to_fp(Chem.MolFromSmiles(smi)) for smi in all_smiles if smi is not None]\n",
    "\n",
    "# Load the deployment set\n",
    "# Alternatively, you can also load an array of deployment-to-dataset distance\n",
    "deployment_feat = [dm.to_fp(Chem.MolFromSmiles(smi)) for smi in gflownet_molecules]"
   ]
  },
  {
   "cell_type": "code",
   "execution_count": 24,
   "metadata": {},
   "outputs": [],
   "source": [
    "# Define the candidate splitters\n",
    "# Since we use the scikit-learn interface, this can also be sklearn Splitters\n",
    "mols = [Chem.MolFromSmiles(smi) for smi in all_smiles if smi is not None]\n",
    "\n",
    "splitters = {\n",
    "    \"Random\": ShuffleSplit(),\n",
    "    \"Scaffold\": splito.ScaffoldSplit(mols),\n",
    "    \"Perimeter\": splito.PerimeterSplit(),\n",
    "    \"MaxDissimilarity\": splito.MaxDissimilaritySplit(),\n",
    "}\n",
    "\n",
    "splitter = splito.MOODSplitter(splitters)"
   ]
  },
  {
   "cell_type": "code",
   "execution_count": 25,
   "metadata": {},
   "outputs": [
    {
     "name": "stderr",
     "output_type": "stream",
     "text": [
      "\u001b[32m2024-01-07 18:14:21.126\u001b[0m | \u001b[1mINFO    \u001b[0m | \u001b[36msplito._mood_split\u001b[0m:\u001b[36mfit\u001b[0m:\u001b[36m308\u001b[0m - \u001b[1mRanked all different splitting methods:\n",
      "              split  representativeness   best  rank\n",
      "0            Random            0.500172  False   4.0\n",
      "1          Scaffold            0.523466  False   3.0\n",
      "2         Perimeter            0.666480   True   1.0\n",
      "3  MaxDissimilarity            0.616836  False   2.0\u001b[0m\n",
      "\u001b[32m2024-01-07 18:14:21.127\u001b[0m | \u001b[1mINFO    \u001b[0m | \u001b[36msplito._mood_split\u001b[0m:\u001b[36mfit\u001b[0m:\u001b[36m309\u001b[0m - \u001b[1mSelected Perimeter as the most representative splitting method\u001b[0m\n"
     ]
    },
    {
     "data": {
      "text/html": [
       "<div>\n",
       "<style scoped>\n",
       "    .dataframe tbody tr th:only-of-type {\n",
       "        vertical-align: middle;\n",
       "    }\n",
       "\n",
       "    .dataframe tbody tr th {\n",
       "        vertical-align: top;\n",
       "    }\n",
       "\n",
       "    .dataframe thead th {\n",
       "        text-align: right;\n",
       "    }\n",
       "</style>\n",
       "<table border=\"1\" class=\"dataframe\">\n",
       "  <thead>\n",
       "    <tr style=\"text-align: right;\">\n",
       "      <th></th>\n",
       "      <th>split</th>\n",
       "      <th>representativeness</th>\n",
       "      <th>best</th>\n",
       "      <th>rank</th>\n",
       "    </tr>\n",
       "  </thead>\n",
       "  <tbody>\n",
       "    <tr>\n",
       "      <th>0</th>\n",
       "      <td>Random</td>\n",
       "      <td>0.500172</td>\n",
       "      <td>False</td>\n",
       "      <td>4.0</td>\n",
       "    </tr>\n",
       "    <tr>\n",
       "      <th>1</th>\n",
       "      <td>Scaffold</td>\n",
       "      <td>0.523466</td>\n",
       "      <td>False</td>\n",
       "      <td>3.0</td>\n",
       "    </tr>\n",
       "    <tr>\n",
       "      <th>2</th>\n",
       "      <td>Perimeter</td>\n",
       "      <td>0.666480</td>\n",
       "      <td>True</td>\n",
       "      <td>1.0</td>\n",
       "    </tr>\n",
       "    <tr>\n",
       "      <th>3</th>\n",
       "      <td>MaxDissimilarity</td>\n",
       "      <td>0.616836</td>\n",
       "      <td>False</td>\n",
       "      <td>2.0</td>\n",
       "    </tr>\n",
       "  </tbody>\n",
       "</table>\n",
       "</div>"
      ],
      "text/plain": [
       "              split  representativeness   best  rank\n",
       "0            Random            0.500172  False   4.0\n",
       "1          Scaffold            0.523466  False   3.0\n",
       "2         Perimeter            0.666480   True   1.0\n",
       "3  MaxDissimilarity            0.616836  False   2.0"
      ]
     },
     "execution_count": 25,
     "metadata": {},
     "output_type": "execute_result"
    }
   ],
   "source": [
    "# get the rank of the splitting methods with the givent deployment set\n",
    "splitter.fit(X=np.stack(dataset_feat), X_deployment=np.stack(deployment_feat))"
   ]
  },
  {
   "cell_type": "markdown",
   "metadata": {},
   "source": [
    "We are going to use Perimeter splitting because it produces best representativeness"
   ]
  },
  {
   "cell_type": "code",
   "execution_count": null,
   "metadata": {},
   "outputs": [],
   "source": []
  },
  {
   "cell_type": "code",
   "execution_count": null,
   "metadata": {},
   "outputs": [],
   "source": [
    "# Use a pretrained model\n",
    "# Pharmacophore model\n",
    "# merge later "
   ]
  }
 ],
 "metadata": {
  "kernelspec": {
   "display_name": "tacogfn",
   "language": "python",
   "name": "python3"
  },
  "language_info": {
   "codemirror_mode": {
    "name": "ipython",
    "version": 3
   },
   "file_extension": ".py",
   "mimetype": "text/x-python",
   "name": "python",
   "nbconvert_exporter": "python",
   "pygments_lexer": "ipython3",
   "version": "3.9.18"
  }
 },
 "nbformat": 4,
 "nbformat_minor": 2
}
