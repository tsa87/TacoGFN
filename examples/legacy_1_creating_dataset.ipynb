{
 "cells": [
  {
   "cell_type": "markdown",
   "metadata": {},
   "source": [
    "This notebook generates dataset according to CrossDock 100k subset\n",
    "- The goal is to use full protein from original CrossDock dataset instead of the version with 12A cutoff.\n",
    "- pockets not from PDBBind set are removed \n",
    "\n",
    "You need to have CrossDock subset and full set downloaded to run this script."
   ]
  },
  {
   "cell_type": "code",
   "execution_count": 22,
   "metadata": {},
   "outputs": [],
   "source": [
    "import os\n",
    "import torch\n",
    "from tqdm import tqdm\n",
    "from collections import defaultdict \n",
    "import sys\n",
    "\n",
    "sys.path.append('../')"
   ]
  },
  {
   "cell_type": "code",
   "execution_count": 23,
   "metadata": {},
   "outputs": [
    {
     "data": {
      "text/plain": [
       "0"
      ]
     },
     "execution_count": 23,
     "metadata": {},
     "output_type": "execute_result"
    }
   ],
   "source": [
    "from glob import glob\n",
    "\n",
    "pockets = glob('../dataset/crossdock/*_rec.pdb')\n",
    "len(pockets)"
   ]
  },
  {
   "cell_type": "code",
   "execution_count": 3,
   "metadata": {},
   "outputs": [
    {
     "data": {
      "text/plain": [
       "21231"
      ]
     },
     "execution_count": 3,
     "metadata": {},
     "output_type": "execute_result"
    }
   ],
   "source": [
    "lig = glob('../dataset/crossdock/*_lig.pdb')\n",
    "len(lig)"
   ]
  },
  {
   "cell_type": "code",
   "execution_count": 4,
   "metadata": {},
   "outputs": [],
   "source": [
    "pocket_id = [i.split('/')[-1].split('_')[0] for i in pockets]\n",
    "lig_id = [i.split('/')[-1].split('_')[0] for i in lig]\n",
    "\n",
    "intersect = set(pocket_id).intersection(set(lig_id))"
   ]
  },
  {
   "cell_type": "code",
   "execution_count": 5,
   "metadata": {},
   "outputs": [
    {
     "data": {
      "text/plain": [
       "19695"
      ]
     },
     "execution_count": 5,
     "metadata": {},
     "output_type": "execute_result"
    }
   ],
   "source": [
    "len(intersect)"
   ]
  },
  {
   "cell_type": "code",
   "execution_count": 6,
   "metadata": {},
   "outputs": [],
   "source": [
    "from src.tacogfn.utils import molecules"
   ]
  },
  {
   "cell_type": "code",
   "execution_count": 7,
   "metadata": {},
   "outputs": [],
   "source": [
    "# Load CrossDock dataset split pocket by sequence file\n",
    "split_file = torch.load('../dataset/split_by_name.pt')\n",
    "merged_split_file = (split_file['train'] + split_file['test'])"
   ]
  },
  {
   "cell_type": "code",
   "execution_count": 8,
   "metadata": {},
   "outputs": [],
   "source": [
    "# Convert path to pocket id and ligand id\n",
    "get_pocket_id_and_ligand_id = lambda path: (path.split('/')[1].split('_rec')[0], path.split('/')[1].split('rec_')[1].split('_lig')[0])"
   ]
  },
  {
   "cell_type": "code",
   "execution_count": 9,
   "metadata": {},
   "outputs": [],
   "source": [
    "# Convert path into pocket ligand pairs\n",
    "pairs = [get_pocket_id_and_ligand_id(path) for path, _ in merged_split_file]"
   ]
  },
  {
   "cell_type": "code",
   "execution_count": 10,
   "metadata": {},
   "outputs": [],
   "source": [
    "# map pocket to list of ligands\n",
    "pocket_to_ligands = defaultdict(list)\n",
    "\n",
    "for pocket, ligand in pairs:\n",
    "    pocket_to_ligands[pocket].append(ligand)"
   ]
  },
  {
   "cell_type": "code",
   "execution_count": 11,
   "metadata": {},
   "outputs": [],
   "source": [
    "# map pocket to the native ligand, if native ligand is not in the list of ligands, then use the first ligand\n",
    "pocket_to_best_ligand = {}\n",
    "for pocket, ligand_list in pocket_to_ligands.items():\n",
    "    pocket_id = pocket.split('_')[0]\n",
    "    \n",
    "    # default to first ligand\n",
    "    pocket_to_best_ligand[pocket] = ligand_list[0]\n",
    "    \n",
    "    for ligand in ligand_list:\n",
    "        if ligand.split('_')[0] == pocket_id:\n",
    "            pocket_to_best_ligand[pocket] = ligand"
   ]
  },
  {
   "cell_type": "code",
   "execution_count": 12,
   "metadata": {},
   "outputs": [],
   "source": [
    "# Convert the pocket id to pdb path in CrossDock\n",
    "# Create a map of pocket id to pdb path\n",
    "pocket_id_to_pdb_path = {}\n",
    "\n",
    "for pocket_rec_id, _ in pocket_to_best_ligand.items():\n",
    "    path = f'../dataset/crossdock/{pocket_rec_id}_rec.pdb'\n",
    "    \n",
    "    if os.path.exists(path):\n",
    "        pocket_id_to_pdb_path[pocket_rec_id] = path\n",
    "    else:\n",
    "        pocket_id_to_pdb_path[pocket_rec_id] = None  "
   ]
  },
  {
   "cell_type": "code",
   "execution_count": 13,
   "metadata": {},
   "outputs": [
    {
     "name": "stdout",
     "output_type": "stream",
     "text": [
      "Number of pockets not in pdbbind: 831\n"
     ]
    }
   ],
   "source": [
    "num_pockets_not_in_pdbbind = len({k: v for k, v in pocket_id_to_pdb_path.items() if v is None})\n",
    "print(f'Number of pockets not in pdbbind: {num_pockets_not_in_pdbbind}')"
   ]
  },
  {
   "cell_type": "code",
   "execution_count": 14,
   "metadata": {},
   "outputs": [],
   "source": [
    "# Convert the pocket_to_best_ligand in paths\n",
    "protein_path_to_ligand_path = {}\n",
    "\n",
    "for pocket_path, ligand_path in merged_split_file:\n",
    "    pocket_id, ligand_id = get_pocket_id_and_ligand_id(pocket_path)\n",
    "    \n",
    "    best_ligand_id = pocket_to_best_ligand[pocket_id]\n",
    "    protein_path = pocket_id_to_pdb_path[pocket_id]\n",
    "    if best_ligand_id == ligand_id and protein_path is not None:\n",
    "        protein_path_to_ligand_path[protein_path] = os.path.join('../dataset/crossdocked_pocket10/', ligand_path)    "
   ]
  },
  {
   "cell_type": "code",
   "execution_count": 21,
   "metadata": {},
   "outputs": [
    {
     "name": "stderr",
     "output_type": "stream",
     "text": [
      "  0%|          | 2/14476 [00:00<11:39, 20.69it/s]"
     ]
    },
    {
     "name": "stdout",
     "output_type": "stream",
     "text": [
      "../dataset/processed/proteins/5acc_A_rec.pdb\n",
      "../dataset/processed/ligands/5acc_A_rec_5acc_ke9_lig.sdf\n"
     ]
    },
    {
     "name": "stderr",
     "output_type": "stream",
     "text": [
      "\n"
     ]
    }
   ],
   "source": [
    "# move the files into a processed folder \n",
    "# make sure we align the pocket and the whole protein - and then we can adjust the ligand accordingly\n",
    "\n",
    "processed_protein_id_to_ligand_id = {}\n",
    "failed_dict = {}\n",
    "\n",
    "for protein_path, ligand_path in tqdm(protein_path_to_ligand_path.items()):\n",
    "    \n",
    "    pocket_path = ligand_path.replace('.sdf', '_pocket10.pdb')\n",
    "    assert os.path.exists(pocket_path)\n",
    "    \n",
    "    protein_rec_id = os.path.splitext(os.path.basename(protein_path))[0]\n",
    "    protein_rec_filename = f'{protein_rec_id}.pdb'\n",
    "    \n",
    "    ligand_sdf_id = ligand_path.split('/')[-1].split('lig')[0] + 'lig' \n",
    "    \n",
    "    processed_protein_path = os.path.join('../dataset/processed/proteins/', protein_rec_filename)\n",
    "    processed_ligand_path = os.path.join('../dataset/processed/ligands/', f'{ligand_sdf_id}.sdf')\n",
    "    \n",
    "    \n",
    "    os.system(f'cp {protein_path} {processed_protein_path}')\n",
    "    # try:\n",
    "    try:\n",
    "        rot_mat, original_center, new_center = molecules.get_rototranslation_alignment(\n",
    "            protein_path, \n",
    "            pocket_path,\n",
    "        )\n",
    "\n",
    "        molecules.transform_sdf(\n",
    "            input_file=ligand_path, \n",
    "            output_file=processed_ligand_path, \n",
    "            rotation_matrix=rot_mat, \n",
    "            original_center=original_center, \n",
    "            new_center=new_center\n",
    "        )\n",
    "    except:\n",
    "        os.system(f'cp {ligand_path} {processed_ligand_path}')\n",
    "        print(processed_protein_path)\n",
    "        print(processed_ligand_path)\n",
    "        break\n",
    "    \n",
    "    processed_protein_id_to_ligand_id[protein_rec_id] = ligand_sdf_id\n",
    "    # except:\n",
    "    #     failed_dict[protein_rec_id] = ligand_sdf_id"
   ]
  },
  {
   "cell_type": "code",
   "execution_count": 18,
   "metadata": {},
   "outputs": [],
   "source": [
    "# Get the train and test split for CrossDock pockets\n",
    "train_pockets = set([get_pocket_id_and_ligand_id(path)[0] for path, _ in split_file['train']])\n",
    "test_pockets = set([get_pocket_id_and_ligand_id(path)[0] for path, _ in split_file['test']])"
   ]
  },
  {
   "cell_type": "code",
   "execution_count": 19,
   "metadata": {},
   "outputs": [],
   "source": [
    "# Create a new split file for CrossDock \n",
    "\n",
    "new_split_file = {'train': {}, 'test': {}}\n",
    "\n",
    "for pocket_id, ligand_id in processed_protein_id_to_ligand_id.items():\n",
    "    pocket_id = pocket_id.split('_rec')[0]\n",
    "    if pocket_id in train_pockets:\n",
    "        new_split_file['train'][pocket_id] = ligand_id\n",
    "    elif pocket_id in test_pockets:\n",
    "        new_split_file['test'][pocket_id] = ligand_id\n",
    "    else:\n",
    "        raise Exception('Pocket not in train or test split')\n"
   ]
  },
  {
   "cell_type": "code",
   "execution_count": 20,
   "metadata": {},
   "outputs": [],
   "source": [
    "torch.save(new_split_file, '../dataset/processed/processed_split_file.pt')"
   ]
  }
 ],
 "metadata": {
  "kernelspec": {
   "display_name": "tacogfn",
   "language": "python",
   "name": "python3"
  },
  "language_info": {
   "codemirror_mode": {
    "name": "ipython",
    "version": 3
   },
   "file_extension": ".py",
   "mimetype": "text/x-python",
   "name": "python",
   "nbconvert_exporter": "python",
   "pygments_lexer": "ipython3",
   "version": "3.9.18"
  }
 },
 "nbformat": 4,
 "nbformat_minor": 2
}
