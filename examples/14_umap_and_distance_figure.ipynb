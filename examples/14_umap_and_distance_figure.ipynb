{
 "cells": [
  {
   "cell_type": "code",
   "execution_count": 1,
   "metadata": {},
   "outputs": [
    {
     "name": "stderr",
     "output_type": "stream",
     "text": [
      "/home/tsa87/anaconda3/envs/tacogfn/lib/python3.9/site-packages/tqdm/auto.py:21: TqdmWarning: IProgress not found. Please update jupyter and ipywidgets. See https://ipywidgets.readthedocs.io/en/stable/user_install.html\n",
      "  from .autonotebook import tqdm as notebook_tqdm\n"
     ]
    }
   ],
   "source": [
    "import torch\n",
    "import os\n",
    "\n",
    "os.chdir('../')"
   ]
  },
  {
   "cell_type": "code",
   "execution_count": 2,
   "metadata": {},
   "outputs": [],
   "source": [
    "from rdkit import Chem\n",
    "from tqdm import tqdm\n",
    "from rdkit.Chem import Descriptors\n",
    "from src.tacogfn.utils import misc, molecules, sascore"
   ]
  },
  {
   "cell_type": "code",
   "execution_count": 3,
   "metadata": {},
   "outputs": [],
   "source": [
    "ref_fps = misc.get_reference_fps()"
   ]
  },
  {
   "cell_type": "code",
   "execution_count": 4,
   "metadata": {},
   "outputs": [],
   "source": [
    "generated_results = torch.load('misc/benchmarking/pocket2mol_res.pt')"
   ]
  },
  {
   "cell_type": "code",
   "execution_count": 5,
   "metadata": {},
   "outputs": [
    {
     "name": "stderr",
     "output_type": "stream",
     "text": [
      "  0%|          | 0/100 [00:00<?, ?it/s]"
     ]
    },
    {
     "name": "stderr",
     "output_type": "stream",
     "text": [
      "100%|██████████| 100/100 [00:25<00:00,  3.85it/s]\n"
     ]
    }
   ],
   "source": [
    "evaluated_results = {}\n",
    "\n",
    "for pocket, val in tqdm(generated_results.items()):\n",
    "    smiles = val[\"smiles\"]\n",
    "\n",
    "    mols = [Chem.MolFromSmiles(smi) for smi in smiles]\n",
    "\n",
    "    qeds = [Descriptors.qed(mol) for mol in mols]\n",
    "    sas = [(10.0 - sascore.calculateScore(mol)) / 9 for mol in mols]\n",
    "    diversity = molecules.compute_diversity(mols)\n",
    "    novelty = molecules.compute_novelty(mols, ref_fps)\n",
    "\n",
    "    evaluated_results[pocket] = {\n",
    "        \"smiles\": smiles,\n",
    "        \"qeds\": qeds,\n",
    "        \"sas\": sas,\n",
    "        \"diversity\": diversity,\n",
    "        \"novelty\": novelty,\n",
    "    }"
   ]
  },
  {
   "cell_type": "code",
   "execution_count": 7,
   "metadata": {},
   "outputs": [],
   "source": [
    "import numpy as np\n",
    "dock = False\n",
    "\n",
    "all_vals = {\n",
    "    'qeds': [],\n",
    "    'sas': [],\n",
    "    'diversity': [],\n",
    "    'novelty': [],\n",
    "}\n",
    "if dock:\n",
    "    all_vals['docking_scores'] = []\n",
    "\n",
    "\n",
    "for key, val in evaluated_results.items():\n",
    "    all_vals['qeds'].append(np.mean(val['qeds']))\n",
    "    all_vals['sas'].append(np.mean(val['sas']))\n",
    "    all_vals['diversity'].append(np.mean(val['diversity']))\n",
    "    all_vals['novelty'].append(np.mean(val['novelty']))\n",
    "    if dock:\n",
    "        all_vals['docking_scores'].extend([v for v in val['docking_scores'] if v < 0])"
   ]
  },
  {
   "cell_type": "code",
   "execution_count": 10,
   "metadata": {},
   "outputs": [
    {
     "name": "stdout",
     "output_type": "stream",
     "text": [
      "qeds 0.5643521763341997 0.5754560084755495\n",
      "sas 0.7506811622943664 0.7595498695643985\n",
      "diversity 0.7423542547925785 0.7748222413765954\n",
      "novelty 0.4509861315074474 0.4639609831490686\n"
     ]
    }
   ],
   "source": [
    "import numpy as np\n",
    "for key, val in all_vals.items():\n",
    "    print(key, np.mean(val), np.median(val))"
   ]
  },
  {
   "cell_type": "code",
   "execution_count": 13,
   "metadata": {},
   "outputs": [
    {
     "data": {
      "text/plain": [
       "(46.95, 30.5)"
      ]
     },
     "execution_count": 13,
     "metadata": {},
     "output_type": "execute_result"
    }
   ],
   "source": [
    "num_dups = [v['num_dups'] for k, v in generated_results.items()]\n",
    "np.mean(num_dups), np.median(num_dups)"
   ]
  },
  {
   "cell_type": "code",
   "execution_count": null,
   "metadata": {},
   "outputs": [],
   "source": []
  }
 ],
 "metadata": {
  "kernelspec": {
   "display_name": "tacogfn",
   "language": "python",
   "name": "python3"
  },
  "language_info": {
   "codemirror_mode": {
    "name": "ipython",
    "version": 3
   },
   "file_extension": ".py",
   "mimetype": "text/x-python",
   "name": "python",
   "nbconvert_exporter": "python",
   "pygments_lexer": "ipython3",
   "version": "3.9.18"
  }
 },
 "nbformat": 4,
 "nbformat_minor": 2
}
