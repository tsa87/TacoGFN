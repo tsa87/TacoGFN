{
 "cells": [
  {
   "cell_type": "code",
   "execution_count": 3,
   "metadata": {},
   "outputs": [],
   "source": [
    "import os\n",
    "import json\n",
    "\n",
    "os.chdir('../..')"
   ]
  },
  {
   "cell_type": "code",
   "execution_count": 11,
   "metadata": {},
   "outputs": [],
   "source": [
    "from rdkit import Chem"
   ]
  },
  {
   "cell_type": "code",
   "execution_count": 12,
   "metadata": {},
   "outputs": [],
   "source": [
    "pharmaco_res_path = 'misc/evaluations/0_100_new-crossdocked-mo-256-256-3_evaluated.json'\n",
    "with open(pharmaco_res_path) as f:\n",
    "    pharmaco_res = json.load(f)"
   ]
  },
  {
   "cell_type": "code",
   "execution_count": 15,
   "metadata": {},
   "outputs": [],
   "source": [
    "for k, v in pharmaco_res.items():\n",
    "    smiles = v['smiles']\n",
    "    mols = [Chem.MolFromSmiles(s) for s in smiles]\n",
    "    smiles = [Chem.MolToSmiles(m, isomericSmiles=True) for m in mols]\n",
    "    assert len(set(smiles)) == len(smiles), f'{k} has duplicate smiles'\n",
    "    assert all(mols), f'{k} has invalid smiles'"
   ]
  },
  {
   "cell_type": "code",
   "execution_count": null,
   "metadata": {},
   "outputs": [],
   "source": []
  }
 ],
 "metadata": {
  "kernelspec": {
   "display_name": "tacogfn",
   "language": "python",
   "name": "python3"
  },
  "language_info": {
   "codemirror_mode": {
    "name": "ipython",
    "version": 3
   },
   "file_extension": ".py",
   "mimetype": "text/x-python",
   "name": "python",
   "nbconvert_exporter": "python",
   "pygments_lexer": "ipython3",
   "version": "3.9.18"
  }
 },
 "nbformat": 4,
 "nbformat_minor": 2
}
